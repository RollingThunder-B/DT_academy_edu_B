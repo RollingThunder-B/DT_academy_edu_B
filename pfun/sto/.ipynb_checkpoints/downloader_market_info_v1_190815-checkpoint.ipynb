{
 "cells": [
  {
   "cell_type": "code",
   "execution_count": 1,
   "metadata": {},
   "outputs": [],
   "source": [
    "import pandas as pd\n",
    "import numpy as np\n",
    "\n",
    "import matplotlib.pyplot as plt\n",
    "from matplotlib import rc\n",
    "rc('font', family='Malgun Gothic')\n",
    "rc('axes', unicode_minus=False)"
   ]
  },
  {
   "cell_type": "code",
   "execution_count": 2,
   "metadata": {},
   "outputs": [],
   "source": [
    "import datetime\n",
    "import time\n",
    "import os\n",
    "from bs4 import BeautifulSoup\n",
    "from urllib.request import Request, urlopen\n",
    "import requests\n",
    "import json\n",
    "from tqdm import tqdm"
   ]
  },
  {
   "cell_type": "code",
   "execution_count": 3,
   "metadata": {},
   "outputs": [],
   "source": [
    "date_today = datetime.date.today()\n",
    "date_key = date_today.strftime('%y%m%d')"
   ]
  },
  {
   "cell_type": "markdown",
   "metadata": {},
   "source": [
    "## 종목코드"
   ]
  },
  {
   "cell_type": "code",
   "execution_count": 4,
   "metadata": {},
   "outputs": [],
   "source": [
    "# KOSPI only"
   ]
  },
  {
   "cell_type": "code",
   "execution_count": 5,
   "metadata": {},
   "outputs": [],
   "source": [
    "market_code = 'stockMkt'\n",
    "# 'kospi': 'stockMkt',\n",
    "# 'kosdaq': 'kosdaqMkt',\n",
    "# 'konex': 'konexMkt'"
   ]
  },
  {
   "cell_type": "code",
   "execution_count": 6,
   "metadata": {},
   "outputs": [],
   "source": [
    "sto_code_url = 'http://kind.krx.co.kr/corpgeneral/corpList.do?method=download&searchType=' + market_code"
   ]
  },
  {
   "cell_type": "code",
   "execution_count": 7,
   "metadata": {
    "scrolled": true
   },
   "outputs": [
    {
     "data": {
      "text/html": [
       "<div>\n",
       "<style scoped>\n",
       "    .dataframe tbody tr th:only-of-type {\n",
       "        vertical-align: middle;\n",
       "    }\n",
       "\n",
       "    .dataframe tbody tr th {\n",
       "        vertical-align: top;\n",
       "    }\n",
       "\n",
       "    .dataframe thead th {\n",
       "        text-align: right;\n",
       "    }\n",
       "</style>\n",
       "<table border=\"1\" class=\"dataframe\">\n",
       "  <thead>\n",
       "    <tr style=\"text-align: right;\">\n",
       "      <th></th>\n",
       "      <th>회사명</th>\n",
       "      <th>종목코드</th>\n",
       "      <th>업종</th>\n",
       "      <th>주요제품</th>\n",
       "      <th>상장일</th>\n",
       "      <th>결산월</th>\n",
       "      <th>대표자명</th>\n",
       "      <th>홈페이지</th>\n",
       "      <th>지역</th>\n",
       "    </tr>\n",
       "  </thead>\n",
       "  <tbody>\n",
       "    <tr>\n",
       "      <th>0</th>\n",
       "      <td>JS전선</td>\n",
       "      <td>5560</td>\n",
       "      <td>절연선 및 케이블 제조업</td>\n",
       "      <td>선박선,고무선,전력선,통신선 제조</td>\n",
       "      <td>2007-11-12</td>\n",
       "      <td>12월</td>\n",
       "      <td>이익희</td>\n",
       "      <td>http://www.jscable.co.kr</td>\n",
       "      <td>충청남도</td>\n",
       "    </tr>\n",
       "    <tr>\n",
       "      <th>1</th>\n",
       "      <td>거북선2호</td>\n",
       "      <td>101380</td>\n",
       "      <td>NaN</td>\n",
       "      <td>운송장비(선박) 임대</td>\n",
       "      <td>2008-04-25</td>\n",
       "      <td>12월</td>\n",
       "      <td>신주선</td>\n",
       "      <td>NaN</td>\n",
       "      <td>부산광역시</td>\n",
       "    </tr>\n",
       "    <tr>\n",
       "      <th>2</th>\n",
       "      <td>거북선6호</td>\n",
       "      <td>114140</td>\n",
       "      <td>NaN</td>\n",
       "      <td>NaN</td>\n",
       "      <td>2009-10-01</td>\n",
       "      <td>12월</td>\n",
       "      <td>김연신</td>\n",
       "      <td>NaN</td>\n",
       "      <td>제주특별자치도</td>\n",
       "    </tr>\n",
       "    <tr>\n",
       "      <th>3</th>\n",
       "      <td>교보메리츠</td>\n",
       "      <td>64900</td>\n",
       "      <td>NaN</td>\n",
       "      <td>부동산 투자,운용</td>\n",
       "      <td>2002-01-30</td>\n",
       "      <td>12월</td>\n",
       "      <td>김 상 진</td>\n",
       "      <td>NaN</td>\n",
       "      <td>서울특별시</td>\n",
       "    </tr>\n",
       "    <tr>\n",
       "      <th>4</th>\n",
       "      <td>국제관광공사</td>\n",
       "      <td>28780</td>\n",
       "      <td>NaN</td>\n",
       "      <td>NaN</td>\n",
       "      <td>1966-03-18</td>\n",
       "      <td>12월</td>\n",
       "      <td>NaN</td>\n",
       "      <td>NaN</td>\n",
       "      <td>NaN</td>\n",
       "    </tr>\n",
       "  </tbody>\n",
       "</table>\n",
       "</div>"
      ],
      "text/plain": [
       "      회사명    종목코드             업종                주요제품         상장일  결산월   대표자명  \\\n",
       "0    JS전선    5560  절연선 및 케이블 제조업  선박선,고무선,전력선,통신선 제조  2007-11-12  12월    이익희   \n",
       "1   거북선2호  101380            NaN         운송장비(선박) 임대  2008-04-25  12월    신주선   \n",
       "2   거북선6호  114140            NaN                 NaN  2009-10-01  12월    김연신   \n",
       "3   교보메리츠   64900            NaN           부동산 투자,운용  2002-01-30  12월  김 상 진   \n",
       "4  국제관광공사   28780            NaN                 NaN  1966-03-18  12월    NaN   \n",
       "\n",
       "                       홈페이지       지역  \n",
       "0  http://www.jscable.co.kr     충청남도  \n",
       "1                       NaN    부산광역시  \n",
       "2                       NaN  제주특별자치도  \n",
       "3                       NaN    서울특별시  \n",
       "4                       NaN      NaN  "
      ]
     },
     "execution_count": 7,
     "metadata": {},
     "output_type": "execute_result"
    }
   ],
   "source": [
    "sto_code_df = pd.read_html(sto_code_url)[0]\n",
    "sto_code_df[:5]"
   ]
  },
  {
   "cell_type": "code",
   "execution_count": 8,
   "metadata": {},
   "outputs": [],
   "source": [
    "# save path, file_name"
   ]
  },
  {
   "cell_type": "code",
   "execution_count": 9,
   "metadata": {
    "scrolled": true
   },
   "outputs": [
    {
     "data": {
      "text/plain": [
       "'data/code_list/code_list_stockMkt_190816.csv'"
      ]
     },
     "execution_count": 9,
     "metadata": {},
     "output_type": "execute_result"
    }
   ],
   "source": [
    "save_n_code_df = ('data/code_list/' + 'code_list_' + market_code + '_' + date_key + '.csv').strip()\n",
    "save_n_code_df"
   ]
  },
  {
   "cell_type": "code",
   "execution_count": 10,
   "metadata": {},
   "outputs": [],
   "source": [
    "# save"
   ]
  },
  {
   "cell_type": "code",
   "execution_count": 11,
   "metadata": {},
   "outputs": [
    {
     "name": "stdout",
     "output_type": "stream",
     "text": [
      "save >> data/code_list/code_list_stockMkt_190816.csv\n"
     ]
    }
   ],
   "source": [
    "sto_code_df.to_csv(save_n_code_df, encoding='euc-kr', index=False) #cp949\n",
    "print('save >> ' + save_n_code_df)"
   ]
  },
  {
   "cell_type": "code",
   "execution_count": 12,
   "metadata": {},
   "outputs": [],
   "source": [
    "# check"
   ]
  },
  {
   "cell_type": "code",
   "execution_count": 13,
   "metadata": {},
   "outputs": [
    {
     "data": {
      "text/plain": [
       "['code_list_190728.csv',\n",
       " 'code_list_190729.csv',\n",
       " 'code_list_190730.csv',\n",
       " 'code_list_stockMkt_190730.csv',\n",
       " 'code_list_stockMkt_190801.csv',\n",
       " 'code_list_stockMkt_190814.csv',\n",
       " 'code_list_stockMkt_190815.csv',\n",
       " 'code_list_stockMkt_190816.csv']"
      ]
     },
     "execution_count": 13,
     "metadata": {},
     "output_type": "execute_result"
    }
   ],
   "source": [
    "os.listdir('data/code_list')"
   ]
  },
  {
   "cell_type": "code",
   "execution_count": null,
   "metadata": {},
   "outputs": [],
   "source": []
  },
  {
   "cell_type": "markdown",
   "metadata": {},
   "source": [
    "## 주요 지표"
   ]
  },
  {
   "cell_type": "code",
   "execution_count": 14,
   "metadata": {},
   "outputs": [],
   "source": [
    "market = ['국내', '해외', '환율', 'WTI', '휘발유', '국제금', '국내금']"
   ]
  },
  {
   "cell_type": "code",
   "execution_count": 15,
   "metadata": {},
   "outputs": [],
   "source": [
    "def url_creater(what) :\n",
    "    target_url = []\n",
    "    target_code = []\n",
    "    url_base = 'https://finance.naver.com/'\n",
    "    url_ref = {'국내' : 'sise/sise_index_day.nhn?code=', \n",
    "              '해외' : 'world/worldDayListJson.nhn?symbol=', \n",
    "              '환율' : 'marketindex/exchangeDailyQuote.nhn?marketindexCd=FX_', \n",
    "              'WTI' : 'marketindex/worldDailyQuote.nhn?marketindexCd=', \n",
    "              '휘발유' : 'marketindex/oilDailyQuote.nhn?marketindexCd=', \n",
    "              '국제금' : 'marketindex/worldDailyQuote.nhn?marketindexCd=', \n",
    "              '국내금' : 'marketindex/goldDailyQuote.nhn?'}\n",
    "    cate_code = {'국내' : ['KOSPI', 'KOSDAQ', 'KPI200'], \n",
    "              '해외' : ['DJI@DJI', 'NII@NI225', 'LNS@FTSE100', \n",
    "                      'NAS@IXIC', 'SHS@000001', 'PAS@CAC40', \n",
    "                      'SPI@SPX', 'HSI@HSI', 'XTR@DAX30' ], \n",
    "              '환율' : ['USDKRW', 'JPYKRW', 'EURKRW', 'CNYKRW'], \n",
    "              'WTI' : ['OIL_CL'], \n",
    "              '휘발유' : ['OIL_GSL'], \n",
    "              '국제금' : ['CMDT_GC'], \n",
    "              '국내금' : ['']}\n",
    "    pager = {'국내' : '&page=', \n",
    "              '해외' : '&fdtc=0&page=', \n",
    "              '환율' : '&page=', \n",
    "              'WTI' : '&fdtc=2&page=', \n",
    "              '휘발유' : '&page=', \n",
    "              '국제금' : '&fdtc=2&page=', \n",
    "              '국내금' : '&page='}\n",
    "    for i in range(len(cate_code[what])) :\n",
    "        target_url += [url_base + url_ref[what] + cate_code[what][i] + pager[what]]\n",
    "        target_code += [cate_code[what][i]]\n",
    "    return target_url, target_code"
   ]
  },
  {
   "cell_type": "code",
   "execution_count": 16,
   "metadata": {},
   "outputs": [],
   "source": [
    "def last_page_finder(url):\n",
    "    target_html = BeautifulSoup(urlopen(url).read(), 'lxml') #html.parser\n",
    "    page_pkg = target_html.find_all(\"table\") #,align=\"center\"\n",
    "    if page_pkg ==[] : return 500\n",
    "    else :\n",
    "        last_page_pkg = page_pkg[0].find_all(\"td\",class_=\"pgRR\")\n",
    "        if last_page_pkg ==[] : \n",
    "            try :\n",
    "                last_page_pkg = page_pkg[1].find_all(\"td\",class_=\"pgRR\")\n",
    "            except IndexError :\n",
    "                return 500\n",
    "        last_page_pkg = last_page_pkg[0].a.get('href')\n",
    "        last_page_num = int(last_page_pkg.split(\"=\")[-1].strip())\n",
    "        return last_page_num"
   ]
  },
  {
   "cell_type": "code",
   "execution_count": 22,
   "metadata": {},
   "outputs": [],
   "source": [
    "def crawl_html(last_page_num, i) :\n",
    "    temp_df = pd.DataFrame()\n",
    "    for j in range(1, last_page_num+1) :\n",
    "        page_url = (f'{i}{j}')\n",
    "        temp_df = temp_df.append(pd.read_html(page_url, header=0)[0],\n",
    "                                 ignore_index=True)\n",
    "    return temp_df"
   ]
  },
  {
   "cell_type": "code",
   "execution_count": 23,
   "metadata": {},
   "outputs": [],
   "source": [
    "def crawl_ajax(last_page_num, i) :\n",
    "    temp_df = pd.DataFrame()\n",
    "    exp_cols = {\"xymd\":\"날짜\",\"clos\":'종가',\"diff\":'전일비',\n",
    "            \"open\":'시가',\"high\":'고가',\"low\":'저가',\n",
    "            \"rate\":\"rate\",\"gvol\":\"gvol\", \"symb\":\"symb\"}\n",
    "    for j in range(1, last_page_num+1) :\n",
    "        page_url = (f'{i}{j}')\n",
    "        temp_df = temp_df.append(pd.DataFrame(requests.get(page_url).json()), \n",
    "                                 ignore_index=True)\n",
    "    if 'xymd' in temp_df.columns :\n",
    "        temp_df.rename(columns=exp_cols, inplace=True)\n",
    "    return temp_df"
   ]
  },
  {
   "cell_type": "code",
   "execution_count": 46,
   "metadata": {},
   "outputs": [],
   "source": [
    "def info_collector(market) :\n",
    "    info_df = pd.DataFrame()\n",
    "    target_url = url_creater(market)\n",
    "    k = -1\n",
    "    for i in tqdm(target_url[0], desc='collector', mininterval=1) :\n",
    "        k += 1\n",
    "        last_page_num = last_page_finder(i+'1')\n",
    "        try :\n",
    "            temp_df = crawl_html(last_page_num, i)\n",
    "        except ValueError :\n",
    "            temp_df = crawl_ajax(last_page_num, i)      \n",
    "        temp_df = temp_df.dropna(axis=0, how='all')\n",
    "        temp_df = temp_df.drop_duplicates(['날짜'])\n",
    "        temp_df.set_index('날짜', inplace=True)\n",
    "        temp_df.columns = (temp_df.columns + '_' + target_url[1][k])\n",
    "        info_df = pd.concat([info_df, temp_df], axis=1, sort=False)\n",
    "    info_df = info_df.drop('날짜', axis=0, errors='ignore')\n",
    "    info_df.index.names = ['날짜']\n",
    "    return info_df"
   ]
  },
  {
   "cell_type": "code",
   "execution_count": 47,
   "metadata": {},
   "outputs": [],
   "source": [
    "# run"
   ]
  },
  {
   "cell_type": "code",
   "execution_count": 48,
   "metadata": {
    "scrolled": true
   },
   "outputs": [
    {
     "name": "stderr",
     "output_type": "stream",
     "text": [
      "\n",
      "\n",
      "\n",
      "\n",
      "\n",
      "  0%|          | 0/7 [00:00<?, ?it/s]\n",
      "\n",
      "\n",
      "\n",
      "\n",
      "\n",
      "collector:   0%|          | 0/3 [00:00<?, ?it/s]\n",
      "\n",
      "\n",
      "\n",
      "\n",
      "\n",
      "collector:  33%|███▎      | 1/3 [02:32<05:05, 152.67s/it]\n",
      "\n",
      "\n",
      "\n",
      "\n",
      "\n",
      "collector:  67%|██████▋   | 2/3 [04:07<02:15, 135.46s/it]\n",
      "\n",
      "\n",
      "\n",
      "\n",
      "\n",
      "collector: 100%|██████████| 3/3 [04:53<00:00, 108.40s/it]"
     ]
    },
    {
     "name": "stdout",
     "output_type": "stream",
     "text": [
      "save >> data/market_info/market_info_국내_190816.csv\n"
     ]
    },
    {
     "name": "stderr",
     "output_type": "stream",
     "text": [
      "\n",
      "\n",
      "\n",
      "\n",
      "\n",
      " 14%|█▍        | 1/7 [04:53<29:20, 293.37s/it]\n",
      "\n",
      "\n",
      "\n",
      "\n",
      "\n",
      "collector:   0%|          | 0/9 [00:00<?, ?it/s]\n",
      "\n",
      "\n",
      "\n",
      "\n",
      "\n",
      "collector:  11%|█         | 1/9 [00:41<05:28, 41.06s/it]\n",
      "\n",
      "\n",
      "\n",
      "\n",
      "\n",
      "collector:  22%|██▏       | 2/9 [01:26<04:56, 42.36s/it]\n",
      "\n",
      "\n",
      "\n",
      "\n",
      "\n",
      "collector:  33%|███▎      | 3/9 [02:08<04:14, 42.38s/it]\n",
      "\n",
      "\n",
      "\n",
      "\n",
      "\n",
      "collector:  44%|████▍     | 4/9 [02:51<03:32, 42.51s/it]\n",
      "\n",
      "\n",
      "\n",
      "\n",
      "\n",
      "collector:  56%|█████▌    | 5/9 [03:34<02:49, 42.47s/it]\n",
      "\n",
      "\n",
      "\n",
      "\n",
      "\n",
      "collector:  67%|██████▋   | 6/9 [04:17<02:07, 42.61s/it]\n",
      "\n",
      "\n",
      "\n",
      "\n",
      "\n",
      "collector:  78%|███████▊  | 7/9 [05:20<01:37, 48.90s/it]\n",
      "\n",
      "\n",
      "\n",
      "\n",
      "\n",
      "collector:  89%|████████▉ | 8/9 [06:02<00:46, 46.89s/it]\n",
      "\n",
      "\n",
      "\n",
      "\n",
      "\n",
      "collector: 100%|██████████| 9/9 [06:45<00:00, 45.61s/it]"
     ]
    },
    {
     "name": "stdout",
     "output_type": "stream",
     "text": [
      "save >> data/market_info/market_info_해외_190816.csv\n"
     ]
    },
    {
     "name": "stderr",
     "output_type": "stream",
     "text": [
      "\n",
      "\n",
      "\n",
      "\n",
      "\n",
      " 29%|██▊       | 2/7 [11:39<27:15, 327.14s/it]\n",
      "\n",
      "\n",
      "\n",
      "\n",
      "\n",
      "collector:   0%|          | 0/4 [00:00<?, ?it/s]\n",
      "\n",
      "\n",
      "\n",
      "\n",
      "\n",
      "collector:  25%|██▌       | 1/4 [00:40<02:02, 40.68s/it]\n",
      "\n",
      "\n",
      "\n",
      "\n",
      "\n",
      "collector:  50%|█████     | 2/4 [01:20<01:21, 40.54s/it]\n",
      "\n",
      "\n",
      "\n",
      "\n",
      "\n",
      "collector:  75%|███████▌  | 3/4 [01:59<00:40, 40.01s/it]\n",
      "\n",
      "\n",
      "\n",
      "\n",
      "\n",
      "collector: 100%|██████████| 4/4 [02:35<00:00, 38.82s/it]"
     ]
    },
    {
     "name": "stdout",
     "output_type": "stream",
     "text": [
      "save >> data/market_info/market_info_환율_190816.csv\n"
     ]
    },
    {
     "name": "stderr",
     "output_type": "stream",
     "text": [
      "\n",
      "\n",
      "\n",
      "\n",
      "\n",
      " 43%|████▎     | 3/7 [14:15<18:22, 275.73s/it]\n",
      "\n",
      "\n",
      "\n",
      "\n",
      "\n",
      "collector:   0%|          | 0/1 [00:00<?, ?it/s]\n",
      "\n",
      "\n",
      "\n",
      "\n",
      "\n",
      "collector: 100%|██████████| 1/1 [00:32<00:00, 32.90s/it]"
     ]
    },
    {
     "name": "stdout",
     "output_type": "stream",
     "text": [
      "save >> data/market_info/market_info_WTI_190816.csv\n"
     ]
    },
    {
     "name": "stderr",
     "output_type": "stream",
     "text": [
      "\n",
      "\n",
      "\n",
      "\n",
      "\n",
      " 57%|█████▋    | 4/7 [14:48<10:08, 202.89s/it]\n",
      "\n",
      "\n",
      "\n",
      "\n",
      "\n",
      "collector:   0%|          | 0/1 [00:00<?, ?it/s]\n",
      "\n",
      "\n",
      "\n",
      "\n",
      "\n",
      "collector: 100%|██████████| 1/1 [00:33<00:00, 33.15s/it]"
     ]
    },
    {
     "name": "stdout",
     "output_type": "stream",
     "text": [
      "save >> data/market_info/market_info_휘발유_190816.csv\n"
     ]
    },
    {
     "name": "stderr",
     "output_type": "stream",
     "text": [
      "\n",
      "\n",
      "\n",
      "\n",
      "\n",
      " 71%|███████▏  | 5/7 [15:21<05:03, 151.98s/it]\n",
      "\n",
      "\n",
      "\n",
      "\n",
      "\n",
      "collector:   0%|          | 0/1 [00:00<?, ?it/s]\n",
      "\n",
      "\n",
      "\n",
      "\n",
      "\n",
      "collector: 100%|██████████| 1/1 [00:36<00:00, 36.44s/it]"
     ]
    },
    {
     "name": "stdout",
     "output_type": "stream",
     "text": [
      "save >> data/market_info/market_info_국제금_190816.csv\n"
     ]
    },
    {
     "name": "stderr",
     "output_type": "stream",
     "text": [
      "\n",
      "\n",
      "\n",
      "\n",
      "\n",
      " 86%|████████▌ | 6/7 [15:57<01:57, 117.33s/it]\n",
      "\n",
      "\n",
      "\n",
      "\n",
      "\n",
      "collector:   0%|          | 0/1 [00:00<?, ?it/s]\n",
      "\n",
      "\n",
      "\n",
      "\n",
      "\n",
      "collector: 100%|██████████| 1/1 [01:13<00:00, 73.81s/it]"
     ]
    },
    {
     "name": "stdout",
     "output_type": "stream",
     "text": [
      "save >> data/market_info/market_info_국내금_190816.csv\n"
     ]
    },
    {
     "name": "stderr",
     "output_type": "stream",
     "text": [
      "\n",
      "\n",
      "\n",
      "\n",
      "\n",
      "100%|██████████| 7/7 [17:11<00:00, 104.29s/it]"
     ]
    },
    {
     "name": "stdout",
     "output_type": "stream",
     "text": [
      "\n",
      "실행시간: 1031.56 sec\n"
     ]
    }
   ],
   "source": [
    "start = time.time()\n",
    "\n",
    "for i in tqdm(market) :\n",
    "    market_info_df = info_collector(i)\n",
    "    save_n_market_info = (\n",
    "        'data/market_info/' + 'market_info_' + i + '_' + date_key + '.csv').strip()\n",
    "    market_info_df.to_csv(save_n_market_info, encoding='euc-kr', index=True)\n",
    "    print('save >> ' + save_n_market_info)\n",
    "\n",
    "print()\n",
    "print(f'실행시간: {time.time() - start :.2f} sec')"
   ]
  },
  {
   "cell_type": "code",
   "execution_count": 23,
   "metadata": {},
   "outputs": [],
   "source": [
    "# check"
   ]
  },
  {
   "cell_type": "code",
   "execution_count": 49,
   "metadata": {},
   "outputs": [
    {
     "data": {
      "text/plain": [
       "['market_info_WTI_190815.csv',\n",
       " 'market_info_WTI_190815_update.csv',\n",
       " 'market_info_WTI_190816.csv',\n",
       " 'market_info_국내_190815.csv',\n",
       " 'market_info_국내_190815_update.csv',\n",
       " 'market_info_국내_190816.csv',\n",
       " 'market_info_국내금_190815.csv',\n",
       " 'market_info_국내금_190815_update.csv',\n",
       " 'market_info_국내금_190816.csv',\n",
       " 'market_info_국제금_190815.csv',\n",
       " 'market_info_국제금_190815_update.csv',\n",
       " 'market_info_국제금_190816.csv',\n",
       " 'market_info_해외_190815.csv',\n",
       " 'market_info_해외_190815_update.csv',\n",
       " 'market_info_해외_190816.csv',\n",
       " 'market_info_환율_190815.csv',\n",
       " 'market_info_환율_190815_update.csv',\n",
       " 'market_info_환율_190816.csv',\n",
       " 'market_info_휘발유_190815.csv',\n",
       " 'market_info_휘발유_190815_update.csv',\n",
       " 'market_info_휘발유_190816.csv']"
      ]
     },
     "execution_count": 49,
     "metadata": {},
     "output_type": "execute_result"
    }
   ],
   "source": [
    "os.listdir('data/market_info')"
   ]
  },
  {
   "cell_type": "code",
   "execution_count": null,
   "metadata": {},
   "outputs": [],
   "source": []
  },
  {
   "cell_type": "code",
   "execution_count": null,
   "metadata": {},
   "outputs": [],
   "source": []
  }
 ],
 "metadata": {
  "kernelspec": {
   "display_name": "Python 3",
   "language": "python",
   "name": "python3"
  },
  "language_info": {
   "codemirror_mode": {
    "name": "ipython",
    "version": 3
   },
   "file_extension": ".py",
   "mimetype": "text/x-python",
   "name": "python",
   "nbconvert_exporter": "python",
   "pygments_lexer": "ipython3",
   "version": "3.7.3"
  }
 },
 "nbformat": 4,
 "nbformat_minor": 2
}
