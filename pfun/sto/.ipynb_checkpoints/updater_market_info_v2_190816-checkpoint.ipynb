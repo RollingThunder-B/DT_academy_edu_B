{
 "cells": [
  {
   "cell_type": "code",
   "execution_count": 1,
   "metadata": {},
   "outputs": [],
   "source": [
    "import pandas as pd\n",
    "import numpy as np\n",
    "\n",
    "import matplotlib.pyplot as plt\n",
    "from matplotlib import rc\n",
    "rc('font', family='Malgun Gothic')\n",
    "rc('axes', unicode_minus=False)"
   ]
  },
  {
   "cell_type": "code",
   "execution_count": 2,
   "metadata": {},
   "outputs": [],
   "source": [
    "import datetime\n",
    "import time\n",
    "import os\n",
    "from bs4 import BeautifulSoup\n",
    "from urllib.request import Request, urlopen\n",
    "import requests\n",
    "import json\n",
    "from tqdm import tqdm"
   ]
  },
  {
   "cell_type": "code",
   "execution_count": 3,
   "metadata": {},
   "outputs": [],
   "source": [
    "date_today = datetime.date.today()\n",
    "date_key = date_today.strftime('%y%m%d')"
   ]
  },
  {
   "cell_type": "markdown",
   "metadata": {},
   "source": [
    "## Update data"
   ]
  },
  {
   "cell_type": "code",
   "execution_count": 8,
   "metadata": {},
   "outputs": [],
   "source": [
    "## 10 page update >> 60 days"
   ]
  },
  {
   "cell_type": "code",
   "execution_count": 9,
   "metadata": {},
   "outputs": [],
   "source": [
    "update_page = 10"
   ]
  },
  {
   "cell_type": "code",
   "execution_count": 10,
   "metadata": {},
   "outputs": [],
   "source": [
    "# 종목코드 : All replace"
   ]
  },
  {
   "cell_type": "markdown",
   "metadata": {},
   "source": [
    "## 종목코드"
   ]
  },
  {
   "cell_type": "code",
   "execution_count": 11,
   "metadata": {},
   "outputs": [],
   "source": [
    "# KOSPI only"
   ]
  },
  {
   "cell_type": "code",
   "execution_count": 12,
   "metadata": {},
   "outputs": [],
   "source": [
    "market_code = 'stockMkt'\n",
    "# 'kospi': 'stockMkt',\n",
    "# 'kosdaq': 'kosdaqMkt',\n",
    "# 'konex': 'konexMkt'"
   ]
  },
  {
   "cell_type": "code",
   "execution_count": 13,
   "metadata": {},
   "outputs": [],
   "source": [
    "sto_code_url = 'http://kind.krx.co.kr/corpgeneral/corpList.do?method=download&searchType=' + market_code"
   ]
  },
  {
   "cell_type": "code",
   "execution_count": 14,
   "metadata": {
    "scrolled": true
   },
   "outputs": [
    {
     "data": {
      "text/html": [
       "<div>\n",
       "<style scoped>\n",
       "    .dataframe tbody tr th:only-of-type {\n",
       "        vertical-align: middle;\n",
       "    }\n",
       "\n",
       "    .dataframe tbody tr th {\n",
       "        vertical-align: top;\n",
       "    }\n",
       "\n",
       "    .dataframe thead th {\n",
       "        text-align: right;\n",
       "    }\n",
       "</style>\n",
       "<table border=\"1\" class=\"dataframe\">\n",
       "  <thead>\n",
       "    <tr style=\"text-align: right;\">\n",
       "      <th></th>\n",
       "      <th>회사명</th>\n",
       "      <th>종목코드</th>\n",
       "      <th>업종</th>\n",
       "      <th>주요제품</th>\n",
       "      <th>상장일</th>\n",
       "      <th>결산월</th>\n",
       "      <th>대표자명</th>\n",
       "      <th>홈페이지</th>\n",
       "      <th>지역</th>\n",
       "    </tr>\n",
       "  </thead>\n",
       "  <tbody>\n",
       "    <tr>\n",
       "      <th>0</th>\n",
       "      <td>JS전선</td>\n",
       "      <td>5560</td>\n",
       "      <td>절연선 및 케이블 제조업</td>\n",
       "      <td>선박선,고무선,전력선,통신선 제조</td>\n",
       "      <td>2007-11-12</td>\n",
       "      <td>12월</td>\n",
       "      <td>이익희</td>\n",
       "      <td>http://www.jscable.co.kr</td>\n",
       "      <td>충청남도</td>\n",
       "    </tr>\n",
       "    <tr>\n",
       "      <th>1</th>\n",
       "      <td>거북선2호</td>\n",
       "      <td>101380</td>\n",
       "      <td>NaN</td>\n",
       "      <td>운송장비(선박) 임대</td>\n",
       "      <td>2008-04-25</td>\n",
       "      <td>12월</td>\n",
       "      <td>신주선</td>\n",
       "      <td>NaN</td>\n",
       "      <td>부산광역시</td>\n",
       "    </tr>\n",
       "    <tr>\n",
       "      <th>2</th>\n",
       "      <td>거북선6호</td>\n",
       "      <td>114140</td>\n",
       "      <td>NaN</td>\n",
       "      <td>NaN</td>\n",
       "      <td>2009-10-01</td>\n",
       "      <td>12월</td>\n",
       "      <td>김연신</td>\n",
       "      <td>NaN</td>\n",
       "      <td>제주특별자치도</td>\n",
       "    </tr>\n",
       "    <tr>\n",
       "      <th>3</th>\n",
       "      <td>교보메리츠</td>\n",
       "      <td>64900</td>\n",
       "      <td>NaN</td>\n",
       "      <td>부동산 투자,운용</td>\n",
       "      <td>2002-01-30</td>\n",
       "      <td>12월</td>\n",
       "      <td>김 상 진</td>\n",
       "      <td>NaN</td>\n",
       "      <td>서울특별시</td>\n",
       "    </tr>\n",
       "    <tr>\n",
       "      <th>4</th>\n",
       "      <td>국제관광공사</td>\n",
       "      <td>28780</td>\n",
       "      <td>NaN</td>\n",
       "      <td>NaN</td>\n",
       "      <td>1966-03-18</td>\n",
       "      <td>12월</td>\n",
       "      <td>NaN</td>\n",
       "      <td>NaN</td>\n",
       "      <td>NaN</td>\n",
       "    </tr>\n",
       "  </tbody>\n",
       "</table>\n",
       "</div>"
      ],
      "text/plain": [
       "      회사명    종목코드             업종                주요제품         상장일  결산월   대표자명  \\\n",
       "0    JS전선    5560  절연선 및 케이블 제조업  선박선,고무선,전력선,통신선 제조  2007-11-12  12월    이익희   \n",
       "1   거북선2호  101380            NaN         운송장비(선박) 임대  2008-04-25  12월    신주선   \n",
       "2   거북선6호  114140            NaN                 NaN  2009-10-01  12월    김연신   \n",
       "3   교보메리츠   64900            NaN           부동산 투자,운용  2002-01-30  12월  김 상 진   \n",
       "4  국제관광공사   28780            NaN                 NaN  1966-03-18  12월    NaN   \n",
       "\n",
       "                       홈페이지       지역  \n",
       "0  http://www.jscable.co.kr     충청남도  \n",
       "1                       NaN    부산광역시  \n",
       "2                       NaN  제주특별자치도  \n",
       "3                       NaN    서울특별시  \n",
       "4                       NaN      NaN  "
      ]
     },
     "execution_count": 14,
     "metadata": {},
     "output_type": "execute_result"
    }
   ],
   "source": [
    "sto_code_df = pd.read_html(sto_code_url)[0]\n",
    "sto_code_df[:5]"
   ]
  },
  {
   "cell_type": "code",
   "execution_count": 15,
   "metadata": {},
   "outputs": [
    {
     "data": {
      "text/plain": [
       "(3740, 9)"
      ]
     },
     "execution_count": 15,
     "metadata": {},
     "output_type": "execute_result"
    }
   ],
   "source": [
    "sto_code_df.shape"
   ]
  },
  {
   "cell_type": "code",
   "execution_count": 16,
   "metadata": {},
   "outputs": [],
   "source": [
    "# save path, file_name"
   ]
  },
  {
   "cell_type": "code",
   "execution_count": 17,
   "metadata": {
    "scrolled": true
   },
   "outputs": [
    {
     "data": {
      "text/plain": [
       "'data/code_list/code_list_stockMkt_190816.csv'"
      ]
     },
     "execution_count": 17,
     "metadata": {},
     "output_type": "execute_result"
    }
   ],
   "source": [
    "save_n_code_df = ('data/code_list/' + 'code_list_' + market_code + '_' + date_key + '.csv').strip()\n",
    "save_n_code_df"
   ]
  },
  {
   "cell_type": "code",
   "execution_count": 18,
   "metadata": {},
   "outputs": [],
   "source": [
    "# save"
   ]
  },
  {
   "cell_type": "code",
   "execution_count": 19,
   "metadata": {},
   "outputs": [
    {
     "name": "stdout",
     "output_type": "stream",
     "text": [
      "save >> data/code_list/code_list_stockMkt_190816.csv\n"
     ]
    }
   ],
   "source": [
    "sto_code_df.to_csv(save_n_code_df, encoding='euc-kr', index=False) #cp949\n",
    "print('save >> ' + save_n_code_df)"
   ]
  },
  {
   "cell_type": "code",
   "execution_count": 20,
   "metadata": {},
   "outputs": [],
   "source": [
    "# check"
   ]
  },
  {
   "cell_type": "code",
   "execution_count": 21,
   "metadata": {},
   "outputs": [
    {
     "data": {
      "text/plain": [
       "['code_list_190728.csv',\n",
       " 'code_list_190729.csv',\n",
       " 'code_list_190730.csv',\n",
       " 'code_list_stockMkt_190730.csv',\n",
       " 'code_list_stockMkt_190801.csv',\n",
       " 'code_list_stockMkt_190814.csv',\n",
       " 'code_list_stockMkt_190815.csv',\n",
       " 'code_list_stockMkt_190816.csv']"
      ]
     },
     "execution_count": 21,
     "metadata": {},
     "output_type": "execute_result"
    }
   ],
   "source": [
    "os.listdir('data/code_list')"
   ]
  },
  {
   "cell_type": "code",
   "execution_count": null,
   "metadata": {},
   "outputs": [],
   "source": []
  },
  {
   "cell_type": "markdown",
   "metadata": {},
   "source": [
    "## 주요 지표"
   ]
  },
  {
   "cell_type": "code",
   "execution_count": 22,
   "metadata": {},
   "outputs": [],
   "source": [
    "market = ['국내', '해외', '환율', 'WTI', '휘발유', '국제금', '국내금']"
   ]
  },
  {
   "cell_type": "code",
   "execution_count": 23,
   "metadata": {},
   "outputs": [],
   "source": [
    "def url_creater(what) :\n",
    "    target_url = []\n",
    "    target_code = []\n",
    "    url_base = 'https://finance.naver.com/'\n",
    "    url_ref = {'국내' : 'sise/sise_index_day.nhn?code=', \n",
    "              '해외' : 'world/worldDayListJson.nhn?symbol=', \n",
    "              '환율' : 'marketindex/exchangeDailyQuote.nhn?marketindexCd=FX_', \n",
    "              'WTI' : 'marketindex/worldDailyQuote.nhn?marketindexCd=', \n",
    "              '휘발유' : 'marketindex/oilDailyQuote.nhn?marketindexCd=', \n",
    "              '국제금' : 'marketindex/worldDailyQuote.nhn?marketindexCd=', \n",
    "              '국내금' : 'marketindex/goldDailyQuote.nhn?'}\n",
    "    cate_code = {'국내' : ['KOSPI', 'KOSDAQ', 'KPI200'], \n",
    "              '해외' : ['DJI@DJI', 'NII@NI225', 'LNS@FTSE100', \n",
    "                      'NAS@IXIC', 'SHS@000001', 'PAS@CAC40', \n",
    "                      'SPI@SPX', 'HSI@HSI', 'XTR@DAX30' ], \n",
    "              '환율' : ['USDKRW', 'JPYKRW', 'EURKRW', 'CNYKRW'], \n",
    "              'WTI' : ['OIL_CL'], \n",
    "              '휘발유' : ['OIL_GSL'], \n",
    "              '국제금' : ['CMDT_GC'], \n",
    "              '국내금' : ['']}\n",
    "    pager = {'국내' : '&page=', \n",
    "              '해외' : '&fdtc=0&page=', \n",
    "              '환율' : '&page=', \n",
    "              'WTI' : '&fdtc=2&page=', \n",
    "              '휘발유' : '&page=', \n",
    "              '국제금' : '&fdtc=2&page=', \n",
    "              '국내금' : '&page='}\n",
    "    for i in range(len(cate_code[what])) :\n",
    "        target_url += [url_base + url_ref[what] + cate_code[what][i] + pager[what]]\n",
    "        target_code += [cate_code[what][i]]\n",
    "    return target_url, target_code"
   ]
  },
  {
   "cell_type": "code",
   "execution_count": 24,
   "metadata": {},
   "outputs": [],
   "source": [
    "def last_page_finder(url):\n",
    "    last_page_num = update_page\n",
    "#     target_html = BeautifulSoup(urlopen(url).read(), 'lxml') #html.parser\n",
    "#     page_pkg = target_html.find_all(\"table\") #,align=\"center\"\n",
    "#     if page_pkg ==[] : return 500\n",
    "#     else :\n",
    "#         last_page_pkg = page_pkg[0].find_all(\"td\",class_=\"pgRR\")\n",
    "#         if last_page_pkg ==[] : \n",
    "#             try :\n",
    "#                 last_page_pkg = page_pkg[1].find_all(\"td\",class_=\"pgRR\")\n",
    "#             except IndexError :\n",
    "#                 return 500\n",
    "#         last_page_pkg = last_page_pkg[0].a.get('href')\n",
    "#         last_page_num = int(last_page_pkg.split(\"=\")[-1].strip())\n",
    "    return last_page_num"
   ]
  },
  {
   "cell_type": "code",
   "execution_count": 25,
   "metadata": {},
   "outputs": [],
   "source": [
    "def crawl_html(last_page_num, i) :\n",
    "    temp_df = pd.DataFrame()\n",
    "    for j in range(1, last_page_num+1) :\n",
    "        page_url = (f'{i}{j}')\n",
    "        temp_df = temp_df.append(pd.read_html(page_url, header=0)[0],\n",
    "                                 ignore_index=True)\n",
    "        temp_df = temp_df.drop_duplicates(['날짜'])\n",
    "    return temp_df"
   ]
  },
  {
   "cell_type": "code",
   "execution_count": 26,
   "metadata": {},
   "outputs": [],
   "source": [
    "def crawl_ajax(last_page_num, i) :\n",
    "    temp_df = pd.DataFrame()\n",
    "    exp_cols = {\"xymd\":\"날짜\",\"clos\":'종가',\"diff\":'전일비',\n",
    "            \"open\":'시가',\"high\":'고가',\"low\":'저가',\n",
    "            \"rate\":\"rate\",\"gvol\":\"gvol\", \"symb\":\"symb\"}\n",
    "    for j in range(1, last_page_num+1) :\n",
    "        page_url = (f'{i}{j}')\n",
    "        temp_df = temp_df.append(pd.DataFrame(requests.get(page_url).json()), \n",
    "                                 ignore_index=True)\n",
    "    temp_df = temp_df.drop_duplicates(['xymd'])\n",
    "    if 'xymd' in temp_df.columns :\n",
    "        temp_df.rename(columns=exp_cols, inplace=True)\n",
    "    return temp_df"
   ]
  },
  {
   "cell_type": "code",
   "execution_count": 27,
   "metadata": {},
   "outputs": [],
   "source": [
    "def info_collector(market) :\n",
    "    info_df = pd.DataFrame()\n",
    "    target_url = url_creater(market)\n",
    "    k = -1\n",
    "    for i in tqdm(target_url[0], desc='collector', mininterval=1) :\n",
    "        k += 1\n",
    "        last_page_num = last_page_finder(i+'1')\n",
    "        try :\n",
    "            temp_df = crawl_html(last_page_num, i)\n",
    "        except ValueError :\n",
    "            temp_df = crawl_ajax(last_page_num, i)      \n",
    "        temp_df = temp_df.dropna(axis=0, how='all')\n",
    "        temp_df = temp_df.drop_duplicates(['날짜'])\n",
    "        temp_df.set_index('날짜', inplace=True)\n",
    "        temp_df.columns = (temp_df.columns + '_' + target_url[1][k])\n",
    "        info_df = pd.concat([info_df, temp_df], axis=1, sort=False)\n",
    "    info_df = info_df.drop('날짜', axis=0, errors='ignore')\n",
    "    info_df.index.names = ['날짜']\n",
    "    return info_df"
   ]
  },
  {
   "cell_type": "code",
   "execution_count": null,
   "metadata": {},
   "outputs": [],
   "source": []
  },
  {
   "cell_type": "code",
   "execution_count": 29,
   "metadata": {
    "scrolled": true
   },
   "outputs": [
    {
     "data": {
      "text/plain": [
       "['market_info_WTI_190815.csv',\n",
       " 'market_info_WTI_190815_update.csv',\n",
       " 'market_info_WTI_190816.csv',\n",
       " 'market_info_WTI_190816_update.csv',\n",
       " 'market_info_국내_190815.csv',\n",
       " 'market_info_국내_190815_update.csv',\n",
       " 'market_info_국내_190816.csv',\n",
       " 'market_info_국내_190816_update.csv',\n",
       " 'market_info_국내금_190815.csv',\n",
       " 'market_info_국내금_190815_update.csv',\n",
       " 'market_info_국내금_190816.csv',\n",
       " 'market_info_국내금_190816_update.csv',\n",
       " 'market_info_국제금_190815.csv',\n",
       " 'market_info_국제금_190815_update.csv',\n",
       " 'market_info_국제금_190816.csv',\n",
       " 'market_info_국제금_190816_update.csv',\n",
       " 'market_info_해외_190815.csv',\n",
       " 'market_info_해외_190815_update.csv',\n",
       " 'market_info_해외_190816.csv',\n",
       " 'market_info_해외_190816_update.csv',\n",
       " 'market_info_환율_190815.csv',\n",
       " 'market_info_환율_190815_update.csv',\n",
       " 'market_info_환율_190816.csv',\n",
       " 'market_info_환율_190816_update.csv',\n",
       " 'market_info_휘발유_190815.csv',\n",
       " 'market_info_휘발유_190815_update.csv',\n",
       " 'market_info_휘발유_190816.csv',\n",
       " 'market_info_휘발유_190816_update.csv']"
      ]
     },
     "execution_count": 29,
     "metadata": {},
     "output_type": "execute_result"
    }
   ],
   "source": [
    "os.listdir('data/market_info')"
   ]
  },
  {
   "cell_type": "code",
   "execution_count": 32,
   "metadata": {},
   "outputs": [],
   "source": [
    "# update func"
   ]
  },
  {
   "cell_type": "code",
   "execution_count": 30,
   "metadata": {},
   "outputs": [],
   "source": [
    "def last_ver_search(path, kwd) :\n",
    "    files = []\n",
    "    for i in range(len(os.listdir(path))) :\n",
    "        if kwd in os.listdir(path)[i] :\n",
    "            files += list([os.listdir(path)[i]])\n",
    "    return (path + files[-1])"
   ]
  },
  {
   "cell_type": "code",
   "execution_count": 31,
   "metadata": {},
   "outputs": [],
   "source": [
    "def load_csv(file_name) :\n",
    "    load_df = pd.read_csv(file_name, encoding='cp949', index_col=0)\n",
    "    return load_df"
   ]
  },
  {
   "cell_type": "code",
   "execution_count": 33,
   "metadata": {},
   "outputs": [],
   "source": [
    "# run update"
   ]
  },
  {
   "cell_type": "code",
   "execution_count": 34,
   "metadata": {
    "scrolled": true
   },
   "outputs": [
    {
     "name": "stderr",
     "output_type": "stream",
     "text": [
      "\r",
      "update:   0%|          | 0/7 [00:00<?, ?it/s]"
     ]
    },
    {
     "name": "stdout",
     "output_type": "stream",
     "text": [
      "국내\n",
      "load_file : data/market_info/market_info_국내_190816_update.csv\n"
     ]
    },
    {
     "name": "stderr",
     "output_type": "stream",
     "text": [
      "\n",
      "collector:   0%|          | 0/3 [00:00<?, ?it/s]\n",
      "collector:  67%|██████▋   | 2/3 [00:01<00:00,  1.28it/s]\n",
      "collector: 100%|██████████| 3/3 [00:02<00:00,  1.20it/s]"
     ]
    },
    {
     "name": "stdout",
     "output_type": "stream",
     "text": [
      "save_update >> data/market_info/market_info_국내_190816_update.csv\n",
      "\n"
     ]
    },
    {
     "name": "stderr",
     "output_type": "stream",
     "text": [
      "\r",
      "update:  14%|█▍        | 1/7 [00:02<00:16,  2.72s/it]"
     ]
    },
    {
     "name": "stdout",
     "output_type": "stream",
     "text": [
      "해외\n",
      "load_file : data/market_info/market_info_해외_190816_update.csv\n"
     ]
    },
    {
     "name": "stderr",
     "output_type": "stream",
     "text": [
      "\n",
      "collector:   0%|          | 0/9 [00:00<?, ?it/s]\n",
      "collector:  22%|██▏       | 2/9 [00:02<00:07,  1.04s/it]\n",
      "collector:  44%|████▍     | 4/9 [00:04<00:05,  1.03s/it]\n",
      "collector:  67%|██████▋   | 6/9 [00:05<00:02,  1.00it/s]\n",
      "collector:  78%|███████▊  | 7/9 [00:07<00:02,  1.03s/it]\n",
      "collector: 100%|██████████| 9/9 [00:08<00:00,  1.01s/it]"
     ]
    },
    {
     "name": "stdout",
     "output_type": "stream",
     "text": [
      "save_update >> data/market_info/market_info_해외_190816_update.csv\n",
      "\n"
     ]
    },
    {
     "name": "stderr",
     "output_type": "stream",
     "text": [
      "\r",
      "update:  29%|██▊       | 2/7 [00:12<00:23,  4.78s/it]"
     ]
    },
    {
     "name": "stdout",
     "output_type": "stream",
     "text": [
      "환율\n",
      "load_file : data/market_info/market_info_환율_190816_update.csv\n"
     ]
    },
    {
     "name": "stderr",
     "output_type": "stream",
     "text": [
      "\n",
      "collector:   0%|          | 0/4 [00:00<?, ?it/s]\n",
      "collector:  50%|█████     | 2/4 [00:01<00:01,  1.31it/s]\n",
      "collector: 100%|██████████| 4/4 [00:03<00:00,  1.27it/s]"
     ]
    },
    {
     "name": "stdout",
     "output_type": "stream",
     "text": [
      "save_update >> data/market_info/market_info_환율_190816_update.csv\n",
      "\n"
     ]
    },
    {
     "name": "stderr",
     "output_type": "stream",
     "text": [
      "\r",
      "update:  43%|████▎     | 3/7 [00:15<00:17,  4.39s/it]"
     ]
    },
    {
     "name": "stdout",
     "output_type": "stream",
     "text": [
      "WTI\n",
      "load_file : data/market_info/market_info_WTI_190816_update.csv\n"
     ]
    },
    {
     "name": "stderr",
     "output_type": "stream",
     "text": [
      "\n",
      "collector:   0%|          | 0/1 [00:00<?, ?it/s]\n",
      "collector: 100%|██████████| 1/1 [00:00<00:00,  1.35it/s]"
     ]
    },
    {
     "name": "stdout",
     "output_type": "stream",
     "text": [
      "save_update >> data/market_info/market_info_WTI_190816_update.csv\n",
      "\n",
      "휘발유\n",
      "load_file : data/market_info/market_info_휘발유_190816_update.csv\n"
     ]
    },
    {
     "name": "stderr",
     "output_type": "stream",
     "text": [
      "\n",
      "collector:   0%|          | 0/1 [00:00<?, ?it/s]\n",
      "collector: 100%|██████████| 1/1 [00:00<00:00,  1.18it/s]"
     ]
    },
    {
     "name": "stdout",
     "output_type": "stream",
     "text": [
      "save_update >> data/market_info/market_info_휘발유_190816_update.csv\n",
      "\n"
     ]
    },
    {
     "name": "stderr",
     "output_type": "stream",
     "text": [
      "\r",
      "update:  71%|███████▏  | 5/7 [00:17<00:06,  3.34s/it]"
     ]
    },
    {
     "name": "stdout",
     "output_type": "stream",
     "text": [
      "국제금\n",
      "load_file : data/market_info/market_info_국제금_190816_update.csv\n"
     ]
    },
    {
     "name": "stderr",
     "output_type": "stream",
     "text": [
      "\n",
      "collector:   0%|          | 0/1 [00:00<?, ?it/s]\n",
      "collector: 100%|██████████| 1/1 [00:00<00:00,  1.39it/s]"
     ]
    },
    {
     "name": "stdout",
     "output_type": "stream",
     "text": [
      "save_update >> data/market_info/market_info_국제금_190816_update.csv\n",
      "\n",
      "국내금\n",
      "load_file : data/market_info/market_info_국내금_190816_update.csv\n"
     ]
    },
    {
     "name": "stderr",
     "output_type": "stream",
     "text": [
      "\n",
      "collector:   0%|          | 0/1 [00:00<?, ?it/s]\n",
      "collector: 100%|██████████| 1/1 [00:00<00:00,  1.38it/s]"
     ]
    },
    {
     "name": "stdout",
     "output_type": "stream",
     "text": [
      "save_update >> data/market_info/market_info_국내금_190816_update.csv\n",
      "\n"
     ]
    },
    {
     "name": "stderr",
     "output_type": "stream",
     "text": [
      "update: 100%|██████████| 7/7 [00:19<00:00,  2.58s/it]\n"
     ]
    },
    {
     "name": "stdout",
     "output_type": "stream",
     "text": [
      "실행시간: 19.20 sec\n"
     ]
    }
   ],
   "source": [
    "start = time.time()\n",
    "\n",
    "for i in tqdm(market, desc='update', mininterval=1) :\n",
    "    path = 'data/market_info/'\n",
    "    kwd = 'market_info_' + i + '_'\n",
    "    file_name = last_ver_search(path, kwd)\n",
    "    print(i)\n",
    "    print(f'load_file : {file_name}')\n",
    "    load_df = load_csv(file_name)\n",
    "    new_df = info_collector(i)\n",
    "    update_df = pd.concat([new_df, load_df], axis=0)\n",
    "    update_df.reset_index(inplace=True)\n",
    "    update_df = update_df.drop_duplicates(['날짜'])\n",
    "    update_df.set_index('날짜', inplace=True)\n",
    "    save_n_update_df = (\n",
    "        path + kwd + date_key + '_update' + '.csv').strip()\n",
    "    update_df.to_csv(save_n_update_df, encoding='euc-kr', index=True)\n",
    "    print('save_update >> ' + save_n_update_df)\n",
    "    print()\n",
    "    \n",
    "print(f'실행시간: {time.time() - start :.2f} sec')"
   ]
  },
  {
   "cell_type": "code",
   "execution_count": 23,
   "metadata": {},
   "outputs": [],
   "source": [
    "# check"
   ]
  },
  {
   "cell_type": "code",
   "execution_count": 35,
   "metadata": {
    "scrolled": true
   },
   "outputs": [
    {
     "data": {
      "text/plain": [
       "['market_info_WTI_190815.csv',\n",
       " 'market_info_WTI_190815_update.csv',\n",
       " 'market_info_WTI_190816.csv',\n",
       " 'market_info_WTI_190816_update.csv',\n",
       " 'market_info_국내_190815.csv',\n",
       " 'market_info_국내_190815_update.csv',\n",
       " 'market_info_국내_190816.csv',\n",
       " 'market_info_국내_190816_update.csv',\n",
       " 'market_info_국내금_190815.csv',\n",
       " 'market_info_국내금_190815_update.csv',\n",
       " 'market_info_국내금_190816.csv',\n",
       " 'market_info_국내금_190816_update.csv',\n",
       " 'market_info_국제금_190815.csv',\n",
       " 'market_info_국제금_190815_update.csv',\n",
       " 'market_info_국제금_190816.csv',\n",
       " 'market_info_국제금_190816_update.csv',\n",
       " 'market_info_해외_190815.csv',\n",
       " 'market_info_해외_190815_update.csv',\n",
       " 'market_info_해외_190816.csv',\n",
       " 'market_info_해외_190816_update.csv',\n",
       " 'market_info_환율_190815.csv',\n",
       " 'market_info_환율_190815_update.csv',\n",
       " 'market_info_환율_190816.csv',\n",
       " 'market_info_환율_190816_update.csv',\n",
       " 'market_info_휘발유_190815.csv',\n",
       " 'market_info_휘발유_190815_update.csv',\n",
       " 'market_info_휘발유_190816.csv',\n",
       " 'market_info_휘발유_190816_update.csv']"
      ]
     },
     "execution_count": 35,
     "metadata": {},
     "output_type": "execute_result"
    }
   ],
   "source": [
    "os.listdir('data/market_info')"
   ]
  },
  {
   "cell_type": "code",
   "execution_count": 38,
   "metadata": {},
   "outputs": [
    {
     "name": "stdout",
     "output_type": "stream",
     "text": [
      "data/market_info/market_info_국내금_190816_update.csv\n",
      "data/market_info/market_info_해외_190816_update.csv\n",
      "data/market_info/market_info_환율_190816_update.csv\n",
      "data/market_info/market_info_WTI_190816_update.csv\n",
      "data/market_info/market_info_휘발유_190816_update.csv\n",
      "data/market_info/market_info_국제금_190816_update.csv\n",
      "data/market_info/market_info_국내금_190816_update.csv\n"
     ]
    }
   ],
   "source": [
    "for i in market :\n",
    "    files = last_ver_search(path, i)\n",
    "    print(files)\n"
   ]
  },
  {
   "cell_type": "code",
   "execution_count": null,
   "metadata": {},
   "outputs": [],
   "source": []
  }
 ],
 "metadata": {
  "kernelspec": {
   "display_name": "Python 3",
   "language": "python",
   "name": "python3"
  },
  "language_info": {
   "codemirror_mode": {
    "name": "ipython",
    "version": 3
   },
   "file_extension": ".py",
   "mimetype": "text/x-python",
   "name": "python",
   "nbconvert_exporter": "python",
   "pygments_lexer": "ipython3",
   "version": "3.7.3"
  }
 },
 "nbformat": 4,
 "nbformat_minor": 2
}
