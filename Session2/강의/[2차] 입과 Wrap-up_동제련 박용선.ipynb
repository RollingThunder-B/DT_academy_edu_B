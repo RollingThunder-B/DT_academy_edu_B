{
 "cells": [
  {
   "cell_type": "code",
   "execution_count": 2,
   "metadata": {},
   "outputs": [],
   "source": [
    "import numpy as np\n",
    "import matplotlib.pyplot as plt\n",
    "import pandas as pd\n",
    "# import mglearn"
   ]
  },
  {
   "cell_type": "code",
   "execution_count": 3,
   "metadata": {},
   "outputs": [],
   "source": [
    "from sklearn.datasets import load_iris\n",
    "iris_dataset = load_iris()"
   ]
  },
  {
   "cell_type": "code",
   "execution_count": 26,
   "metadata": {},
   "outputs": [
    {
     "data": {
      "text/plain": [
       "sklearn.utils.Bunch"
      ]
     },
     "execution_count": 26,
     "metadata": {},
     "output_type": "execute_result"
    }
   ],
   "source": [
    "type(iris_dataset)"
   ]
  },
  {
   "cell_type": "code",
   "execution_count": 30,
   "metadata": {
    "collapsed": true
   },
   "outputs": [
    {
     "name": "stdout",
     "output_type": "stream",
     "text": [
      "Iris Plants Database\n",
      "====================\n",
      "\n",
      "Notes\n",
      "-----\n",
      "Data Set Characteristics:\n",
      "    :Number of Instances: 150 (50 in each of three classes)\n",
      "    :Number of Attributes: 4 numeric, predictive attributes and the class\n",
      "    :Attribute Information:\n",
      "        - sepal length in cm\n",
      "        - sepal width in cm\n",
      "        - petal length in cm\n",
      "        - petal width in cm\n",
      "        - class:\n",
      "                - Iris-Setosa\n",
      "                - Iris-Versicolour\n",
      "                - Iris-Virginica\n",
      "    :Summary Statistics:\n",
      "\n",
      "    ============== ==== ==== ======= ===== ====================\n",
      "                    Min  Max   Mean    SD   Class Correlation\n",
      "    ============== ==== ==== ======= ===== ====================\n",
      "    sepal length:   4.3  7.9   5.84   0.83    0.7826\n",
      "    sepal width:    2.0  4.4   3.05   0.43   -0.4194\n",
      "    petal length:   1.0  6.9   3.76   1.76    0.9490  (high!)\n",
      "    petal width:    0.1  2.5   1.20  0.76     0.9565  (high!)\n",
      "    ============== ==== ==== ======= ===== ====================\n",
      "\n",
      "    :Missing Attribute Values: None\n",
      "    :Class Distribution: 33.3% for each of 3 classes.\n",
      "    :Creator: R.A. Fisher\n",
      "    :Donor: Michael Marshall (MARSHALL%PLU@io.arc.nasa.gov)\n",
      "    :Date: July, 1988\n",
      "\n",
      "This is a copy of UCI ML iris datasets.\n",
      "http://archive.ics.uci.edu/ml/datasets/Iris\n",
      "\n",
      "The famous Iris database, first used by Sir R.A Fisher\n",
      "\n",
      "This is perhaps the best known database to be found in the\n",
      "pattern recognition literature.  Fisher's paper is a classic in the field and\n",
      "is referenced frequently to this day.  (See Duda & Hart, for example.)  The\n",
      "data set contains 3 classes of 50 instances each, where each class refers to a\n",
      "type of iris plant.  One class is linearly separable from the other 2; the\n",
      "latter are NOT linearly separable from each other.\n",
      "\n",
      "References\n",
      "----------\n",
      "   - Fisher,R.A. \"The use of multiple measurements in taxonomic problems\"\n",
      "     Annual Eugenics, 7, Part II, 179-188 (1936); also in \"Contributions to\n",
      "     Mathematical Statistics\" (John Wiley, NY, 1950).\n",
      "   - Duda,R.O., & Hart,P.E. (1973) Pattern Classification and Scene Analysis.\n",
      "     (Q327.D83) John Wiley & Sons.  ISBN 0-471-22361-1.  See page 218.\n",
      "   - Dasarathy, B.V. (1980) \"Nosing Around the Neighborhood: A New System\n",
      "     Structure and Classification Rule for Recognition in Partially Exposed\n",
      "     Environments\".  IEEE Transactions on Pattern Analysis and Machine\n",
      "     Intelligence, Vol. PAMI-2, No. 1, 67-71.\n",
      "   - Gates, G.W. (1972) \"The Reduced Nearest Neighbor Rule\".  IEEE Transactions\n",
      "     on Information Theory, May 1972, 431-433.\n",
      "   - See also: 1988 MLC Proceedings, 54-64.  Cheeseman et al\"s AUTOCLASS II\n",
      "     conceptual clustering system finds 3 classes in the data.\n",
      "   - Many, many more ...\n",
      "\n"
     ]
    }
   ],
   "source": [
    "print(iris_dataset.DESCR)"
   ]
  },
  {
   "cell_type": "markdown",
   "metadata": {},
   "source": [
    "## 1번 문제 "
   ]
  },
  {
   "cell_type": "code",
   "execution_count": 37,
   "metadata": {
    "collapsed": true
   },
   "outputs": [
    {
     "data": {
      "text/plain": [
       "array([[5.1, 3.5],\n",
       "       [4.9, 3. ],\n",
       "       [4.7, 3.2],\n",
       "       [4.6, 3.1],\n",
       "       [5. , 3.6],\n",
       "       [5.4, 3.9],\n",
       "       [4.6, 3.4],\n",
       "       [5. , 3.4],\n",
       "       [4.4, 2.9],\n",
       "       [4.9, 3.1],\n",
       "       [5.4, 3.7],\n",
       "       [4.8, 3.4],\n",
       "       [4.8, 3. ],\n",
       "       [4.3, 3. ],\n",
       "       [5.8, 4. ],\n",
       "       [5.7, 4.4],\n",
       "       [5.4, 3.9],\n",
       "       [5.1, 3.5],\n",
       "       [5.7, 3.8],\n",
       "       [5.1, 3.8],\n",
       "       [5.4, 3.4],\n",
       "       [5.1, 3.7],\n",
       "       [4.6, 3.6],\n",
       "       [5.1, 3.3],\n",
       "       [4.8, 3.4],\n",
       "       [5. , 3. ],\n",
       "       [5. , 3.4],\n",
       "       [5.2, 3.5],\n",
       "       [5.2, 3.4],\n",
       "       [4.7, 3.2],\n",
       "       [4.8, 3.1],\n",
       "       [5.4, 3.4],\n",
       "       [5.2, 4.1],\n",
       "       [5.5, 4.2],\n",
       "       [4.9, 3.1],\n",
       "       [5. , 3.2],\n",
       "       [5.5, 3.5],\n",
       "       [4.9, 3.1],\n",
       "       [4.4, 3. ],\n",
       "       [5.1, 3.4],\n",
       "       [5. , 3.5],\n",
       "       [4.5, 2.3],\n",
       "       [4.4, 3.2],\n",
       "       [5. , 3.5],\n",
       "       [5.1, 3.8],\n",
       "       [4.8, 3. ],\n",
       "       [5.1, 3.8],\n",
       "       [4.6, 3.2],\n",
       "       [5.3, 3.7],\n",
       "       [5. , 3.3],\n",
       "       [7. , 3.2],\n",
       "       [6.4, 3.2],\n",
       "       [6.9, 3.1],\n",
       "       [5.5, 2.3],\n",
       "       [6.5, 2.8],\n",
       "       [5.7, 2.8],\n",
       "       [6.3, 3.3],\n",
       "       [4.9, 2.4],\n",
       "       [6.6, 2.9],\n",
       "       [5.2, 2.7],\n",
       "       [5. , 2. ],\n",
       "       [5.9, 3. ],\n",
       "       [6. , 2.2],\n",
       "       [6.1, 2.9],\n",
       "       [5.6, 2.9],\n",
       "       [6.7, 3.1],\n",
       "       [5.6, 3. ],\n",
       "       [5.8, 2.7],\n",
       "       [6.2, 2.2],\n",
       "       [5.6, 2.5],\n",
       "       [5.9, 3.2],\n",
       "       [6.1, 2.8],\n",
       "       [6.3, 2.5],\n",
       "       [6.1, 2.8],\n",
       "       [6.4, 2.9],\n",
       "       [6.6, 3. ],\n",
       "       [6.8, 2.8],\n",
       "       [6.7, 3. ],\n",
       "       [6. , 2.9],\n",
       "       [5.7, 2.6],\n",
       "       [5.5, 2.4],\n",
       "       [5.5, 2.4],\n",
       "       [5.8, 2.7],\n",
       "       [6. , 2.7],\n",
       "       [5.4, 3. ],\n",
       "       [6. , 3.4],\n",
       "       [6.7, 3.1],\n",
       "       [6.3, 2.3],\n",
       "       [5.6, 3. ],\n",
       "       [5.5, 2.5],\n",
       "       [5.5, 2.6],\n",
       "       [6.1, 3. ],\n",
       "       [5.8, 2.6],\n",
       "       [5. , 2.3],\n",
       "       [5.6, 2.7],\n",
       "       [5.7, 3. ],\n",
       "       [5.7, 2.9],\n",
       "       [6.2, 2.9],\n",
       "       [5.1, 2.5],\n",
       "       [5.7, 2.8],\n",
       "       [6.3, 3.3],\n",
       "       [5.8, 2.7],\n",
       "       [7.1, 3. ],\n",
       "       [6.3, 2.9],\n",
       "       [6.5, 3. ],\n",
       "       [7.6, 3. ],\n",
       "       [4.9, 2.5],\n",
       "       [7.3, 2.9],\n",
       "       [6.7, 2.5],\n",
       "       [7.2, 3.6],\n",
       "       [6.5, 3.2],\n",
       "       [6.4, 2.7],\n",
       "       [6.8, 3. ],\n",
       "       [5.7, 2.5],\n",
       "       [5.8, 2.8],\n",
       "       [6.4, 3.2],\n",
       "       [6.5, 3. ],\n",
       "       [7.7, 3.8],\n",
       "       [7.7, 2.6],\n",
       "       [6. , 2.2],\n",
       "       [6.9, 3.2],\n",
       "       [5.6, 2.8],\n",
       "       [7.7, 2.8],\n",
       "       [6.3, 2.7],\n",
       "       [6.7, 3.3],\n",
       "       [7.2, 3.2],\n",
       "       [6.2, 2.8],\n",
       "       [6.1, 3. ],\n",
       "       [6.4, 2.8],\n",
       "       [7.2, 3. ],\n",
       "       [7.4, 2.8],\n",
       "       [7.9, 3.8],\n",
       "       [6.4, 2.8],\n",
       "       [6.3, 2.8],\n",
       "       [6.1, 2.6],\n",
       "       [7.7, 3. ],\n",
       "       [6.3, 3.4],\n",
       "       [6.4, 3.1],\n",
       "       [6. , 3. ],\n",
       "       [6.9, 3.1],\n",
       "       [6.7, 3.1],\n",
       "       [6.9, 3.1],\n",
       "       [5.8, 2.7],\n",
       "       [6.8, 3.2],\n",
       "       [6.7, 3.3],\n",
       "       [6.7, 3. ],\n",
       "       [6.3, 2.5],\n",
       "       [6.5, 3. ],\n",
       "       [6.2, 3.4],\n",
       "       [5.9, 3. ]])"
      ]
     },
     "execution_count": 37,
     "metadata": {},
     "output_type": "execute_result"
    }
   ],
   "source": [
    "iris_2col = iris_dataset.data[:,:2]; iris_2col"
   ]
  },
  {
   "cell_type": "code",
   "execution_count": 38,
   "metadata": {},
   "outputs": [],
   "source": [
    "from sklearn.model_selection import train_test_split\n",
    "np.random.seed(9)\n",
    "X_train, X_test, y_train, y_test = train_test_split(\n",
    "    iris_2col, iris_dataset['target'],test_size=0.50)"
   ]
  },
  {
   "cell_type": "code",
   "execution_count": 39,
   "metadata": {},
   "outputs": [
    {
     "name": "stdout",
     "output_type": "stream",
     "text": [
      "X_train 크기: (75, 2)\n",
      "y_train 크기: (75,)\n"
     ]
    }
   ],
   "source": [
    "print(\"X_train 크기:\", X_train.shape)\n",
    "print(\"y_train 크기:\", y_train.shape)"
   ]
  },
  {
   "cell_type": "code",
   "execution_count": 41,
   "metadata": {},
   "outputs": [
    {
     "data": {
      "text/plain": [
       "((75, 2), (75,))"
      ]
     },
     "execution_count": 41,
     "metadata": {},
     "output_type": "execute_result"
    }
   ],
   "source": [
    "X_train.shape,  y_train.shape"
   ]
  },
  {
   "cell_type": "code",
   "execution_count": 7,
   "metadata": {},
   "outputs": [
    {
     "name": "stdout",
     "output_type": "stream",
     "text": [
      "X_test 크기: (75, 2)\n",
      "y_test 크기: (75,)\n"
     ]
    }
   ],
   "source": [
    "print(\"X_test 크기:\", X_test.shape)\n",
    "print(\"y_test 크기:\", y_test.shape)"
   ]
  },
  {
   "cell_type": "code",
   "execution_count": 42,
   "metadata": {},
   "outputs": [],
   "source": [
    "from sklearn.linear_model import LogisticRegression, LinearRegression\n",
    "lr = LogisticRegression().fit(X_train, y_train)\n",
    "linr = LinearRegression().fit(X_train, y_train)"
   ]
  },
  {
   "cell_type": "code",
   "execution_count": 11,
   "metadata": {},
   "outputs": [
    {
     "name": "stdout",
     "output_type": "stream",
     "text": [
      "lr.coef_: [[-1.95884842  3.15643968]\n",
      " [ 0.49217576 -1.58703728]\n",
      " [ 0.96717941 -1.48639236]]\n",
      "lr.intercept_: [ 0.75111113  0.8008477  -1.75407568]\n"
     ]
    }
   ],
   "source": [
    "print(\"lr.coef_:\", lr.coef_)\n",
    "print(\"lr.intercept_:\", lr.intercept_)"
   ]
  },
  {
   "cell_type": "code",
   "execution_count": 13,
   "metadata": {},
   "outputs": [
    {
     "name": "stdout",
     "output_type": "stream",
     "text": [
      "훈련 세트 점수: 0.71\n",
      "테스트 세트 점수: 0.60\n"
     ]
    }
   ],
   "source": [
    "print(\"훈련 세트 점수: {:.2f}\".format(lr.score(X_train, y_train)))\n",
    "print(\"테스트 세트 점수: {:.2f}\".format(lr.score(X_test, y_test)))"
   ]
  },
  {
   "cell_type": "code",
   "execution_count": 14,
   "metadata": {},
   "outputs": [
    {
     "name": "stdout",
     "output_type": "stream",
     "text": [
      "훈련 세트 점수: 0.76\n",
      "테스트 세트 점수: 0.66\n"
     ]
    }
   ],
   "source": [
    "print(\"훈련 세트 점수: {:.2f}\".format(linr.score(X_train, y_train)))\n",
    "print(\"테스트 세트 점수: {:.2f}\".format(linr.score(X_test, y_test)))"
   ]
  },
  {
   "cell_type": "markdown",
   "metadata": {},
   "source": [
    "## 2번"
   ]
  },
  {
   "cell_type": "code",
   "execution_count": 15,
   "metadata": {},
   "outputs": [],
   "source": [
    "from sklearn.neighbors import KNeighborsClassifier\n",
    "# 이웃이 1개 일때\n",
    "knn1 = KNeighborsClassifier(n_neighbors=5).fit(X_train, y_train)"
   ]
  },
  {
   "cell_type": "code",
   "execution_count": 16,
   "metadata": {},
   "outputs": [
    {
     "name": "stdout",
     "output_type": "stream",
     "text": [
      "테스트 세트에 대한 예측값:\n",
      " [1 1 0 2 0 2 0 2 1 2 1 2 2 1 2 0 2 1 0 0 1 1 0 0 2 0 0 2 1 0 2 1 0 2 2 1 0\n",
      " 2 1 1 2 0 2 0 0 1 1 2 1 1 1 2 2 1 1 2 0 1 2 1 2 0 1 1 1 1 2 2 0 0 1 1 0 0\n",
      " 2]\n"
     ]
    }
   ],
   "source": [
    "y_pred = knn1.predict(X_test)\n",
    "print(\"테스트 세트에 대한 예측값:\\n\", y_pred)"
   ]
  },
  {
   "cell_type": "code",
   "execution_count": 17,
   "metadata": {},
   "outputs": [
    {
     "name": "stdout",
     "output_type": "stream",
     "text": [
      "테스트 세트의 정확도: 0.67\n"
     ]
    }
   ],
   "source": [
    "print(\"테스트 세트의 정확도: {:.2f}\".format(knn1.score(X_test, y_test)))"
   ]
  },
  {
   "cell_type": "code",
   "execution_count": 108,
   "metadata": {},
   "outputs": [
    {
     "name": "stdout",
     "output_type": "stream",
     "text": [
      "1\n",
      "테스트 세트의 정확도: 0.91\n",
      "2\n",
      "테스트 세트의 정확도: 0.89\n",
      "3\n",
      "테스트 세트의 정확도: 0.93\n",
      "4\n",
      "테스트 세트의 정확도: 0.92\n",
      "5\n",
      "테스트 세트의 정확도: 0.96\n",
      "6\n",
      "테스트 세트의 정확도: 0.93\n",
      "7\n",
      "테스트 세트의 정확도: 0.96\n",
      "8\n",
      "테스트 세트의 정확도: 0.95\n",
      "9\n",
      "테스트 세트의 정확도: 0.97\n",
      "10\n",
      "테스트 세트의 정확도: 0.95\n",
      "11\n",
      "테스트 세트의 정확도: 0.95\n",
      "12\n",
      "테스트 세트의 정확도: 0.93\n",
      "13\n",
      "테스트 세트의 정확도: 0.93\n",
      "14\n",
      "테스트 세트의 정확도: 0.93\n",
      "15\n",
      "테스트 세트의 정확도: 0.93\n",
      "16\n",
      "테스트 세트의 정확도: 0.92\n",
      "17\n",
      "테스트 세트의 정확도: 0.92\n",
      "18\n",
      "테스트 세트의 정확도: 0.92\n",
      "19\n",
      "테스트 세트의 정확도: 0.91\n",
      "20\n",
      "테스트 세트의 정확도: 0.89\n",
      "21\n",
      "테스트 세트의 정확도: 0.92\n",
      "22\n",
      "테스트 세트의 정확도: 0.91\n",
      "23\n",
      "테스트 세트의 정확도: 0.91\n",
      "24\n",
      "테스트 세트의 정확도: 0.91\n",
      "25\n",
      "테스트 세트의 정확도: 0.92\n",
      "26\n",
      "테스트 세트의 정확도: 0.91\n",
      "27\n",
      "테스트 세트의 정확도: 0.91\n",
      "28\n",
      "테스트 세트의 정확도: 0.91\n",
      "29\n",
      "테스트 세트의 정확도: 0.88\n",
      "30\n",
      "테스트 세트의 정확도: 0.88\n",
      "31\n",
      "테스트 세트의 정확도: 0.87\n",
      "32\n",
      "테스트 세트의 정확도: 0.87\n",
      "33\n",
      "테스트 세트의 정확도: 0.88\n",
      "34\n",
      "테스트 세트의 정확도: 0.88\n",
      "35\n",
      "테스트 세트의 정확도: 0.88\n",
      "36\n",
      "테스트 세트의 정확도: 0.88\n",
      "37\n",
      "테스트 세트의 정확도: 0.83\n",
      "38\n",
      "테스트 세트의 정확도: 0.87\n",
      "39\n",
      "테스트 세트의 정확도: 0.87\n",
      "40\n",
      "테스트 세트의 정확도: 0.85\n",
      "41\n",
      "테스트 세트의 정확도: 0.77\n",
      "42\n",
      "테스트 세트의 정확도: 0.72\n",
      "43\n",
      "테스트 세트의 정확도: 0.71\n",
      "44\n",
      "테스트 세트의 정확도: 0.71\n",
      "45\n",
      "테스트 세트의 정확도: 0.69\n",
      "46\n",
      "테스트 세트의 정확도: 0.69\n",
      "47\n",
      "테스트 세트의 정확도: 0.69\n",
      "48\n",
      "테스트 세트의 정확도: 0.69\n",
      "49\n",
      "테스트 세트의 정확도: 0.69\n",
      "50\n",
      "테스트 세트의 정확도: 0.69\n",
      "51\n",
      "테스트 세트의 정확도: 0.69\n",
      "52\n",
      "테스트 세트의 정확도: 0.69\n",
      "53\n",
      "테스트 세트의 정확도: 0.69\n",
      "54\n",
      "테스트 세트의 정확도: 0.69\n",
      "55\n",
      "테스트 세트의 정확도: 0.68\n",
      "56\n",
      "테스트 세트의 정확도: 0.68\n",
      "57\n",
      "테스트 세트의 정확도: 0.67\n",
      "58\n",
      "테스트 세트의 정확도: 0.67\n",
      "59\n",
      "테스트 세트의 정확도: 0.63\n",
      "60\n",
      "테스트 세트의 정확도: 0.60\n",
      "61\n",
      "테스트 세트의 정확도: 0.60\n",
      "62\n",
      "테스트 세트의 정확도: 0.60\n",
      "63\n",
      "테스트 세트의 정확도: 0.60\n",
      "64\n",
      "테스트 세트의 정확도: 0.60\n",
      "65\n",
      "테스트 세트의 정확도: 0.60\n",
      "66\n",
      "테스트 세트의 정확도: 0.59\n",
      "67\n",
      "테스트 세트의 정확도: 0.59\n",
      "68\n",
      "테스트 세트의 정확도: 0.59\n",
      "69\n",
      "테스트 세트의 정확도: 0.59\n",
      "70\n",
      "테스트 세트의 정확도: 0.59\n",
      "71\n",
      "테스트 세트의 정확도: 0.59\n",
      "72\n",
      "테스트 세트의 정확도: 0.28\n",
      "73\n",
      "테스트 세트의 정확도: 0.28\n",
      "74\n",
      "테스트 세트의 정확도: 0.28\n"
     ]
    }
   ],
   "source": [
    "for n_neighbors in range(1,75):\n",
    "    clf = KNeighborsClassifier(n_neighbors=n_neighbors).fit(X_train, y_train)\n",
    "    print(n_neighbors)\n",
    "    print(\"테스트 세트의 정확도: {:.2f}\".format(clf.score(X_test, y_test)))\n",
    "    ## 17, 19개의 이웃일 때 가장 적정률이 높음"
   ]
  },
  {
   "cell_type": "markdown",
   "metadata": {},
   "source": [
    "## 3번"
   ]
  },
  {
   "cell_type": "code",
   "execution_count": 44,
   "metadata": {
    "collapsed": true
   },
   "outputs": [
    {
     "data": {
      "text/plain": [
       "array([[5.1, 3.5, 1.4, 0.2],\n",
       "       [4.9, 3. , 1.4, 0.2],\n",
       "       [4.7, 3.2, 1.3, 0.2],\n",
       "       [4.6, 3.1, 1.5, 0.2],\n",
       "       [5. , 3.6, 1.4, 0.2],\n",
       "       [5.4, 3.9, 1.7, 0.4],\n",
       "       [4.6, 3.4, 1.4, 0.3],\n",
       "       [5. , 3.4, 1.5, 0.2],\n",
       "       [4.4, 2.9, 1.4, 0.2],\n",
       "       [4.9, 3.1, 1.5, 0.1],\n",
       "       [5.4, 3.7, 1.5, 0.2],\n",
       "       [4.8, 3.4, 1.6, 0.2],\n",
       "       [4.8, 3. , 1.4, 0.1],\n",
       "       [4.3, 3. , 1.1, 0.1],\n",
       "       [5.8, 4. , 1.2, 0.2],\n",
       "       [5.7, 4.4, 1.5, 0.4],\n",
       "       [5.4, 3.9, 1.3, 0.4],\n",
       "       [5.1, 3.5, 1.4, 0.3],\n",
       "       [5.7, 3.8, 1.7, 0.3],\n",
       "       [5.1, 3.8, 1.5, 0.3],\n",
       "       [5.4, 3.4, 1.7, 0.2],\n",
       "       [5.1, 3.7, 1.5, 0.4],\n",
       "       [4.6, 3.6, 1. , 0.2],\n",
       "       [5.1, 3.3, 1.7, 0.5],\n",
       "       [4.8, 3.4, 1.9, 0.2],\n",
       "       [5. , 3. , 1.6, 0.2],\n",
       "       [5. , 3.4, 1.6, 0.4],\n",
       "       [5.2, 3.5, 1.5, 0.2],\n",
       "       [5.2, 3.4, 1.4, 0.2],\n",
       "       [4.7, 3.2, 1.6, 0.2],\n",
       "       [4.8, 3.1, 1.6, 0.2],\n",
       "       [5.4, 3.4, 1.5, 0.4],\n",
       "       [5.2, 4.1, 1.5, 0.1],\n",
       "       [5.5, 4.2, 1.4, 0.2],\n",
       "       [4.9, 3.1, 1.5, 0.1],\n",
       "       [5. , 3.2, 1.2, 0.2],\n",
       "       [5.5, 3.5, 1.3, 0.2],\n",
       "       [4.9, 3.1, 1.5, 0.1],\n",
       "       [4.4, 3. , 1.3, 0.2],\n",
       "       [5.1, 3.4, 1.5, 0.2],\n",
       "       [5. , 3.5, 1.3, 0.3],\n",
       "       [4.5, 2.3, 1.3, 0.3],\n",
       "       [4.4, 3.2, 1.3, 0.2],\n",
       "       [5. , 3.5, 1.6, 0.6],\n",
       "       [5.1, 3.8, 1.9, 0.4],\n",
       "       [4.8, 3. , 1.4, 0.3],\n",
       "       [5.1, 3.8, 1.6, 0.2],\n",
       "       [4.6, 3.2, 1.4, 0.2],\n",
       "       [5.3, 3.7, 1.5, 0.2],\n",
       "       [5. , 3.3, 1.4, 0.2],\n",
       "       [7. , 3.2, 4.7, 1.4],\n",
       "       [6.4, 3.2, 4.5, 1.5],\n",
       "       [6.9, 3.1, 4.9, 1.5],\n",
       "       [5.5, 2.3, 4. , 1.3],\n",
       "       [6.5, 2.8, 4.6, 1.5],\n",
       "       [5.7, 2.8, 4.5, 1.3],\n",
       "       [6.3, 3.3, 4.7, 1.6],\n",
       "       [4.9, 2.4, 3.3, 1. ],\n",
       "       [6.6, 2.9, 4.6, 1.3],\n",
       "       [5.2, 2.7, 3.9, 1.4],\n",
       "       [5. , 2. , 3.5, 1. ],\n",
       "       [5.9, 3. , 4.2, 1.5],\n",
       "       [6. , 2.2, 4. , 1. ],\n",
       "       [6.1, 2.9, 4.7, 1.4],\n",
       "       [5.6, 2.9, 3.6, 1.3],\n",
       "       [6.7, 3.1, 4.4, 1.4],\n",
       "       [5.6, 3. , 4.5, 1.5],\n",
       "       [5.8, 2.7, 4.1, 1. ],\n",
       "       [6.2, 2.2, 4.5, 1.5],\n",
       "       [5.6, 2.5, 3.9, 1.1],\n",
       "       [5.9, 3.2, 4.8, 1.8],\n",
       "       [6.1, 2.8, 4. , 1.3],\n",
       "       [6.3, 2.5, 4.9, 1.5],\n",
       "       [6.1, 2.8, 4.7, 1.2],\n",
       "       [6.4, 2.9, 4.3, 1.3],\n",
       "       [6.6, 3. , 4.4, 1.4],\n",
       "       [6.8, 2.8, 4.8, 1.4],\n",
       "       [6.7, 3. , 5. , 1.7],\n",
       "       [6. , 2.9, 4.5, 1.5],\n",
       "       [5.7, 2.6, 3.5, 1. ],\n",
       "       [5.5, 2.4, 3.8, 1.1],\n",
       "       [5.5, 2.4, 3.7, 1. ],\n",
       "       [5.8, 2.7, 3.9, 1.2],\n",
       "       [6. , 2.7, 5.1, 1.6],\n",
       "       [5.4, 3. , 4.5, 1.5],\n",
       "       [6. , 3.4, 4.5, 1.6],\n",
       "       [6.7, 3.1, 4.7, 1.5],\n",
       "       [6.3, 2.3, 4.4, 1.3],\n",
       "       [5.6, 3. , 4.1, 1.3],\n",
       "       [5.5, 2.5, 4. , 1.3],\n",
       "       [5.5, 2.6, 4.4, 1.2],\n",
       "       [6.1, 3. , 4.6, 1.4],\n",
       "       [5.8, 2.6, 4. , 1.2],\n",
       "       [5. , 2.3, 3.3, 1. ],\n",
       "       [5.6, 2.7, 4.2, 1.3],\n",
       "       [5.7, 3. , 4.2, 1.2],\n",
       "       [5.7, 2.9, 4.2, 1.3],\n",
       "       [6.2, 2.9, 4.3, 1.3],\n",
       "       [5.1, 2.5, 3. , 1.1],\n",
       "       [5.7, 2.8, 4.1, 1.3],\n",
       "       [6.3, 3.3, 6. , 2.5],\n",
       "       [5.8, 2.7, 5.1, 1.9],\n",
       "       [7.1, 3. , 5.9, 2.1],\n",
       "       [6.3, 2.9, 5.6, 1.8],\n",
       "       [6.5, 3. , 5.8, 2.2],\n",
       "       [7.6, 3. , 6.6, 2.1],\n",
       "       [4.9, 2.5, 4.5, 1.7],\n",
       "       [7.3, 2.9, 6.3, 1.8],\n",
       "       [6.7, 2.5, 5.8, 1.8],\n",
       "       [7.2, 3.6, 6.1, 2.5],\n",
       "       [6.5, 3.2, 5.1, 2. ],\n",
       "       [6.4, 2.7, 5.3, 1.9],\n",
       "       [6.8, 3. , 5.5, 2.1],\n",
       "       [5.7, 2.5, 5. , 2. ],\n",
       "       [5.8, 2.8, 5.1, 2.4],\n",
       "       [6.4, 3.2, 5.3, 2.3],\n",
       "       [6.5, 3. , 5.5, 1.8],\n",
       "       [7.7, 3.8, 6.7, 2.2],\n",
       "       [7.7, 2.6, 6.9, 2.3],\n",
       "       [6. , 2.2, 5. , 1.5],\n",
       "       [6.9, 3.2, 5.7, 2.3],\n",
       "       [5.6, 2.8, 4.9, 2. ],\n",
       "       [7.7, 2.8, 6.7, 2. ],\n",
       "       [6.3, 2.7, 4.9, 1.8],\n",
       "       [6.7, 3.3, 5.7, 2.1],\n",
       "       [7.2, 3.2, 6. , 1.8],\n",
       "       [6.2, 2.8, 4.8, 1.8],\n",
       "       [6.1, 3. , 4.9, 1.8],\n",
       "       [6.4, 2.8, 5.6, 2.1],\n",
       "       [7.2, 3. , 5.8, 1.6],\n",
       "       [7.4, 2.8, 6.1, 1.9],\n",
       "       [7.9, 3.8, 6.4, 2. ],\n",
       "       [6.4, 2.8, 5.6, 2.2],\n",
       "       [6.3, 2.8, 5.1, 1.5],\n",
       "       [6.1, 2.6, 5.6, 1.4],\n",
       "       [7.7, 3. , 6.1, 2.3],\n",
       "       [6.3, 3.4, 5.6, 2.4],\n",
       "       [6.4, 3.1, 5.5, 1.8],\n",
       "       [6. , 3. , 4.8, 1.8],\n",
       "       [6.9, 3.1, 5.4, 2.1],\n",
       "       [6.7, 3.1, 5.6, 2.4],\n",
       "       [6.9, 3.1, 5.1, 2.3],\n",
       "       [5.8, 2.7, 5.1, 1.9],\n",
       "       [6.8, 3.2, 5.9, 2.3],\n",
       "       [6.7, 3.3, 5.7, 2.5],\n",
       "       [6.7, 3. , 5.2, 2.3],\n",
       "       [6.3, 2.5, 5. , 1.9],\n",
       "       [6.5, 3. , 5.2, 2. ],\n",
       "       [6.2, 3.4, 5.4, 2.3],\n",
       "       [5.9, 3. , 5.1, 1.8]])"
      ]
     },
     "execution_count": 44,
     "metadata": {},
     "output_type": "execute_result"
    }
   ],
   "source": [
    "iris_4col = iris_dataset.data;iris_4col"
   ]
  },
  {
   "cell_type": "code",
   "execution_count": 19,
   "metadata": {},
   "outputs": [],
   "source": [
    "X_train, X_test, y_train, y_test = train_test_split(\n",
    "    iris_4col, iris_dataset['target'],test_size=0.50, random_state=0)"
   ]
  },
  {
   "cell_type": "code",
   "execution_count": 23,
   "metadata": {},
   "outputs": [],
   "source": [
    "lr2 = LogisticRegression().fit(X_train, y_train)\n",
    "linr2 = LinearRegression().fit(X_train, y_train)"
   ]
  },
  {
   "cell_type": "code",
   "execution_count": 21,
   "metadata": {},
   "outputs": [
    {
     "name": "stdout",
     "output_type": "stream",
     "text": [
      "훈련 세트 점수: 0.92\n",
      "테스트 세트 점수: 0.84\n"
     ]
    }
   ],
   "source": [
    "print(\"훈련 세트 점수: {:.2f}\".format(lr2.score(X_train, y_train)))\n",
    "print(\"테스트 세트 점수: {:.2f}\".format(lr2.score(X_test, y_test)))"
   ]
  },
  {
   "cell_type": "code",
   "execution_count": 24,
   "metadata": {},
   "outputs": [
    {
     "name": "stdout",
     "output_type": "stream",
     "text": [
      "훈련 세트 점수: 0.96\n",
      "테스트 세트 점수: 0.89\n"
     ]
    }
   ],
   "source": [
    "print(\"훈련 세트 점수: {:.2f}\".format(linr2.score(X_train, y_train)))\n",
    "print(\"테스트 세트 점수: {:.2f}\".format(linr2.score(X_test, y_test)))"
   ]
  },
  {
   "cell_type": "code",
   "execution_count": 22,
   "metadata": {},
   "outputs": [
    {
     "name": "stdout",
     "output_type": "stream",
     "text": [
      "1\n",
      "테스트 세트의 정확도: 0.91\n",
      "2\n",
      "테스트 세트의 정확도: 0.89\n",
      "3\n",
      "테스트 세트의 정확도: 0.93\n",
      "4\n",
      "테스트 세트의 정확도: 0.92\n",
      "5\n",
      "테스트 세트의 정확도: 0.96\n",
      "6\n",
      "테스트 세트의 정확도: 0.93\n",
      "7\n",
      "테스트 세트의 정확도: 0.96\n",
      "8\n",
      "테스트 세트의 정확도: 0.95\n",
      "9\n",
      "테스트 세트의 정확도: 0.97\n",
      "10\n",
      "테스트 세트의 정확도: 0.95\n",
      "11\n",
      "테스트 세트의 정확도: 0.95\n",
      "12\n",
      "테스트 세트의 정확도: 0.93\n",
      "13\n",
      "테스트 세트의 정확도: 0.93\n",
      "14\n",
      "테스트 세트의 정확도: 0.93\n",
      "15\n",
      "테스트 세트의 정확도: 0.93\n",
      "16\n",
      "테스트 세트의 정확도: 0.92\n",
      "17\n",
      "테스트 세트의 정확도: 0.92\n",
      "18\n",
      "테스트 세트의 정확도: 0.92\n",
      "19\n",
      "테스트 세트의 정확도: 0.91\n",
      "20\n",
      "테스트 세트의 정확도: 0.89\n",
      "21\n",
      "테스트 세트의 정확도: 0.92\n",
      "22\n",
      "테스트 세트의 정확도: 0.91\n",
      "23\n",
      "테스트 세트의 정확도: 0.91\n",
      "24\n",
      "테스트 세트의 정확도: 0.91\n",
      "25\n",
      "테스트 세트의 정확도: 0.92\n",
      "26\n",
      "테스트 세트의 정확도: 0.91\n",
      "27\n",
      "테스트 세트의 정확도: 0.91\n",
      "28\n",
      "테스트 세트의 정확도: 0.91\n",
      "29\n",
      "테스트 세트의 정확도: 0.88\n",
      "30\n",
      "테스트 세트의 정확도: 0.88\n",
      "31\n",
      "테스트 세트의 정확도: 0.87\n",
      "32\n",
      "테스트 세트의 정확도: 0.87\n",
      "33\n",
      "테스트 세트의 정확도: 0.88\n",
      "34\n",
      "테스트 세트의 정확도: 0.88\n",
      "35\n",
      "테스트 세트의 정확도: 0.88\n",
      "36\n",
      "테스트 세트의 정확도: 0.88\n",
      "37\n",
      "테스트 세트의 정확도: 0.83\n",
      "38\n",
      "테스트 세트의 정확도: 0.87\n",
      "39\n",
      "테스트 세트의 정확도: 0.87\n",
      "40\n",
      "테스트 세트의 정확도: 0.85\n",
      "41\n",
      "테스트 세트의 정확도: 0.77\n",
      "42\n",
      "테스트 세트의 정확도: 0.72\n",
      "43\n",
      "테스트 세트의 정확도: 0.71\n",
      "44\n",
      "테스트 세트의 정확도: 0.71\n",
      "45\n",
      "테스트 세트의 정확도: 0.69\n",
      "46\n",
      "테스트 세트의 정확도: 0.69\n",
      "47\n",
      "테스트 세트의 정확도: 0.69\n",
      "48\n",
      "테스트 세트의 정확도: 0.69\n",
      "49\n",
      "테스트 세트의 정확도: 0.69\n",
      "50\n",
      "테스트 세트의 정확도: 0.69\n",
      "51\n",
      "테스트 세트의 정확도: 0.69\n",
      "52\n",
      "테스트 세트의 정확도: 0.69\n",
      "53\n",
      "테스트 세트의 정확도: 0.69\n",
      "54\n",
      "테스트 세트의 정확도: 0.69\n",
      "55\n",
      "테스트 세트의 정확도: 0.68\n",
      "56\n",
      "테스트 세트의 정확도: 0.68\n",
      "57\n",
      "테스트 세트의 정확도: 0.67\n",
      "58\n",
      "테스트 세트의 정확도: 0.67\n",
      "59\n",
      "테스트 세트의 정확도: 0.63\n",
      "60\n",
      "테스트 세트의 정확도: 0.60\n",
      "61\n",
      "테스트 세트의 정확도: 0.60\n",
      "62\n",
      "테스트 세트의 정확도: 0.60\n",
      "63\n",
      "테스트 세트의 정확도: 0.60\n",
      "64\n",
      "테스트 세트의 정확도: 0.60\n",
      "65\n",
      "테스트 세트의 정확도: 0.60\n",
      "66\n",
      "테스트 세트의 정확도: 0.59\n",
      "67\n",
      "테스트 세트의 정확도: 0.59\n",
      "68\n",
      "테스트 세트의 정확도: 0.59\n",
      "69\n",
      "테스트 세트의 정확도: 0.59\n",
      "70\n",
      "테스트 세트의 정확도: 0.59\n",
      "71\n",
      "테스트 세트의 정확도: 0.59\n",
      "72\n",
      "테스트 세트의 정확도: 0.28\n",
      "73\n",
      "테스트 세트의 정확도: 0.28\n",
      "74\n",
      "테스트 세트의 정확도: 0.28\n"
     ]
    }
   ],
   "source": [
    "for n_neighbors in range(1,75):\n",
    "    clf2 = KNeighborsClassifier(n_neighbors=n_neighbors).fit(X_train, y_train)\n",
    "    print(n_neighbors)\n",
    "    print(\"테스트 세트의 정확도: {:.2f}\".format(clf2.score(X_test, y_test)))\n",
    "\n",
    "    #이웃이 9개일 경우에 가장 가장 적정률이 높음"
   ]
  },
  {
   "cell_type": "markdown",
   "metadata": {},
   "source": [
    "## 4번"
   ]
  },
  {
   "cell_type": "code",
   "execution_count": 114,
   "metadata": {},
   "outputs": [],
   "source": [
    "# 훈련 세트에서 특성별 최솟값 계산\n",
    "min_on_training = X_train.min(axis=0)\n",
    "# 훈련 세트에서 특성별 (최댓값 - 최솟값) 범위 계산\n",
    "range_on_training = (X_train - min_on_training).max(axis=0)\n",
    "X_train_scaled = (X_train - min_on_training) / range_on_training\n",
    "# 훈련 데이터에 최솟값을 빼고 범위로 나누면\n",
    "# 각 특성에 대해 최솟값은 0 최댓값은 1 임\n",
    "X_test_scaled = (X_test - min_on_training) / range_on_training"
   ]
  },
  {
   "cell_type": "code",
   "execution_count": 115,
   "metadata": {},
   "outputs": [],
   "source": [
    "lr2 = LinearRegression().fit(X_train_scaled, y_train)"
   ]
  },
  {
   "cell_type": "code",
   "execution_count": 117,
   "metadata": {},
   "outputs": [
    {
     "name": "stdout",
     "output_type": "stream",
     "text": [
      "훈련 세트 점수: 0.96\n",
      "테스트 세트 점수: 0.89\n"
     ]
    }
   ],
   "source": [
    "print(\"훈련 세트 점수: {:.2f}\".format(lr2.score(X_train_scaled, y_train)))\n",
    "print(\"테스트 세트 점수: {:.2f}\".format(lr2.score(X_test_scaled, y_test)))"
   ]
  },
  {
   "cell_type": "code",
   "execution_count": 120,
   "metadata": {},
   "outputs": [
    {
     "name": "stdout",
     "output_type": "stream",
     "text": [
      "1\n",
      "테스트 세트의 정확도: 0.93\n",
      "2\n",
      "테스트 세트의 정확도: 0.91\n",
      "3\n",
      "테스트 세트의 정확도: 0.95\n",
      "4\n",
      "테스트 세트의 정확도: 0.92\n",
      "5\n",
      "테스트 세트의 정확도: 0.92\n",
      "6\n",
      "테스트 세트의 정확도: 0.93\n",
      "7\n",
      "테스트 세트의 정확도: 0.93\n",
      "8\n",
      "테스트 세트의 정확도: 0.93\n",
      "9\n",
      "테스트 세트의 정확도: 0.93\n",
      "10\n",
      "테스트 세트의 정확도: 0.95\n",
      "11\n",
      "테스트 세트의 정확도: 0.92\n",
      "12\n",
      "테스트 세트의 정확도: 0.91\n",
      "13\n",
      "테스트 세트의 정확도: 0.91\n",
      "14\n",
      "테스트 세트의 정확도: 0.91\n",
      "15\n",
      "테스트 세트의 정확도: 0.92\n",
      "16\n",
      "테스트 세트의 정확도: 0.88\n",
      "17\n",
      "테스트 세트의 정확도: 0.91\n",
      "18\n",
      "테스트 세트의 정확도: 0.88\n",
      "19\n",
      "테스트 세트의 정확도: 0.89\n",
      "20\n",
      "테스트 세트의 정확도: 0.85\n",
      "21\n",
      "테스트 세트의 정확도: 0.87\n",
      "22\n",
      "테스트 세트의 정확도: 0.84\n",
      "23\n",
      "테스트 세트의 정확도: 0.83\n",
      "24\n",
      "테스트 세트의 정확도: 0.83\n",
      "25\n",
      "테스트 세트의 정확도: 0.83\n",
      "26\n",
      "테스트 세트의 정확도: 0.81\n",
      "27\n",
      "테스트 세트의 정확도: 0.83\n",
      "28\n",
      "테스트 세트의 정확도: 0.81\n",
      "29\n",
      "테스트 세트의 정확도: 0.85\n",
      "30\n",
      "테스트 세트의 정확도: 0.81\n",
      "31\n",
      "테스트 세트의 정확도: 0.83\n",
      "32\n",
      "테스트 세트의 정확도: 0.83\n",
      "33\n",
      "테스트 세트의 정확도: 0.85\n",
      "34\n",
      "테스트 세트의 정확도: 0.85\n",
      "35\n",
      "테스트 세트의 정확도: 0.87\n",
      "36\n",
      "테스트 세트의 정확도: 0.83\n",
      "37\n",
      "테스트 세트의 정확도: 0.84\n",
      "38\n",
      "테스트 세트의 정확도: 0.84\n",
      "39\n",
      "테스트 세트의 정확도: 0.81\n",
      "40\n",
      "테스트 세트의 정확도: 0.83\n",
      "41\n",
      "테스트 세트의 정확도: 0.80\n",
      "42\n",
      "테스트 세트의 정확도: 0.77\n",
      "43\n",
      "테스트 세트의 정확도: 0.77\n",
      "44\n",
      "테스트 세트의 정확도: 0.75\n",
      "45\n",
      "테스트 세트의 정확도: 0.73\n",
      "46\n",
      "테스트 세트의 정확도: 0.73\n",
      "47\n",
      "테스트 세트의 정확도: 0.72\n",
      "48\n",
      "테스트 세트의 정확도: 0.72\n",
      "49\n",
      "테스트 세트의 정확도: 0.72\n",
      "50\n",
      "테스트 세트의 정확도: 0.72\n",
      "51\n",
      "테스트 세트의 정확도: 0.72\n",
      "52\n",
      "테스트 세트의 정확도: 0.73\n",
      "53\n",
      "테스트 세트의 정확도: 0.73\n",
      "54\n",
      "테스트 세트의 정확도: 0.73\n",
      "55\n",
      "테스트 세트의 정확도: 0.72\n",
      "56\n",
      "테스트 세트의 정확도: 0.72\n",
      "57\n",
      "테스트 세트의 정확도: 0.69\n",
      "58\n",
      "테스트 세트의 정확도: 0.69\n",
      "59\n",
      "테스트 세트의 정확도: 0.67\n",
      "60\n",
      "테스트 세트의 정확도: 0.60\n",
      "61\n",
      "테스트 세트의 정확도: 0.60\n",
      "62\n",
      "테스트 세트의 정확도: 0.60\n",
      "63\n",
      "테스트 세트의 정확도: 0.60\n",
      "64\n",
      "테스트 세트의 정확도: 0.60\n",
      "65\n",
      "테스트 세트의 정확도: 0.60\n",
      "66\n",
      "테스트 세트의 정확도: 0.60\n",
      "67\n",
      "테스트 세트의 정확도: 0.60\n",
      "68\n",
      "테스트 세트의 정확도: 0.59\n",
      "69\n",
      "테스트 세트의 정확도: 0.59\n",
      "70\n",
      "테스트 세트의 정확도: 0.59\n",
      "71\n",
      "테스트 세트의 정확도: 0.59\n",
      "72\n",
      "테스트 세트의 정확도: 0.28\n",
      "73\n",
      "테스트 세트의 정확도: 0.28\n",
      "74\n",
      "테스트 세트의 정확도: 0.28\n"
     ]
    }
   ],
   "source": [
    "for n_neighbors in range(1,75):\n",
    "    clf3 = KNeighborsClassifier(n_neighbors=n_neighbors).fit(X_train_scaled, y_train)\n",
    "    print(n_neighbors)\n",
    "    print(\"테스트 세트의 정확도: {:.2f}\".format(clf3.score(X_test_scaled, y_test)))\n",
    "    \n",
    "## 결과가 달라짐"
   ]
  },
  {
   "cell_type": "markdown",
   "metadata": {},
   "source": [
    "## 5번"
   ]
  },
  {
   "cell_type": "code",
   "execution_count": 123,
   "metadata": {},
   "outputs": [],
   "source": [
    "from sklearn.datasets import load_breast_cancer\n",
    "\n",
    "cancer = load_breast_cancer()\n",
    "X_train, X_test, y_train, y_test = train_test_split(\n",
    "    cancer.data, cancer.target, stratify=cancer.target, random_state=66)"
   ]
  },
  {
   "cell_type": "code",
   "execution_count": 124,
   "metadata": {},
   "outputs": [],
   "source": [
    "lr3 = LinearRegression().fit(X_train, y_train)"
   ]
  },
  {
   "cell_type": "code",
   "execution_count": 126,
   "metadata": {},
   "outputs": [
    {
     "name": "stdout",
     "output_type": "stream",
     "text": [
      "훈련 세트 점수: 0.79\n",
      "테스트 세트 점수: 0.67\n"
     ]
    }
   ],
   "source": [
    "print(\"훈련 세트 점수: {:.2f}\".format(lr3.score(X_train, y_train)))\n",
    "print(\"테스트 세트 점수: {:.2f}\".format(lr3.score(X_test, y_test)))"
   ]
  },
  {
   "cell_type": "code",
   "execution_count": 127,
   "metadata": {},
   "outputs": [
    {
     "name": "stdout",
     "output_type": "stream",
     "text": [
      "훈련 세트 정확도: 1.000\n",
      "테스트 세트 정확도: 0.895\n"
     ]
    }
   ],
   "source": [
    "from sklearn.tree import DecisionTreeClassifier\n",
    "tree = DecisionTreeClassifier().fit(X_train, y_train)\n",
    "print(\"훈련 세트 정확도: {:.3f}\".format(tree.score(X_train, y_train)))\n",
    "print(\"테스트 세트 정확도: {:.3f}\".format(tree.score(X_test, y_test)))"
   ]
  },
  {
   "cell_type": "code",
   "execution_count": 47,
   "metadata": {},
   "outputs": [
    {
     "name": "stdout",
     "output_type": "stream",
     "text": [
      "훈련 세트 정확도: 0.933\n",
      "테스트 세트 정확도: 0.733\n"
     ]
    }
   ],
   "source": [
    "from sklearn.ensemble import RandomForestClassifier\n",
    "forest = RandomForestClassifier(n_estimators=300)\n",
    "forest.fit(X_train, y_train)\n",
    "print(\"훈련 세트 정확도: {:.3f}\".format(forest.score(X_train, y_train)))\n",
    "print(\"테스트 세트 정확도: {:.3f}\".format(forest.score(X_test, y_test)))"
   ]
  },
  {
   "cell_type": "code",
   "execution_count": null,
   "metadata": {},
   "outputs": [],
   "source": []
  }
 ],
 "metadata": {
  "kernelspec": {
   "display_name": "Python 3",
   "language": "python",
   "name": "python3"
  },
  "language_info": {
   "codemirror_mode": {
    "name": "ipython",
    "version": 3
   },
   "file_extension": ".py",
   "mimetype": "text/x-python",
   "name": "python",
   "nbconvert_exporter": "python",
   "pygments_lexer": "ipython3",
   "version": "3.6.6"
  }
 },
 "nbformat": 4,
 "nbformat_minor": 2
}
