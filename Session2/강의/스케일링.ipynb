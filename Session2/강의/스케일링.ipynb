{
 "cells": [
  {
   "cell_type": "code",
   "execution_count": 74,
   "metadata": {},
   "outputs": [
    {
     "data": {
      "image/png": "[encoded data removed]",
      "text/plain": [
       "<Figure size 432x288 with 1 Axes>"
      ]
     },
     "metadata": {
      "needs_background": "light"
     },
     "output_type": "display_data"
    },
    {
     "data": {
      "image/png": "[encoded data removed]",
      "text/plain": [
       "<Figure size 432x288 with 1 Axes>"
      ]
     },
     "metadata": {
      "needs_background": "light"
     },
     "output_type": "display_data"
    }
   ],
   "source": [
    "import numpy as np\n",
    "import matplotlib.pyplot as plt\n",
    "%matplotlib inline\n",
    "from sklearn.preprocessing import StandardScaler, MinMaxScaler\n",
    "x= np.random.randn(10000)*2 + 170\n",
    "plt.hist(x, bins=50)\n",
    "\n",
    "sc = StandardScaler()\n",
    "x_sc = sc.fit_transform(x.reshape(-1,1))\n",
    "x_min = MinMaxScaler().fit_transform(x.reshape(-1,1))\n",
    "\n",
    "plt.hist(x_sc, bins=50)\n",
    "plt.hist(x_min, bins=50); plt.show()\n",
    "y = x_sc + 2\n",
    "x_new = sc.inverse_transform(y)\n",
    "plt.hist(x, bins=50)\n",
    "plt.hist(x_new, bins=50)\n",
    "plt.show()"
   ]
  },
  {
   "cell_type": "code",
   "execution_count": 111,
   "metadata": {},
   "outputs": [
    {
     "data": {
      "text/plain": [
       "<matplotlib.collections.PathCollection at 0x1a113a9cf8>"
      ]
     },
     "execution_count": 111,
     "metadata": {},
     "output_type": "execute_result"
    },
    {
     "data": {
      "image/png": "[encoded data removed]",
      "text/plain": [
       "<Figure size 432x288 with 1 Axes>"
      ]
     },
     "metadata": {
      "needs_background": "light"
     },
     "output_type": "display_data"
    }
   ],
   "source": [
    "x = np.random.rand(100)\n",
    "y = 2*x + 1 + np.random.randn(100)*0.4\n",
    "\n",
    "plt.scatter(x,y)\n",
    "# w = np.random.rand()\n",
    "# b = np.random.rand()\n",
    "\n",
    "# epoch = 30\n",
    "# lr = 1\n",
    "# for i in range(epoch):\n",
    "#     y_pred = w*x + b\n",
    "#     e = y_pred - y\n",
    "#     w = w - lr*(e*x).mean()\n",
    "#     b = b - lr*e.mean()\n",
    "#     print('w=', w, 'b= ', b, 'error=', e.mean())"
   ]
  },
  {
   "cell_type": "code",
   "execution_count": 112,
   "metadata": {},
   "outputs": [
    {
     "data": {
      "text/plain": [
       "LinearRegression(copy_X=True, fit_intercept=True, n_jobs=1, normalize=False)"
      ]
     },
     "execution_count": 112,
     "metadata": {},
     "output_type": "execute_result"
    }
   ],
   "source": [
    "from sklearn.linear_model import LinearRegression\n",
    "lin = LinearRegression()\n",
    "lin.fit(x.reshape(-1,1),y)"
   ]
  },
  {
   "cell_type": "code",
   "execution_count": 113,
   "metadata": {},
   "outputs": [
    {
     "data": {
      "text/plain": [
       "(array([1.95845305]), 1.0067033330976507)"
      ]
     },
     "execution_count": 113,
     "metadata": {},
     "output_type": "execute_result"
    }
   ],
   "source": [
    "lin.coef_, lin.intercept_"
   ]
  },
  {
   "cell_type": "code",
   "execution_count": null,
   "metadata": {},
   "outputs": [],
   "source": []
  },
  {
   "cell_type": "code",
   "execution_count": null,
   "metadata": {},
   "outputs": [],
   "source": []
  },
  {
   "cell_type": "code",
   "execution_count": null,
   "metadata": {},
   "outputs": [],
   "source": []
  },
  {
   "cell_type": "code",
   "execution_count": 68,
   "metadata": {},
   "outputs": [],
   "source": [
    "x1= np.random.randn(10000)*2 + 5\n",
    "x_out =  np.random.randn(100)*2 + 20\n",
    "x = np.hstack((x1, x_out))"
   ]
  },
  {
   "cell_type": "code",
   "execution_count": 55,
   "metadata": {},
   "outputs": [
    {
     "data": {
      "text/plain": [
       "(10100,)"
      ]
     },
     "execution_count": 55,
     "metadata": {},
     "output_type": "execute_result"
    }
   ],
   "source": [
    "x.shape"
   ]
  },
  {
   "cell_type": "code",
   "execution_count": 70,
   "metadata": {},
   "outputs": [
    {
     "data": {
      "image/png": "[encoded data removed]",
      "text/plain": [
       "<Figure size 432x288 with 1 Axes>"
      ]
     },
     "metadata": {
      "needs_background": "light"
     },
     "output_type": "display_data"
    }
   ],
   "source": [
    "# x= np.random.randn(10000)*2 + 170\n",
    "# plt.hist(x, bins=50)\n",
    "\n",
    "sc = StandardScaler()\n",
    "x_sc = sc.fit_transform(x.reshape(-1,1))\n",
    "x_min = MinMaxScaler().fit_transform(x.reshape(-1,1))\n",
    "x_rob = RobustScaler().fit_transform(x.reshape(-1,1))\n",
    "\n",
    "plt.hist(x_sc, bins=50)\n",
    "# plt.hist(x_min, bins=50)\n",
    "# plt.show()\n",
    "plt.hist(x_rob, bins=50)\n"
   ]
  },
  {
   "cell_type": "code",
   "execution_count": null,
   "metadata": {},
   "outputs": [],
   "source": []
  },
  {
   "cell_type": "code",
   "execution_count": null,
   "metadata": {},
   "outputs": [],
   "source": []
  }
 ],
 "metadata": {
  "kernelspec": {
   "display_name": "Python 3",
   "language": "python",
   "name": "python3"
  },
  "language_info": {
   "codemirror_mode": {
    "name": "ipython",
    "version": 3
   },
   "file_extension": ".py",
   "mimetype": "text/x-python",
   "name": "python",
   "nbconvert_exporter": "python",
   "pygments_lexer": "ipython3",
   "version": "3.6.6"
  }
 },
 "nbformat": 4,
 "nbformat_minor": 2
}
