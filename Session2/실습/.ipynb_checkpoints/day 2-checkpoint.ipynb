{
 "cells": [
  {
   "cell_type": "code",
   "execution_count": null,
   "metadata": {},
   "outputs": [],
   "source": [
    "# 세션2 2일차"
   ]
  },
  {
   "cell_type": "code",
   "execution_count": 1,
   "metadata": {},
   "outputs": [],
   "source": [
    "import pandas as pd\n",
    "import numpy as np\n",
    "import matplotlib.pyplot as plt\n",
    "%matplotlib inline"
   ]
  },
  {
   "cell_type": "code",
   "execution_count": 2,
   "metadata": {},
   "outputs": [],
   "source": [
    "import matplotlib\n",
    "matplotlib.font_manager._rebuild()\n",
    "\n",
    "# from matplotlib import font_manager, rc\n",
    "\n",
    "from matplotlib import font_manager\n",
    "font_path = \"c:/Windows/Fonts/malgun.ttf\"\n",
    "font_name = font_manager.FontProperties(fname=font_path).get_name()\n",
    "matplotlib.rc('font',family=font_name)"
   ]
  },
  {
   "cell_type": "code",
   "execution_count": 3,
   "metadata": {},
   "outputs": [
    {
     "name": "stdout",
     "output_type": "stream",
     "text": [
      "(19, 28)\n"
     ]
    }
   ],
   "source": [
    "power_data = pd.read_excel('F:/Python_edu/github/DT_academy/Session2/실습/c9-master/power.xls')\n",
    "print(power_data.shape)"
   ]
  },
  {
   "cell_type": "code",
   "execution_count": 4,
   "metadata": {
    "scrolled": false
   },
   "outputs": [
    {
     "data": {
      "text/html": [
       "<div>\n",
       "<style scoped>\n",
       "    .dataframe tbody tr th:only-of-type {\n",
       "        vertical-align: middle;\n",
       "    }\n",
       "\n",
       "    .dataframe tbody tr th {\n",
       "        vertical-align: top;\n",
       "    }\n",
       "\n",
       "    .dataframe thead th {\n",
       "        text-align: right;\n",
       "    }\n",
       "</style>\n",
       "<table border=\"1\" class=\"dataframe\">\n",
       "  <thead>\n",
       "    <tr style=\"text-align: right;\">\n",
       "      <th></th>\n",
       "      <th>주거용</th>\n",
       "      <th>공공용</th>\n",
       "      <th>서비스업</th>\n",
       "      <th>농림어업</th>\n",
       "      <th>광업</th>\n",
       "      <th>제조업</th>\n",
       "      <th>식료품제조</th>\n",
       "      <th>섬유,의류</th>\n",
       "      <th>목재,나무</th>\n",
       "      <th>펄프,종이</th>\n",
       "      <th>...</th>\n",
       "      <th>1차금속</th>\n",
       "      <th>조립금속</th>\n",
       "      <th>기타기계</th>\n",
       "      <th>사무기기</th>\n",
       "      <th>전기기기</th>\n",
       "      <th>영상,음향</th>\n",
       "      <th>자동차</th>\n",
       "      <th>기타운송</th>\n",
       "      <th>가구및기타</th>\n",
       "      <th>재생재료</th>\n",
       "    </tr>\n",
       "    <tr>\n",
       "      <th>구분</th>\n",
       "      <th></th>\n",
       "      <th></th>\n",
       "      <th></th>\n",
       "      <th></th>\n",
       "      <th></th>\n",
       "      <th></th>\n",
       "      <th></th>\n",
       "      <th></th>\n",
       "      <th></th>\n",
       "      <th></th>\n",
       "      <th></th>\n",
       "      <th></th>\n",
       "      <th></th>\n",
       "      <th></th>\n",
       "      <th></th>\n",
       "      <th></th>\n",
       "      <th></th>\n",
       "      <th></th>\n",
       "      <th></th>\n",
       "      <th></th>\n",
       "      <th></th>\n",
       "    </tr>\n",
       "  </thead>\n",
       "  <tbody>\n",
       "    <tr>\n",
       "      <th>강원</th>\n",
       "      <td>1940933</td>\n",
       "      <td>1400421</td>\n",
       "      <td>6203749</td>\n",
       "      <td>607139</td>\n",
       "      <td>398287</td>\n",
       "      <td>6002286</td>\n",
       "      <td>546621</td>\n",
       "      <td>13027</td>\n",
       "      <td>19147</td>\n",
       "      <td>24382</td>\n",
       "      <td>...</td>\n",
       "      <td>1038913</td>\n",
       "      <td>39477</td>\n",
       "      <td>35063</td>\n",
       "      <td>2019</td>\n",
       "      <td>38062</td>\n",
       "      <td>43986</td>\n",
       "      <td>113448</td>\n",
       "      <td>108629</td>\n",
       "      <td>12872</td>\n",
       "      <td>3418</td>\n",
       "    </tr>\n",
       "    <tr>\n",
       "      <th>경기</th>\n",
       "      <td>16587710</td>\n",
       "      <td>5533662</td>\n",
       "      <td>33434551</td>\n",
       "      <td>2371347</td>\n",
       "      <td>317263</td>\n",
       "      <td>56603327</td>\n",
       "      <td>2544420</td>\n",
       "      <td>2109963</td>\n",
       "      <td>529274</td>\n",
       "      <td>1917458</td>\n",
       "      <td>...</td>\n",
       "      <td>2020196</td>\n",
       "      <td>2302355</td>\n",
       "      <td>3613798</td>\n",
       "      <td>317244</td>\n",
       "      <td>1040171</td>\n",
       "      <td>24519644</td>\n",
       "      <td>2977165</td>\n",
       "      <td>67594</td>\n",
       "      <td>1833112</td>\n",
       "      <td>133041</td>\n",
       "    </tr>\n",
       "    <tr>\n",
       "      <th>경남</th>\n",
       "      <td>4260988</td>\n",
       "      <td>1427560</td>\n",
       "      <td>8667737</td>\n",
       "      <td>2141813</td>\n",
       "      <td>95989</td>\n",
       "      <td>18053778</td>\n",
       "      <td>932743</td>\n",
       "      <td>346974</td>\n",
       "      <td>60160</td>\n",
       "      <td>817685</td>\n",
       "      <td>...</td>\n",
       "      <td>3809547</td>\n",
       "      <td>1699879</td>\n",
       "      <td>1902913</td>\n",
       "      <td>8070</td>\n",
       "      <td>924235</td>\n",
       "      <td>534196</td>\n",
       "      <td>2156059</td>\n",
       "      <td>2048646</td>\n",
       "      <td>262523</td>\n",
       "      <td>47662</td>\n",
       "    </tr>\n",
       "    <tr>\n",
       "      <th>경북</th>\n",
       "      <td>3302463</td>\n",
       "      <td>1578115</td>\n",
       "      <td>8487402</td>\n",
       "      <td>1747462</td>\n",
       "      <td>224568</td>\n",
       "      <td>30115601</td>\n",
       "      <td>566071</td>\n",
       "      <td>3780171</td>\n",
       "      <td>72680</td>\n",
       "      <td>361772</td>\n",
       "      <td>...</td>\n",
       "      <td>10874970</td>\n",
       "      <td>933178</td>\n",
       "      <td>782570</td>\n",
       "      <td>14468</td>\n",
       "      <td>750786</td>\n",
       "      <td>4174971</td>\n",
       "      <td>2356890</td>\n",
       "      <td>123935</td>\n",
       "      <td>60280</td>\n",
       "      <td>77104</td>\n",
       "    </tr>\n",
       "    <tr>\n",
       "      <th>광주</th>\n",
       "      <td>1954876</td>\n",
       "      <td>565527</td>\n",
       "      <td>3174973</td>\n",
       "      <td>74608</td>\n",
       "      <td>2898</td>\n",
       "      <td>2910768</td>\n",
       "      <td>161072</td>\n",
       "      <td>295922</td>\n",
       "      <td>6782</td>\n",
       "      <td>41827</td>\n",
       "      <td>...</td>\n",
       "      <td>75702</td>\n",
       "      <td>156396</td>\n",
       "      <td>198847</td>\n",
       "      <td>5967</td>\n",
       "      <td>236622</td>\n",
       "      <td>723764</td>\n",
       "      <td>512148</td>\n",
       "      <td>5140</td>\n",
       "      <td>13392</td>\n",
       "      <td>16049</td>\n",
       "    </tr>\n",
       "  </tbody>\n",
       "</table>\n",
       "<p>5 rows × 24 columns</p>\n",
       "</div>"
      ],
      "text/plain": [
       "         주거용      공공용      서비스업     농림어업      광업       제조업    식료품제조    섬유,의류  \\\n",
       "구분                                                                             \n",
       "강원   1940933  1400421   6203749   607139  398287   6002286   546621    13027   \n",
       "경기  16587710  5533662  33434551  2371347  317263  56603327  2544420  2109963   \n",
       "경남   4260988  1427560   8667737  2141813   95989  18053778   932743   346974   \n",
       "경북   3302463  1578115   8487402  1747462  224568  30115601   566071  3780171   \n",
       "광주   1954876   565527   3174973    74608    2898   2910768   161072   295922   \n",
       "\n",
       "     목재,나무    펄프,종이  ...      1차금속     조립금속     기타기계    사무기기     전기기기  \\\n",
       "구분                   ...                                                \n",
       "강원   19147    24382  ...   1038913    39477    35063    2019    38062   \n",
       "경기  529274  1917458  ...   2020196  2302355  3613798  317244  1040171   \n",
       "경남   60160   817685  ...   3809547  1699879  1902913    8070   924235   \n",
       "경북   72680   361772  ...  10874970   933178   782570   14468   750786   \n",
       "광주    6782    41827  ...     75702   156396   198847    5967   236622   \n",
       "\n",
       "       영상,음향      자동차     기타운송    가구및기타    재생재료  \n",
       "구분                                               \n",
       "강원     43986   113448   108629    12872    3418  \n",
       "경기  24519644  2977165    67594  1833112  133041  \n",
       "경남    534196  2156059  2048646   262523   47662  \n",
       "경북   4174971  2356890   123935    60280   77104  \n",
       "광주    723764   512148     5140    13392   16049  \n",
       "\n",
       "[5 rows x 24 columns]"
      ]
     },
     "execution_count": 4,
     "metadata": {},
     "output_type": "execute_result"
    }
   ],
   "source": [
    "power = power_data.set_index('구분')\n",
    "power = power.drop(['합계', '개성'], axis=0)\n",
    "power = power.drop(['업무용합계', '산업용합계', '합계'], axis=1)\n",
    "power[:5]"
   ]
  },
  {
   "cell_type": "code",
   "execution_count": 5,
   "metadata": {},
   "outputs": [
    {
     "data": {
      "text/plain": [
       "(array([ 1,  2,  3,  4,  5,  6,  7,  8,  9, 10, 11, 12, 13, 14, 15, 16, 17,\n",
       "        18, 19, 20, 21, 22, 23, 24]), <a list of 24 Text xticklabel objects>)"
      ]
     },
     "execution_count": 5,
     "metadata": {},
     "output_type": "execute_result"
    },
    {
     "data": {
      "image/png": "[encoded data removed]",
      "text/plain": [
       "<Figure size 864x576 with 1 Axes>"
      ]
     },
     "metadata": {
      "needs_background": "light"
     },
     "output_type": "display_data"
    }
   ],
   "source": [
    "power.boxplot(figsize=(12,8))\n",
    "plt.xticks(rotation=45)"
   ]
  },
  {
   "cell_type": "code",
   "execution_count": 7,
   "metadata": {},
   "outputs": [
    {
     "data": {
      "image/png": "[encoded data removed]",
      "text/plain": [
       "<Figure size 576x576 with 1 Axes>"
      ]
     },
     "metadata": {
      "needs_background": "light"
     },
     "output_type": "display_data"
    }
   ],
   "source": [
    "plt.figure(figsize=(8,8))\n",
    "plt.scatter(power['주거용'], power['공공용'],c='k',marker='o')\n",
    "plt.xlabel('주거용')\n",
    "plt.ylabel('공공용')\n",
    "\n",
    "for n in range(power.shape[0]):\n",
    "    plt.text(power['주거용'][n]*1.03, power['공공용'][n]*0.98, power.index[n])"
   ]
  },
  {
   "cell_type": "code",
   "execution_count": 10,
   "metadata": {},
   "outputs": [
    {
     "data": {
      "text/html": [
       "<div>\n",
       "<style scoped>\n",
       "    .dataframe tbody tr th:only-of-type {\n",
       "        vertical-align: middle;\n",
       "    }\n",
       "\n",
       "    .dataframe tbody tr th {\n",
       "        vertical-align: top;\n",
       "    }\n",
       "\n",
       "    .dataframe thead th {\n",
       "        text-align: right;\n",
       "    }\n",
       "</style>\n",
       "<table border=\"1\" class=\"dataframe\">\n",
       "  <thead>\n",
       "    <tr style=\"text-align: right;\">\n",
       "      <th></th>\n",
       "      <th>주거용</th>\n",
       "      <th>공공용</th>\n",
       "    </tr>\n",
       "    <tr>\n",
       "      <th>구분</th>\n",
       "      <th></th>\n",
       "      <th></th>\n",
       "    </tr>\n",
       "  </thead>\n",
       "  <tbody>\n",
       "    <tr>\n",
       "      <th>강원</th>\n",
       "      <td>-0.471562</td>\n",
       "      <td>0.009461</td>\n",
       "    </tr>\n",
       "    <tr>\n",
       "      <th>경기</th>\n",
       "      <td>3.031166</td>\n",
       "      <td>3.290437</td>\n",
       "    </tr>\n",
       "    <tr>\n",
       "      <th>경남</th>\n",
       "      <td>0.083271</td>\n",
       "      <td>0.031004</td>\n",
       "    </tr>\n",
       "    <tr>\n",
       "      <th>경북</th>\n",
       "      <td>-0.145957</td>\n",
       "      <td>0.150515</td>\n",
       "    </tr>\n",
       "    <tr>\n",
       "      <th>광주</th>\n",
       "      <td>-0.468228</td>\n",
       "      <td>-0.653279</td>\n",
       "    </tr>\n",
       "    <tr>\n",
       "      <th>대구</th>\n",
       "      <td>-0.181962</td>\n",
       "      <td>-0.446201</td>\n",
       "    </tr>\n",
       "    <tr>\n",
       "      <th>대전</th>\n",
       "      <td>-0.487834</td>\n",
       "      <td>-0.344368</td>\n",
       "    </tr>\n",
       "    <tr>\n",
       "      <th>부산</th>\n",
       "      <td>0.134095</td>\n",
       "      <td>-0.065589</td>\n",
       "    </tr>\n",
       "    <tr>\n",
       "      <th>서울</th>\n",
       "      <td>2.204547</td>\n",
       "      <td>1.740834</td>\n",
       "    </tr>\n",
       "    <tr>\n",
       "      <th>세종</th>\n",
       "      <td>-0.843681</td>\n",
       "      <td>-0.864313</td>\n",
       "    </tr>\n",
       "    <tr>\n",
       "      <th>울산</th>\n",
       "      <td>-0.580084</td>\n",
       "      <td>-0.713340</td>\n",
       "    </tr>\n",
       "    <tr>\n",
       "      <th>인천</th>\n",
       "      <td>-0.013376</td>\n",
       "      <td>-0.370510</td>\n",
       "    </tr>\n",
       "    <tr>\n",
       "      <th>전남</th>\n",
       "      <td>-0.389489</td>\n",
       "      <td>-0.336951</td>\n",
       "    </tr>\n",
       "    <tr>\n",
       "      <th>전북</th>\n",
       "      <td>-0.379431</td>\n",
       "      <td>-0.231420</td>\n",
       "    </tr>\n",
       "    <tr>\n",
       "      <th>제주</th>\n",
       "      <td>-0.748573</td>\n",
       "      <td>-0.862684</td>\n",
       "    </tr>\n",
       "    <tr>\n",
       "      <th>충남</th>\n",
       "      <td>-0.291989</td>\n",
       "      <td>-0.237259</td>\n",
       "    </tr>\n",
       "    <tr>\n",
       "      <th>충북</th>\n",
       "      <td>-0.450912</td>\n",
       "      <td>-0.096337</td>\n",
       "    </tr>\n",
       "  </tbody>\n",
       "</table>\n",
       "</div>"
      ],
      "text/plain": [
       "         주거용       공공용\n",
       "구분                    \n",
       "강원 -0.471562  0.009461\n",
       "경기  3.031166  3.290437\n",
       "경남  0.083271  0.031004\n",
       "경북 -0.145957  0.150515\n",
       "광주 -0.468228 -0.653279\n",
       "대구 -0.181962 -0.446201\n",
       "대전 -0.487834 -0.344368\n",
       "부산  0.134095 -0.065589\n",
       "서울  2.204547  1.740834\n",
       "세종 -0.843681 -0.864313\n",
       "울산 -0.580084 -0.713340\n",
       "인천 -0.013376 -0.370510\n",
       "전남 -0.389489 -0.336951\n",
       "전북 -0.379431 -0.231420\n",
       "제주 -0.748573 -0.862684\n",
       "충남 -0.291989 -0.237259\n",
       "충북 -0.450912 -0.096337"
      ]
     },
     "execution_count": 10,
     "metadata": {},
     "output_type": "execute_result"
    }
   ],
   "source": [
    "from sklearn.preprocessing import StandardScaler\n",
    "scaler = StandardScaler()\n",
    "power[['주거용', '공공용']] = scaler.fit_transform(power[['주거용', '공공용']])\n",
    "power[['주거용', '공공용']]"
   ]
  },
  {
   "cell_type": "code",
   "execution_count": 14,
   "metadata": {},
   "outputs": [
    {
     "data": {
      "image/png": "[encoded data removed]",
      "text/plain": [
       "<Figure size 720x360 with 1 Axes>"
      ]
     },
     "metadata": {
      "needs_background": "light"
     },
     "output_type": "display_data"
    }
   ],
   "source": [
    "from scipy.cluster.hierarchy import dendrogram, linkage\n",
    "import matplotlib.pyplot as plt\n",
    "\n",
    "Z = linkage(power, metric='euclidean', method='ward') \n",
    "\n",
    "plt.figure(figsize=(10, 5))\n",
    "plt.title('덴드로그램')\n",
    "dendrogram(Z, labels=power.index)\n",
    "plt.show()"
   ]
  },
  {
   "cell_type": "code",
   "execution_count": null,
   "metadata": {},
   "outputs": [],
   "source": []
  },
  {
   "cell_type": "markdown",
   "metadata": {},
   "source": [
    "스케일링"
   ]
  },
  {
   "cell_type": "code",
   "execution_count": 15,
   "metadata": {},
   "outputs": [],
   "source": [
    "from sklearn.preprocessing import StandardScaler, MinMaxScaler"
   ]
  },
  {
   "cell_type": "code",
   "execution_count": 16,
   "metadata": {
    "scrolled": true
   },
   "outputs": [
    {
     "data": {
      "text/plain": [
       "(array([  1.,   1.,   0.,   0.,   3.,   1.,   6.,   8.,   9.,  32.,  38.,\n",
       "         60.,  73., 117., 142., 175., 215., 261., 349., 414., 485., 526.,\n",
       "        572., 611., 625., 675., 664., 589., 495., 533., 448., 406., 359.,\n",
       "        258., 239., 175., 126.,  97.,  64.,  64.,  28.,  18.,  14.,   9.,\n",
       "          9.,   2.,   3.,   0.,   0.,   1.]),\n",
       " array([-3.13445969, -2.81221751, -2.48997533, -2.16773315, -1.84549097,\n",
       "        -1.52324878, -1.2010066 , -0.87876442, -0.55652224, -0.23428005,\n",
       "         0.08796213,  0.41020431,  0.73244649,  1.05468867,  1.37693086,\n",
       "         1.69917304,  2.02141522,  2.3436574 ,  2.66589959,  2.98814177,\n",
       "         3.31038395,  3.63262613,  3.95486831,  4.2771105 ,  4.59935268,\n",
       "         4.92159486,  5.24383704,  5.56607923,  5.88832141,  6.21056359,\n",
       "         6.53280577,  6.85504795,  7.17729014,  7.49953232,  7.8217745 ,\n",
       "         8.14401668,  8.46625887,  8.78850105,  9.11074323,  9.43298541,\n",
       "         9.75522759, 10.07746978, 10.39971196, 10.72195414, 11.04419632,\n",
       "        11.36643851, 11.68868069, 12.01092287, 12.33316505, 12.65540723,\n",
       "        12.97764942]),\n",
       " <a list of 50 Patch objects>)"
      ]
     },
     "execution_count": 16,
     "metadata": {},
     "output_type": "execute_result"
    },
    {
     "data": {
      "image/png": "[encoded data removed]",
      "text/plain": [
       "<Figure size 432x288 with 1 Axes>"
      ]
     },
     "metadata": {
      "needs_background": "light"
     },
     "output_type": "display_data"
    }
   ],
   "source": [
    "x = np.random.randn(10000) * 2 + 5\n",
    "plt.hist(x, bins=50)"
   ]
  },
  {
   "cell_type": "code",
   "execution_count": 18,
   "metadata": {},
   "outputs": [
    {
     "data": {
      "text/plain": [
       "<function matplotlib.pyplot.show(*args, **kw)>"
      ]
     },
     "execution_count": 18,
     "metadata": {},
     "output_type": "execute_result"
    },
    {
     "data": {
      "image/png": "[encoded data removed]",
      "text/plain": [
       "<Figure size 432x288 with 1 Axes>"
      ]
     },
     "metadata": {
      "needs_background": "light"
     },
     "output_type": "display_data"
    }
   ],
   "source": [
    "sc = StandardScaler()\n",
    "x_sc = sc.fit_transform(x.reshape(-1,1))\n",
    "x_min = MinMaxScaler().fit_transform(x.reshape(-1,1))\n",
    "\n",
    "plt.hist(x_sc, bins=50)\n",
    "plt.hist(x_min, bins=50)\n",
    "plt.show"
   ]
  },
  {
   "cell_type": "code",
   "execution_count": null,
   "metadata": {},
   "outputs": [],
   "source": []
  },
  {
   "cell_type": "markdown",
   "metadata": {},
   "source": [
    "-- inverse scaling"
   ]
  },
  {
   "cell_type": "code",
   "execution_count": 20,
   "metadata": {},
   "outputs": [
    {
     "data": {
      "text/plain": [
       "<function matplotlib.pyplot.show(*args, **kw)>"
      ]
     },
     "execution_count": 20,
     "metadata": {},
     "output_type": "execute_result"
    },
    {
     "data": {
      "image/png": "[encoded data removed]",
      "text/plain": [
       "<Figure size 432x288 with 1 Axes>"
      ]
     },
     "metadata": {
      "needs_background": "light"
     },
     "output_type": "display_data"
    }
   ],
   "source": [
    "y = x_sc *2 +5\n",
    "\n",
    "x_new = sc.inverse_transform(y)\n",
    "plt.hist(x_new, bins=50)\n",
    "plt.hist(x, bins=50)\n",
    "plt.show"
   ]
  },
  {
   "cell_type": "code",
   "execution_count": null,
   "metadata": {},
   "outputs": [],
   "source": []
  },
  {
   "cell_type": "code",
   "execution_count": null,
   "metadata": {},
   "outputs": [],
   "source": []
  },
  {
   "cell_type": "code",
   "execution_count": null,
   "metadata": {},
   "outputs": [],
   "source": []
  },
  {
   "cell_type": "markdown",
   "metadata": {},
   "source": [
    "선형모델"
   ]
  },
  {
   "cell_type": "code",
   "execution_count": 59,
   "metadata": {},
   "outputs": [
    {
     "data": {
      "text/plain": [
       "(array([0.65445845, 0.39397325, 0.2527604 , 0.69530201, 0.47623358,\n",
       "        0.65987493, 0.61246866, 0.78513206, 0.34430924, 0.52231678]),\n",
       " array([2.30891689, 1.7879465 , 1.5055208 , 2.39060401, 1.95246717,\n",
       "        2.31974986, 2.22493731, 2.57026412, 1.68861847, 2.04463356]))"
      ]
     },
     "execution_count": 59,
     "metadata": {},
     "output_type": "execute_result"
    }
   ],
   "source": [
    "x = np.random.rand(10)\n",
    "y = 2*x + 1\n",
    "x, y"
   ]
  },
  {
   "cell_type": "code",
   "execution_count": 60,
   "metadata": {},
   "outputs": [
    {
     "data": {
      "text/plain": [
       "(0.4278705752487538, 0.4267836734863937)"
      ]
     },
     "execution_count": 60,
     "metadata": {},
     "output_type": "execute_result"
    }
   ],
   "source": [
    "w = np.random.rand()\n",
    "b = np.random.rand()\n",
    "w, b"
   ]
  },
  {
   "cell_type": "code",
   "execution_count": 61,
   "metadata": {
    "scrolled": true
   },
   "outputs": [
    {
     "name": "stdout",
     "output_type": "stream",
     "text": [
      "w= 1.237 , b= 1.848 , error= -1.42167\n",
      "w= 1.021 , b= 1.412 , error= 0.43642\n",
      "w= 1.110 , b= 1.528 , error= -0.11626\n",
      "w= 1.107 , b= 1.481 , error= 0.04778\n",
      "w= 1.132 , b= 1.482 , error= -0.00126\n",
      "w= 1.147 , b= 1.469 , error= 0.01306\n",
      "w= 1.165 , b= 1.460 , error= 0.00854\n",
      "w= 1.182 , b= 1.451 , error= 0.00963\n",
      "w= 1.199 , b= 1.441 , error= 0.00906\n",
      "w= 1.215 , b= 1.432 , error= 0.00899\n",
      "w= 1.231 , b= 1.424 , error= 0.00877\n",
      "w= 1.246 , b= 1.415 , error= 0.00861\n",
      "w= 1.262 , b= 1.407 , error= 0.00843\n",
      "w= 1.277 , b= 1.398 , error= 0.00826\n",
      "w= 1.291 , b= 1.390 , error= 0.00809\n",
      "w= 1.306 , b= 1.382 , error= 0.00793\n",
      "w= 1.320 , b= 1.375 , error= 0.00777\n",
      "w= 1.334 , b= 1.367 , error= 0.00761\n",
      "w= 1.347 , b= 1.360 , error= 0.00745\n",
      "w= 1.361 , b= 1.352 , error= 0.00730\n",
      "w= 1.374 , b= 1.345 , error= 0.00715\n",
      "w= 1.386 , b= 1.338 , error= 0.00701\n",
      "w= 1.399 , b= 1.331 , error= 0.00687\n",
      "w= 1.411 , b= 1.325 , error= 0.00673\n",
      "w= 1.423 , b= 1.318 , error= 0.00659\n",
      "w= 1.435 , b= 1.311 , error= 0.00646\n",
      "w= 1.446 , b= 1.305 , error= 0.00632\n",
      "w= 1.457 , b= 1.299 , error= 0.00620\n",
      "w= 1.468 , b= 1.293 , error= 0.00607\n",
      "w= 1.479 , b= 1.287 , error= 0.00595\n"
     ]
    }
   ],
   "source": [
    "epoke = 30\n",
    "lr = 1\n",
    "\n",
    "for i in range(epoke):\n",
    "    y_pred = w*x + b\n",
    "    e = y_pred - y          #오차\n",
    "    w = w - lr*(e*x).mean()\n",
    "    b = b - lr*e.mean()\n",
    "    print(f'w= {w :.3f} , b= {b :.3f} , error= {e.mean() :.5f}')"
   ]
  },
  {
   "cell_type": "code",
   "execution_count": 62,
   "metadata": {},
   "outputs": [],
   "source": [
    "from sklearn.linear_model import LinearRegression"
   ]
  },
  {
   "cell_type": "code",
   "execution_count": 63,
   "metadata": {},
   "outputs": [],
   "source": [
    "x1 = x.reshape(-1, 1)"
   ]
  },
  {
   "cell_type": "code",
   "execution_count": 64,
   "metadata": {},
   "outputs": [
    {
     "data": {
      "text/plain": [
       "LinearRegression(copy_X=True, fit_intercept=True, n_jobs=None, normalize=False)"
      ]
     },
     "execution_count": 64,
     "metadata": {},
     "output_type": "execute_result"
    }
   ],
   "source": [
    "lin = LinearRegression()\n",
    "lin.fit(x1, y)"
   ]
  },
  {
   "cell_type": "code",
   "execution_count": 65,
   "metadata": {},
   "outputs": [
    {
     "data": {
      "text/plain": [
       "(array([2.]), 1.0000000000000007)"
      ]
     },
     "execution_count": 65,
     "metadata": {},
     "output_type": "execute_result"
    }
   ],
   "source": [
    "lin.coef_, lin.intercept_"
   ]
  },
  {
   "cell_type": "code",
   "execution_count": null,
   "metadata": {},
   "outputs": [],
   "source": []
  },
  {
   "cell_type": "code",
   "execution_count": 71,
   "metadata": {},
   "outputs": [
    {
     "data": {
      "text/plain": [
       "<matplotlib.collections.PathCollection at 0xcc0a860>"
      ]
     },
     "execution_count": 71,
     "metadata": {},
     "output_type": "execute_result"
    },
    {
     "data": {
      "image/png": "[encoded data removed]",
      "text/plain": [
       "<Figure size 432x288 with 1 Axes>"
      ]
     },
     "metadata": {
      "needs_background": "light"
     },
     "output_type": "display_data"
    }
   ],
   "source": [
    "x = np.random.rand(100)\n",
    "y = 2*x + 1 + np.random.randn(100)*0.2\n",
    "x, y\n",
    "plt.scatter(x, y)"
   ]
  },
  {
   "cell_type": "code",
   "execution_count": 72,
   "metadata": {},
   "outputs": [
    {
     "data": {
      "text/plain": [
       "(array([1.84578695]), 1.0680623106024763)"
      ]
     },
     "execution_count": 72,
     "metadata": {},
     "output_type": "execute_result"
    }
   ],
   "source": [
    "lin = LinearRegression()\n",
    "lin.fit(x.reshape(-1, 1), y)\n",
    "lin.coef_, lin.intercept_"
   ]
  },
  {
   "cell_type": "code",
   "execution_count": null,
   "metadata": {},
   "outputs": [],
   "source": []
  },
  {
   "cell_type": "code",
   "execution_count": null,
   "metadata": {},
   "outputs": [],
   "source": []
  },
  {
   "cell_type": "code",
   "execution_count": null,
   "metadata": {},
   "outputs": [],
   "source": []
  },
  {
   "cell_type": "code",
   "execution_count": null,
   "metadata": {},
   "outputs": [],
   "source": []
  }
 ],
 "metadata": {
  "kernelspec": {
   "display_name": "Python 3",
   "language": "python",
   "name": "python3"
  },
  "language_info": {
   "codemirror_mode": {
    "name": "ipython",
    "version": 3
   },
   "file_extension": ".py",
   "mimetype": "text/x-python",
   "name": "python",
   "nbconvert_exporter": "python",
   "pygments_lexer": "ipython3",
   "version": "3.7.3"
  }
 },
 "nbformat": 4,
 "nbformat_minor": 2
}
