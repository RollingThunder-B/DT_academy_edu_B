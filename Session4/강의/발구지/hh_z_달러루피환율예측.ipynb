{
  "nbformat": 4,
  "nbformat_minor": 0,
  "metadata": {
    "colab": {
      "name": "hh_z_달러루피환율예측",
      "version": "0.3.2",
      "provenance": [],
      "collapsed_sections": []
    },
    "language_info": {
      "codemirror_mode": {
        "name": "ipython",
        "version": 2
      },
      "file_extension": ".py",
      "mimetype": "text/x-python",
      "name": "python",
      "nbconvert_exporter": "python",
      "pygments_lexer": "ipython2",
      "version": "2.7.13"
    },
    "kernelspec": {
      "name": "python2",
      "display_name": "Python 2"
    },
    "accelerator": "GPU"
  },
  "cells": [
    {
      "cell_type": "markdown",
      "metadata": {
        "id": "NBMnnCoxOnZy",
        "colab_type": "text"
      },
      "source": [
        "# 시계열 예측\n",
        "## 런타임유형 확인\n"
      ]
    },
    {
      "cell_type": "code",
      "metadata": {
        "id": "yCn_4mQIN864",
        "colab_type": "code",
        "outputId": "05b5158d-1593-48b0-c982-9d7ba8507840",
        "colab": {
          "base_uri": "https://localhost:8080/",
          "height": 67
        }
      },
      "source": [
        "!curl https://raw.githubusercontent.com/neelabhpant/Deep-Learning-in-Python/master/USD_INR.csv \\\n",
        "  -o USD_INR.csv"
      ],
      "execution_count": 0,
      "outputs": [
        {
          "output_type": "stream",
          "text": [
            "  % Total    % Received % Xferd  Average Speed   Time    Time     Time  Current\n",
            "                                 Dload  Upload   Total   Spent    Left  Speed\n",
            "\r  0     0    0     0    0     0      0      0 --:--:-- --:--:-- --:--:--     0\r100  550k  100  550k    0     0   796k      0 --:--:-- --:--:-- --:--:--  796k\n"
          ],
          "name": "stdout"
        }
      ]
    },
    {
      "cell_type": "code",
      "metadata": {
        "id": "65MUUFU0NrkW",
        "colab_type": "code",
        "colab": {}
      },
      "source": [
        "import numpy as np\n",
        "import pandas as pd\n",
        "import matplotlib.pyplot as plt\n",
        "%matplotlib inline"
      ],
      "execution_count": 0,
      "outputs": []
    },
    {
      "cell_type": "markdown",
      "metadata": {
        "id": "jHmvN4u0Nrkc",
        "colab_type": "text"
      },
      "source": [
        "## Get the dataset and prepare it for analysis and model"
      ]
    },
    {
      "cell_type": "markdown",
      "metadata": {
        "id": "7zRzKDJeNrkd",
        "colab_type": "text"
      },
      "source": [
        "#### Set the index to date"
      ]
    },
    {
      "cell_type": "code",
      "metadata": {
        "id": "ZmKXFFILNrke",
        "colab_type": "code",
        "outputId": "04f0197c-ed9c-41ff-978a-a86011ed9a9c",
        "colab": {
          "base_uri": "https://localhost:8080/",
          "height": 225
        }
      },
      "source": [
        "df = pd.read_csv('USD_INR.csv')\n",
        "df['Date'] = pd.to_datetime(df[\"Date\"])\n",
        "df_idx = df.set_index([\"Date\"], drop=True)\n",
        "df_idx.head(5)"
      ],
      "execution_count": 0,
      "outputs": [
        {
          "output_type": "execute_result",
          "data": {
            "text/html": [
              "<div>\n",
              "<style scoped>\n",
              "    .dataframe tbody tr th:only-of-type {\n",
              "        vertical-align: middle;\n",
              "    }\n",
              "\n",
              "    .dataframe tbody tr th {\n",
              "        vertical-align: top;\n",
              "    }\n",
              "\n",
              "    .dataframe thead th {\n",
              "        text-align: right;\n",
              "    }\n",
              "</style>\n",
              "<table border=\"1\" class=\"dataframe\">\n",
              "  <thead>\n",
              "    <tr style=\"text-align: right;\">\n",
              "      <th></th>\n",
              "      <th>Price</th>\n",
              "      <th>Open</th>\n",
              "      <th>High</th>\n",
              "      <th>Low</th>\n",
              "      <th>Change %</th>\n",
              "    </tr>\n",
              "    <tr>\n",
              "      <th>Date</th>\n",
              "      <th></th>\n",
              "      <th></th>\n",
              "      <th></th>\n",
              "      <th></th>\n",
              "      <th></th>\n",
              "    </tr>\n",
              "  </thead>\n",
              "  <tbody>\n",
              "    <tr>\n",
              "      <th>2017-08-10</th>\n",
              "      <td>64.165</td>\n",
              "      <td>63.898</td>\n",
              "      <td>64.175</td>\n",
              "      <td>63.855</td>\n",
              "      <td>0.48</td>\n",
              "    </tr>\n",
              "    <tr>\n",
              "      <th>2017-08-09</th>\n",
              "      <td>63.860</td>\n",
              "      <td>63.780</td>\n",
              "      <td>63.860</td>\n",
              "      <td>63.710</td>\n",
              "      <td>0.26</td>\n",
              "    </tr>\n",
              "    <tr>\n",
              "      <th>2017-08-08</th>\n",
              "      <td>63.692</td>\n",
              "      <td>63.750</td>\n",
              "      <td>63.785</td>\n",
              "      <td>63.615</td>\n",
              "      <td>-0.23</td>\n",
              "    </tr>\n",
              "    <tr>\n",
              "      <th>2017-08-07</th>\n",
              "      <td>63.840</td>\n",
              "      <td>63.710</td>\n",
              "      <td>63.865</td>\n",
              "      <td>63.648</td>\n",
              "      <td>0.26</td>\n",
              "    </tr>\n",
              "    <tr>\n",
              "      <th>2017-08-04</th>\n",
              "      <td>63.675</td>\n",
              "      <td>63.670</td>\n",
              "      <td>63.786</td>\n",
              "      <td>63.572</td>\n",
              "      <td>-0.05</td>\n",
              "    </tr>\n",
              "  </tbody>\n",
              "</table>\n",
              "</div>"
            ],
            "text/plain": [
              "             Price    Open    High     Low  Change %\n",
              "Date                                                \n",
              "2017-08-10  64.165  63.898  64.175  63.855      0.48\n",
              "2017-08-09  63.860  63.780  63.860  63.710      0.26\n",
              "2017-08-08  63.692  63.750  63.785  63.615     -0.23\n",
              "2017-08-07  63.840  63.710  63.865  63.648      0.26\n",
              "2017-08-04  63.675  63.670  63.786  63.572     -0.05"
            ]
          },
          "metadata": {
            "tags": []
          },
          "execution_count": 4
        }
      ]
    },
    {
      "cell_type": "markdown",
      "metadata": {
        "id": "rmha6_ytNrkk",
        "colab_type": "text"
      },
      "source": [
        "#### Flip the dataframe"
      ]
    },
    {
      "cell_type": "code",
      "metadata": {
        "id": "4XvOgFhqNrkl",
        "colab_type": "code",
        "colab": {}
      },
      "source": [
        "df_idx = df_idx.sort_index(axis=1, ascending=True)\n",
        "df_idx = df_idx.iloc[::-1]"
      ],
      "execution_count": 0,
      "outputs": []
    },
    {
      "cell_type": "markdown",
      "metadata": {
        "id": "Jgicp5d1Nrko",
        "colab_type": "text"
      },
      "source": [
        "#### Plot the data"
      ]
    },
    {
      "cell_type": "code",
      "metadata": {
        "id": "UQ4xw5XSNrkp",
        "colab_type": "code",
        "outputId": "57c22820-1025-418d-853f-d4d21320e55d",
        "colab": {
          "base_uri": "https://localhost:8080/",
          "height": 290
        }
      },
      "source": [
        "data = df_idx[['Price']]\n",
        "data.plot(y='Price')"
      ],
      "execution_count": 0,
      "outputs": [
        {
          "output_type": "execute_result",
          "data": {
            "text/plain": [
              "<matplotlib.axes._subplots.AxesSubplot at 0x7f30e2c2f510>"
            ]
          },
          "metadata": {
            "tags": []
          },
          "execution_count": 6
        },
        {
          "output_type": "display_data",
          "data": {
            "image/png": "[encoded data removed]",
            "text/plain": [
              "<Figure size 432x288 with 1 Axes>"
            ]
          },
          "metadata": {
            "tags": []
          }
        }
      ]
    },
    {
      "cell_type": "code",
      "metadata": {
        "id": "Fl7AAwiFNrks",
        "colab_type": "code",
        "outputId": "a719953f-ab06-47da-9e9f-40926cf71dab",
        "colab": {
          "base_uri": "https://localhost:8080/",
          "height": 50
        }
      },
      "source": [
        "diff = data.index.values[-1] - data.index.values[0]\n",
        "days = diff.astype('timedelta64[D]')\n",
        "days = days / np.timedelta64(1, 'D')\n",
        "years = int(days/365)\n",
        "print(\"Total data: %d years\"%years)\n",
        "print(\"80 percent data = 1980 to %d\"%(1980 + int(0.8*years)))"
      ],
      "execution_count": 0,
      "outputs": [
        {
          "output_type": "stream",
          "text": [
            "Total data: 37 years\n",
            "80 percent data = 1980 to 2009\n"
          ],
          "name": "stdout"
        }
      ]
    },
    {
      "cell_type": "markdown",
      "metadata": {
        "id": "Mm031tIfNrkx",
        "colab_type": "text"
      },
      "source": [
        "#### Create training and testing data"
      ]
    },
    {
      "cell_type": "code",
      "metadata": {
        "id": "-63HgU7ANrky",
        "colab_type": "code",
        "outputId": "4738ecf3-d2b4-4299-c856-39e2f13095c5",
        "colab": {
          "base_uri": "https://localhost:8080/",
          "height": 664
        }
      },
      "source": [
        "split_date = pd.Timestamp('01-01-2009')\n",
        "\n",
        "train = data.loc[:split_date]\n",
        "test = data.loc[split_date:]\n",
        "\n",
        "ax = train.plot(figsize=(10,12))\n",
        "test.plot(ax=ax)\n",
        "plt.legend(['train', 'test'])\n",
        "plt.show()"
      ],
      "execution_count": 0,
      "outputs": [
        {
          "output_type": "display_data",
          "data": {
            "image/png": "[encoded data removed]",
            "text/plain": [
              "<Figure size 720x864 with 1 Axes>"
            ]
          },
          "metadata": {
            "tags": []
          }
        }
      ]
    },
    {
      "cell_type": "markdown",
      "metadata": {
        "id": "E5n-tyKyNrk0",
        "colab_type": "text"
      },
      "source": [
        "#### Normalize the dataset"
      ]
    },
    {
      "cell_type": "code",
      "metadata": {
        "id": "r9n4Q39fNrk1",
        "colab_type": "code",
        "colab": {}
      },
      "source": [
        "from sklearn.preprocessing import MinMaxScaler\n",
        "sc = MinMaxScaler()\n",
        "train_sc = sc.fit_transform(train)\n",
        "test_sc = sc.transform(test)"
      ],
      "execution_count": 0,
      "outputs": []
    },
    {
      "cell_type": "code",
      "metadata": {
        "id": "Rv1HQgqdNrk3",
        "colab_type": "code",
        "outputId": "59283e49-7a8a-435e-c41b-20e0e82646a5",
        "colab": {
          "base_uri": "https://localhost:8080/",
          "height": 138
        }
      },
      "source": [
        "train_sc_df = pd.DataFrame(train_sc, columns=['Y'], index=train.index)\n",
        "test_sc_df = pd.DataFrame(test_sc, columns=['Y'], index=test.index)\n",
        "\n",
        "for s in range(1,2):\n",
        "    train_sc_df['X_{}'.format(s)] = train_sc_df['Y'].shift(s)\n",
        "    test_sc_df['X_{}'.format(s)] = test_sc_df['Y'].shift(s)\n",
        "\n",
        "X_train = train_sc_df.dropna().drop('Y', axis=1)\n",
        "y_train = train_sc_df.dropna().drop('X_1', axis=1)\n",
        "\n",
        "X_test = test_sc_df.dropna().drop('Y', axis=1)\n",
        "y_test = test_sc_df.dropna().drop('X_1', axis=1)\n",
        "\n",
        "X_train = X_train.as_matrix()\n",
        "y_train = y_train.as_matrix()\n",
        "\n",
        "X_test = X_test.as_matrix()\n",
        "y_test = y_test.as_matrix()"
      ],
      "execution_count": 0,
      "outputs": [
        {
          "output_type": "stream",
          "text": [
            "/usr/local/lib/python2.7/dist-packages/ipykernel_launcher.py:14: FutureWarning: Method .as_matrix will be removed in a future version. Use .values instead.\n",
            "  \n",
            "/usr/local/lib/python2.7/dist-packages/ipykernel_launcher.py:15: FutureWarning: Method .as_matrix will be removed in a future version. Use .values instead.\n",
            "  from ipykernel import kernelapp as app\n",
            "/usr/local/lib/python2.7/dist-packages/ipykernel_launcher.py:17: FutureWarning: Method .as_matrix will be removed in a future version. Use .values instead.\n",
            "/usr/local/lib/python2.7/dist-packages/ipykernel_launcher.py:18: FutureWarning: Method .as_matrix will be removed in a future version. Use .values instead.\n"
          ],
          "name": "stderr"
        }
      ]
    },
    {
      "cell_type": "code",
      "metadata": {
        "id": "iUVDegIcNrk6",
        "colab_type": "code",
        "outputId": "9450c112-2dbd-4523-e0f6-80b86f8515a5",
        "colab": {
          "base_uri": "https://localhost:8080/",
          "height": 50
        }
      },
      "source": [
        "print('Train size: (%d x %d)'%(X_train.shape[0], X_train.shape[1]))\n",
        "print('Test size: (%d x %d)'%(X_test.shape[0], X_test.shape[1]))"
      ],
      "execution_count": 0,
      "outputs": [
        {
          "output_type": "stream",
          "text": [
            "Train size: (7451 x 1)\n",
            "Test size: (2245 x 1)\n"
          ],
          "name": "stdout"
        }
      ]
    },
    {
      "cell_type": "markdown",
      "metadata": {
        "id": "NmIHR1eCNrk9",
        "colab_type": "text"
      },
      "source": [
        "## Setup baseline model of SVM Regressor"
      ]
    },
    {
      "cell_type": "code",
      "metadata": {
        "id": "-Ai24Z9ZNrk9",
        "colab_type": "code",
        "colab": {}
      },
      "source": [
        "from sklearn.svm import SVR\n",
        "regressor = SVR(kernel='rbf')"
      ],
      "execution_count": 0,
      "outputs": []
    },
    {
      "cell_type": "code",
      "metadata": {
        "id": "Y6UmCAp-NrlA",
        "colab_type": "code",
        "outputId": "86ebe7bc-d3f2-4ced-cbe5-a6f909f0be68",
        "colab": {
          "base_uri": "https://localhost:8080/",
          "height": 104
        }
      },
      "source": [
        "regressor.fit(X_train, y_train)\n",
        "y_pred = regressor.predict(X_test)"
      ],
      "execution_count": 0,
      "outputs": [
        {
          "output_type": "stream",
          "text": [
            "/usr/local/lib/python2.7/dist-packages/sklearn/utils/validation.py:761: DataConversionWarning: A column-vector y was passed when a 1d array was expected. Please change the shape of y to (n_samples, ), for example using ravel().\n",
            "  y = column_or_1d(y, warn=True)\n",
            "/usr/local/lib/python2.7/dist-packages/sklearn/svm/base.py:196: FutureWarning: The default value of gamma will change from 'auto' to 'scale' in version 0.22 to account better for unscaled features. Set gamma explicitly to 'auto' or 'scale' to avoid this warning.\n",
            "  \"avoid this warning.\", FutureWarning)\n"
          ],
          "name": "stderr"
        }
      ]
    },
    {
      "cell_type": "code",
      "metadata": {
        "id": "WSXUYNonNrlE",
        "colab_type": "code",
        "outputId": "0f39576a-0535-4629-e25a-3c3a47da71da",
        "colab": {
          "base_uri": "https://localhost:8080/",
          "height": 286
        }
      },
      "source": [
        "plt.plot(y_test)\n",
        "plt.plot(y_pred)"
      ],
      "execution_count": 0,
      "outputs": [
        {
          "output_type": "execute_result",
          "data": {
            "text/plain": [
              "[<matplotlib.lines.Line2D at 0x7f30d3f488d0>]"
            ]
          },
          "metadata": {
            "tags": []
          },
          "execution_count": 14
        },
        {
          "output_type": "display_data",
          "data": {
            "image/png": "[encoded data removed]",
            "text/plain": [
              "<Figure size 432x288 with 1 Axes>"
            ]
          },
          "metadata": {
            "tags": []
          }
        }
      ]
    },
    {
      "cell_type": "code",
      "metadata": {
        "id": "KFQ6tHwZNrlI",
        "colab_type": "code",
        "outputId": "13ab4e38-0b1f-48a7-bda1-111d079b08e8",
        "colab": {
          "base_uri": "https://localhost:8080/",
          "height": 34
        }
      },
      "source": [
        "from sklearn.metrics import r2_score\n",
        "\n",
        "def adj_r2_score(r2, n, k):\n",
        "    return 1-((1-r2)*((n-1)/(n-k-1)))\n",
        "\n",
        "r2_test = r2_score(y_test, y_pred)\n",
        "print(\"R-squared is: %f\"%r2_test)"
      ],
      "execution_count": 0,
      "outputs": [
        {
          "output_type": "stream",
          "text": [
            "R-squared is: -0.963381\n"
          ],
          "name": "stdout"
        }
      ]
    },
    {
      "cell_type": "markdown",
      "metadata": {
        "id": "vqyunG7aNrlL",
        "colab_type": "text"
      },
      "source": [
        "## Build a Neural Network"
      ]
    },
    {
      "cell_type": "code",
      "metadata": {
        "id": "6TtYV5_mNrlM",
        "colab_type": "code",
        "outputId": "b18a9d5b-6359-4364-bd84-8f64341eb47f",
        "colab": {
          "base_uri": "https://localhost:8080/",
          "height": 34
        }
      },
      "source": [
        "from keras.models import Sequential\n",
        "from keras.layers import Dense\n",
        "from keras.optimizers import Adam\n",
        "import keras.backend as K"
      ],
      "execution_count": 0,
      "outputs": [
        {
          "output_type": "stream",
          "text": [
            "Using TensorFlow backend.\n"
          ],
          "name": "stderr"
        }
      ]
    },
    {
      "cell_type": "markdown",
      "metadata": {
        "id": "eGljT1P-NrlR",
        "colab_type": "text"
      },
      "source": [
        "### 1 hidden layer with 1 neuron"
      ]
    },
    {
      "cell_type": "code",
      "metadata": {
        "scrolled": true,
        "id": "kDYFuUoQNrlS",
        "colab_type": "code",
        "outputId": "18d31ef3-412a-407e-f82d-924fcd07de4d",
        "colab": {
          "base_uri": "https://localhost:8080/",
          "height": 944
        }
      },
      "source": [
        "K.clear_session()\n",
        "model = Sequential()\n",
        "model.add(Dense(1, input_shape=(X_test.shape[1],), activation='tanh', kernel_initializer='lecun_uniform'))\n",
        "model.compile(optimizer=Adam(lr=0.001), loss='mean_squared_error')\n",
        "model.fit(X_train, y_train, batch_size=16, epochs=20, verbose=1)"
      ],
      "execution_count": 0,
      "outputs": [
        {
          "output_type": "stream",
          "text": [
            "WARNING: Logging before flag parsing goes to stderr.\n",
            "W0707 07:01:20.913163 139848455444352 deprecation_wrapper.py:119] From /usr/local/lib/python2.7/dist-packages/keras/backend/tensorflow_backend.py:95: The name tf.reset_default_graph is deprecated. Please use tf.compat.v1.reset_default_graph instead.\n",
            "\n",
            "W0707 07:01:20.915431 139848455444352 deprecation_wrapper.py:119] From /usr/local/lib/python2.7/dist-packages/keras/backend/tensorflow_backend.py:98: The name tf.placeholder_with_default is deprecated. Please use tf.compat.v1.placeholder_with_default instead.\n",
            "\n",
            "W0707 07:01:20.967070 139848455444352 deprecation_wrapper.py:119] From /usr/local/lib/python2.7/dist-packages/keras/backend/tensorflow_backend.py:102: The name tf.get_default_graph is deprecated. Please use tf.compat.v1.get_default_graph instead.\n",
            "\n",
            "W0707 07:01:20.971652 139848455444352 deprecation_wrapper.py:119] From /usr/local/lib/python2.7/dist-packages/keras/backend/tensorflow_backend.py:517: The name tf.placeholder is deprecated. Please use tf.compat.v1.placeholder instead.\n",
            "\n",
            "W0707 07:01:20.976146 139848455444352 deprecation_wrapper.py:119] From /usr/local/lib/python2.7/dist-packages/keras/backend/tensorflow_backend.py:4138: The name tf.random_uniform is deprecated. Please use tf.random.uniform instead.\n",
            "\n",
            "W0707 07:01:21.006474 139848455444352 deprecation_wrapper.py:119] From /usr/local/lib/python2.7/dist-packages/keras/optimizers.py:790: The name tf.train.Optimizer is deprecated. Please use tf.compat.v1.train.Optimizer instead.\n",
            "\n"
          ],
          "name": "stderr"
        },
        {
          "output_type": "stream",
          "text": [
            "Epoch 1/20\n",
            "7451/7451 [==============================] - 5s 656us/step - loss: 0.2985\n",
            "Epoch 2/20\n",
            "7451/7451 [==============================] - 1s 129us/step - loss: 0.0943\n",
            "Epoch 3/20\n",
            "7451/7451 [==============================] - 1s 129us/step - loss: 0.0658\n",
            "Epoch 4/20\n",
            "7451/7451 [==============================] - 1s 130us/step - loss: 0.0486\n",
            "Epoch 5/20\n",
            "7451/7451 [==============================] - 1s 129us/step - loss: 0.0333\n",
            "Epoch 6/20\n",
            "7451/7451 [==============================] - 1s 131us/step - loss: 0.0212\n",
            "Epoch 7/20\n",
            "7451/7451 [==============================] - 1s 130us/step - loss: 0.0128\n",
            "Epoch 8/20\n",
            "7451/7451 [==============================] - 1s 129us/step - loss: 0.0076\n",
            "Epoch 9/20\n",
            "7451/7451 [==============================] - 1s 129us/step - loss: 0.0048\n",
            "Epoch 10/20\n",
            "7451/7451 [==============================] - 1s 130us/step - loss: 0.0034\n",
            "Epoch 11/20\n",
            "7451/7451 [==============================] - 1s 132us/step - loss: 0.0027\n",
            "Epoch 12/20\n",
            "7451/7451 [==============================] - 1s 134us/step - loss: 0.0025\n",
            "Epoch 13/20\n",
            "7451/7451 [==============================] - 1s 129us/step - loss: 0.0025\n",
            "Epoch 14/20\n",
            "7451/7451 [==============================] - 1s 127us/step - loss: 0.0024\n",
            "Epoch 15/20\n",
            "7451/7451 [==============================] - 1s 129us/step - loss: 0.0024\n",
            "Epoch 16/20\n",
            "7451/7451 [==============================] - 1s 132us/step - loss: 0.0024\n",
            "Epoch 17/20\n",
            "7451/7451 [==============================] - 1s 128us/step - loss: 0.0024\n",
            "Epoch 18/20\n",
            "7451/7451 [==============================] - 1s 129us/step - loss: 0.0024\n",
            "Epoch 19/20\n",
            "7451/7451 [==============================] - 1s 129us/step - loss: 0.0024\n",
            "Epoch 20/20\n",
            "7451/7451 [==============================] - 1s 127us/step - loss: 0.0024\n"
          ],
          "name": "stdout"
        },
        {
          "output_type": "execute_result",
          "data": {
            "text/plain": [
              "<keras.callbacks.History at 0x7f30aeb2d7d0>"
            ]
          },
          "metadata": {
            "tags": []
          },
          "execution_count": 17
        }
      ]
    },
    {
      "cell_type": "code",
      "metadata": {
        "id": "NXHk9GN1NrlW",
        "colab_type": "code",
        "outputId": "2e543961-82bb-47da-bd21-091c4a9443e8",
        "colab": {
          "base_uri": "https://localhost:8080/",
          "height": 286
        }
      },
      "source": [
        "y_pred = model.predict(X_test)\n",
        "plt.plot(y_test)\n",
        "plt.plot(y_pred)\n",
        "print('R-Squared: %f'%(r2_score(y_test, y_pred)))"
      ],
      "execution_count": 0,
      "outputs": [
        {
          "output_type": "stream",
          "text": [
            "R-Squared: -1.164032\n"
          ],
          "name": "stdout"
        },
        {
          "output_type": "display_data",
          "data": {
            "image/png": "[encoded data removed]",
            "text/plain": [
              "<Figure size 432x288 with 1 Axes>"
            ]
          },
          "metadata": {
            "tags": []
          }
        }
      ]
    },
    {
      "cell_type": "markdown",
      "metadata": {
        "id": "UCtBE7gkNrlb",
        "colab_type": "text"
      },
      "source": [
        "#### 2 Hidden Layers with 50 neurons each and ReLU activation function"
      ]
    },
    {
      "cell_type": "code",
      "metadata": {
        "scrolled": true,
        "id": "P6ZcoC8SNrlc",
        "colab_type": "code",
        "outputId": "d361e0f1-278c-43b9-8231-b42411ff8053",
        "colab": {
          "base_uri": "https://localhost:8080/",
          "height": 706
        }
      },
      "source": [
        "K.clear_session()\n",
        "model = Sequential()\n",
        "model.add(Dense(50, input_shape=(X_test.shape[1],), activation='relu', kernel_initializer='lecun_uniform'))\n",
        "model.add(Dense(50, input_shape=(X_test.shape[1],), activation='relu'))\n",
        "model.add(Dense(1))\n",
        "model.compile(optimizer=Adam(lr=0.001), loss='mean_squared_error')\n",
        "model.fit(X_train, y_train, batch_size=16, epochs=20, verbose=1)"
      ],
      "execution_count": 0,
      "outputs": [
        {
          "output_type": "stream",
          "text": [
            "Epoch 1/20\n",
            "7451/7451 [==============================] - 1s 199us/step - loss: 0.0043\n",
            "Epoch 2/20\n",
            "7451/7451 [==============================] - 1s 173us/step - loss: 1.0874e-05\n",
            "Epoch 3/20\n",
            "7451/7451 [==============================] - 1s 170us/step - loss: 1.0727e-05\n",
            "Epoch 4/20\n",
            "7451/7451 [==============================] - 1s 165us/step - loss: 1.1965e-05\n",
            "Epoch 5/20\n",
            "7451/7451 [==============================] - 1s 169us/step - loss: 1.2134e-05\n",
            "Epoch 6/20\n",
            "7451/7451 [==============================] - 1s 168us/step - loss: 1.3941e-05\n",
            "Epoch 7/20\n",
            "7451/7451 [==============================] - 1s 168us/step - loss: 1.4307e-05\n",
            "Epoch 8/20\n",
            "7451/7451 [==============================] - 1s 167us/step - loss: 1.9187e-05\n",
            "Epoch 9/20\n",
            "7451/7451 [==============================] - 1s 168us/step - loss: 1.6979e-05\n",
            "Epoch 10/20\n",
            "7451/7451 [==============================] - 1s 174us/step - loss: 2.2519e-05\n",
            "Epoch 11/20\n",
            "7451/7451 [==============================] - 1s 170us/step - loss: 1.6277e-05\n",
            "Epoch 12/20\n",
            "7451/7451 [==============================] - 1s 175us/step - loss: 3.8183e-05\n",
            "Epoch 13/20\n",
            "7451/7451 [==============================] - 1s 179us/step - loss: 2.4702e-05\n",
            "Epoch 14/20\n",
            "7451/7451 [==============================] - 1s 176us/step - loss: 3.3279e-05\n",
            "Epoch 15/20\n",
            "7451/7451 [==============================] - 1s 175us/step - loss: 2.4132e-05\n",
            "Epoch 16/20\n",
            "7451/7451 [==============================] - 1s 175us/step - loss: 4.0518e-05\n",
            "Epoch 17/20\n",
            "7451/7451 [==============================] - 1s 182us/step - loss: 3.4018e-05\n",
            "Epoch 18/20\n",
            "7451/7451 [==============================] - 1s 176us/step - loss: 1.7845e-05\n",
            "Epoch 19/20\n",
            "7451/7451 [==============================] - 1s 183us/step - loss: 2.8162e-05\n",
            "Epoch 20/20\n",
            "7451/7451 [==============================] - 1s 173us/step - loss: 2.8623e-05\n"
          ],
          "name": "stdout"
        },
        {
          "output_type": "execute_result",
          "data": {
            "text/plain": [
              "<keras.callbacks.History at 0x7f30a02e1710>"
            ]
          },
          "metadata": {
            "tags": []
          },
          "execution_count": 19
        }
      ]
    },
    {
      "cell_type": "code",
      "metadata": {
        "id": "P4PJq4hjNrle",
        "colab_type": "code",
        "outputId": "94e2b906-1127-4f20-ca07-a888a6b26df3",
        "colab": {}
      },
      "source": [
        "y_pred = model.predict(X_test)\n",
        "plt.plot(y_test)\n",
        "plt.plot(y_pred)\n",
        "print('R-Squared: %f'%(r2_score(y_test, y_pred)))"
      ],
      "execution_count": 0,
      "outputs": [
        {
          "output_type": "stream",
          "text": [
            "R-Squared: 0.998666\n"
          ],
          "name": "stdout"
        },
        {
          "output_type": "display_data",
          "data": {
            "image/png": "[encoded data removed]",
            "text/plain": [
              "<matplotlib.figure.Figure at 0x124d61d90>"
            ]
          },
          "metadata": {
            "tags": []
          }
        }
      ]
    },
    {
      "cell_type": "markdown",
      "metadata": {
        "collapsed": true,
        "id": "3sTANL5LNrlh",
        "colab_type": "text"
      },
      "source": [
        "## Try to predict the difference between consecutive days\n",
        "### This is also known as introducing stationarity in the dataset.\n",
        "### A better test of the model is to predict stationarized data where the mean, standard deviation, autocorrelation are constant over time.\n",
        "### Because stock price data, currency exchange etc. are generated using a completely stochastic random walk process. Being able to predict future outcomes of a stochastic process is by definition not possible, and if someone claims to do this, one should be a bit skeptical [Vegard Flovik, PhD]"
      ]
    },
    {
      "cell_type": "code",
      "metadata": {
        "id": "qLS5bl-5Nrlh",
        "colab_type": "code",
        "colab": {}
      },
      "source": [
        ""
      ],
      "execution_count": 0,
      "outputs": []
    }
  ]
}