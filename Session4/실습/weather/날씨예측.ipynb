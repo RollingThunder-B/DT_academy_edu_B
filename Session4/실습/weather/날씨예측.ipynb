{
 "cells": [
  {
   "cell_type": "code",
   "execution_count": 1,
   "metadata": {},
   "outputs": [],
   "source": [
    "from sklearn.linear_model import LinearRegression\n",
    "import pandas as pd\n",
    "import numpy as np\n",
    "import matplotlib.pyplot as plt"
   ]
  },
  {
   "cell_type": "code",
   "execution_count": 2,
   "metadata": {},
   "outputs": [],
   "source": [
    "# 기온 데이터 읽어 들이기\n",
    "df = pd.read_csv('tem10y.csv', encoding=\"utf-8\")"
   ]
  },
  {
   "cell_type": "code",
   "execution_count": 5,
   "metadata": {},
   "outputs": [],
   "source": [
    "# 데이터를 학습 전용과 테스트 전용으로 분리하기 ---(*1)\n",
    "train_year = (df[\"연\"] <= 2015)\n",
    "test_year = (df[\"연\"] >= 2016)\n",
    "interval = 3"
   ]
  },
  {
   "cell_type": "code",
   "execution_count": 6,
   "metadata": {},
   "outputs": [],
   "source": [
    "# 과거 6일의 데이터를 기반으로 학습할 데이터 만들기 ---(*2)\n",
    "def make_data(data):\n",
    "    x = [] # 학습 데이터\n",
    "    y = [] # 결과\n",
    "    temps = list(data[\"기온\"])\n",
    "    for i in range(len(temps)):\n",
    "        if i < interval: continue\n",
    "        y.append(temps[i])\n",
    "        xa = []\n",
    "        for p in range(interval):\n",
    "            d = i + p - interval\n",
    "            xa.append(temps[d])\n",
    "        x.append(xa)\n",
    "    return (x, y)\n"
   ]
  },
  {
   "cell_type": "code",
   "execution_count": 11,
   "metadata": {},
   "outputs": [],
   "source": [
    "train_x, train_y = make_data(df[train_year])\n",
    "test_x, test_y = make_data(df[test_year])"
   ]
  },
  {
   "cell_type": "code",
   "execution_count": 14,
   "metadata": {},
   "outputs": [
    {
     "data": {
      "text/plain": [
       "(      연  월   일   기온  품질  균질\n",
       " 0  2006  1   1  3.6   8   1\n",
       " 1  2006  1   2  4.0   8   1\n",
       " 2  2006  1   3  3.7   8   1\n",
       " 3  2006  1   4  4.0   8   1\n",
       " 4  2006  1   5  3.6   8   1\n",
       " 5  2006  1   6  2.1   8   1\n",
       " 6  2006  1   7  2.8   8   1\n",
       " 7  2006  1   8  4.2   8   1\n",
       " 8  2006  1   9  3.7   8   1\n",
       " 9  2006  1  10  4.3   8   1,\n",
       " [[3.6, 4.0, 3.7],\n",
       "  [4.0, 3.7, 4.0],\n",
       "  [3.7, 4.0, 3.6],\n",
       "  [4.0, 3.6, 2.1],\n",
       "  [3.6, 2.1, 2.8],\n",
       "  [2.1, 2.8, 4.2],\n",
       "  [2.8, 4.2, 3.7],\n",
       "  [4.2, 3.7, 4.3],\n",
       "  [3.7, 4.3, 6.1],\n",
       "  [4.3, 6.1, 6.1]],\n",
       " [4.0, 3.6, 2.1, 2.8, 4.2, 3.7, 4.3, 6.1, 6.1, 4.0])"
      ]
     },
     "execution_count": 14,
     "metadata": {},
     "output_type": "execute_result"
    }
   ],
   "source": [
    "df[train_year][:10], train_x[:10], train_y[:10]"
   ]
  },
  {
   "cell_type": "markdown",
   "metadata": {},
   "source": [
    "# (2)"
   ]
  },
  {
   "cell_type": "code",
   "execution_count": 15,
   "metadata": {},
   "outputs": [],
   "source": [
    "from sklearn.linear_model import LinearRegression"
   ]
  },
  {
   "cell_type": "code",
   "execution_count": 33,
   "metadata": {},
   "outputs": [
    {
     "data": {
      "text/plain": [
       "0.916555363635416"
      ]
     },
     "execution_count": 33,
     "metadata": {},
     "output_type": "execute_result"
    }
   ],
   "source": [
    "rfc = LinearRegression()\n",
    "rfc.fit(train_x, train_y)\n",
    "rfc.score(test_x, test_y)"
   ]
  },
  {
   "cell_type": "code",
   "execution_count": 34,
   "metadata": {},
   "outputs": [
    {
     "data": {
      "text/html": [
       "<div>\n",
       "<style scoped>\n",
       "    .dataframe tbody tr th:only-of-type {\n",
       "        vertical-align: middle;\n",
       "    }\n",
       "\n",
       "    .dataframe tbody tr th {\n",
       "        vertical-align: top;\n",
       "    }\n",
       "\n",
       "    .dataframe thead th {\n",
       "        text-align: right;\n",
       "    }\n",
       "</style>\n",
       "<table border=\"1\" class=\"dataframe\">\n",
       "  <thead>\n",
       "    <tr style=\"text-align: right;\">\n",
       "      <th></th>\n",
       "      <th>0</th>\n",
       "      <th>y_rfc</th>\n",
       "    </tr>\n",
       "  </thead>\n",
       "  <tbody>\n",
       "    <tr>\n",
       "      <th>0</th>\n",
       "      <td>7.3</td>\n",
       "      <td>7.805610</td>\n",
       "    </tr>\n",
       "    <tr>\n",
       "      <th>1</th>\n",
       "      <td>9.3</td>\n",
       "      <td>7.612255</td>\n",
       "    </tr>\n",
       "    <tr>\n",
       "      <th>2</th>\n",
       "      <td>9.2</td>\n",
       "      <td>9.545804</td>\n",
       "    </tr>\n",
       "    <tr>\n",
       "      <th>3</th>\n",
       "      <td>10.9</td>\n",
       "      <td>9.449126</td>\n",
       "    </tr>\n",
       "    <tr>\n",
       "      <th>4</th>\n",
       "      <td>8.9</td>\n",
       "      <td>11.092642</td>\n",
       "    </tr>\n",
       "  </tbody>\n",
       "</table>\n",
       "</div>"
      ],
      "text/plain": [
       "      0      y_rfc\n",
       "0   7.3   7.805610\n",
       "1   9.3   7.612255\n",
       "2   9.2   9.545804\n",
       "3  10.9   9.449126\n",
       "4   8.9  11.092642"
      ]
     },
     "execution_count": 34,
     "metadata": {},
     "output_type": "execute_result"
    }
   ],
   "source": [
    "pred = pd.DataFrame(test_y)\n",
    "pred['y_rfc'] =rfc.predict(test_x)\n",
    "pred[:5]"
   ]
  },
  {
   "cell_type": "code",
   "execution_count": 35,
   "metadata": {},
   "outputs": [
    {
     "data": {
      "text/plain": [
       "<matplotlib.collections.PathCollection at 0xc56ae10>"
      ]
     },
     "execution_count": 35,
     "metadata": {},
     "output_type": "execute_result"
    },
    {
     "data": {
      "image/png": "[encoded data removed]",
      "text/plain": [
       "<Figure size 432x288 with 1 Axes>"
      ]
     },
     "metadata": {
      "needs_background": "light"
     },
     "output_type": "display_data"
    }
   ],
   "source": [
    "plt.scatter(pred[0], pred['y_rfc'])"
   ]
  },
  {
   "cell_type": "markdown",
   "metadata": {},
   "source": [
    "# (3)"
   ]
  },
  {
   "cell_type": "code",
   "execution_count": 45,
   "metadata": {
    "scrolled": false
   },
   "outputs": [
    {
     "name": "stdout",
     "output_type": "stream",
     "text": [
      "interval=1, Score= 0.916555, [0.9667742]\n",
      "interval=2, Score= 0.916581, [0.06286328 0.90597858]\n",
      "interval=3, Score= 0.919901, [ 0.22511715 -0.14119798  0.89183702]\n",
      "interval=4, Score= 0.921527, [ 0.11401055  0.12340854 -0.12510785  0.86617053]\n",
      "interval=5, Score= 0.922325, [ 0.12199785  0.00826696  0.13868428 -0.14019032  0.8522554 ]\n",
      "interval=6, Score= 0.923476, [ 0.11170987  0.02668439  0.02397893  0.12310026 -0.14104183  0.83853625]\n",
      "interval=7, Score= 0.924459, [ 0.07983458  0.04476044  0.03792477  0.01413321  0.12117179 -0.14317956\n",
      "  0.82962209]\n",
      "interval=8, Score= 0.925395, [ 0.06612609  0.02499532  0.0541802   0.02992153  0.01316744  0.11861554\n",
      " -0.14604442  0.82433295]\n",
      "interval=9, Score= 0.924817, [ 0.06193752  0.01503936  0.03402964  0.04680309  0.02910416  0.01136048\n",
      "  0.11518242 -0.14762344  0.82028543]\n",
      "interval=10, Score= 0.924763, [ 0.05184982  0.01938119  0.02267273  0.0281031   0.04617382  0.02758315\n",
      "  0.00897769  0.11342586 -0.14843499  0.81708464]\n",
      "interval=11, Score= 0.924513, [ 0.01893719  0.03641349  0.02213638  0.0205915   0.02787869  0.04557169\n",
      "  0.02690696  0.00852789  0.11283355 -0.14867678  0.81603065]\n",
      "interval=12, Score= 0.924796, [ 2.22023389e-02  8.08284707e-04  3.97088410e-02  1.96593603e-02\n",
      "  2.03732017e-02  2.72731209e-02  4.46012544e-02  2.63061561e-02\n",
      "  8.04992580e-03  1.12357054e-01 -1.49453904e-01  8.15556349e-01]\n"
     ]
    }
   ],
   "source": [
    "for i in range(1, 13) :\n",
    "    interval = i\n",
    "    train_x, train_y = make_data(df[train_year])\n",
    "    test_x, test_y = make_data(df[test_year])\n",
    "    rfc = LinearRegression()\n",
    "    rfc.fit(train_x, train_y)\n",
    "    score = rfc.score(test_x, test_y)\n",
    "    coef = rfc.coef_\n",
    "    print(f'interval={i}, Score= {score :.6f}, {coef}')\n",
    "#     print(score.max())\n",
    "    "
   ]
  },
  {
   "cell_type": "code",
   "execution_count": null,
   "metadata": {},
   "outputs": [],
   "source": []
  },
  {
   "cell_type": "code",
   "execution_count": 50,
   "metadata": {},
   "outputs": [
    {
     "data": {
      "text/plain": [
       "0.9293502347010671"
      ]
     },
     "execution_count": 50,
     "metadata": {},
     "output_type": "execute_result"
    }
   ],
   "source": [
    "interval = 180\n",
    "train_x, train_y = make_data(df[train_year])\n",
    "test_x, test_y = make_data(df[test_year])\n",
    "rfc = LinearRegression()\n",
    "rfc.fit(train_x, train_y)\n",
    "score = rfc.score(test_x, test_y)\n",
    "score"
   ]
  },
  {
   "cell_type": "code",
   "execution_count": null,
   "metadata": {},
   "outputs": [],
   "source": []
  },
  {
   "cell_type": "code",
   "execution_count": null,
   "metadata": {},
   "outputs": [],
   "source": []
  },
  {
   "cell_type": "code",
   "execution_count": null,
   "metadata": {},
   "outputs": [],
   "source": []
  }
 ],
 "metadata": {
  "kernelspec": {
   "display_name": "Python 3",
   "language": "python",
   "name": "python3"
  },
  "language_info": {
   "codemirror_mode": {
    "name": "ipython",
    "version": 3
   },
   "file_extension": ".py",
   "mimetype": "text/x-python",
   "name": "python",
   "nbconvert_exporter": "python",
   "pygments_lexer": "ipython3",
   "version": "3.7.3"
  }
 },
 "nbformat": 4,
 "nbformat_minor": 2
}
