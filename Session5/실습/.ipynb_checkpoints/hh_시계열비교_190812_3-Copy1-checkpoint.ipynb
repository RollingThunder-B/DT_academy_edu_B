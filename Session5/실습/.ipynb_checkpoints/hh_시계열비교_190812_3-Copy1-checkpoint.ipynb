{
 "cells": [
  {
   "cell_type": "markdown",
   "metadata": {
    "colab_type": "text",
    "id": "view-in-github"
   },
   "source": [
    "<a href=\"https://colab.research.google.com/github/StillWork/ds_LS_530/blob/master/hh_%EC%8B%9C%EA%B3%84%EC%97%B4%EB%B9%84%EA%B5%90_190812_3.ipynb\" target=\"_parent\"><img src=\"https://colab.research.google.com/assets/colab-badge.svg\" alt=\"Open In Colab\"/></a>"
   ]
  },
  {
   "cell_type": "code",
   "execution_count": 1,
   "metadata": {
    "colab": {},
    "colab_type": "code",
    "id": "sB8jhfU4wmv3"
   },
   "outputs": [],
   "source": [
    "import numpy as np\n",
    "import pandas as pd\n",
    "import os, os.path, shutil\n",
    "import matplotlib.pyplot as plt\n",
    "%matplotlib inline"
   ]
  },
  {
   "cell_type": "code",
   "execution_count": 115,
   "metadata": {},
   "outputs": [
    {
     "name": "stderr",
     "output_type": "stream",
     "text": [
      "Using TensorFlow backend.\n"
     ]
    }
   ],
   "source": [
    "from keras import Sequential\n",
    "from keras.layers import Dense"
   ]
  },
  {
   "cell_type": "code",
   "execution_count": 2,
   "metadata": {
    "colab": {},
    "colab_type": "code",
    "id": "FM3_qOwPAuOQ"
   },
   "outputs": [],
   "source": [
    "def rmse(y, y_pred):\n",
    "  return np.sqrt(((y - y_pred)**2).mean())"
   ]
  },
  {
   "cell_type": "code",
   "execution_count": null,
   "metadata": {},
   "outputs": [],
   "source": []
  },
  {
   "cell_type": "code",
   "execution_count": 138,
   "metadata": {
    "colab": {},
    "colab_type": "code",
    "id": "-XSpN2QBb67Y"
   },
   "outputs": [],
   "source": [
    "result = dict()"
   ]
  },
  {
   "cell_type": "code",
   "execution_count": null,
   "metadata": {},
   "outputs": [],
   "source": []
  },
  {
   "cell_type": "code",
   "execution_count": 12,
   "metadata": {
    "scrolled": true
   },
   "outputs": [
    {
     "name": "stderr",
     "output_type": "stream",
     "text": [
      "  % Total    % Received % Xferd  Average Speed   Time    Time     Time  Current\n",
      "                                 Dload  Upload   Total   Spent    Left  Speed\n",
      "\n",
      "  0     0    0     0    0     0      0      0 --:--:-- --:--:-- --:--:--     0\n",
      "  0     0    0     0    0     0      0      0 --:--:-- --:--:-- --:--:--     0\n",
      "curl: (35) schannel: next InitializeSecurityContext failed: Unknown error (0x80092012) - 해당 함수에서 인증서에 대한 파기 여부를 검사하지 못했습니다.\n"
     ]
    }
   ],
   "source": [
    "!curl -L https://bit.ly/2YpQu03 -o weather.csv"
   ]
  },
  {
   "cell_type": "code",
   "execution_count": 22,
   "metadata": {},
   "outputs": [],
   "source": [
    "with open(\"data/weather_data.csv\", \"rt\", encoding=\"utf8\") as fr:\n",
    "    lines = fr.readlines()\n",
    "\n",
    "n_lines = [\"연,월,일,기온,품질,균질\\n\"] + lines[5:]\n",
    "n_lines = map(lambda v: v.replace('/', ','), n_lines)\n",
    "result = \"\".join(n_lines).strip()\n",
    "\n",
    "with open(\"new_data.csv\", \"wt\", encoding=\"utf-8\") as fw:\n",
    "    fw.write(result)"
   ]
  },
  {
   "cell_type": "code",
   "execution_count": 24,
   "metadata": {
    "scrolled": false
   },
   "outputs": [
    {
     "data": {
      "text/plain": [
       "(4018, 6)"
      ]
     },
     "execution_count": 24,
     "metadata": {},
     "output_type": "execute_result"
    }
   ],
   "source": [
    "df = pd.read_csv('data/new_data.csv', encoding='utf-8')\n",
    "df.shape"
   ]
  },
  {
   "cell_type": "code",
   "execution_count": 25,
   "metadata": {
    "scrolled": true
   },
   "outputs": [
    {
     "data": {
      "text/html": [
       "<div>\n",
       "<style scoped>\n",
       "    .dataframe tbody tr th:only-of-type {\n",
       "        vertical-align: middle;\n",
       "    }\n",
       "\n",
       "    .dataframe tbody tr th {\n",
       "        vertical-align: top;\n",
       "    }\n",
       "\n",
       "    .dataframe thead th {\n",
       "        text-align: right;\n",
       "    }\n",
       "</style>\n",
       "<table border=\"1\" class=\"dataframe\">\n",
       "  <thead>\n",
       "    <tr style=\"text-align: right;\">\n",
       "      <th></th>\n",
       "      <th>연</th>\n",
       "      <th>월</th>\n",
       "      <th>일</th>\n",
       "      <th>기온</th>\n",
       "      <th>품질</th>\n",
       "      <th>균질</th>\n",
       "    </tr>\n",
       "  </thead>\n",
       "  <tbody>\n",
       "    <tr>\n",
       "      <th>0</th>\n",
       "      <td>2006</td>\n",
       "      <td>1</td>\n",
       "      <td>1</td>\n",
       "      <td>3.6</td>\n",
       "      <td>8</td>\n",
       "      <td>1</td>\n",
       "    </tr>\n",
       "    <tr>\n",
       "      <th>1</th>\n",
       "      <td>2006</td>\n",
       "      <td>1</td>\n",
       "      <td>2</td>\n",
       "      <td>4.0</td>\n",
       "      <td>8</td>\n",
       "      <td>1</td>\n",
       "    </tr>\n",
       "    <tr>\n",
       "      <th>2</th>\n",
       "      <td>2006</td>\n",
       "      <td>1</td>\n",
       "      <td>3</td>\n",
       "      <td>3.7</td>\n",
       "      <td>8</td>\n",
       "      <td>1</td>\n",
       "    </tr>\n",
       "  </tbody>\n",
       "</table>\n",
       "</div>"
      ],
      "text/plain": [
       "      연  월  일   기온  품질  균질\n",
       "0  2006  1  1  3.6   8   1\n",
       "1  2006  1  2  4.0   8   1\n",
       "2  2006  1  3  3.7   8   1"
      ]
     },
     "execution_count": 25,
     "metadata": {},
     "output_type": "execute_result"
    }
   ],
   "source": [
    "df[:3]"
   ]
  },
  {
   "cell_type": "code",
   "execution_count": 27,
   "metadata": {},
   "outputs": [
    {
     "data": {
      "text/plain": [
       "0    3.6\n",
       "1    4.0\n",
       "2    3.7\n",
       "Name: 기온, dtype: float64"
      ]
     },
     "execution_count": 27,
     "metadata": {},
     "output_type": "execute_result"
    }
   ],
   "source": [
    "xx = df['기온']\n",
    "xx[:3]"
   ]
  },
  {
   "cell_type": "code",
   "execution_count": null,
   "metadata": {},
   "outputs": [],
   "source": []
  },
  {
   "cell_type": "code",
   "execution_count": 3,
   "metadata": {
    "colab": {},
    "colab_type": "code",
    "id": "gjaR2UpyvErc"
   },
   "outputs": [],
   "source": [
    "# 시퀀스 데이터를 X, y로 나누는 함수 정의 (하나씩 슬라이딩, 다음샘플 예측)\n",
    "def split_sequence_slide_next(sequence, n_steps):\n",
    "  X, y = list(), list()\n",
    "  for i in range(len(sequence)):\n",
    "    end_ix = i + n_steps\n",
    "    if end_ix > len(sequence)-1:\n",
    "     break\n",
    "    seq_x, seq_y = sequence[i:end_ix], sequence[end_ix]\n",
    "    X.append(seq_x)\n",
    "    y.append(seq_y)\n",
    "  return np.array(X), np.array(y)\n",
    "\n",
    "# non overlapping, next window 예측의 경우\n",
    "def split_sequence_nonOL_next_window(sequence, n_steps):\n",
    "  X, y = list(), list()\n",
    "  for i in range(0,len(sequence),n_steps):\n",
    "    end_ix = i + n_steps -1\n",
    "    if end_ix > len(sequence)-n_steps-1:\n",
    "      break\n",
    "    seq_x, seq_y = sequence[i:end_ix+1], sequence[end_ix+n_steps]\n",
    "    X.append(seq_x)\n",
    "    y.append(seq_y)\n",
    "  return np.array(X), np.array(y)"
   ]
  },
  {
   "cell_type": "code",
   "execution_count": null,
   "metadata": {},
   "outputs": [],
   "source": []
  },
  {
   "cell_type": "code",
   "execution_count": 197,
   "metadata": {},
   "outputs": [],
   "source": [
    "n_steps = 7"
   ]
  },
  {
   "cell_type": "code",
   "execution_count": 188,
   "metadata": {},
   "outputs": [
    {
     "data": {
      "text/plain": [
       "(array([[ 3.6,  4. ,  3.7, ...,  6.1,  4. ,  6.6],\n",
       "        [ 4. ,  3.7,  4. , ...,  4. ,  6.6, 10.7],\n",
       "        [ 3.7,  4. ,  3.6, ...,  6.6, 10.7,  9. ],\n",
       "        ...,\n",
       "        [ 6.2,  4.8,  6.7, ...,  6.9, 11.1,  6. ],\n",
       "        [ 4.8,  6.7,  8.2, ..., 11.1,  6. ,  4.3],\n",
       "        [ 6.7,  8.2, 10. , ...,  6. ,  4.3,  6. ]]),\n",
       " array([10.7,  9. ,  8. , ...,  4.3,  6. ,  6.3]))"
      ]
     },
     "execution_count": 188,
     "metadata": {},
     "output_type": "execute_result"
    }
   ],
   "source": [
    "X, y = split_sequence_slide_next(xx, n_steps)\n",
    "X, y"
   ]
  },
  {
   "cell_type": "code",
   "execution_count": 206,
   "metadata": {},
   "outputs": [
    {
     "data": {
      "text/plain": [
       "(array([[ 3.6,  4. ,  3.7, ...,  3.6,  2.1,  2.8],\n",
       "        [ 4.2,  3.7,  4.3, ...,  6.1,  4. ,  6.6],\n",
       "        [10.7,  9. ,  8. , ...,  4.2,  4. ,  1.3],\n",
       "        ...,\n",
       "        [11.6, 12.7, 10.8, ...,  8.6, 11.1,  8.5],\n",
       "        [ 6.8,  7. ,  9.4, ...,  6.2,  4.8,  6.7],\n",
       "        [ 8.2, 10. ,  9.6, ..., 14.6, 14. ,  8.6]]),\n",
       " array([ 6.6,  1.3,  5.5,  1.6,  7.5,  4.4,  7.8,  6.7, 11.6, 12.3, 10.7,\n",
       "        10.7, 12.5, 10.1, 13.7, 15.8, 20.4, 12.9, 23.7, 17.8, 19.2, 23.2,\n",
       "        24.5, 24.8, 26.1, 26. , 30.2, 23.7, 28. , 30. , 25.9, 29.9, 25.2,\n",
       "        24.6, 27.1, 22.1, 21.3, 22.5, 20.9, 18.6, 19.5, 19. , 17.4, 15.5,\n",
       "        11.7,  9.6, 11.4,  7.2, 13. ,  9.4,  6.8,  6.1,  6.9,  5. , 10.1,\n",
       "         7.3, 10.8,  6.9,  6.6, 11.8,  9.9,  6.7, 13.4, 13.1, 13.2, 19. ,\n",
       "        19.2, 15.2, 22.2, 19. , 19.2, 23.1, 20.9, 22.2, 24.8, 25.4, 25.4,\n",
       "        23.9, 22. , 25.2, 28.7, 30.2, 31.3, 25.5, 28.2, 22.4, 28.4, 27.5,\n",
       "        27.6, 18.4, 20.8, 19.5, 17.5, 16.8, 15.5, 13.2, 10.1,  9.2, 11.4,\n",
       "        10.6,  8.5,  7.1, 10.6,  6. ,  6.9,  4.8,  4.1,  4.8,  2.4,  5.2,\n",
       "         7.3,  8.8,  8.6, 14.7, 11.9, 12.1, 14.6, 15.9, 14.5, 13.7, 18.8,\n",
       "        13.5, 18.9, 21.6, 13.5, 23. , 23.1, 23.5, 23.4, 27.5, 28. , 29.1,\n",
       "        27.9, 28.3, 29.2, 28.7, 20.9, 24.8, 27. , 27. , 24.5, 20.1, 20.6,\n",
       "        20.8, 19.6, 20.6, 16.1, 13.9, 16.2, 11.1, 13.1, 10.3, 11.3, 10.1,\n",
       "         6. ,  6.6,  5.6,  6.4,  6.8,  7.8,  7.1, 18.1,  6.4,  6.8, 11.6,\n",
       "        11.6, 11.8,  7.8, 13.8, 18.1, 15.2, 11.2, 19.8, 21. , 17.6, 23.2,\n",
       "        18.4, 20.5, 23. , 23.2, 26.6, 24. , 25.3, 27.7, 28.1, 24.6, 27.6,\n",
       "        27.2, 28.9, 28.6, 24.4, 21.4, 21.7, 23.4, 22.8, 17.7, 18.4, 16.1,\n",
       "        18.2, 16.5, 16.9, 12.2, 13.8, 10.3, 13. ,  5.2,  9.4,  6.3,  7.2,\n",
       "         3.8,  6.3,  8.9,  3.2,  2.2,  7. , 10.9, 11.4, 16.1, 15.2,  8.1,\n",
       "        11.1, 15.6,  6.3, 11.2, 16.4, 19.7, 15.1, 23.4, 15.6, 20.2, 24.5,\n",
       "        25.2, 26.2, 26.2, 27.3, 28.3, 30.8, 29.2, 29.2, 29.4, 28.6, 30.1,\n",
       "        31.2, 28.4, 25.9, 17.8, 21.2, 17.5, 21.4, 16.4, 12.3, 15.4, 16.2,\n",
       "        13.3, 12.1, 12.4, 13.1,  8.2,  5.6,  6.6,  5.9,  4. ,  6. ,  4.2,\n",
       "         8.1,  2.1,  6.1,  7.2,  7.4,  8.2, 12.3,  7.4, 13.4, 16.1, 18.6,\n",
       "        16.5, 17.6, 17. , 20.1, 22.8, 18.4, 22.1, 22.2, 20.3, 24.3, 26.5,\n",
       "        29.4, 29. , 23.1, 25.7, 29. , 30. , 23.7, 24.3, 28. , 28.4, 28. ,\n",
       "        20.5, 22.2, 19.7, 24.3, 19.5, 16. , 18.9, 16.4, 16.3, 10.9, 11.1,\n",
       "         7.3,  6.1,  5.5,  5.6,  5.7,  5.1,  3.4,  2.6,  5.5,  5.4,  2.5,\n",
       "         5.8,  7.1,  5.3,  6.8,  8.4, 14.1,  8.8,  9.9, 11.8, 18.3, 21.2,\n",
       "        16.3, 20.3, 21. , 21.6, 19. , 20.2, 22.2, 23.3, 23. , 28.6, 19.6,\n",
       "        30.1, 28.6, 28.8, 28. , 29.9, 27.9, 28.1, 28.3, 22.3, 24.9, 24. ,\n",
       "        20.7, 18.1, 18. , 14. , 15.7, 13.7, 10.5,  7.3,  9.3,  7.2,  6.8,\n",
       "         7.5,  2.8,  4.6,  5.2,  3.8, 15.6,  4.4,  3.1,  6.2,  8.7, 16.7,\n",
       "        12.5, 13.7,  9. , 17.4, 12.3,  9.2, 15.8, 16.2, 18.9, 19.9, 18.2,\n",
       "        20.3, 22.3, 26. , 22.8, 24. , 29.2, 30.7, 23.9, 27.6, 26.7, 33.2,\n",
       "        29.6, 29. , 30.8, 25.9, 28.6, 25.6, 20.3, 17.8, 26.1, 16.2, 15.4,\n",
       "        15.4, 13.3, 12.9, 12.6, 10.2, 11.1,  7.6,  6.8,  5.4,  6.5,  4.3,\n",
       "         5.2,  8.4,  7.9,  0.3,  3.9,  5.1,  8.9,  5.9,  8.3,  9.3, 17.7,\n",
       "        11.4, 14.6, 11.7, 18.2, 21.3, 19.8, 21.1, 20.6, 25.6, 18.4, 24.7,\n",
       "        24.6, 22.8, 22. , 29.2, 23.8, 30.5, 30.9, 25.4, 27. , 27.6, 22.6,\n",
       "        27.3, 23.1, 20.5, 20.2, 24.2, 20.3, 17.5, 18.3, 16.8, 14.1, 12.7,\n",
       "        13.8, 13.8,  5.1,  7. ,  5.3,  4.6,  3.8,  6.3,  5.9,  4.9,  4.9,\n",
       "         5.3,  4.9,  6.2,  7.4,  6. ,  8.9, 10.5, 14.1, 13.2, 11.5, 14. ,\n",
       "        17.2, 21. , 18.7, 20.9, 21.6, 23.4, 18. , 24. , 21.7, 22.6, 22.5,\n",
       "        25.9, 27.2, 28.6, 30.5, 27.6, 27.7, 28.3, 20. , 25.4, 24.7, 24.1,\n",
       "        20.5, 21.7, 18.3, 17.5, 19. , 14.4, 16.5, 13. , 15.5,  9.4,  9.8,\n",
       "        12.6,  7.1,  8.5,  7.3,  7.3,  6.5,  3.9,  3.3,  6.7, 14. ,  8. ,\n",
       "         7.8, 10.7,  5.8, 14.9,  8. , 10.5, 17.1, 15.8, 17.9, 16. , 21.2,\n",
       "        19.8, 19.1, 19.3, 21.7, 23.5, 26.7, 25.4, 27. , 22.4, 24.1, 22.4,\n",
       "        27.2, 29.1, 26.5, 25.7, 24.3, 27.2, 26.6, 25.3, 21.8, 19.7, 21.2,\n",
       "        16.7, 16.7, 15.5, 14.6, 13.6,  9.8,  8.3, 10.8,  8.5,  6.7,  8.6,\n",
       "         6.3]))"
      ]
     },
     "execution_count": 206,
     "metadata": {},
     "output_type": "execute_result"
    }
   ],
   "source": [
    "X, y = split_sequence_nonOL_next_window(xx, n_steps)\n",
    "X, y"
   ]
  },
  {
   "cell_type": "code",
   "execution_count": 207,
   "metadata": {
    "colab": {
     "base_uri": "https://localhost:8080/",
     "height": 35
    },
    "colab_type": "code",
    "id": "otaTsQmKx-Wr",
    "outputId": "be800908-6cee-4d43-ff4b-8f4b898917e2",
    "scrolled": true
   },
   "outputs": [
    {
     "data": {
      "text/plain": [
       "((573, 7), (573,))"
      ]
     },
     "execution_count": 207,
     "metadata": {},
     "output_type": "execute_result"
    }
   ],
   "source": [
    "X.shape, y.shape"
   ]
  },
  {
   "cell_type": "markdown",
   "metadata": {},
   "source": [
    "## 문제1 window 3, 7, 14"
   ]
  },
  {
   "cell_type": "markdown",
   "metadata": {
    "colab_type": "text",
    "id": "SBHTwh6L7tVD"
   },
   "source": [
    "### 훈련데이터, 검증데이터"
   ]
  },
  {
   "cell_type": "code",
   "execution_count": 209,
   "metadata": {
    "colab": {
     "base_uri": "https://localhost:8080/",
     "height": 35
    },
    "colab_type": "code",
    "id": "v6cyo84Z8ys1",
    "outputId": "8b288900-8b10-4eba-fa53-5830c203320d"
   },
   "outputs": [
    {
     "data": {
      "text/plain": [
       "((473, 7), (100, 7))"
      ]
     },
     "execution_count": 209,
     "metadata": {},
     "output_type": "execute_result"
    }
   ],
   "source": [
    "x_train = X[:-100]\n",
    "x_test = X[-100:]\n",
    "\n",
    "y_train = y[:-100]\n",
    "y_test = y[-100:]\n",
    "x_train.shape, x_test.shape"
   ]
  },
  {
   "cell_type": "code",
   "execution_count": 210,
   "metadata": {
    "colab": {
     "base_uri": "https://localhost:8080/",
     "height": 35
    },
    "colab_type": "code",
    "id": "35pjoSk0zUOb",
    "outputId": "292bd0a9-7a3a-49d1-edfe-3b25024dd9c9"
   },
   "outputs": [
    {
     "data": {
      "text/plain": [
       "((473,), (100,))"
      ]
     },
     "execution_count": 210,
     "metadata": {},
     "output_type": "execute_result"
    }
   ],
   "source": [
    "y_train.shape, y_test.shape"
   ]
  },
  {
   "cell_type": "markdown",
   "metadata": {
    "colab_type": "text",
    "id": "j4uiNmkmWLoT"
   },
   "source": [
    "## 퍼시스턴스 모델"
   ]
  },
  {
   "cell_type": "markdown",
   "metadata": {
    "colab_type": "text",
    "id": "2wRhfE-rgWrZ"
   },
   "source": [
    "###  퍼시스턴스 예측"
   ]
  },
  {
   "cell_type": "code",
   "execution_count": 211,
   "metadata": {
    "colab": {},
    "colab_type": "code",
    "id": "t22zZBBXXNTM"
   },
   "outputs": [],
   "source": [
    "y_pred = x_test[:,n_steps-1]"
   ]
  },
  {
   "cell_type": "code",
   "execution_count": 212,
   "metadata": {},
   "outputs": [
    {
     "data": {
      "text/plain": [
       "3.110626946453078"
      ]
     },
     "execution_count": 212,
     "metadata": {},
     "output_type": "execute_result"
    }
   ],
   "source": [
    "rmse(y_test, y_pred)"
   ]
  },
  {
   "cell_type": "code",
   "execution_count": null,
   "metadata": {},
   "outputs": [],
   "source": []
  },
  {
   "cell_type": "markdown",
   "metadata": {
    "colab_type": "text",
    "id": "jsWTynmN9Vp-"
   },
   "source": [
    "## 선형모델"
   ]
  },
  {
   "cell_type": "code",
   "execution_count": 213,
   "metadata": {
    "colab": {},
    "colab_type": "code",
    "id": "rgNZMq7A9sWG"
   },
   "outputs": [],
   "source": [
    "from sklearn.linear_model import LinearRegression\n",
    "lr = LinearRegression().fit(x_train,y_train)"
   ]
  },
  {
   "cell_type": "code",
   "execution_count": 214,
   "metadata": {
    "colab": {},
    "colab_type": "code",
    "id": "CItITVs696xT"
   },
   "outputs": [],
   "source": [
    "y_pred = lr.predict(x_test)"
   ]
  },
  {
   "cell_type": "code",
   "execution_count": 215,
   "metadata": {},
   "outputs": [
    {
     "data": {
      "text/plain": [
       "2.803967810840172"
      ]
     },
     "execution_count": 215,
     "metadata": {},
     "output_type": "execute_result"
    }
   ],
   "source": [
    "rmse(y_test, y_pred)"
   ]
  },
  {
   "cell_type": "markdown",
   "metadata": {
    "colab_type": "text",
    "id": "mJGjp0wAdrZA"
   },
   "source": [
    "##  MLP"
   ]
  },
  {
   "cell_type": "code",
   "execution_count": 216,
   "metadata": {
    "colab": {
     "base_uri": "https://localhost:8080/",
     "height": 215
    },
    "colab_type": "code",
    "id": "KH_65v4qdq6J",
    "outputId": "98d92fc4-048b-4966-b0f8-76e984f017db"
   },
   "outputs": [
    {
     "name": "stdout",
     "output_type": "stream",
     "text": [
      "_________________________________________________________________\n",
      "Layer (type)                 Output Shape              Param #   \n",
      "=================================================================\n",
      "dense_16 (Dense)             (None, 100)               800       \n",
      "_________________________________________________________________\n",
      "dense_17 (Dense)             (None, 1)                 101       \n",
      "=================================================================\n",
      "Total params: 901\n",
      "Trainable params: 901\n",
      "Non-trainable params: 0\n",
      "_________________________________________________________________\n"
     ]
    }
   ],
   "source": [
    "model = Sequential()\n",
    "model.add(Dense(100,activation = 'relu',input_shape = (n_steps,)))\n",
    "model.add(Dense(1))\n",
    "model.compile(optimizer='Adam',loss= 'mse')\n",
    "model.summary()"
   ]
  },
  {
   "cell_type": "code",
   "execution_count": 217,
   "metadata": {
    "colab": {
     "base_uri": "https://localhost:8080/",
     "height": 35
    },
    "colab_type": "code",
    "id": "JuHxApZvd4pQ",
    "outputId": "5bc8c5ca-a7a5-4dbc-a82f-ac26e41add00"
   },
   "outputs": [
    {
     "data": {
      "text/plain": [
       "<keras.callbacks.History at 0x1ec1bf98>"
      ]
     },
     "execution_count": 217,
     "metadata": {},
     "output_type": "execute_result"
    }
   ],
   "source": [
    "model.fit(x_train,y_train,epochs=200, verbose=0)"
   ]
  },
  {
   "cell_type": "code",
   "execution_count": 218,
   "metadata": {},
   "outputs": [],
   "source": [
    "y_pred = model.predict(x_test)"
   ]
  },
  {
   "cell_type": "code",
   "execution_count": 219,
   "metadata": {},
   "outputs": [
    {
     "data": {
      "text/plain": [
       "2.95380054311429"
      ]
     },
     "execution_count": 219,
     "metadata": {},
     "output_type": "execute_result"
    }
   ],
   "source": [
    "rmse(y_test, y_pred.ravel())"
   ]
  },
  {
   "cell_type": "code",
   "execution_count": 220,
   "metadata": {
    "scrolled": true
   },
   "outputs": [
    {
     "data": {
      "text/plain": [
       "10.255160707728768"
      ]
     },
     "execution_count": 220,
     "metadata": {},
     "output_type": "execute_result"
    }
   ],
   "source": [
    "rmse(y_test, y_pred)"
   ]
  },
  {
   "cell_type": "code",
   "execution_count": 231,
   "metadata": {},
   "outputs": [
    {
     "data": {
      "text/plain": [
       "array([ 5.3,  4.9,  6.2,  7.4,  6. ,  8.9, 10.5, 14.1, 13.2, 11.5, 14. ,\n",
       "       17.2, 21. , 18.7, 20.9, 21.6, 23.4, 18. , 24. , 21.7, 22.6, 22.5,\n",
       "       25.9, 27.2, 28.6, 30.5, 27.6, 27.7, 28.3, 20. , 25.4, 24.7, 24.1,\n",
       "       20.5, 21.7, 18.3, 17.5, 19. , 14.4, 16.5, 13. , 15.5,  9.4,  9.8,\n",
       "       12.6,  7.1,  8.5,  7.3,  7.3,  6.5,  3.9,  3.3,  6.7, 14. ,  8. ,\n",
       "        7.8, 10.7,  5.8, 14.9,  8. , 10.5, 17.1, 15.8, 17.9, 16. , 21.2,\n",
       "       19.8, 19.1, 19.3, 21.7, 23.5, 26.7, 25.4, 27. , 22.4, 24.1, 22.4,\n",
       "       27.2, 29.1, 26.5, 25.7, 24.3, 27.2, 26.6, 25.3, 21.8, 19.7, 21.2,\n",
       "       16.7, 16.7, 15.5, 14.6, 13.6,  9.8,  8.3, 10.8,  8.5,  6.7,  8.6,\n",
       "        6.3])"
      ]
     },
     "execution_count": 231,
     "metadata": {},
     "output_type": "execute_result"
    }
   ],
   "source": [
    "y_test"
   ]
  },
  {
   "cell_type": "code",
   "execution_count": 229,
   "metadata": {},
   "outputs": [
    {
     "data": {
      "text/plain": [
       "array([ 6.5555854,  5.040244 ,  4.580475 ,  6.049684 ,  9.10605  ,\n",
       "        8.492079 ,  8.750382 , 12.236704 , 11.389165 , 15.002252 ,\n",
       "        9.958946 , 14.516965 , 17.46031  , 19.94     , 19.781565 ,\n",
       "       21.532743 , 21.166668 , 22.26909  , 21.29569  , 22.151506 ,\n",
       "       21.539383 , 22.80655  , 21.932858 , 22.038853 , 26.507956 ,\n",
       "       26.992765 , 28.14632  , 28.349506 , 26.688126 , 25.786747 ,\n",
       "       21.671959 , 24.437881 , 22.753893 , 21.387234 , 21.010124 ,\n",
       "       21.50148  , 19.325317 , 18.380215 , 18.541533 , 17.570597 ,\n",
       "       15.329067 , 15.100414 , 16.22931  , 11.039335 , 10.560432 ,\n",
       "       10.794924 , 10.809184 ,  9.688044 ,  7.4558406,  9.2211485,\n",
       "        6.497567 ,  5.1736617,  4.945432 ,  6.4433684,  7.125845 ,\n",
       "        9.61369  ,  7.1491957,  8.912426 ,  9.809516 , 10.609354 ,\n",
       "       10.384224 , 13.085485 , 15.178693 , 15.217872 , 17.568657 ,\n",
       "       16.964296 , 20.478634 , 20.889635 , 19.0876   , 21.492275 ,\n",
       "       20.830961 , 21.772177 , 22.892708 , 23.113144 , 23.45469  ,\n",
       "       24.266964 , 24.394283 , 23.62907  , 25.064997 , 26.746994 ,\n",
       "       26.586788 , 26.128435 , 25.677502 , 25.596191 , 26.087326 ,\n",
       "       23.340935 , 20.952305 , 23.186863 , 23.025663 , 18.058773 ,\n",
       "       19.48801  , 16.854443 , 13.492142 , 11.669473 , 12.863204 ,\n",
       "       10.058245 , 10.873957 , 10.61189  ,  7.449987 , 11.742915 ],\n",
       "      dtype=float32)"
      ]
     },
     "execution_count": 229,
     "metadata": {},
     "output_type": "execute_result"
    }
   ],
   "source": [
    "y_pred.ravel()"
   ]
  },
  {
   "cell_type": "code",
   "execution_count": 230,
   "metadata": {},
   "outputs": [
    {
     "data": {
      "text/plain": [
       "array([[ 6.5555854],\n",
       "       [ 5.040244 ],\n",
       "       [ 4.580475 ],\n",
       "       [ 6.049684 ],\n",
       "       [ 9.10605  ],\n",
       "       [ 8.492079 ],\n",
       "       [ 8.750382 ],\n",
       "       [12.236704 ],\n",
       "       [11.389165 ],\n",
       "       [15.002252 ],\n",
       "       [ 9.958946 ],\n",
       "       [14.516965 ],\n",
       "       [17.46031  ],\n",
       "       [19.94     ],\n",
       "       [19.781565 ],\n",
       "       [21.532743 ],\n",
       "       [21.166668 ],\n",
       "       [22.26909  ],\n",
       "       [21.29569  ],\n",
       "       [22.151506 ],\n",
       "       [21.539383 ],\n",
       "       [22.80655  ],\n",
       "       [21.932858 ],\n",
       "       [22.038853 ],\n",
       "       [26.507956 ],\n",
       "       [26.992765 ],\n",
       "       [28.14632  ],\n",
       "       [28.349506 ],\n",
       "       [26.688126 ],\n",
       "       [25.786747 ],\n",
       "       [21.671959 ],\n",
       "       [24.437881 ],\n",
       "       [22.753893 ],\n",
       "       [21.387234 ],\n",
       "       [21.010124 ],\n",
       "       [21.50148  ],\n",
       "       [19.325317 ],\n",
       "       [18.380215 ],\n",
       "       [18.541533 ],\n",
       "       [17.570597 ],\n",
       "       [15.329067 ],\n",
       "       [15.100414 ],\n",
       "       [16.22931  ],\n",
       "       [11.039335 ],\n",
       "       [10.560432 ],\n",
       "       [10.794924 ],\n",
       "       [10.809184 ],\n",
       "       [ 9.688044 ],\n",
       "       [ 7.4558406],\n",
       "       [ 9.2211485],\n",
       "       [ 6.497567 ],\n",
       "       [ 5.1736617],\n",
       "       [ 4.945432 ],\n",
       "       [ 6.4433684],\n",
       "       [ 7.125845 ],\n",
       "       [ 9.61369  ],\n",
       "       [ 7.1491957],\n",
       "       [ 8.912426 ],\n",
       "       [ 9.809516 ],\n",
       "       [10.609354 ],\n",
       "       [10.384224 ],\n",
       "       [13.085485 ],\n",
       "       [15.178693 ],\n",
       "       [15.217872 ],\n",
       "       [17.568657 ],\n",
       "       [16.964296 ],\n",
       "       [20.478634 ],\n",
       "       [20.889635 ],\n",
       "       [19.0876   ],\n",
       "       [21.492275 ],\n",
       "       [20.830961 ],\n",
       "       [21.772177 ],\n",
       "       [22.892708 ],\n",
       "       [23.113144 ],\n",
       "       [23.45469  ],\n",
       "       [24.266964 ],\n",
       "       [24.394283 ],\n",
       "       [23.62907  ],\n",
       "       [25.064997 ],\n",
       "       [26.746994 ],\n",
       "       [26.586788 ],\n",
       "       [26.128435 ],\n",
       "       [25.677502 ],\n",
       "       [25.596191 ],\n",
       "       [26.087326 ],\n",
       "       [23.340935 ],\n",
       "       [20.952305 ],\n",
       "       [23.186863 ],\n",
       "       [23.025663 ],\n",
       "       [18.058773 ],\n",
       "       [19.48801  ],\n",
       "       [16.854443 ],\n",
       "       [13.492142 ],\n",
       "       [11.669473 ],\n",
       "       [12.863204 ],\n",
       "       [10.058245 ],\n",
       "       [10.873957 ],\n",
       "       [10.61189  ],\n",
       "       [ 7.449987 ],\n",
       "       [11.742915 ]], dtype=float32)"
      ]
     },
     "execution_count": 230,
     "metadata": {},
     "output_type": "execute_result"
    }
   ],
   "source": [
    "y_pred"
   ]
  },
  {
   "cell_type": "code",
   "execution_count": null,
   "metadata": {},
   "outputs": [],
   "source": []
  },
  {
   "cell_type": "markdown",
   "metadata": {
    "colab_type": "text",
    "id": "C2kU1nHbPDpx"
   },
   "source": [
    "## LSTM"
   ]
  },
  {
   "cell_type": "code",
   "execution_count": 221,
   "metadata": {
    "colab": {},
    "colab_type": "code",
    "id": "-AUCgEfjQO_E"
   },
   "outputs": [],
   "source": [
    "x_train = x_train.reshape(-1, x_train.shape[1],1)\n",
    "x_test = x_test.reshape(-1, x_test.shape[1],1)"
   ]
  },
  {
   "cell_type": "code",
   "execution_count": 222,
   "metadata": {
    "colab": {
     "base_uri": "https://localhost:8080/",
     "height": 215
    },
    "colab_type": "code",
    "id": "X4MVDb4w-EzA",
    "outputId": "0e8f1fc1-c5b2-445e-f4e8-6da5584f4595"
   },
   "outputs": [
    {
     "name": "stdout",
     "output_type": "stream",
     "text": [
      "_________________________________________________________________\n",
      "Layer (type)                 Output Shape              Param #   \n",
      "=================================================================\n",
      "lstm_4 (LSTM)                (None, 10)                480       \n",
      "_________________________________________________________________\n",
      "dense_18 (Dense)             (None, 1)                 11        \n",
      "=================================================================\n",
      "Total params: 491\n",
      "Trainable params: 491\n",
      "Non-trainable params: 0\n",
      "_________________________________________________________________\n"
     ]
    }
   ],
   "source": [
    "from keras.models import Sequential\n",
    "from keras.callbacks import EarlyStopping\n",
    "\n",
    "from keras.layers import LSTM\n",
    "from keras.layers import Dense\n",
    "es = EarlyStopping(monitor='val_loss', mode='min', verbose=0, patience=50)\n",
    "\n",
    "model = Sequential()\n",
    "model.add(LSTM(10,activation = 'relu',input_shape = (n_steps,1)))\n",
    "model.add(Dense(1))\n",
    "\n",
    "model.compile(optimizer='Adam',loss= 'mse')\n",
    "model.summary()"
   ]
  },
  {
   "cell_type": "code",
   "execution_count": 223,
   "metadata": {
    "colab": {},
    "colab_type": "code",
    "id": "CxWQgcukPaPx"
   },
   "outputs": [],
   "source": [
    "history = model.fit(x_train,y_train,epochs=20, verbose=0)\n",
    "#                    callbacks =[es])"
   ]
  },
  {
   "cell_type": "code",
   "execution_count": 224,
   "metadata": {
    "colab": {},
    "colab_type": "code",
    "id": "M_ekdVnQyS8i"
   },
   "outputs": [],
   "source": [
    "y_pred = model.predict(x_test)"
   ]
  },
  {
   "cell_type": "code",
   "execution_count": 225,
   "metadata": {
    "colab": {
     "base_uri": "https://localhost:8080/",
     "height": 89
    },
    "colab_type": "code",
    "id": "85u48GK6SMG6",
    "outputId": "9cd8702c-781d-457b-c11c-12c3727c6886"
   },
   "outputs": [
    {
     "data": {
      "text/plain": [
       "{'LSTM_4': 2.7638709699462085}"
      ]
     },
     "execution_count": 225,
     "metadata": {},
     "output_type": "execute_result"
    }
   ],
   "source": [
    "result['LSTM_'+str(sample)]=  rmse(y_test, y_pred.ravel())\n",
    "result"
   ]
  },
  {
   "cell_type": "code",
   "execution_count": 226,
   "metadata": {
    "colab": {},
    "colab_type": "code",
    "id": "eu6ZW14mQXKC"
   },
   "outputs": [],
   "source": [
    "res_6 = result"
   ]
  },
  {
   "cell_type": "code",
   "execution_count": 227,
   "metadata": {
    "colab": {},
    "colab_type": "code",
    "id": "6-62pz-zx1DF"
   },
   "outputs": [],
   "source": [
    "res_20 = result"
   ]
  },
  {
   "cell_type": "code",
   "execution_count": 228,
   "metadata": {},
   "outputs": [
    {
     "data": {
      "text/plain": [
       "2.7638709699462085"
      ]
     },
     "execution_count": 228,
     "metadata": {},
     "output_type": "execute_result"
    }
   ],
   "source": [
    "rmse(y_test, y_pred.ravel())"
   ]
  },
  {
   "cell_type": "code",
   "execution_count": null,
   "metadata": {},
   "outputs": [],
   "source": []
  },
  {
   "cell_type": "code",
   "execution_count": null,
   "metadata": {},
   "outputs": [],
   "source": []
  }
 ],
 "metadata": {
  "accelerator": "GPU",
  "colab": {
   "collapsed_sections": [],
   "include_colab_link": true,
   "name": "hh_시계열비교_190812_3.ipynb",
   "provenance": [],
   "version": "0.3.2"
  },
  "kernelspec": {
   "display_name": "Python 3",
   "language": "python",
   "name": "python3"
  },
  "language_info": {
   "codemirror_mode": {
    "name": "ipython",
    "version": 3
   },
   "file_extension": ".py",
   "mimetype": "text/x-python",
   "name": "python",
   "nbconvert_exporter": "python",
   "pygments_lexer": "ipython3",
   "version": "3.7.3"
  }
 },
 "nbformat": 4,
 "nbformat_minor": 1
}
