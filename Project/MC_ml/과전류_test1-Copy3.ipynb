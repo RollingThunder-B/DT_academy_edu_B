{
 "cells": [
  {
   "cell_type": "code",
   "execution_count": 1,
   "metadata": {},
   "outputs": [],
   "source": [
    "import pandas as pd\n",
    "import numpy as np\n",
    "\n",
    "import matplotlib.pyplot as plt\n",
    "from matplotlib import rc\n",
    "rc('font', family='Malgun Gothic')\n",
    "rc('axes', unicode_minus=False)\n",
    "\n",
    "import seaborn as sns "
   ]
  },
  {
   "cell_type": "code",
   "execution_count": 2,
   "metadata": {
    "scrolled": false
   },
   "outputs": [
    {
     "data": {
      "text/html": [
       "<div>\n",
       "<style scoped>\n",
       "    .dataframe tbody tr th:only-of-type {\n",
       "        vertical-align: middle;\n",
       "    }\n",
       "\n",
       "    .dataframe tbody tr th {\n",
       "        vertical-align: top;\n",
       "    }\n",
       "\n",
       "    .dataframe thead th {\n",
       "        text-align: right;\n",
       "    }\n",
       "</style>\n",
       "<table border=\"1\" class=\"dataframe\">\n",
       "  <thead>\n",
       "    <tr style=\"text-align: right;\">\n",
       "      <th></th>\n",
       "      <th>S하중</th>\n",
       "      <th>S저항</th>\n",
       "      <th>T저항</th>\n",
       "      <th>M하중</th>\n",
       "      <th>M_stroke</th>\n",
       "      <th>C하중</th>\n",
       "      <th>C_stroke</th>\n",
       "      <th>C저항</th>\n",
       "      <th>저항합</th>\n",
       "      <th>Gap</th>\n",
       "      <th>초기위치</th>\n",
       "      <th>이동속도</th>\n",
       "      <th>접촉예측</th>\n",
       "      <th>Trip시간</th>\n",
       "    </tr>\n",
       "  </thead>\n",
       "  <tbody>\n",
       "    <tr>\n",
       "      <th>0</th>\n",
       "      <td>123</td>\n",
       "      <td>0.084</td>\n",
       "      <td>0.756</td>\n",
       "      <td>218</td>\n",
       "      <td>1.95</td>\n",
       "      <td>323</td>\n",
       "      <td>1.70</td>\n",
       "      <td>1.0613</td>\n",
       "      <td>0.840</td>\n",
       "      <td>1.598</td>\n",
       "      <td>8.186</td>\n",
       "      <td>0.0473</td>\n",
       "      <td>34.17</td>\n",
       "      <td>95</td>\n",
       "    </tr>\n",
       "    <tr>\n",
       "      <th>1</th>\n",
       "      <td>103</td>\n",
       "      <td>0.083</td>\n",
       "      <td>0.785</td>\n",
       "      <td>216</td>\n",
       "      <td>1.96</td>\n",
       "      <td>298</td>\n",
       "      <td>1.73</td>\n",
       "      <td>1.0578</td>\n",
       "      <td>0.868</td>\n",
       "      <td>1.396</td>\n",
       "      <td>8.145</td>\n",
       "      <td>0.0299</td>\n",
       "      <td>31.62</td>\n",
       "      <td>95</td>\n",
       "    </tr>\n",
       "    <tr>\n",
       "      <th>2</th>\n",
       "      <td>104</td>\n",
       "      <td>0.092</td>\n",
       "      <td>0.735</td>\n",
       "      <td>218</td>\n",
       "      <td>1.85</td>\n",
       "      <td>298</td>\n",
       "      <td>1.59</td>\n",
       "      <td>1.1678</td>\n",
       "      <td>0.827</td>\n",
       "      <td>1.552</td>\n",
       "      <td>8.157</td>\n",
       "      <td>0.0369</td>\n",
       "      <td>34.39</td>\n",
       "      <td>106</td>\n",
       "    </tr>\n",
       "    <tr>\n",
       "      <th>3</th>\n",
       "      <td>107</td>\n",
       "      <td>0.087</td>\n",
       "      <td>0.765</td>\n",
       "      <td>225</td>\n",
       "      <td>1.83</td>\n",
       "      <td>312</td>\n",
       "      <td>1.65</td>\n",
       "      <td>1.0107</td>\n",
       "      <td>0.852</td>\n",
       "      <td>1.437</td>\n",
       "      <td>8.435</td>\n",
       "      <td>0.0449</td>\n",
       "      <td>30.69</td>\n",
       "      <td>84</td>\n",
       "    </tr>\n",
       "    <tr>\n",
       "      <th>4</th>\n",
       "      <td>93</td>\n",
       "      <td>0.085</td>\n",
       "      <td>0.737</td>\n",
       "      <td>221</td>\n",
       "      <td>2.08</td>\n",
       "      <td>299</td>\n",
       "      <td>1.83</td>\n",
       "      <td>1.0552</td>\n",
       "      <td>0.822</td>\n",
       "      <td>1.408</td>\n",
       "      <td>8.247</td>\n",
       "      <td>0.0476</td>\n",
       "      <td>29.67</td>\n",
       "      <td>91</td>\n",
       "    </tr>\n",
       "    <tr>\n",
       "      <th>5</th>\n",
       "      <td>109</td>\n",
       "      <td>0.112</td>\n",
       "      <td>0.735</td>\n",
       "      <td>206</td>\n",
       "      <td>1.79</td>\n",
       "      <td>298</td>\n",
       "      <td>1.58</td>\n",
       "      <td>1.1469</td>\n",
       "      <td>0.847</td>\n",
       "      <td>1.763</td>\n",
       "      <td>8.234</td>\n",
       "      <td>0.0477</td>\n",
       "      <td>37.98</td>\n",
       "      <td>103</td>\n",
       "    </tr>\n",
       "  </tbody>\n",
       "</table>\n",
       "</div>"
      ],
      "text/plain": [
       "   S하중    S저항    T저항  M하중  M_stroke  C하중  C_stroke     C저항    저항합    Gap  \\\n",
       "0  123  0.084  0.756  218      1.95  323      1.70  1.0613  0.840  1.598   \n",
       "1  103  0.083  0.785  216      1.96  298      1.73  1.0578  0.868  1.396   \n",
       "2  104  0.092  0.735  218      1.85  298      1.59  1.1678  0.827  1.552   \n",
       "3  107  0.087  0.765  225      1.83  312      1.65  1.0107  0.852  1.437   \n",
       "4   93  0.085  0.737  221      2.08  299      1.83  1.0552  0.822  1.408   \n",
       "5  109  0.112  0.735  206      1.79  298      1.58  1.1469  0.847  1.763   \n",
       "\n",
       "    초기위치    이동속도   접촉예측  Trip시간  \n",
       "0  8.186  0.0473  34.17      95  \n",
       "1  8.145  0.0299  31.62      95  \n",
       "2  8.157  0.0369  34.39     106  \n",
       "3  8.435  0.0449  30.69      84  \n",
       "4  8.247  0.0476  29.67      91  \n",
       "5  8.234  0.0477  37.98     103  "
      ]
     },
     "execution_count": 2,
     "metadata": {},
     "output_type": "execute_result"
    }
   ],
   "source": [
    "data_all = pd.read_csv('data/과전류샘플데이터.csv')\n",
    "data_all[:6]"
   ]
  },
  {
   "cell_type": "code",
   "execution_count": 3,
   "metadata": {},
   "outputs": [
    {
     "name": "stdout",
     "output_type": "stream",
     "text": [
      "<class 'pandas.core.frame.DataFrame'>\n",
      "RangeIndex: 86 entries, 0 to 85\n",
      "Data columns (total 14 columns):\n",
      "S하중         86 non-null int64\n",
      "S저항         86 non-null float64\n",
      "T저항         86 non-null float64\n",
      "M하중         86 non-null int64\n",
      "M_stroke    86 non-null float64\n",
      "C하중         86 non-null int64\n",
      "C_stroke    86 non-null float64\n",
      "C저항         86 non-null float64\n",
      "저항합         86 non-null float64\n",
      "Gap         86 non-null float64\n",
      "초기위치        86 non-null float64\n",
      "이동속도        86 non-null float64\n",
      "접촉예측        86 non-null float64\n",
      "Trip시간      86 non-null int64\n",
      "dtypes: float64(10), int64(4)\n",
      "memory usage: 9.5 KB\n"
     ]
    }
   ],
   "source": [
    "data_all.info()"
   ]
  },
  {
   "cell_type": "code",
   "execution_count": 4,
   "metadata": {},
   "outputs": [
    {
     "data": {
      "text/html": [
       "<div>\n",
       "<style scoped>\n",
       "    .dataframe tbody tr th:only-of-type {\n",
       "        vertical-align: middle;\n",
       "    }\n",
       "\n",
       "    .dataframe tbody tr th {\n",
       "        vertical-align: top;\n",
       "    }\n",
       "\n",
       "    .dataframe thead th {\n",
       "        text-align: right;\n",
       "    }\n",
       "</style>\n",
       "<table border=\"1\" class=\"dataframe\">\n",
       "  <thead>\n",
       "    <tr style=\"text-align: right;\">\n",
       "      <th></th>\n",
       "      <th>S하중</th>\n",
       "      <th>S저항</th>\n",
       "      <th>T저항</th>\n",
       "      <th>M하중</th>\n",
       "      <th>M_stroke</th>\n",
       "      <th>C하중</th>\n",
       "      <th>C_stroke</th>\n",
       "      <th>C저항</th>\n",
       "      <th>저항합</th>\n",
       "      <th>Gap</th>\n",
       "      <th>초기위치</th>\n",
       "      <th>이동속도</th>\n",
       "    </tr>\n",
       "  </thead>\n",
       "  <tbody>\n",
       "    <tr>\n",
       "      <th>0</th>\n",
       "      <td>123</td>\n",
       "      <td>0.084</td>\n",
       "      <td>0.756</td>\n",
       "      <td>218</td>\n",
       "      <td>1.95</td>\n",
       "      <td>323</td>\n",
       "      <td>1.70</td>\n",
       "      <td>1.0613</td>\n",
       "      <td>0.840</td>\n",
       "      <td>1.598</td>\n",
       "      <td>8.186</td>\n",
       "      <td>0.0473</td>\n",
       "    </tr>\n",
       "    <tr>\n",
       "      <th>1</th>\n",
       "      <td>103</td>\n",
       "      <td>0.083</td>\n",
       "      <td>0.785</td>\n",
       "      <td>216</td>\n",
       "      <td>1.96</td>\n",
       "      <td>298</td>\n",
       "      <td>1.73</td>\n",
       "      <td>1.0578</td>\n",
       "      <td>0.868</td>\n",
       "      <td>1.396</td>\n",
       "      <td>8.145</td>\n",
       "      <td>0.0299</td>\n",
       "    </tr>\n",
       "    <tr>\n",
       "      <th>2</th>\n",
       "      <td>104</td>\n",
       "      <td>0.092</td>\n",
       "      <td>0.735</td>\n",
       "      <td>218</td>\n",
       "      <td>1.85</td>\n",
       "      <td>298</td>\n",
       "      <td>1.59</td>\n",
       "      <td>1.1678</td>\n",
       "      <td>0.827</td>\n",
       "      <td>1.552</td>\n",
       "      <td>8.157</td>\n",
       "      <td>0.0369</td>\n",
       "    </tr>\n",
       "  </tbody>\n",
       "</table>\n",
       "</div>"
      ],
      "text/plain": [
       "   S하중    S저항    T저항  M하중  M_stroke  C하중  C_stroke     C저항    저항합    Gap  \\\n",
       "0  123  0.084  0.756  218      1.95  323      1.70  1.0613  0.840  1.598   \n",
       "1  103  0.083  0.785  216      1.96  298      1.73  1.0578  0.868  1.396   \n",
       "2  104  0.092  0.735  218      1.85  298      1.59  1.1678  0.827  1.552   \n",
       "\n",
       "    초기위치    이동속도  \n",
       "0  8.186  0.0473  \n",
       "1  8.145  0.0299  \n",
       "2  8.157  0.0369  "
      ]
     },
     "execution_count": 4,
     "metadata": {},
     "output_type": "execute_result"
    }
   ],
   "source": [
    "X = data_all.drop(['Trip시간', '접촉예측'], axis=1)\n",
    "X[:3]"
   ]
  },
  {
   "cell_type": "code",
   "execution_count": 5,
   "metadata": {},
   "outputs": [
    {
     "data": {
      "text/plain": [
       "0     95\n",
       "1     95\n",
       "2    106\n",
       "Name: Trip시간, dtype: int64"
      ]
     },
     "execution_count": 5,
     "metadata": {},
     "output_type": "execute_result"
    }
   ],
   "source": [
    "y = data_all['Trip시간']\n",
    "y[:3]"
   ]
  },
  {
   "cell_type": "code",
   "execution_count": null,
   "metadata": {},
   "outputs": [],
   "source": []
  },
  {
   "cell_type": "code",
   "execution_count": 6,
   "metadata": {},
   "outputs": [],
   "source": [
    "import seaborn as sns "
   ]
  },
  {
   "cell_type": "code",
   "execution_count": 7,
   "metadata": {
    "scrolled": true
   },
   "outputs": [
    {
     "data": {
      "text/plain": [
       "<matplotlib.axes._subplots.AxesSubplot at 0xb8fcd68>"
      ]
     },
     "execution_count": 7,
     "metadata": {},
     "output_type": "execute_result"
    },
    {
     "data": {
      "image/png": "[encoded data removed]",
      "text/plain": [
       "<Figure size 864x1296 with 12 Axes>"
      ]
     },
     "metadata": {
      "needs_background": "light"
     },
     "output_type": "display_data"
    }
   ],
   "source": [
    "figure, ((ax1, ax2), \n",
    "         (ax3, ax4), \n",
    "         (ax5, ax6),\n",
    "         (ax7, ax8), \n",
    "         (ax9, ax10),\n",
    "         (ax11, ax12)) = plt.subplots(nrows=6, ncols=2)\n",
    "figure.set_size_inches(12, 18)\n",
    "\n",
    "sns.barplot(data=data_all, x=\"S하중\", y=\"Trip시간\", ax=ax1)\n",
    "sns.barplot(data=data_all, x=\"S저항\", y=\"Trip시간\", ax=ax2)\n",
    "sns.barplot(data=data_all, x=\"T저항\", y=\"Trip시간\", ax=ax3)\n",
    "sns.barplot(data=data_all, x=\"M하중\", y=\"Trip시간\", ax=ax4)\n",
    "sns.barplot(data=data_all, x=\"M_stroke\", y=\"Trip시간\", ax=ax5)\n",
    "sns.barplot(data=data_all, x=\"C하중\", y=\"Trip시간\", ax=ax6)\n",
    "sns.barplot(data=data_all, x=\"C_stroke\", y=\"Trip시간\", ax=ax7)\n",
    "sns.barplot(data=data_all, x=\"C저항\", y=\"Trip시간\", ax=ax8)\n",
    "sns.barplot(data=data_all, x=\"저항합\", y=\"Trip시간\", ax=ax9)\n",
    "sns.barplot(data=data_all, x=\"Gap\", y=\"Trip시간\", ax=ax10)\n",
    "sns.barplot(data=data_all, x=\"초기위치\", y=\"Trip시간\", ax=ax11)\n",
    "sns.barplot(data=data_all, x=\"이동속도\", y=\"Trip시간\", ax=ax12)\n",
    "\n"
   ]
  },
  {
   "cell_type": "code",
   "execution_count": null,
   "metadata": {},
   "outputs": [
    {
     "data": {
      "text/plain": [
       "<seaborn.axisgrid.PairGrid at 0xb4a9c50>"
      ]
     },
     "execution_count": 8,
     "metadata": {},
     "output_type": "execute_result"
    }
   ],
   "source": [
    "sns.pairplot(data_all.drop('접촉예측', axis=1))"
   ]
  },
  {
   "cell_type": "code",
   "execution_count": null,
   "metadata": {},
   "outputs": [],
   "source": []
  },
  {
   "cell_type": "code",
   "execution_count": null,
   "metadata": {
    "scrolled": false
   },
   "outputs": [],
   "source": [
    "plt.figure(figsize=(8, 8))\n",
    "sns.heatmap(data=data_all.drop('접촉예측', axis=1).corr(), annot=True, fmt='.2f', cmap='Blues')"
   ]
  },
  {
   "cell_type": "code",
   "execution_count": null,
   "metadata": {},
   "outputs": [],
   "source": []
  },
  {
   "cell_type": "code",
   "execution_count": 9,
   "metadata": {},
   "outputs": [],
   "source": [
    "from sklearn.model_selection import train_test_split"
   ]
  },
  {
   "cell_type": "code",
   "execution_count": null,
   "metadata": {},
   "outputs": [],
   "source": [
    "np.random.seed(7)\n",
    "\n",
    "X_train, X_test, y_train, y_test = train_test_split(X, y, test_size=0.2)"
   ]
  },
  {
   "cell_type": "markdown",
   "metadata": {},
   "source": [
    "### 랜덤 포레스트"
   ]
  },
  {
   "cell_type": "code",
   "execution_count": 14,
   "metadata": {},
   "outputs": [],
   "source": [
    "from sklearn.ensemble import RandomForestRegressor"
   ]
  },
  {
   "cell_type": "code",
   "execution_count": null,
   "metadata": {},
   "outputs": [],
   "source": [
    "rfc = RandomForestRegressor(n_estimators=300)\n",
    "rfc.fit(X_train, y_train)\n",
    "rfc.score(X_test, y_test)"
   ]
  },
  {
   "cell_type": "markdown",
   "metadata": {},
   "source": [
    "## ##"
   ]
  },
  {
   "cell_type": "code",
   "execution_count": null,
   "metadata": {},
   "outputs": [],
   "source": [
    "from sklearn.model_selection import cross_val_score"
   ]
  },
  {
   "cell_type": "code",
   "execution_count": null,
   "metadata": {},
   "outputs": [],
   "source": [
    "cross_val_score(rfc, X_train, y_train, cv=5).mean()"
   ]
  },
  {
   "cell_type": "code",
   "execution_count": null,
   "metadata": {},
   "outputs": [],
   "source": []
  },
  {
   "cell_type": "markdown",
   "metadata": {},
   "source": [
    "#### columns 명 바꾸는 방법??"
   ]
  },
  {
   "cell_type": "code",
   "execution_count": null,
   "metadata": {
    "scrolled": true
   },
   "outputs": [],
   "source": [
    "pred = pd.DataFrame(y_test)\n",
    "pred[:5]"
   ]
  },
  {
   "cell_type": "code",
   "execution_count": null,
   "metadata": {
    "scrolled": true
   },
   "outputs": [],
   "source": [
    "pred['y_RF'] =rfc.predict(X_test)\n",
    "pred[:5]"
   ]
  },
  {
   "cell_type": "code",
   "execution_count": null,
   "metadata": {},
   "outputs": [],
   "source": []
  },
  {
   "cell_type": "code",
   "execution_count": null,
   "metadata": {
    "scrolled": false
   },
   "outputs": [],
   "source": [
    "plt.figure(figsize=(16,8))\n",
    "sns.lineplot(data=pred)"
   ]
  },
  {
   "cell_type": "code",
   "execution_count": null,
   "metadata": {},
   "outputs": [],
   "source": [
    "plt.figure(figsize=(6, 6))\n",
    "sns.scatterplot(data=pred, x='Trip시간', y='y_RF')"
   ]
  },
  {
   "cell_type": "code",
   "execution_count": null,
   "metadata": {},
   "outputs": [],
   "source": [
    "pred['diff'] = abs(pred['Trip시간']-pred['y_RF'])"
   ]
  },
  {
   "cell_type": "code",
   "execution_count": null,
   "metadata": {},
   "outputs": [],
   "source": [
    "diff_max = pred['diff'].max()\n",
    "diff_mean = pred['diff'].mean()\n",
    "print(f'최대 : {diff_max:.3f}')\n",
    "print(f'평균 : {diff_mean:.3f}')"
   ]
  },
  {
   "cell_type": "code",
   "execution_count": null,
   "metadata": {},
   "outputs": [],
   "source": [
    "pred[['diff']].describe()"
   ]
  },
  {
   "cell_type": "code",
   "execution_count": null,
   "metadata": {},
   "outputs": [],
   "source": []
  },
  {
   "cell_type": "code",
   "execution_count": null,
   "metadata": {},
   "outputs": [],
   "source": []
  },
  {
   "cell_type": "code",
   "execution_count": null,
   "metadata": {},
   "outputs": [],
   "source": []
  },
  {
   "cell_type": "markdown",
   "metadata": {},
   "source": [
    "## SVM"
   ]
  },
  {
   "cell_type": "code",
   "execution_count": null,
   "metadata": {},
   "outputs": [],
   "source": [
    "np.random.seed(7)\n",
    "X_train, X_test, y_train, y_test = train_test_split(X, y, test_size=0.2)"
   ]
  },
  {
   "cell_type": "code",
   "execution_count": null,
   "metadata": {},
   "outputs": [],
   "source": [
    "from sklearn.svm import SVR"
   ]
  },
  {
   "cell_type": "code",
   "execution_count": null,
   "metadata": {},
   "outputs": [],
   "source": [
    "svr = SVR(kernel=\"linear\")\n",
    "# , C=float(\"inf\")\n",
    "svr.fit(X_train, y_train)\n",
    "svr.score(X_test, y_test)"
   ]
  },
  {
   "cell_type": "code",
   "execution_count": null,
   "metadata": {},
   "outputs": [],
   "source": [
    "cross_val_score(svr, X_train, y_train, cv=5).mean()"
   ]
  },
  {
   "cell_type": "markdown",
   "metadata": {},
   "source": [
    "## 선형"
   ]
  },
  {
   "cell_type": "code",
   "execution_count": null,
   "metadata": {},
   "outputs": [],
   "source": [
    "from sklearn.linear_model import LinearRegression"
   ]
  },
  {
   "cell_type": "code",
   "execution_count": null,
   "metadata": {},
   "outputs": [],
   "source": [
    "np.random.seed(7)\n",
    "X_train, X_test, y_train, y_test = train_test_split(X, y, test_size=0.2)"
   ]
  },
  {
   "cell_type": "code",
   "execution_count": null,
   "metadata": {},
   "outputs": [],
   "source": [
    "linr = LinearRegression()\n",
    "linr.fit(X_train, y_train)\n",
    "linr.score(X_test, y_test)"
   ]
  },
  {
   "cell_type": "code",
   "execution_count": null,
   "metadata": {},
   "outputs": [],
   "source": [
    "cross_val_score(linr, X_train, y_train, cv=5).mean()"
   ]
  },
  {
   "cell_type": "code",
   "execution_count": null,
   "metadata": {},
   "outputs": [],
   "source": []
  },
  {
   "cell_type": "code",
   "execution_count": null,
   "metadata": {
    "scrolled": true
   },
   "outputs": [],
   "source": [
    "pred['y_svr'] = svr.predict(X_test)\n",
    "pred['y_linr'] = linr.predict(X_test)\n",
    "\n",
    "pred[:5]"
   ]
  },
  {
   "cell_type": "code",
   "execution_count": null,
   "metadata": {},
   "outputs": [],
   "source": [
    "plt.figure(figsize=(16,10))\n",
    "sns.lineplot(data=pred.drop('diff', axis=1))"
   ]
  },
  {
   "cell_type": "code",
   "execution_count": null,
   "metadata": {},
   "outputs": [],
   "source": []
  },
  {
   "cell_type": "code",
   "execution_count": null,
   "metadata": {},
   "outputs": [],
   "source": []
  },
  {
   "cell_type": "markdown",
   "metadata": {},
   "source": [
    "### 스케일링"
   ]
  },
  {
   "cell_type": "code",
   "execution_count": null,
   "metadata": {},
   "outputs": [],
   "source": [
    "from sklearn.preprocessing import  MinMaxScaler"
   ]
  },
  {
   "cell_type": "code",
   "execution_count": null,
   "metadata": {
    "scrolled": true
   },
   "outputs": [],
   "source": [
    "scaler = MinMaxScaler()\n",
    "X_sc = scaler.fit_transform(X)\n",
    "# y_sc = scaler.fit_transform(y.values.reshape(-1,1)).ravel()\n",
    "\n",
    "# y도 스케일링이 필요한가?? => ㄴㄴ y는 독립이므로 안해도됨"
   ]
  },
  {
   "cell_type": "code",
   "execution_count": null,
   "metadata": {
    "scrolled": true
   },
   "outputs": [],
   "source": [
    "pd.DataFrame(X_sc[:3].round(4), columns=X.columns)"
   ]
  },
  {
   "cell_type": "code",
   "execution_count": null,
   "metadata": {},
   "outputs": [],
   "source": [
    "np.random.seed(7)\n",
    "X_sc_train, X_sc_test, y_train, y_test = train_test_split(X_sc, y, test_size=0.2)"
   ]
  },
  {
   "cell_type": "code",
   "execution_count": null,
   "metadata": {},
   "outputs": [],
   "source": [
    "## RF"
   ]
  },
  {
   "cell_type": "code",
   "execution_count": null,
   "metadata": {},
   "outputs": [],
   "source": [
    "rfc_sc = RandomForestRegressor(n_estimators=300)\n",
    "rfc_sc.fit(X_sc_train, y_train)\n",
    "rfc_sc.score(X_sc_test, y_test)"
   ]
  },
  {
   "cell_type": "code",
   "execution_count": null,
   "metadata": {},
   "outputs": [],
   "source": [
    "cross_val_score(rfc_sc, X_sc_train, y_train, cv=5).mean()"
   ]
  },
  {
   "cell_type": "code",
   "execution_count": null,
   "metadata": {},
   "outputs": [],
   "source": [
    "## SVM"
   ]
  },
  {
   "cell_type": "code",
   "execution_count": null,
   "metadata": {
    "scrolled": true
   },
   "outputs": [],
   "source": [
    "svr_sc = SVR(kernel=\"linear\")\n",
    "svr_sc.fit(X_sc_train, y_train)\n",
    "svr_sc.score(X_sc_test, y_test)"
   ]
  },
  {
   "cell_type": "code",
   "execution_count": null,
   "metadata": {},
   "outputs": [],
   "source": [
    "cross_val_score(svr_sc, X_sc_train, y_train, cv=5).mean()"
   ]
  },
  {
   "cell_type": "code",
   "execution_count": null,
   "metadata": {},
   "outputs": [],
   "source": [
    "## Linear"
   ]
  },
  {
   "cell_type": "code",
   "execution_count": null,
   "metadata": {},
   "outputs": [],
   "source": [
    "linr_sc = LinearRegression()\n",
    "linr_sc.fit(X_sc_train, y_train)\n",
    "linr_sc.score(X_sc_test, y_test)"
   ]
  },
  {
   "cell_type": "code",
   "execution_count": null,
   "metadata": {},
   "outputs": [],
   "source": [
    "cross_val_score(linr_sc, X_sc_train, y_train, cv=5).mean()"
   ]
  },
  {
   "cell_type": "code",
   "execution_count": null,
   "metadata": {},
   "outputs": [],
   "source": []
  },
  {
   "cell_type": "code",
   "execution_count": null,
   "metadata": {},
   "outputs": [],
   "source": [
    "pred_sc = pd.DataFrame(y_test)"
   ]
  },
  {
   "cell_type": "code",
   "execution_count": null,
   "metadata": {},
   "outputs": [],
   "source": [
    "pred_sc['y_rfc_sc'] = rfc_sc.predict(X_sc_test)\n",
    "pred_sc['y_svr_sc'] = svr_sc.predict(X_sc_test)\n",
    "pred_sc['y_linr_sc'] = linr_sc.predict(X_sc_test)\n",
    "pred_sc[:5]"
   ]
  },
  {
   "cell_type": "code",
   "execution_count": null,
   "metadata": {},
   "outputs": [],
   "source": [
    "print(abs(pred_sc['Trip시간'] - pred_sc['y_rfc_sc']).max())\n",
    "print(abs(pred_sc['Trip시간'] - pred_sc['y_svr_sc']).max())\n",
    "print(abs(pred_sc['Trip시간'] - pred_sc['y_linr_sc']).max())"
   ]
  },
  {
   "cell_type": "code",
   "execution_count": null,
   "metadata": {},
   "outputs": [],
   "source": [
    "plt.figure(figsize=(16,10))\n",
    "sns.lineplot(data=pred_sc)"
   ]
  },
  {
   "cell_type": "code",
   "execution_count": null,
   "metadata": {},
   "outputs": [],
   "source": []
  },
  {
   "cell_type": "code",
   "execution_count": 16,
   "metadata": {},
   "outputs": [],
   "source": [
    "np.random.seed(7)\n",
    "X_train, X_test, y_train, y_test = train_test_split(X, y, test_size = 0.02)"
   ]
  },
  {
   "cell_type": "code",
   "execution_count": 17,
   "metadata": {},
   "outputs": [
    {
     "data": {
      "text/plain": [
       "((84, 12), (84,))"
      ]
     },
     "execution_count": 17,
     "metadata": {},
     "output_type": "execute_result"
    }
   ],
   "source": [
    "X_train.shape, y_train.shape"
   ]
  },
  {
   "cell_type": "code",
   "execution_count": 18,
   "metadata": {},
   "outputs": [
    {
     "data": {
      "text/plain": [
       "((2, 12), (2,))"
      ]
     },
     "execution_count": 18,
     "metadata": {},
     "output_type": "execute_result"
    }
   ],
   "source": [
    "X_test.shape, y_test.shape"
   ]
  },
  {
   "cell_type": "code",
   "execution_count": 19,
   "metadata": {
    "scrolled": true
   },
   "outputs": [
    {
     "data": {
      "text/plain": [
       "-9.40329444444443"
      ]
     },
     "execution_count": 19,
     "metadata": {},
     "output_type": "execute_result"
    }
   ],
   "source": [
    "rfr = RandomForestRegressor(n_estimators=300)\n",
    "rfr.fit(X_train, y_train)\n",
    "rfr.score(X_test,y_test)"
   ]
  },
  {
   "cell_type": "code",
   "execution_count": 21,
   "metadata": {},
   "outputs": [],
   "source": [
    "from sklearn.model_selection import cross_val_score"
   ]
  },
  {
   "cell_type": "code",
   "execution_count": 28,
   "metadata": {
    "scrolled": true
   },
   "outputs": [
    {
     "name": "stderr",
     "output_type": "stream",
     "text": [
      "D:\\anaconda3\\envs\\study_env1\\lib\\site-packages\\sklearn\\metrics\\regression.py:543: UndefinedMetricWarning: R^2 score is not well-defined with less than two samples.\n",
      "  warnings.warn(msg, UndefinedMetricWarning)\n",
      "D:\\anaconda3\\envs\\study_env1\\lib\\site-packages\\sklearn\\metrics\\regression.py:543: UndefinedMetricWarning: R^2 score is not well-defined with less than two samples.\n",
      "  warnings.warn(msg, UndefinedMetricWarning)\n",
      "D:\\anaconda3\\envs\\study_env1\\lib\\site-packages\\sklearn\\metrics\\regression.py:543: UndefinedMetricWarning: R^2 score is not well-defined with less than two samples.\n",
      "  warnings.warn(msg, UndefinedMetricWarning)\n",
      "D:\\anaconda3\\envs\\study_env1\\lib\\site-packages\\sklearn\\metrics\\regression.py:543: UndefinedMetricWarning: R^2 score is not well-defined with less than two samples.\n",
      "  warnings.warn(msg, UndefinedMetricWarning)\n",
      "D:\\anaconda3\\envs\\study_env1\\lib\\site-packages\\sklearn\\metrics\\regression.py:543: UndefinedMetricWarning: R^2 score is not well-defined with less than two samples.\n",
      "  warnings.warn(msg, UndefinedMetricWarning)\n",
      "D:\\anaconda3\\envs\\study_env1\\lib\\site-packages\\sklearn\\metrics\\regression.py:543: UndefinedMetricWarning: R^2 score is not well-defined with less than two samples.\n",
      "  warnings.warn(msg, UndefinedMetricWarning)\n",
      "D:\\anaconda3\\envs\\study_env1\\lib\\site-packages\\sklearn\\metrics\\regression.py:543: UndefinedMetricWarning: R^2 score is not well-defined with less than two samples.\n",
      "  warnings.warn(msg, UndefinedMetricWarning)\n",
      "D:\\anaconda3\\envs\\study_env1\\lib\\site-packages\\sklearn\\metrics\\regression.py:543: UndefinedMetricWarning: R^2 score is not well-defined with less than two samples.\n",
      "  warnings.warn(msg, UndefinedMetricWarning)\n",
      "D:\\anaconda3\\envs\\study_env1\\lib\\site-packages\\sklearn\\metrics\\regression.py:543: UndefinedMetricWarning: R^2 score is not well-defined with less than two samples.\n",
      "  warnings.warn(msg, UndefinedMetricWarning)\n",
      "D:\\anaconda3\\envs\\study_env1\\lib\\site-packages\\sklearn\\metrics\\regression.py:543: UndefinedMetricWarning: R^2 score is not well-defined with less than two samples.\n",
      "  warnings.warn(msg, UndefinedMetricWarning)\n",
      "D:\\anaconda3\\envs\\study_env1\\lib\\site-packages\\sklearn\\metrics\\regression.py:543: UndefinedMetricWarning: R^2 score is not well-defined with less than two samples.\n",
      "  warnings.warn(msg, UndefinedMetricWarning)\n",
      "D:\\anaconda3\\envs\\study_env1\\lib\\site-packages\\sklearn\\metrics\\regression.py:543: UndefinedMetricWarning: R^2 score is not well-defined with less than two samples.\n",
      "  warnings.warn(msg, UndefinedMetricWarning)\n",
      "D:\\anaconda3\\envs\\study_env1\\lib\\site-packages\\sklearn\\metrics\\regression.py:543: UndefinedMetricWarning: R^2 score is not well-defined with less than two samples.\n",
      "  warnings.warn(msg, UndefinedMetricWarning)\n",
      "D:\\anaconda3\\envs\\study_env1\\lib\\site-packages\\sklearn\\metrics\\regression.py:543: UndefinedMetricWarning: R^2 score is not well-defined with less than two samples.\n",
      "  warnings.warn(msg, UndefinedMetricWarning)\n",
      "D:\\anaconda3\\envs\\study_env1\\lib\\site-packages\\sklearn\\metrics\\regression.py:543: UndefinedMetricWarning: R^2 score is not well-defined with less than two samples.\n",
      "  warnings.warn(msg, UndefinedMetricWarning)\n",
      "D:\\anaconda3\\envs\\study_env1\\lib\\site-packages\\sklearn\\metrics\\regression.py:543: UndefinedMetricWarning: R^2 score is not well-defined with less than two samples.\n",
      "  warnings.warn(msg, UndefinedMetricWarning)\n"
     ]
    },
    {
     "data": {
      "text/plain": [
       "nan"
      ]
     },
     "execution_count": 28,
     "metadata": {},
     "output_type": "execute_result"
    }
   ],
   "source": [
    "cross_val_score(rfr, X_train, y_train, cv=50).mean()"
   ]
  },
  {
   "cell_type": "code",
   "execution_count": null,
   "metadata": {},
   "outputs": [],
   "source": []
  },
  {
   "cell_type": "code",
   "execution_count": null,
   "metadata": {},
   "outputs": [],
   "source": []
  },
  {
   "cell_type": "code",
   "execution_count": null,
   "metadata": {},
   "outputs": [],
   "source": []
  },
  {
   "cell_type": "code",
   "execution_count": null,
   "metadata": {},
   "outputs": [],
   "source": []
  },
  {
   "cell_type": "code",
   "execution_count": null,
   "metadata": {},
   "outputs": [],
   "source": []
  }
 ],
 "metadata": {
  "kernelspec": {
   "display_name": "Python 3",
   "language": "python",
   "name": "python3"
  },
  "language_info": {
   "codemirror_mode": {
    "name": "ipython",
    "version": 3
   },
   "file_extension": ".py",
   "mimetype": "text/x-python",
   "name": "python",
   "nbconvert_exporter": "python",
   "pygments_lexer": "ipython3",
   "version": "3.7.3"
  }
 },
 "nbformat": 4,
 "nbformat_minor": 2
}
