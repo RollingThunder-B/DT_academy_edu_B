{
 "cells": [
  {
   "cell_type": "code",
   "execution_count": 1,
   "metadata": {},
   "outputs": [],
   "source": [
    "import numpy as np\n",
    "import pandas as pd\n",
    "import seaborn as sns\n",
    "import matplotlib.pyplot as plt\n",
    "\n",
    "#한글 폰드\n",
    "plt.rc('font', family=\"NanumGothic\")\n",
    "\n",
    "#마이너스 표기\n",
    "plt.rc('axes', unicode_minus=False)\n",
    "\n",
    "from sklearn.linear_model import LinearRegression\n",
    "from sklearn.ensemble import RandomForestRegressor\n",
    "from sklearn.model_selection import train_test_split"
   ]
  },
  {
   "cell_type": "code",
   "execution_count": 2,
   "metadata": {},
   "outputs": [],
   "source": [
    "mccb_data = pd.read_csv('data/과전류샘플데이터.csv')"
   ]
  },
  {
   "cell_type": "code",
   "execution_count": null,
   "metadata": {},
   "outputs": [],
   "source": [
    "mccb_data.head(5)"
   ]
  },
  {
   "cell_type": "markdown",
   "metadata": {},
   "source": [
    "#### y를 Trip 시간으로 설정"
   ]
  },
  {
   "cell_type": "code",
   "execution_count": 3,
   "metadata": {},
   "outputs": [
    {
     "data": {
      "text/plain": [
       "0     95\n",
       "1     95\n",
       "2    106\n",
       "3     84\n",
       "4     91\n",
       "Name: Trip시간, dtype: int64"
      ]
     },
     "execution_count": 3,
     "metadata": {},
     "output_type": "execute_result"
    }
   ],
   "source": [
    "mccb_y = mccb_data['Trip시간']\n",
    "mccb_y.head(5)"
   ]
  },
  {
   "cell_type": "code",
   "execution_count": 4,
   "metadata": {
    "scrolled": true
   },
   "outputs": [
    {
     "data": {
      "text/html": [
       "<div>\n",
       "<style scoped>\n",
       "    .dataframe tbody tr th:only-of-type {\n",
       "        vertical-align: middle;\n",
       "    }\n",
       "\n",
       "    .dataframe tbody tr th {\n",
       "        vertical-align: top;\n",
       "    }\n",
       "\n",
       "    .dataframe thead th {\n",
       "        text-align: right;\n",
       "    }\n",
       "</style>\n",
       "<table border=\"1\" class=\"dataframe\">\n",
       "  <thead>\n",
       "    <tr style=\"text-align: right;\">\n",
       "      <th></th>\n",
       "      <th>S하중</th>\n",
       "      <th>S저항</th>\n",
       "      <th>T저항</th>\n",
       "      <th>M하중</th>\n",
       "      <th>M_stroke</th>\n",
       "      <th>C하중</th>\n",
       "      <th>C_stroke</th>\n",
       "      <th>C저항</th>\n",
       "      <th>저항합</th>\n",
       "      <th>Gap</th>\n",
       "      <th>초기위치</th>\n",
       "      <th>이동속도</th>\n",
       "      <th>접촉예측</th>\n",
       "    </tr>\n",
       "  </thead>\n",
       "  <tbody>\n",
       "    <tr>\n",
       "      <th>0</th>\n",
       "      <td>123</td>\n",
       "      <td>0.084</td>\n",
       "      <td>0.756</td>\n",
       "      <td>218</td>\n",
       "      <td>1.95</td>\n",
       "      <td>323</td>\n",
       "      <td>1.70</td>\n",
       "      <td>1.0613</td>\n",
       "      <td>0.840</td>\n",
       "      <td>1.598</td>\n",
       "      <td>8.186</td>\n",
       "      <td>0.0473</td>\n",
       "      <td>34.17</td>\n",
       "    </tr>\n",
       "    <tr>\n",
       "      <th>1</th>\n",
       "      <td>103</td>\n",
       "      <td>0.083</td>\n",
       "      <td>0.785</td>\n",
       "      <td>216</td>\n",
       "      <td>1.96</td>\n",
       "      <td>298</td>\n",
       "      <td>1.73</td>\n",
       "      <td>1.0578</td>\n",
       "      <td>0.868</td>\n",
       "      <td>1.396</td>\n",
       "      <td>8.145</td>\n",
       "      <td>0.0299</td>\n",
       "      <td>31.62</td>\n",
       "    </tr>\n",
       "    <tr>\n",
       "      <th>2</th>\n",
       "      <td>104</td>\n",
       "      <td>0.092</td>\n",
       "      <td>0.735</td>\n",
       "      <td>218</td>\n",
       "      <td>1.85</td>\n",
       "      <td>298</td>\n",
       "      <td>1.59</td>\n",
       "      <td>1.1678</td>\n",
       "      <td>0.827</td>\n",
       "      <td>1.552</td>\n",
       "      <td>8.157</td>\n",
       "      <td>0.0369</td>\n",
       "      <td>34.39</td>\n",
       "    </tr>\n",
       "    <tr>\n",
       "      <th>3</th>\n",
       "      <td>107</td>\n",
       "      <td>0.087</td>\n",
       "      <td>0.765</td>\n",
       "      <td>225</td>\n",
       "      <td>1.83</td>\n",
       "      <td>312</td>\n",
       "      <td>1.65</td>\n",
       "      <td>1.0107</td>\n",
       "      <td>0.852</td>\n",
       "      <td>1.437</td>\n",
       "      <td>8.435</td>\n",
       "      <td>0.0449</td>\n",
       "      <td>30.69</td>\n",
       "    </tr>\n",
       "    <tr>\n",
       "      <th>4</th>\n",
       "      <td>93</td>\n",
       "      <td>0.085</td>\n",
       "      <td>0.737</td>\n",
       "      <td>221</td>\n",
       "      <td>2.08</td>\n",
       "      <td>299</td>\n",
       "      <td>1.83</td>\n",
       "      <td>1.0552</td>\n",
       "      <td>0.822</td>\n",
       "      <td>1.408</td>\n",
       "      <td>8.247</td>\n",
       "      <td>0.0476</td>\n",
       "      <td>29.67</td>\n",
       "    </tr>\n",
       "  </tbody>\n",
       "</table>\n",
       "</div>"
      ],
      "text/plain": [
       "   S하중    S저항    T저항  M하중  M_stroke  C하중  C_stroke     C저항    저항합    Gap  \\\n",
       "0  123  0.084  0.756  218      1.95  323      1.70  1.0613  0.840  1.598   \n",
       "1  103  0.083  0.785  216      1.96  298      1.73  1.0578  0.868  1.396   \n",
       "2  104  0.092  0.735  218      1.85  298      1.59  1.1678  0.827  1.552   \n",
       "3  107  0.087  0.765  225      1.83  312      1.65  1.0107  0.852  1.437   \n",
       "4   93  0.085  0.737  221      2.08  299      1.83  1.0552  0.822  1.408   \n",
       "\n",
       "    초기위치    이동속도   접촉예측  \n",
       "0  8.186  0.0473  34.17  \n",
       "1  8.145  0.0299  31.62  \n",
       "2  8.157  0.0369  34.39  \n",
       "3  8.435  0.0449  30.69  \n",
       "4  8.247  0.0476  29.67  "
      ]
     },
     "execution_count": 4,
     "metadata": {},
     "output_type": "execute_result"
    }
   ],
   "source": [
    "mccb_x = mccb_data.drop(columns=['Trip시간'])\n",
    "mccb_x.head(5)"
   ]
  },
  {
   "cell_type": "code",
   "execution_count": 13,
   "metadata": {},
   "outputs": [],
   "source": [
    "# np.random.seed(10)\n",
    "X_train, X_test, y_train, y_test = train_test_split(mccb_x, mccb_y , test_size =0.001)"
   ]
  },
  {
   "cell_type": "code",
   "execution_count": 14,
   "metadata": {},
   "outputs": [],
   "source": [
    "from sklearn.ensemble import RandomForestRegressor\n"
   ]
  },
  {
   "cell_type": "code",
   "execution_count": 15,
   "metadata": {},
   "outputs": [],
   "source": [
    "from sklearn.model_selection import cross_val_score"
   ]
  },
  {
   "cell_type": "code",
   "execution_count": 16,
   "metadata": {},
   "outputs": [],
   "source": [
    "rfc = RandomForestRegressor(n_estimators=300)"
   ]
  },
  {
   "cell_type": "code",
   "execution_count": 17,
   "metadata": {},
   "outputs": [
    {
     "data": {
      "text/plain": [
       "array([0.60807178, 0.80620773, 0.71088081, 0.79691614, 0.77392491])"
      ]
     },
     "execution_count": 17,
     "metadata": {},
     "output_type": "execute_result"
    }
   ],
   "source": [
    "cross_val_score(rfc, X_train, y_train, cv=5)"
   ]
  },
  {
   "cell_type": "code",
   "execution_count": 18,
   "metadata": {},
   "outputs": [
    {
     "data": {
      "text/plain": [
       "array([-0.30194725,  0.25855589,  0.12558747,  0.84551931,  0.4909376 ])"
      ]
     },
     "execution_count": 18,
     "metadata": {},
     "output_type": "execute_result"
    }
   ],
   "source": [
    "cross_val_score(rfc, mccb_x, mccb_y, cv=5)"
   ]
  },
  {
   "cell_type": "code",
   "execution_count": null,
   "metadata": {},
   "outputs": [],
   "source": []
  },
  {
   "cell_type": "code",
   "execution_count": null,
   "metadata": {},
   "outputs": [],
   "source": [
    "rfc.fit(mccb_x, mccb_y)"
   ]
  },
  {
   "cell_type": "code",
   "execution_count": null,
   "metadata": {},
   "outputs": [],
   "source": []
  },
  {
   "cell_type": "code",
   "execution_count": null,
   "metadata": {},
   "outputs": [],
   "source": []
  },
  {
   "cell_type": "code",
   "execution_count": null,
   "metadata": {},
   "outputs": [],
   "source": [
    "\n",
    "rfc.fit(X_train, y_train)\n",
    "rfc.score(X_test, y_test)"
   ]
  },
  {
   "cell_type": "code",
   "execution_count": null,
   "metadata": {},
   "outputs": [],
   "source": [
    "rfc = RandomForestRegressor(n_estimators=300)\n",
    "rfc.fit(X_train, y_train)\n",
    "rfc.score(X_test, y_test)"
   ]
  },
  {
   "cell_type": "code",
   "execution_count": null,
   "metadata": {},
   "outputs": [],
   "source": []
  }
 ],
 "metadata": {
  "kernelspec": {
   "display_name": "Python 3",
   "language": "python",
   "name": "python3"
  },
  "language_info": {
   "codemirror_mode": {
    "name": "ipython",
    "version": 3
   },
   "file_extension": ".py",
   "mimetype": "text/x-python",
   "name": "python",
   "nbconvert_exporter": "python",
   "pygments_lexer": "ipython3",
   "version": "3.7.3"
  }
 },
 "nbformat": 4,
 "nbformat_minor": 2
}
