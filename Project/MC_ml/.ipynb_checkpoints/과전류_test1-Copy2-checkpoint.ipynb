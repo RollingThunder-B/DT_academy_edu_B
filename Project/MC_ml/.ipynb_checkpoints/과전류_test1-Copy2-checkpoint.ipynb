{
 "cells": [
  {
   "cell_type": "code",
   "execution_count": 3,
   "metadata": {},
   "outputs": [],
   "source": [
    "import pandas as pd\n",
    "import numpy as np\n",
    "\n",
    "import matplotlib.pyplot as plt\n",
    "from matplotlib import rc\n",
    "rc('font', family='Malgun Gothic')\n",
    "rc('axes', unicode_minus=False)\n",
    "\n",
    "import seaborn as sns "
   ]
  },
  {
   "cell_type": "code",
   "execution_count": 4,
   "metadata": {
    "scrolled": false
   },
   "outputs": [
    {
     "data": {
      "text/html": [
       "<div>\n",
       "<style scoped>\n",
       "    .dataframe tbody tr th:only-of-type {\n",
       "        vertical-align: middle;\n",
       "    }\n",
       "\n",
       "    .dataframe tbody tr th {\n",
       "        vertical-align: top;\n",
       "    }\n",
       "\n",
       "    .dataframe thead th {\n",
       "        text-align: right;\n",
       "    }\n",
       "</style>\n",
       "<table border=\"1\" class=\"dataframe\">\n",
       "  <thead>\n",
       "    <tr style=\"text-align: right;\">\n",
       "      <th></th>\n",
       "      <th>S하중</th>\n",
       "      <th>S저항</th>\n",
       "      <th>T저항</th>\n",
       "      <th>M하중</th>\n",
       "      <th>M_stroke</th>\n",
       "      <th>C하중</th>\n",
       "      <th>C_stroke</th>\n",
       "      <th>C저항</th>\n",
       "      <th>저항합</th>\n",
       "      <th>Gap</th>\n",
       "      <th>초기위치</th>\n",
       "      <th>이동속도</th>\n",
       "      <th>접촉예측</th>\n",
       "      <th>Trip시간</th>\n",
       "    </tr>\n",
       "  </thead>\n",
       "  <tbody>\n",
       "    <tr>\n",
       "      <th>0</th>\n",
       "      <td>123</td>\n",
       "      <td>0.084</td>\n",
       "      <td>0.756</td>\n",
       "      <td>218</td>\n",
       "      <td>1.95</td>\n",
       "      <td>323</td>\n",
       "      <td>1.70</td>\n",
       "      <td>1.0613</td>\n",
       "      <td>0.840</td>\n",
       "      <td>1.598</td>\n",
       "      <td>8.186</td>\n",
       "      <td>0.0473</td>\n",
       "      <td>34.17</td>\n",
       "      <td>95</td>\n",
       "    </tr>\n",
       "    <tr>\n",
       "      <th>1</th>\n",
       "      <td>103</td>\n",
       "      <td>0.083</td>\n",
       "      <td>0.785</td>\n",
       "      <td>216</td>\n",
       "      <td>1.96</td>\n",
       "      <td>298</td>\n",
       "      <td>1.73</td>\n",
       "      <td>1.0578</td>\n",
       "      <td>0.868</td>\n",
       "      <td>1.396</td>\n",
       "      <td>8.145</td>\n",
       "      <td>0.0299</td>\n",
       "      <td>31.62</td>\n",
       "      <td>95</td>\n",
       "    </tr>\n",
       "    <tr>\n",
       "      <th>2</th>\n",
       "      <td>104</td>\n",
       "      <td>0.092</td>\n",
       "      <td>0.735</td>\n",
       "      <td>218</td>\n",
       "      <td>1.85</td>\n",
       "      <td>298</td>\n",
       "      <td>1.59</td>\n",
       "      <td>1.1678</td>\n",
       "      <td>0.827</td>\n",
       "      <td>1.552</td>\n",
       "      <td>8.157</td>\n",
       "      <td>0.0369</td>\n",
       "      <td>34.39</td>\n",
       "      <td>106</td>\n",
       "    </tr>\n",
       "    <tr>\n",
       "      <th>3</th>\n",
       "      <td>107</td>\n",
       "      <td>0.087</td>\n",
       "      <td>0.765</td>\n",
       "      <td>225</td>\n",
       "      <td>1.83</td>\n",
       "      <td>312</td>\n",
       "      <td>1.65</td>\n",
       "      <td>1.0107</td>\n",
       "      <td>0.852</td>\n",
       "      <td>1.437</td>\n",
       "      <td>8.435</td>\n",
       "      <td>0.0449</td>\n",
       "      <td>30.69</td>\n",
       "      <td>84</td>\n",
       "    </tr>\n",
       "    <tr>\n",
       "      <th>4</th>\n",
       "      <td>93</td>\n",
       "      <td>0.085</td>\n",
       "      <td>0.737</td>\n",
       "      <td>221</td>\n",
       "      <td>2.08</td>\n",
       "      <td>299</td>\n",
       "      <td>1.83</td>\n",
       "      <td>1.0552</td>\n",
       "      <td>0.822</td>\n",
       "      <td>1.408</td>\n",
       "      <td>8.247</td>\n",
       "      <td>0.0476</td>\n",
       "      <td>29.67</td>\n",
       "      <td>91</td>\n",
       "    </tr>\n",
       "    <tr>\n",
       "      <th>5</th>\n",
       "      <td>109</td>\n",
       "      <td>0.112</td>\n",
       "      <td>0.735</td>\n",
       "      <td>206</td>\n",
       "      <td>1.79</td>\n",
       "      <td>298</td>\n",
       "      <td>1.58</td>\n",
       "      <td>1.1469</td>\n",
       "      <td>0.847</td>\n",
       "      <td>1.763</td>\n",
       "      <td>8.234</td>\n",
       "      <td>0.0477</td>\n",
       "      <td>37.98</td>\n",
       "      <td>103</td>\n",
       "    </tr>\n",
       "  </tbody>\n",
       "</table>\n",
       "</div>"
      ],
      "text/plain": [
       "   S하중    S저항    T저항  M하중  M_stroke  C하중  C_stroke     C저항    저항합    Gap  \\\n",
       "0  123  0.084  0.756  218      1.95  323      1.70  1.0613  0.840  1.598   \n",
       "1  103  0.083  0.785  216      1.96  298      1.73  1.0578  0.868  1.396   \n",
       "2  104  0.092  0.735  218      1.85  298      1.59  1.1678  0.827  1.552   \n",
       "3  107  0.087  0.765  225      1.83  312      1.65  1.0107  0.852  1.437   \n",
       "4   93  0.085  0.737  221      2.08  299      1.83  1.0552  0.822  1.408   \n",
       "5  109  0.112  0.735  206      1.79  298      1.58  1.1469  0.847  1.763   \n",
       "\n",
       "    초기위치    이동속도   접촉예측  Trip시간  \n",
       "0  8.186  0.0473  34.17      95  \n",
       "1  8.145  0.0299  31.62      95  \n",
       "2  8.157  0.0369  34.39     106  \n",
       "3  8.435  0.0449  30.69      84  \n",
       "4  8.247  0.0476  29.67      91  \n",
       "5  8.234  0.0477  37.98     103  "
      ]
     },
     "execution_count": 4,
     "metadata": {},
     "output_type": "execute_result"
    }
   ],
   "source": [
    "data_all = pd.read_csv('data/과전류샘플데이터.csv')\n",
    "data_all[:6]"
   ]
  },
  {
   "cell_type": "code",
   "execution_count": 5,
   "metadata": {},
   "outputs": [
    {
     "name": "stdout",
     "output_type": "stream",
     "text": [
      "<class 'pandas.core.frame.DataFrame'>\n",
      "RangeIndex: 86 entries, 0 to 85\n",
      "Data columns (total 14 columns):\n",
      "S하중         86 non-null int64\n",
      "S저항         86 non-null float64\n",
      "T저항         86 non-null float64\n",
      "M하중         86 non-null int64\n",
      "M_stroke    86 non-null float64\n",
      "C하중         86 non-null int64\n",
      "C_stroke    86 non-null float64\n",
      "C저항         86 non-null float64\n",
      "저항합         86 non-null float64\n",
      "Gap         86 non-null float64\n",
      "초기위치        86 non-null float64\n",
      "이동속도        86 non-null float64\n",
      "접촉예측        86 non-null float64\n",
      "Trip시간      86 non-null int64\n",
      "dtypes: float64(10), int64(4)\n",
      "memory usage: 9.5 KB\n"
     ]
    }
   ],
   "source": [
    "data_all.info()"
   ]
  },
  {
   "cell_type": "code",
   "execution_count": 6,
   "metadata": {
    "scrolled": true
   },
   "outputs": [
    {
     "data": {
      "text/html": [
       "<div>\n",
       "<style scoped>\n",
       "    .dataframe tbody tr th:only-of-type {\n",
       "        vertical-align: middle;\n",
       "    }\n",
       "\n",
       "    .dataframe tbody tr th {\n",
       "        vertical-align: top;\n",
       "    }\n",
       "\n",
       "    .dataframe thead th {\n",
       "        text-align: right;\n",
       "    }\n",
       "</style>\n",
       "<table border=\"1\" class=\"dataframe\">\n",
       "  <thead>\n",
       "    <tr style=\"text-align: right;\">\n",
       "      <th></th>\n",
       "      <th>S하중</th>\n",
       "      <th>S저항</th>\n",
       "      <th>T저항</th>\n",
       "      <th>M하중</th>\n",
       "      <th>M_stroke</th>\n",
       "      <th>C하중</th>\n",
       "      <th>C_stroke</th>\n",
       "      <th>C저항</th>\n",
       "      <th>저항합</th>\n",
       "      <th>Gap</th>\n",
       "      <th>초기위치</th>\n",
       "      <th>이동속도</th>\n",
       "      <th>접촉예측</th>\n",
       "    </tr>\n",
       "  </thead>\n",
       "  <tbody>\n",
       "    <tr>\n",
       "      <th>0</th>\n",
       "      <td>123</td>\n",
       "      <td>0.084</td>\n",
       "      <td>0.756</td>\n",
       "      <td>218</td>\n",
       "      <td>1.95</td>\n",
       "      <td>323</td>\n",
       "      <td>1.70</td>\n",
       "      <td>1.0613</td>\n",
       "      <td>0.840</td>\n",
       "      <td>1.598</td>\n",
       "      <td>8.186</td>\n",
       "      <td>0.0473</td>\n",
       "      <td>34.17</td>\n",
       "    </tr>\n",
       "    <tr>\n",
       "      <th>1</th>\n",
       "      <td>103</td>\n",
       "      <td>0.083</td>\n",
       "      <td>0.785</td>\n",
       "      <td>216</td>\n",
       "      <td>1.96</td>\n",
       "      <td>298</td>\n",
       "      <td>1.73</td>\n",
       "      <td>1.0578</td>\n",
       "      <td>0.868</td>\n",
       "      <td>1.396</td>\n",
       "      <td>8.145</td>\n",
       "      <td>0.0299</td>\n",
       "      <td>31.62</td>\n",
       "    </tr>\n",
       "    <tr>\n",
       "      <th>2</th>\n",
       "      <td>104</td>\n",
       "      <td>0.092</td>\n",
       "      <td>0.735</td>\n",
       "      <td>218</td>\n",
       "      <td>1.85</td>\n",
       "      <td>298</td>\n",
       "      <td>1.59</td>\n",
       "      <td>1.1678</td>\n",
       "      <td>0.827</td>\n",
       "      <td>1.552</td>\n",
       "      <td>8.157</td>\n",
       "      <td>0.0369</td>\n",
       "      <td>34.39</td>\n",
       "    </tr>\n",
       "  </tbody>\n",
       "</table>\n",
       "</div>"
      ],
      "text/plain": [
       "   S하중    S저항    T저항  M하중  M_stroke  C하중  C_stroke     C저항    저항합    Gap  \\\n",
       "0  123  0.084  0.756  218      1.95  323      1.70  1.0613  0.840  1.598   \n",
       "1  103  0.083  0.785  216      1.96  298      1.73  1.0578  0.868  1.396   \n",
       "2  104  0.092  0.735  218      1.85  298      1.59  1.1678  0.827  1.552   \n",
       "\n",
       "    초기위치    이동속도   접촉예측  \n",
       "0  8.186  0.0473  34.17  \n",
       "1  8.145  0.0299  31.62  \n",
       "2  8.157  0.0369  34.39  "
      ]
     },
     "execution_count": 6,
     "metadata": {},
     "output_type": "execute_result"
    }
   ],
   "source": [
    "X = data_all.drop('Trip시간', axis=1)\n",
    "X[:3]"
   ]
  },
  {
   "cell_type": "code",
   "execution_count": 7,
   "metadata": {},
   "outputs": [
    {
     "data": {
      "text/plain": [
       "0     95\n",
       "1     95\n",
       "2    106\n",
       "Name: Trip시간, dtype: int64"
      ]
     },
     "execution_count": 7,
     "metadata": {},
     "output_type": "execute_result"
    }
   ],
   "source": [
    "y = data_all['Trip시간']\n",
    "y[:3]"
   ]
  },
  {
   "cell_type": "code",
   "execution_count": null,
   "metadata": {},
   "outputs": [],
   "source": []
  },
  {
   "cell_type": "code",
   "execution_count": 8,
   "metadata": {},
   "outputs": [],
   "source": [
    "from sklearn.model_selection import train_test_split"
   ]
  },
  {
   "cell_type": "code",
   "execution_count": 9,
   "metadata": {},
   "outputs": [],
   "source": [
    "np.random.seed(7)\n",
    "\n",
    "X_train, X_test, y_train, y_test = train_test_split(X, y, test_size=0.2)"
   ]
  },
  {
   "cell_type": "markdown",
   "metadata": {},
   "source": [
    "### 랜덤 포레스트"
   ]
  },
  {
   "cell_type": "code",
   "execution_count": 10,
   "metadata": {},
   "outputs": [],
   "source": [
    "from sklearn.ensemble import RandomForestRegressor"
   ]
  },
  {
   "cell_type": "code",
   "execution_count": 11,
   "metadata": {},
   "outputs": [
    {
     "data": {
      "text/plain": [
       "0.7798698195030473"
      ]
     },
     "execution_count": 11,
     "metadata": {},
     "output_type": "execute_result"
    }
   ],
   "source": [
    "rfc = RandomForestRegressor(n_estimators=300)\n",
    "rfc.fit(X_train, y_train)\n",
    "rfc.score(X_test, y_test)"
   ]
  },
  {
   "cell_type": "markdown",
   "metadata": {},
   "source": [
    "## ##"
   ]
  },
  {
   "cell_type": "code",
   "execution_count": 12,
   "metadata": {},
   "outputs": [],
   "source": [
    "from sklearn.model_selection import cross_val_score"
   ]
  },
  {
   "cell_type": "code",
   "execution_count": 13,
   "metadata": {},
   "outputs": [
    {
     "data": {
      "text/plain": [
       "0.7235587597423196"
      ]
     },
     "execution_count": 13,
     "metadata": {},
     "output_type": "execute_result"
    }
   ],
   "source": [
    "cross_val_score(rfc, X_train, y_train, cv=5).mean()"
   ]
  },
  {
   "cell_type": "code",
   "execution_count": null,
   "metadata": {},
   "outputs": [],
   "source": []
  },
  {
   "cell_type": "markdown",
   "metadata": {},
   "source": [
    "#### columns 명 바꾸는 방법??"
   ]
  },
  {
   "cell_type": "code",
   "execution_count": 14,
   "metadata": {
    "scrolled": true
   },
   "outputs": [
    {
     "data": {
      "text/html": [
       "<div>\n",
       "<style scoped>\n",
       "    .dataframe tbody tr th:only-of-type {\n",
       "        vertical-align: middle;\n",
       "    }\n",
       "\n",
       "    .dataframe tbody tr th {\n",
       "        vertical-align: top;\n",
       "    }\n",
       "\n",
       "    .dataframe thead th {\n",
       "        text-align: right;\n",
       "    }\n",
       "</style>\n",
       "<table border=\"1\" class=\"dataframe\">\n",
       "  <thead>\n",
       "    <tr style=\"text-align: right;\">\n",
       "      <th></th>\n",
       "      <th>Trip시간</th>\n",
       "    </tr>\n",
       "  </thead>\n",
       "  <tbody>\n",
       "    <tr>\n",
       "      <th>13</th>\n",
       "      <td>96</td>\n",
       "    </tr>\n",
       "    <tr>\n",
       "      <th>45</th>\n",
       "      <td>98</td>\n",
       "    </tr>\n",
       "    <tr>\n",
       "      <th>17</th>\n",
       "      <td>96</td>\n",
       "    </tr>\n",
       "    <tr>\n",
       "      <th>20</th>\n",
       "      <td>97</td>\n",
       "    </tr>\n",
       "    <tr>\n",
       "      <th>12</th>\n",
       "      <td>106</td>\n",
       "    </tr>\n",
       "  </tbody>\n",
       "</table>\n",
       "</div>"
      ],
      "text/plain": [
       "    Trip시간\n",
       "13      96\n",
       "45      98\n",
       "17      96\n",
       "20      97\n",
       "12     106"
      ]
     },
     "execution_count": 14,
     "metadata": {},
     "output_type": "execute_result"
    }
   ],
   "source": [
    "pred = pd.DataFrame(y_test)\n",
    "pred[:5]"
   ]
  },
  {
   "cell_type": "code",
   "execution_count": 15,
   "metadata": {
    "scrolled": true
   },
   "outputs": [
    {
     "data": {
      "text/html": [
       "<div>\n",
       "<style scoped>\n",
       "    .dataframe tbody tr th:only-of-type {\n",
       "        vertical-align: middle;\n",
       "    }\n",
       "\n",
       "    .dataframe tbody tr th {\n",
       "        vertical-align: top;\n",
       "    }\n",
       "\n",
       "    .dataframe thead th {\n",
       "        text-align: right;\n",
       "    }\n",
       "</style>\n",
       "<table border=\"1\" class=\"dataframe\">\n",
       "  <thead>\n",
       "    <tr style=\"text-align: right;\">\n",
       "      <th></th>\n",
       "      <th>Trip시간</th>\n",
       "      <th>y_RF</th>\n",
       "    </tr>\n",
       "  </thead>\n",
       "  <tbody>\n",
       "    <tr>\n",
       "      <th>13</th>\n",
       "      <td>96</td>\n",
       "      <td>95.910000</td>\n",
       "    </tr>\n",
       "    <tr>\n",
       "      <th>45</th>\n",
       "      <td>98</td>\n",
       "      <td>93.406667</td>\n",
       "    </tr>\n",
       "    <tr>\n",
       "      <th>17</th>\n",
       "      <td>96</td>\n",
       "      <td>91.450000</td>\n",
       "    </tr>\n",
       "    <tr>\n",
       "      <th>20</th>\n",
       "      <td>97</td>\n",
       "      <td>93.200000</td>\n",
       "    </tr>\n",
       "    <tr>\n",
       "      <th>12</th>\n",
       "      <td>106</td>\n",
       "      <td>109.803333</td>\n",
       "    </tr>\n",
       "  </tbody>\n",
       "</table>\n",
       "</div>"
      ],
      "text/plain": [
       "    Trip시간        y_RF\n",
       "13      96   95.910000\n",
       "45      98   93.406667\n",
       "17      96   91.450000\n",
       "20      97   93.200000\n",
       "12     106  109.803333"
      ]
     },
     "execution_count": 15,
     "metadata": {},
     "output_type": "execute_result"
    }
   ],
   "source": [
    "pred['y_RF'] =rfc.predict(X_test)\n",
    "pred[:5]"
   ]
  },
  {
   "cell_type": "code",
   "execution_count": null,
   "metadata": {},
   "outputs": [],
   "source": []
  },
  {
   "cell_type": "code",
   "execution_count": 16,
   "metadata": {
    "scrolled": true
   },
   "outputs": [],
   "source": [
    "# pred = pd.DataFrame([y_rf_pred, y_test], index=['y_test', 'y_rf_pred']).T\n",
    "# pred[:5]"
   ]
  },
  {
   "cell_type": "code",
   "execution_count": 17,
   "metadata": {},
   "outputs": [],
   "source": [
    "# plt.figure(figsize=(16,8))\n",
    "# plt.plot(pred_g)"
   ]
  },
  {
   "cell_type": "code",
   "execution_count": 18,
   "metadata": {
    "scrolled": false
   },
   "outputs": [
    {
     "data": {
      "text/plain": [
       "<matplotlib.axes._subplots.AxesSubplot at 0xdbd2630>"
      ]
     },
     "execution_count": 18,
     "metadata": {},
     "output_type": "execute_result"
    },
    {
     "data": {
      "image/png": "[encoded data removed]",
      "text/plain": [
       "<Figure size 1152x576 with 1 Axes>"
      ]
     },
     "metadata": {
      "needs_background": "light"
     },
     "output_type": "display_data"
    }
   ],
   "source": [
    "plt.figure(figsize=(16,8))\n",
    "sns.lineplot(data=pred)"
   ]
  },
  {
   "cell_type": "code",
   "execution_count": 24,
   "metadata": {},
   "outputs": [
    {
     "data": {
      "text/plain": [
       "<matplotlib.axes._subplots.AxesSubplot at 0xd717668>"
      ]
     },
     "execution_count": 24,
     "metadata": {},
     "output_type": "execute_result"
    },
    {
     "data": {
      "image/png": "[encoded data removed]",
      "text/plain": [
       "<Figure size 432x432 with 1 Axes>"
      ]
     },
     "metadata": {
      "needs_background": "light"
     },
     "output_type": "display_data"
    }
   ],
   "source": [
    "plt.figure(figsize=(6, 6))\n",
    "sns.scatterplot(data=pred, x='Trip시간', y='y_RF')"
   ]
  },
  {
   "cell_type": "code",
   "execution_count": 17,
   "metadata": {},
   "outputs": [],
   "source": [
    "pred['diff'] = abs(pred['Trip시간']-pred['y_RF'])"
   ]
  },
  {
   "cell_type": "code",
   "execution_count": 18,
   "metadata": {},
   "outputs": [
    {
     "name": "stdout",
     "output_type": "stream",
     "text": [
      "최대 : 14.223\n",
      "평균 : 4.889\n"
     ]
    }
   ],
   "source": [
    "diff_max = pred['diff'].max()\n",
    "diff_mean = pred['diff'].mean()\n",
    "print(f'최대 : {diff_max:.3f}')\n",
    "print(f'평균 : {diff_mean:.3f}')"
   ]
  },
  {
   "cell_type": "code",
   "execution_count": 19,
   "metadata": {},
   "outputs": [
    {
     "data": {
      "text/html": [
       "<div>\n",
       "<style scoped>\n",
       "    .dataframe tbody tr th:only-of-type {\n",
       "        vertical-align: middle;\n",
       "    }\n",
       "\n",
       "    .dataframe tbody tr th {\n",
       "        vertical-align: top;\n",
       "    }\n",
       "\n",
       "    .dataframe thead th {\n",
       "        text-align: right;\n",
       "    }\n",
       "</style>\n",
       "<table border=\"1\" class=\"dataframe\">\n",
       "  <thead>\n",
       "    <tr style=\"text-align: right;\">\n",
       "      <th></th>\n",
       "      <th>diff</th>\n",
       "    </tr>\n",
       "  </thead>\n",
       "  <tbody>\n",
       "    <tr>\n",
       "      <th>count</th>\n",
       "      <td>18.000000</td>\n",
       "    </tr>\n",
       "    <tr>\n",
       "      <th>mean</th>\n",
       "      <td>4.889444</td>\n",
       "    </tr>\n",
       "    <tr>\n",
       "      <th>std</th>\n",
       "      <td>3.393161</td>\n",
       "    </tr>\n",
       "    <tr>\n",
       "      <th>min</th>\n",
       "      <td>0.090000</td>\n",
       "    </tr>\n",
       "    <tr>\n",
       "      <th>25%</th>\n",
       "      <td>3.200833</td>\n",
       "    </tr>\n",
       "    <tr>\n",
       "      <th>50%</th>\n",
       "      <td>4.531667</td>\n",
       "    </tr>\n",
       "    <tr>\n",
       "      <th>75%</th>\n",
       "      <td>6.690833</td>\n",
       "    </tr>\n",
       "    <tr>\n",
       "      <th>max</th>\n",
       "      <td>14.223333</td>\n",
       "    </tr>\n",
       "  </tbody>\n",
       "</table>\n",
       "</div>"
      ],
      "text/plain": [
       "            diff\n",
       "count  18.000000\n",
       "mean    4.889444\n",
       "std     3.393161\n",
       "min     0.090000\n",
       "25%     3.200833\n",
       "50%     4.531667\n",
       "75%     6.690833\n",
       "max    14.223333"
      ]
     },
     "execution_count": 19,
     "metadata": {},
     "output_type": "execute_result"
    }
   ],
   "source": [
    "pred[['diff']].describe()"
   ]
  },
  {
   "cell_type": "code",
   "execution_count": null,
   "metadata": {},
   "outputs": [],
   "source": []
  },
  {
   "cell_type": "code",
   "execution_count": null,
   "metadata": {},
   "outputs": [],
   "source": []
  },
  {
   "cell_type": "code",
   "execution_count": null,
   "metadata": {},
   "outputs": [],
   "source": []
  },
  {
   "cell_type": "markdown",
   "metadata": {},
   "source": [
    "## SVM"
   ]
  },
  {
   "cell_type": "code",
   "execution_count": 20,
   "metadata": {},
   "outputs": [],
   "source": [
    "np.random.seed(7)\n",
    "X_train, X_test, y_train, y_test = train_test_split(X, y, test_size=0.2)"
   ]
  },
  {
   "cell_type": "code",
   "execution_count": 21,
   "metadata": {},
   "outputs": [],
   "source": [
    "from sklearn.svm import SVR"
   ]
  },
  {
   "cell_type": "code",
   "execution_count": 22,
   "metadata": {},
   "outputs": [
    {
     "data": {
      "text/plain": [
       "0.7470953572550271"
      ]
     },
     "execution_count": 22,
     "metadata": {},
     "output_type": "execute_result"
    }
   ],
   "source": [
    "svr = SVR(kernel=\"linear\")\n",
    "# , C=float(\"inf\")\n",
    "svr.fit(X_train, y_train)\n",
    "svr.score(X_test, y_test)"
   ]
  },
  {
   "cell_type": "code",
   "execution_count": null,
   "metadata": {},
   "outputs": [],
   "source": []
  },
  {
   "cell_type": "markdown",
   "metadata": {},
   "source": [
    "## 선형"
   ]
  },
  {
   "cell_type": "code",
   "execution_count": 23,
   "metadata": {},
   "outputs": [],
   "source": [
    "from sklearn.linear_model import LinearRegression"
   ]
  },
  {
   "cell_type": "code",
   "execution_count": 24,
   "metadata": {},
   "outputs": [],
   "source": [
    "np.random.seed(7)\n",
    "X_train, X_test, y_train, y_test = train_test_split(X, y, test_size=0.2)"
   ]
  },
  {
   "cell_type": "code",
   "execution_count": 25,
   "metadata": {},
   "outputs": [
    {
     "data": {
      "text/plain": [
       "0.7963768193245561"
      ]
     },
     "execution_count": 25,
     "metadata": {},
     "output_type": "execute_result"
    }
   ],
   "source": [
    "linr = LinearRegression()\n",
    "linr.fit(X_train, y_train)\n",
    "linr.score(X_test, y_test)"
   ]
  },
  {
   "cell_type": "code",
   "execution_count": null,
   "metadata": {},
   "outputs": [],
   "source": []
  },
  {
   "cell_type": "code",
   "execution_count": 26,
   "metadata": {
    "scrolled": true
   },
   "outputs": [
    {
     "data": {
      "text/html": [
       "<div>\n",
       "<style scoped>\n",
       "    .dataframe tbody tr th:only-of-type {\n",
       "        vertical-align: middle;\n",
       "    }\n",
       "\n",
       "    .dataframe tbody tr th {\n",
       "        vertical-align: top;\n",
       "    }\n",
       "\n",
       "    .dataframe thead th {\n",
       "        text-align: right;\n",
       "    }\n",
       "</style>\n",
       "<table border=\"1\" class=\"dataframe\">\n",
       "  <thead>\n",
       "    <tr style=\"text-align: right;\">\n",
       "      <th></th>\n",
       "      <th>Trip시간</th>\n",
       "      <th>y_RF</th>\n",
       "      <th>diff</th>\n",
       "      <th>y_svr</th>\n",
       "      <th>y_linr</th>\n",
       "    </tr>\n",
       "  </thead>\n",
       "  <tbody>\n",
       "    <tr>\n",
       "      <th>13</th>\n",
       "      <td>96</td>\n",
       "      <td>95.910000</td>\n",
       "      <td>0.090000</td>\n",
       "      <td>81.132819</td>\n",
       "      <td>87.448304</td>\n",
       "    </tr>\n",
       "    <tr>\n",
       "      <th>45</th>\n",
       "      <td>98</td>\n",
       "      <td>93.406667</td>\n",
       "      <td>4.593333</td>\n",
       "      <td>93.835637</td>\n",
       "      <td>92.974358</td>\n",
       "    </tr>\n",
       "    <tr>\n",
       "      <th>17</th>\n",
       "      <td>96</td>\n",
       "      <td>91.450000</td>\n",
       "      <td>4.550000</td>\n",
       "      <td>91.801019</td>\n",
       "      <td>92.115086</td>\n",
       "    </tr>\n",
       "    <tr>\n",
       "      <th>20</th>\n",
       "      <td>97</td>\n",
       "      <td>93.200000</td>\n",
       "      <td>3.800000</td>\n",
       "      <td>94.684973</td>\n",
       "      <td>97.587621</td>\n",
       "    </tr>\n",
       "    <tr>\n",
       "      <th>12</th>\n",
       "      <td>106</td>\n",
       "      <td>109.803333</td>\n",
       "      <td>3.803333</td>\n",
       "      <td>106.100853</td>\n",
       "      <td>106.323106</td>\n",
       "    </tr>\n",
       "  </tbody>\n",
       "</table>\n",
       "</div>"
      ],
      "text/plain": [
       "    Trip시간        y_RF      diff       y_svr      y_linr\n",
       "13      96   95.910000  0.090000   81.132819   87.448304\n",
       "45      98   93.406667  4.593333   93.835637   92.974358\n",
       "17      96   91.450000  4.550000   91.801019   92.115086\n",
       "20      97   93.200000  3.800000   94.684973   97.587621\n",
       "12     106  109.803333  3.803333  106.100853  106.323106"
      ]
     },
     "execution_count": 26,
     "metadata": {},
     "output_type": "execute_result"
    }
   ],
   "source": [
    "pred['y_svr'] = svr.predict(X_test)\n",
    "pred['y_linr'] = linr.predict(X_test)\n",
    "\n",
    "pred[:5]"
   ]
  },
  {
   "cell_type": "code",
   "execution_count": 27,
   "metadata": {},
   "outputs": [
    {
     "data": {
      "text/plain": [
       "<matplotlib.axes._subplots.AxesSubplot at 0xc0f4f98>"
      ]
     },
     "execution_count": 27,
     "metadata": {},
     "output_type": "execute_result"
    },
    {
     "data": {
      "image/png": "[encoded data removed]",
      "text/plain": [
       "<Figure size 1152x720 with 1 Axes>"
      ]
     },
     "metadata": {
      "needs_background": "light"
     },
     "output_type": "display_data"
    }
   ],
   "source": [
    "plt.figure(figsize=(16,10))\n",
    "sns.lineplot(data=pred.drop('diff', axis=1))"
   ]
  },
  {
   "cell_type": "code",
   "execution_count": null,
   "metadata": {},
   "outputs": [],
   "source": []
  },
  {
   "cell_type": "code",
   "execution_count": null,
   "metadata": {},
   "outputs": [],
   "source": []
  },
  {
   "cell_type": "markdown",
   "metadata": {},
   "source": [
    "### 스케일링"
   ]
  },
  {
   "cell_type": "code",
   "execution_count": 28,
   "metadata": {},
   "outputs": [],
   "source": [
    "from sklearn.preprocessing import  MinMaxScaler"
   ]
  },
  {
   "cell_type": "code",
   "execution_count": 29,
   "metadata": {
    "scrolled": true
   },
   "outputs": [],
   "source": [
    "scaler = MinMaxScaler()\n",
    "X_sc = scaler.fit_transform(X)\n",
    "# y_sc = scaler.fit_transform(y.values.reshape(-1,1)).ravel()\n",
    "\n",
    "# y도 스케일링이 필요한가?? => ㄴㄴ y는 독립이므로 안해도됨"
   ]
  },
  {
   "cell_type": "code",
   "execution_count": 50,
   "metadata": {
    "scrolled": true
   },
   "outputs": [
    {
     "data": {
      "text/html": [
       "<div>\n",
       "<style scoped>\n",
       "    .dataframe tbody tr th:only-of-type {\n",
       "        vertical-align: middle;\n",
       "    }\n",
       "\n",
       "    .dataframe tbody tr th {\n",
       "        vertical-align: top;\n",
       "    }\n",
       "\n",
       "    .dataframe thead th {\n",
       "        text-align: right;\n",
       "    }\n",
       "</style>\n",
       "<table border=\"1\" class=\"dataframe\">\n",
       "  <thead>\n",
       "    <tr style=\"text-align: right;\">\n",
       "      <th></th>\n",
       "      <th>S하중</th>\n",
       "      <th>S저항</th>\n",
       "      <th>T저항</th>\n",
       "      <th>M하중</th>\n",
       "      <th>M_stroke</th>\n",
       "      <th>C하중</th>\n",
       "      <th>C_stroke</th>\n",
       "      <th>C저항</th>\n",
       "      <th>저항합</th>\n",
       "      <th>Gap</th>\n",
       "      <th>초기위치</th>\n",
       "      <th>이동속도</th>\n",
       "      <th>접촉예측</th>\n",
       "    </tr>\n",
       "  </thead>\n",
       "  <tbody>\n",
       "    <tr>\n",
       "      <th>0</th>\n",
       "      <td>1.0000</td>\n",
       "      <td>0.1782</td>\n",
       "      <td>0.3262</td>\n",
       "      <td>0.3514</td>\n",
       "      <td>0.3833</td>\n",
       "      <td>0.5701</td>\n",
       "      <td>0.3636</td>\n",
       "      <td>0.2653</td>\n",
       "      <td>0.1346</td>\n",
       "      <td>0.3465</td>\n",
       "      <td>0.5955</td>\n",
       "      <td>0.6883</td>\n",
       "      <td>0.3541</td>\n",
       "    </tr>\n",
       "    <tr>\n",
       "      <th>1</th>\n",
       "      <td>0.6429</td>\n",
       "      <td>0.1683</td>\n",
       "      <td>0.5319</td>\n",
       "      <td>0.3243</td>\n",
       "      <td>0.4000</td>\n",
       "      <td>0.3364</td>\n",
       "      <td>0.4182</td>\n",
       "      <td>0.2558</td>\n",
       "      <td>0.3141</td>\n",
       "      <td>0.1960</td>\n",
       "      <td>0.5407</td>\n",
       "      <td>0.1234</td>\n",
       "      <td>0.2726</td>\n",
       "    </tr>\n",
       "    <tr>\n",
       "      <th>2</th>\n",
       "      <td>0.6607</td>\n",
       "      <td>0.2574</td>\n",
       "      <td>0.1773</td>\n",
       "      <td>0.3514</td>\n",
       "      <td>0.2167</td>\n",
       "      <td>0.3364</td>\n",
       "      <td>0.1636</td>\n",
       "      <td>0.5539</td>\n",
       "      <td>0.0513</td>\n",
       "      <td>0.3122</td>\n",
       "      <td>0.5567</td>\n",
       "      <td>0.3506</td>\n",
       "      <td>0.3611</td>\n",
       "    </tr>\n",
       "  </tbody>\n",
       "</table>\n",
       "</div>"
      ],
      "text/plain": [
       "      S하중     S저항     T저항     M하중  M_stroke     C하중  C_stroke     C저항     저항합  \\\n",
       "0  1.0000  0.1782  0.3262  0.3514    0.3833  0.5701    0.3636  0.2653  0.1346   \n",
       "1  0.6429  0.1683  0.5319  0.3243    0.4000  0.3364    0.4182  0.2558  0.3141   \n",
       "2  0.6607  0.2574  0.1773  0.3514    0.2167  0.3364    0.1636  0.5539  0.0513   \n",
       "\n",
       "      Gap    초기위치    이동속도    접촉예측  \n",
       "0  0.3465  0.5955  0.6883  0.3541  \n",
       "1  0.1960  0.5407  0.1234  0.2726  \n",
       "2  0.3122  0.5567  0.3506  0.3611  "
      ]
     },
     "execution_count": 50,
     "metadata": {},
     "output_type": "execute_result"
    }
   ],
   "source": [
    "pd.DataFrame(X_sc[:3].round(4), columns=X.columns)"
   ]
  },
  {
   "cell_type": "code",
   "execution_count": 31,
   "metadata": {},
   "outputs": [],
   "source": [
    "np.random.seed(7)\n",
    "X_sc_train, X_sc_test, y_train, y_test = train_test_split(X_sc, y, test_size=0.2)"
   ]
  },
  {
   "cell_type": "code",
   "execution_count": 32,
   "metadata": {},
   "outputs": [],
   "source": [
    "## RF"
   ]
  },
  {
   "cell_type": "code",
   "execution_count": 33,
   "metadata": {},
   "outputs": [
    {
     "data": {
      "text/plain": [
       "0.7795267932489451"
      ]
     },
     "execution_count": 33,
     "metadata": {},
     "output_type": "execute_result"
    }
   ],
   "source": [
    "rfc_sc = RandomForestRegressor(n_estimators=300)\n",
    "rfc_sc.fit(X_sc_train, y_train)\n",
    "rfc_sc.score(X_sc_test, y_test)"
   ]
  },
  {
   "cell_type": "code",
   "execution_count": 34,
   "metadata": {},
   "outputs": [],
   "source": [
    "## SVM"
   ]
  },
  {
   "cell_type": "code",
   "execution_count": 35,
   "metadata": {
    "scrolled": true
   },
   "outputs": [
    {
     "data": {
      "text/plain": [
       "0.4562158230579459"
      ]
     },
     "execution_count": 35,
     "metadata": {},
     "output_type": "execute_result"
    }
   ],
   "source": [
    "svr_sc = SVR(kernel=\"linear\")\n",
    "svr_sc.fit(X_sc_train, y_train)\n",
    "svr_sc.score(X_sc_test, y_test)"
   ]
  },
  {
   "cell_type": "code",
   "execution_count": 36,
   "metadata": {},
   "outputs": [],
   "source": [
    "## Linear"
   ]
  },
  {
   "cell_type": "code",
   "execution_count": 38,
   "metadata": {},
   "outputs": [
    {
     "data": {
      "text/plain": [
       "0.7980676535647965"
      ]
     },
     "execution_count": 38,
     "metadata": {},
     "output_type": "execute_result"
    }
   ],
   "source": [
    "linr_sc = LinearRegression()\n",
    "linr_sc.fit(X_sc_train, y_train)\n",
    "linr_sc.score(X_sc_test, y_test)"
   ]
  },
  {
   "cell_type": "code",
   "execution_count": null,
   "metadata": {},
   "outputs": [],
   "source": []
  },
  {
   "cell_type": "code",
   "execution_count": 39,
   "metadata": {},
   "outputs": [],
   "source": [
    "pred_sc = pd.DataFrame(y_test)"
   ]
  },
  {
   "cell_type": "code",
   "execution_count": 40,
   "metadata": {},
   "outputs": [
    {
     "data": {
      "text/html": [
       "<div>\n",
       "<style scoped>\n",
       "    .dataframe tbody tr th:only-of-type {\n",
       "        vertical-align: middle;\n",
       "    }\n",
       "\n",
       "    .dataframe tbody tr th {\n",
       "        vertical-align: top;\n",
       "    }\n",
       "\n",
       "    .dataframe thead th {\n",
       "        text-align: right;\n",
       "    }\n",
       "</style>\n",
       "<table border=\"1\" class=\"dataframe\">\n",
       "  <thead>\n",
       "    <tr style=\"text-align: right;\">\n",
       "      <th></th>\n",
       "      <th>Trip시간</th>\n",
       "      <th>y_rfc_sc</th>\n",
       "      <th>y_svr_sc</th>\n",
       "      <th>y_linr_sc</th>\n",
       "    </tr>\n",
       "  </thead>\n",
       "  <tbody>\n",
       "    <tr>\n",
       "      <th>13</th>\n",
       "      <td>96</td>\n",
       "      <td>95.890000</td>\n",
       "      <td>94.721956</td>\n",
       "      <td>87.617188</td>\n",
       "    </tr>\n",
       "    <tr>\n",
       "      <th>45</th>\n",
       "      <td>98</td>\n",
       "      <td>93.426667</td>\n",
       "      <td>94.697347</td>\n",
       "      <td>93.019531</td>\n",
       "    </tr>\n",
       "    <tr>\n",
       "      <th>17</th>\n",
       "      <td>96</td>\n",
       "      <td>91.406667</td>\n",
       "      <td>94.171031</td>\n",
       "      <td>92.105469</td>\n",
       "    </tr>\n",
       "    <tr>\n",
       "      <th>20</th>\n",
       "      <td>97</td>\n",
       "      <td>93.200000</td>\n",
       "      <td>94.850825</td>\n",
       "      <td>97.691406</td>\n",
       "    </tr>\n",
       "    <tr>\n",
       "      <th>12</th>\n",
       "      <td>106</td>\n",
       "      <td>109.876667</td>\n",
       "      <td>98.382968</td>\n",
       "      <td>106.398438</td>\n",
       "    </tr>\n",
       "  </tbody>\n",
       "</table>\n",
       "</div>"
      ],
      "text/plain": [
       "    Trip시간    y_rfc_sc   y_svr_sc   y_linr_sc\n",
       "13      96   95.890000  94.721956   87.617188\n",
       "45      98   93.426667  94.697347   93.019531\n",
       "17      96   91.406667  94.171031   92.105469\n",
       "20      97   93.200000  94.850825   97.691406\n",
       "12     106  109.876667  98.382968  106.398438"
      ]
     },
     "execution_count": 40,
     "metadata": {},
     "output_type": "execute_result"
    }
   ],
   "source": [
    "pred_sc['y_rfc_sc'] = rfc_sc.predict(X_sc_test)\n",
    "pred_sc['y_svr_sc'] = svr_sc.predict(X_sc_test)\n",
    "pred_sc['y_linr_sc'] = linr_sc.predict(X_sc_test)\n",
    "pred_sc[:5]"
   ]
  },
  {
   "cell_type": "code",
   "execution_count": 41,
   "metadata": {},
   "outputs": [
    {
     "data": {
      "text/plain": [
       "<matplotlib.axes._subplots.AxesSubplot at 0xd18be48>"
      ]
     },
     "execution_count": 41,
     "metadata": {},
     "output_type": "execute_result"
    },
    {
     "data": {
      "image/png": "[encoded data removed]",
      "text/plain": [
       "<Figure size 1152x720 with 1 Axes>"
      ]
     },
     "metadata": {
      "needs_background": "light"
     },
     "output_type": "display_data"
    }
   ],
   "source": [
    "plt.figure(figsize=(16,10))\n",
    "sns.lineplot(data=pred_sc)"
   ]
  },
  {
   "cell_type": "code",
   "execution_count": null,
   "metadata": {},
   "outputs": [],
   "source": []
  },
  {
   "cell_type": "code",
   "execution_count": null,
   "metadata": {},
   "outputs": [],
   "source": []
  },
  {
   "cell_type": "code",
   "execution_count": null,
   "metadata": {},
   "outputs": [],
   "source": []
  },
  {
   "cell_type": "code",
   "execution_count": null,
   "metadata": {},
   "outputs": [],
   "source": []
  },
  {
   "cell_type": "code",
   "execution_count": null,
   "metadata": {},
   "outputs": [],
   "source": []
  },
  {
   "cell_type": "code",
   "execution_count": null,
   "metadata": {
    "scrolled": true
   },
   "outputs": [],
   "source": [
    "# scaler.inverse_transform(svr.predict(X_test).reshape(-1,1))"
   ]
  },
  {
   "cell_type": "code",
   "execution_count": null,
   "metadata": {},
   "outputs": [],
   "source": [
    "# pred['y_svr'] = svr.predict(X_test)\n",
    "# # pred['y_svr_sc'] = svr.predict(X_sc_test)\n",
    "# pred['y_linr'] = linr.predict(X_test)\n",
    "# # pred['y_linr'] = scaler.inverse_transform(linr.predict(pred['y_linr'].values.reshape(-1,1)))\n",
    "# # pred['y_linr_sc'] = linr.predict(X_sc_test)\n",
    "\n",
    "# pred[:5]"
   ]
  },
  {
   "cell_type": "code",
   "execution_count": null,
   "metadata": {},
   "outputs": [],
   "source": []
  },
  {
   "cell_type": "code",
   "execution_count": null,
   "metadata": {},
   "outputs": [],
   "source": []
  }
 ],
 "metadata": {
  "kernelspec": {
   "display_name": "Python 3",
   "language": "python",
   "name": "python3"
  },
  "language_info": {
   "codemirror_mode": {
    "name": "ipython",
    "version": 3
   },
   "file_extension": ".py",
   "mimetype": "text/x-python",
   "name": "python",
   "nbconvert_exporter": "python",
   "pygments_lexer": "ipython3",
   "version": "3.7.3"
  }
 },
 "nbformat": 4,
 "nbformat_minor": 2
}
