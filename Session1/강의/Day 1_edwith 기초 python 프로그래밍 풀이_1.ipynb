{
 "cells": [
  {
   "cell_type": "markdown",
   "metadata": {},
   "source": [
    "# Anaconda Python 설치\n",
    "\n",
    "1. Anaconda Python 다운로드 설치\n",
    "    * 환경변수 PATH 옵션 필히 체크\n",
    "2. 시작 메뉴 -> Anaconda Prompt 검색/실행\n",
    "3. Anaconda Prompt 내에서 `python --version` 수행\n",
    "\n",
    "```\n",
    "쉘> python --version\n",
    "Python 3.7.3\n",
    "\n",
    "쉘> pip --version\n",
    "pip 19.0.3 from C:\\Anaconda3\\lib\\site-packages\\pip (python 3.7)\n",
    "\n",
    "쉘> conda --version\n",
    "conda 4.6.14\n",
    "\n",
    "쉘> jupyter --version\n",
    "4.4.0\n",
    "```"
   ]
  },
  {
   "cell_type": "code",
   "execution_count": null,
   "metadata": {},
   "outputs": [],
   "source": []
  },
  {
   "cell_type": "code",
   "execution_count": 17,
   "metadata": {},
   "outputs": [
    {
     "data": {
      "text/plain": [
       "'3.7.2 (default, Dec 29 2018, 00:00:04) \\n[Clang 4.0.1 (tags/RELEASE_401/final)]'"
      ]
     },
     "execution_count": 17,
     "metadata": {},
     "output_type": "execute_result"
    }
   ],
   "source": [
    "import sys\n",
    "sys.version"
   ]
  },
  {
   "cell_type": "code",
   "execution_count": 3,
   "metadata": {},
   "outputs": [
    {
     "name": "stdout",
     "output_type": "stream",
     "text": [
      "이진석 20\n",
      "이름은 이진석입니다. 나이는 20입니다.\n",
      "이름은 이진석입니다. 나이는 20입니다.\n",
      "이름은 이진석입니다. 나이는 20입니다.\n"
     ]
    }
   ],
   "source": [
    "name = \"이진석\"\n",
    "age = 20        # 실행 : Shift+Enter\n",
    "\n",
    "print(name, age)\n",
    "\n",
    "print(\"이름은 %s입니다. 나이는 %d입니다.\" % (name, age))  # python 2에서 주로 활용하던 방식\n",
    "print(\"이름은 {}입니다. 나이는 {}입니다.\".format(name, age))  # python 2.7 ~\n",
    "\n",
    "# python 3.6~ : f-string\n",
    "print(f\"이름은 {name}입니다. 나이는 {age}입니다.\")"
   ]
  },
  {
   "cell_type": "markdown",
   "metadata": {},
   "source": [
    "# 6강. 실습 1\n",
    "\n",
    "문제1) 세 과목 (국어, 수학, 영어) 성적을 input() 함수로 입력받아 세 과목의 총점과 평균을 구하는 프로그램을 작성하시오. 평균은 소수점 둘째자리까지 출력되도록 한다."
   ]
  },
  {
   "cell_type": "code",
   "execution_count": 4,
   "metadata": {},
   "outputs": [],
   "source": [
    "국어 = 100\n",
    "영어 = 80\n",
    "수학 = 95"
   ]
  },
  {
   "cell_type": "code",
   "execution_count": 6,
   "metadata": {},
   "outputs": [
    {
     "data": {
      "text/plain": [
       "(275, 91.66666666666667)"
      ]
     },
     "execution_count": 6,
     "metadata": {},
     "output_type": "execute_result"
    }
   ],
   "source": [
    "총점 = 국어 + 영어 + 수학\n",
    "평균 = 총점 / 3\n",
    "총점, 평균"
   ]
  },
  {
   "cell_type": "code",
   "execution_count": 10,
   "metadata": {},
   "outputs": [
    {
     "name": "stdout",
     "output_type": "stream",
     "text": [
      "총점 : 275, 평균 : 91.67\n",
      "총점 : 275, 평균 : 91.67\n"
     ]
    }
   ],
   "source": [
    "print(\"총점 : %d, 평균 : %.2f\" % (총점, 평균))\n",
    "print(f\"총점 : {총점}, 평균 : {평균:.2f}\")"
   ]
  },
  {
   "cell_type": "code",
   "execution_count": 12,
   "metadata": {
    "collapsed": true
   },
   "outputs": [
    {
     "name": "stdout",
     "output_type": "stream",
     "text": [
      "국어 성적 : 100\n",
      "수학 성적 : 80\n",
      "영어 성적 : 95\n"
     ]
    },
    {
     "data": {
      "text/plain": [
       "(100, 80, 95)"
      ]
     },
     "execution_count": 12,
     "metadata": {},
     "output_type": "execute_result"
    }
   ],
   "source": [
    "국어 = int(input(\"국어 성적 : \"))\n",
    "수학 = int(input(\"수학 성적 : \"))\n",
    "영어 = int(input(\"영어 성적 : \"))\n",
    "\n",
    "국어, 수학, 영어"
   ]
  },
  {
   "cell_type": "code",
   "execution_count": 20,
   "metadata": {},
   "outputs": [
    {
     "name": "stdout",
     "output_type": "stream",
     "text": [
      "국어 수학 영어 성적 : 100 80 90 95\n",
      "에러) 국어 수학 영어 순으로 성적을 입력해주세요.\n"
     ]
    }
   ],
   "source": [
    "line = input(\"국어 수학 영어 성적 : \")\n",
    "# 국어, 수학, 영어 = line.split()  # white spaces를 구분자로 해서, 단어를 리스트화\n",
    "# 국어 = int(국어)\n",
    "# 수학 = int(수학)\n",
    "# 영어 = int(영어)\n",
    "\n",
    "try:\n",
    "    국어, 수학, 영어 = map(int, line.split())\n",
    "except ValueError:\n",
    "    print(\"에러) 국어 수학 영어 순으로 성적을 입력해주세요.\")"
   ]
  },
  {
   "cell_type": "code",
   "execution_count": 16,
   "metadata": {},
   "outputs": [
    {
     "name": "stdout",
     "output_type": "stream",
     "text": [
      "총점 : 275, 평균 : 91.67\n",
      "총점 : 275, 평균 : 91.67\n"
     ]
    }
   ],
   "source": [
    "총점 = 국어 + 수학 + 영어\n",
    "평균 = 총점 / 3\n",
    "print(\"총점 : %d, 평균 : %.2f\" % (총점, 평균))\n",
    "print(f\"총점 : {총점}, 평균 : {평균:.2f}\")"
   ]
  },
  {
   "cell_type": "markdown",
   "metadata": {},
   "source": [
    "문제2) input() 함수를 이용하여 원의 반지름을 입력받는다. 입력받은 반지름으로 원의 넓이와 원의 둘레를 구하여 소수 셋째 자리까지 출\n",
    "력하는 프로그램을 작성하시오."
   ]
  },
  {
   "cell_type": "code",
   "execution_count": 12,
   "metadata": {},
   "outputs": [
    {
     "name": "stdout",
     "output_type": "stream",
     "text": [
      "반지름 : 10\n",
      "원의 넓이 : 314.159, 원의 둘레 : 62.832\n"
     ]
    }
   ],
   "source": [
    "import math\n",
    "\n",
    "반지름 = int(input(\"반지름 : \"))\n",
    "\n",
    "원의_넓이 = math.pi * 반지름 ** 2\n",
    "원의_둘레 = 2 * math.pi * 반지름\n",
    "\n",
    "print(f\"원의 넓이 : {원의_넓이:.3f}, 원의 둘레 : {원의_둘레:.3f}\")"
   ]
  },
  {
   "cell_type": "markdown",
   "metadata": {},
   "source": [
    "문제3) 다섯 자리 양의 정수를 입력받아서, 다음과 같이 각 자리수를 떼어서 출력하는 프로그램을 작성하시오. 항상 올바르게 다섯 자리 숫자를 입력하고 1~9의 수만 입력한다고 가정한다."
   ]
  },
  {
   "cell_type": "code",
   "execution_count": 21,
   "metadata": {},
   "outputs": [
    {
     "name": "stdout",
     "output_type": "stream",
     "text": [
      "다섯 자리 숫자 : 12345\n"
     ]
    },
    {
     "data": {
      "text/plain": [
       "'12345'"
      ]
     },
     "execution_count": 21,
     "metadata": {},
     "output_type": "execute_result"
    }
   ],
   "source": [
    "숫자 = input(\"다섯 자리 숫자 : \")\n",
    "숫자"
   ]
  },
  {
   "cell_type": "code",
   "execution_count": 27,
   "metadata": {},
   "outputs": [
    {
     "data": {
      "text/plain": [
       "('1', '2', '3', '4', '5')"
      ]
     },
     "execution_count": 27,
     "metadata": {},
     "output_type": "execute_result"
    }
   ],
   "source": [
    "숫자[0], 숫자[1], 숫자[2], 숫자[3], 숫자[4]"
   ]
  },
  {
   "cell_type": "code",
   "execution_count": 30,
   "metadata": {},
   "outputs": [
    {
     "data": {
      "text/plain": [
       "'1 , 2 , 3 , 4 , 5'"
      ]
     },
     "execution_count": 30,
     "metadata": {},
     "output_type": "execute_result"
    }
   ],
   "source": [
    "' , '.join(숫자)"
   ]
  },
  {
   "cell_type": "code",
   "execution_count": 31,
   "metadata": {},
   "outputs": [
    {
     "data": {
      "text/plain": [
       "'1 , 2 , 3 , 4 , 5'"
      ]
     },
     "execution_count": 31,
     "metadata": {},
     "output_type": "execute_result"
    }
   ],
   "source": [
    "' , '.join(['1', '2', '3', '4', '5'])\n",
    "' , '.join('12345')"
   ]
  },
  {
   "cell_type": "code",
   "execution_count": null,
   "metadata": {},
   "outputs": [],
   "source": []
  },
  {
   "cell_type": "markdown",
   "metadata": {},
   "source": [
    "# 기본 자료형\n",
    "\n",
    "1. 수치 자료형 : int, float, complex\n",
    "2. 부울 자료형 : bool (True/False)\n",
    "3. 목록형 자료형 : str, list, tuple, set, dict 등\n",
    "    1. str : 홑/쌍 1개/3개 언급"
   ]
  },
  {
   "cell_type": "code",
   "execution_count": 32,
   "metadata": {},
   "outputs": [
    {
     "data": {
      "text/plain": [
       "('a', 'b', 'c', 'd', 'e')"
      ]
     },
     "execution_count": 32,
     "metadata": {},
     "output_type": "execute_result"
    }
   ],
   "source": [
    "[\"a\", \"b\", \"c\", \"d\", \"e\"]  # list\n",
    "{\"a\", \"b\", \"c\", \"d\", \"e\"}  # set\n",
    "(\"a\", \"b\", \"c\", \"d\", \"e\")  # tuple\n",
    "\"a\", \"b\", \"c\", \"d\", \"e\"  # tuple"
   ]
  },
  {
   "cell_type": "code",
   "execution_count": 34,
   "metadata": {},
   "outputs": [
    {
     "data": {
      "text/plain": [
       "(1,)"
      ]
     },
     "execution_count": 34,
     "metadata": {},
     "output_type": "execute_result"
    }
   ],
   "source": [
    "[1]  # list\n",
    "[1,] # list\n",
    "(1)  # int\n",
    "(1,) # tuple"
   ]
  },
  {
   "cell_type": "code",
   "execution_count": 36,
   "metadata": {},
   "outputs": [
    {
     "data": {
      "text/plain": [
       "[]"
      ]
     },
     "execution_count": 36,
     "metadata": {},
     "output_type": "execute_result"
    }
   ],
   "source": [
    "# 빈 리스트, 튜플, 집합, 사전\n",
    "[], list()\n",
    "(), tuple()\n",
    "set()\n",
    "{}, dict()"
   ]
  },
  {
   "cell_type": "code",
   "execution_count": 37,
   "metadata": {},
   "outputs": [
    {
     "data": {
      "text/plain": [
       "{'a': 1, 'b': 2}"
      ]
     },
     "execution_count": 37,
     "metadata": {},
     "output_type": "execute_result"
    }
   ],
   "source": [
    "{\"a\", \"b\"}  # set\n",
    "{\"a\": 1, \"b\": 2}  # dict"
   ]
  },
  {
   "cell_type": "code",
   "execution_count": null,
   "metadata": {},
   "outputs": [],
   "source": []
  },
  {
   "cell_type": "markdown",
   "metadata": {},
   "source": [
    "# index와 슬라이싱"
   ]
  },
  {
   "cell_type": "code",
   "execution_count": 38,
   "metadata": {},
   "outputs": [
    {
     "data": {
      "text/plain": [
       "'abcdefghijklmnopqrstuvwxyz'"
      ]
     },
     "execution_count": 38,
     "metadata": {},
     "output_type": "execute_result"
    }
   ],
   "source": [
    "알파벳 = \"abcdefghijklmnopqrstuvwxyz\"\n",
    "알파벳"
   ]
  },
  {
   "cell_type": "code",
   "execution_count": 39,
   "metadata": {},
   "outputs": [
    {
     "data": {
      "text/plain": [
       "'a'"
      ]
     },
     "execution_count": 39,
     "metadata": {},
     "output_type": "execute_result"
    }
   ],
   "source": [
    "알파벳[0]"
   ]
  },
  {
   "cell_type": "code",
   "execution_count": 40,
   "metadata": {},
   "outputs": [
    {
     "data": {
      "text/plain": [
       "26"
      ]
     },
     "execution_count": 40,
     "metadata": {},
     "output_type": "execute_result"
    }
   ],
   "source": [
    "len(알파벳)"
   ]
  },
  {
   "cell_type": "code",
   "execution_count": 43,
   "metadata": {},
   "outputs": [
    {
     "name": "stdout",
     "output_type": "stream",
     "text": [
      "z\n",
      "z\n"
     ]
    }
   ],
   "source": [
    "print(알파벳[len(알파벳)-1])  # 보통의 타언어\n",
    "print(알파벳[-1])"
   ]
  },
  {
   "cell_type": "code",
   "execution_count": 44,
   "metadata": {},
   "outputs": [
    {
     "data": {
      "text/plain": [
       "('z', 'z')"
      ]
     },
     "execution_count": 44,
     "metadata": {},
     "output_type": "execute_result"
    }
   ],
   "source": [
    "알파벳[25], 알파벳[-1]"
   ]
  },
  {
   "cell_type": "code",
   "execution_count": 46,
   "metadata": {},
   "outputs": [
    {
     "ename": "IndexError",
     "evalue": "string index out of range",
     "output_type": "error",
     "traceback": [
      "\u001b[0;31m---------------------------------------------------------------------------\u001b[0m",
      "\u001b[0;31mIndexError\u001b[0m                                Traceback (most recent call last)",
      "\u001b[0;32m<ipython-input-46-37d68460a9b4>\u001b[0m in \u001b[0;36m<module>\u001b[0;34m()\u001b[0m\n\u001b[0;32m----> 1\u001b[0;31m \u001b[0m알파벳\u001b[0m\u001b[0;34m[\u001b[0m\u001b[0;36m30\u001b[0m\u001b[0;34m]\u001b[0m\u001b[0;34m\u001b[0m\u001b[0;34m\u001b[0m\u001b[0m\n\u001b[0m",
      "\u001b[0;31mIndexError\u001b[0m: string index out of range"
     ]
    }
   ],
   "source": [
    "알파벳[30]"
   ]
  },
  {
   "cell_type": "code",
   "execution_count": null,
   "metadata": {},
   "outputs": [],
   "source": []
  },
  {
   "cell_type": "code",
   "execution_count": 55,
   "metadata": {},
   "outputs": [
    {
     "name": "stdout",
     "output_type": "stream",
     "text": [
      "behknqtwz\n",
      "cdefghijklmnopqrstuvwx\n",
      "defghijklm\n",
      "zyxwvutsrqponmlkjihgfedcba\n"
     ]
    }
   ],
   "source": [
    "# 알파벳[start:stop:step]  # start이상 stop미만, step\n",
    "# start 생략 => 처음부터\n",
    "# stop 생략 => 끝까지\n",
    "# step 생략 => 1 혹은 -1\n",
    "\n",
    "print(알파벳[1::3])\n",
    "print(알파벳[2:-2])  # 처음 2글자 제외, 마지막 2글자 제외\n",
    "print(알파벳[3:3+10])  # 3번 인덱스부터 10개 글자\n",
    "print(알파벳[::-1])"
   ]
  },
  {
   "cell_type": "code",
   "execution_count": null,
   "metadata": {},
   "outputs": [],
   "source": []
  },
  {
   "cell_type": "markdown",
   "metadata": {},
   "source": [
    "# 9강. 실습 2"
   ]
  },
  {
   "cell_type": "markdown",
   "metadata": {},
   "source": [
    "문제1) A 학교에서는 주당 12시간 강의를 기본으로 하고 있다. 만약에 강의 시간이 12시간을 초과하면 초과한 시간에 대해 시간당 급여의 30%를 더 지급한다. 주당 총 근무 시간과 A학교의 시간당 급여를 입력받아 1주일 급여를 계산하는 프로그램을 작성하시오."
   ]
  },
  {
   "cell_type": "code",
   "execution_count": 19,
   "metadata": {},
   "outputs": [
    {
     "name": "stdout",
     "output_type": "stream",
     "text": [
      "1주일 강의시간 : 20\n",
      "시간당 급여 : 40000\n",
      "1주일 급여 : 896000.0\n"
     ]
    }
   ],
   "source": [
    "강의시간 = int(input(\"1주일 강의시간 : \"))\n",
    "시간당_급여 = int(input(\"시간당 급여 : \"))\n",
    "\n",
    "if 강의시간 > 12:\n",
    "    초과시간 = 강의시간 - 12\n",
    "    급여 = (12 + 초과시간 * 1.3) * 시간당_급여\n",
    "else:\n",
    "    급여 = 강의시간 * 시간당_급여\n",
    "\n",
    "print(f\"1주일 급여 : {급여}\")"
   ]
  },
  {
   "cell_type": "markdown",
   "metadata": {},
   "source": [
    "문제2) 하나의 양의 정수를 입력받아서 그 수의 약수를 모두 출력하고, 약수의 개수도 출력하시오."
   ]
  },
  {
   "cell_type": "code",
   "execution_count": 76,
   "metadata": {},
   "outputs": [
    {
     "name": "stdout",
     "output_type": "stream",
     "text": [
      "약수_리스트 : [1, 2, 5, 10], 개수 : 4\n"
     ]
    }
   ],
   "source": [
    "숫자 = 10\n",
    "약수_리스트 = []\n",
    "\n",
    "for i in range(1, 숫자//2+1):\n",
    "    if 숫자 % i == 0:\n",
    "        약수_리스트.append(i)\n",
    "\n",
    "약수_리스트.append(숫자)\n",
    "약수_개수 = len(약수_리스트)\n",
    "\n",
    "print(f\"약수_리스트 : {약수_리스트}, 개수 : {약수_개수}\")"
   ]
  },
  {
   "cell_type": "code",
   "execution_count": 79,
   "metadata": {},
   "outputs": [
    {
     "data": {
      "text/plain": [
       "[1, 4, 9, 16, 25, 36, 49, 64, 81, 100]"
      ]
     },
     "execution_count": 79,
     "metadata": {},
     "output_type": "execute_result"
    }
   ],
   "source": [
    "# number_list = []\n",
    "# for i in range(1, 11):\n",
    "#     number_list.append(i ** 2)\n",
    "# number_list\n",
    "\n",
    "# list comprehension\n",
    "number_list = [i**2 for i in range(1, 11)]\n",
    "number_list"
   ]
  },
  {
   "cell_type": "code",
   "execution_count": 84,
   "metadata": {},
   "outputs": [
    {
     "name": "stdout",
     "output_type": "stream",
     "text": [
      "[1, 2, 0, 1, 2, 0, 1, 2, 0, 1]\n",
      "{0, 1, 2}\n",
      "{1: 1, 2: 2, 3: 0, 4: 1, 5: 2, 6: 0, 7: 1, 8: 2, 9: 0, 10: 1}\n",
      "<generator object <genexpr> at 0x110754660>\n"
     ]
    }
   ],
   "source": [
    "print([i % 3 for i in range(1, 11)])     # list comprehension\n",
    "print({i % 3 for i in range(1, 11)})     # set comprehension\n",
    "print({i: i % 3 for i in range(1, 11)})  # dict comprehension\n",
    "print((i % 3 for i in range(1, 11)))     # Generator (고급)"
   ]
  },
  {
   "cell_type": "code",
   "execution_count": 87,
   "metadata": {},
   "outputs": [
    {
     "data": {
      "text/plain": [
       "[1, 2, 5, 10]"
      ]
     },
     "execution_count": 87,
     "metadata": {},
     "output_type": "execute_result"
    }
   ],
   "source": [
    "숫자 = 10\n",
    "\n",
    "약수_리스트 = [i\n",
    "               for i in range(1, 숫자//2+1)\n",
    "               if 숫자 % i == 0]\n",
    "약수_리스트.append(숫자)\n",
    "\n",
    "약수_리스트"
   ]
  },
  {
   "cell_type": "markdown",
   "metadata": {},
   "source": [
    "문제3) input 함수 한 번에 다섯 개의 정수를 입력받아서 그 정수들 중에서 가장 큰 값을 출력하시오."
   ]
  },
  {
   "cell_type": "code",
   "execution_count": 96,
   "metadata": {},
   "outputs": [
    {
     "data": {
      "text/plain": [
       "50"
      ]
     },
     "execution_count": 96,
     "metadata": {},
     "output_type": "execute_result"
    }
   ],
   "source": [
    "line = \"10 20 30 40 50\"\n",
    "max(map(int, line.split()))  # Generator"
   ]
  },
  {
   "cell_type": "code",
   "execution_count": 102,
   "metadata": {},
   "outputs": [],
   "source": [
    "for i in range(1000000000000):\n",
    "    break"
   ]
  },
  {
   "cell_type": "code",
   "execution_count": null,
   "metadata": {},
   "outputs": [],
   "source": []
  },
  {
   "cell_type": "markdown",
   "metadata": {},
   "source": [
    "# 13강. 실습 3"
   ]
  },
  {
   "cell_type": "markdown",
   "metadata": {},
   "source": [
    "문제1) for 구문과 range() 함수를 이용하여 다음과 같이 출력되도록 하시오.\n",
    "\n",
    "```\n",
    "0 1 2 3 4 5 6 7 8 9 \n",
    "0 5 10 15 20 25 30 35 40 45 50 \n",
    "10 9 8 7 6 5 4 3 2 1\n",
    "```"
   ]
  },
  {
   "cell_type": "code",
   "execution_count": 32,
   "metadata": {},
   "outputs": [
    {
     "name": "stdout",
     "output_type": "stream",
     "text": [
      "0 1 2 3 4 5 6 7 8 9\n",
      "0 5 10 15 20 25 30 35 40 45 50\n",
      "10 9 8 7 6 5 4 3 2 1\n"
     ]
    }
   ],
   "source": [
    "print(' '.join(map(str, range(10))))\n",
    "print(' '.join(map(str, range(0, 51, 5))))\n",
    "print(' '.join(map(str, range(10, 0, -1))))"
   ]
  },
  {
   "cell_type": "markdown",
   "metadata": {},
   "source": [
    "문제2) score 리스트에 다섯 개의 성적 (정수)를 입력받아서, 다음과 같이 출력하시오. 성적을 입력받을 때에는 반드시 for 구문을 사용하고, 파이썬 내장 함수를 적절히 이용하시오."
   ]
  },
  {
   "cell_type": "code",
   "execution_count": 36,
   "metadata": {},
   "outputs": [
    {
     "name": "stdout",
     "output_type": "stream",
     "text": [
      "성적을 입력하시오 : 80\n",
      "성적을 입력하시오 : 88\n",
      "성적을 입력하시오 : 75\n",
      "성적을 입력하시오 : 93\n",
      "성적을 입력하시오 : 80\n",
      "입력한 성적들 : [80, 88, 75, 93, 80]\n",
      "최고 성적 : 93\n",
      "최저 성적 : 75\n",
      "평균 : 83.20\n"
     ]
    }
   ],
   "source": [
    "score = []\n",
    "\n",
    "for i in range(5):\n",
    "    성적 = int(input(\"성적을 입력하시오 : \"))\n",
    "    score.append(성적)\n",
    "    \n",
    "최고 = max(score)\n",
    "최저 = min(score)\n",
    "평균 = sum(score) / len(score)\n",
    "    \n",
    "print(f\"입력한 성적들 : {score}\")\n",
    "print(f\"최고 성적 : {최고}\")\n",
    "print(f\"최저 성적 : {최저}\")\n",
    "print(f\"평균 : {평균:.2f}\")"
   ]
  },
  {
   "cell_type": "markdown",
   "metadata": {},
   "source": [
    "문제3) A고등학교 어떤 반 학생들 5명의 번호와 국어, 영어, 수학 성적이 다음과 같다. 5명 각자의 평균을 출력하시오. (사전과 리스트 이용할 것)"
   ]
  },
  {
   "cell_type": "code",
   "execution_count": 109,
   "metadata": {
    "collapsed": true
   },
   "outputs": [
    {
     "name": "stdout",
     "output_type": "stream",
     "text": [
      "1, 평균 : 85.33\n",
      "2, 평균 : 83.67\n",
      "3, 평균 : 87.33\n",
      "4, 평균 : 68.00\n",
      "5, 평균 : 95.00\n"
     ]
    }
   ],
   "source": [
    "성적_리스트 = [\n",
    "    {'국어': 80, '영어': 90, '수학': 86},\n",
    "    {'국어': 78, '영어': 88, '수학': 85},\n",
    "    {'국어': 85, '영어': 85, '수학': 92},\n",
    "    {'국어': 70, '영어': 69, '수학': 65},\n",
    "    {'국어': 90, '영어': 95, '수학': 100},\n",
    "]\n",
    "\n",
    "for idx, 성적 in enumerate(성적_리스트, 1):\n",
    "    총점 = 성적['국어'] + 성적['영어'] + 성적['수학']\n",
    "    평균 = 총점 / 3\n",
    "    print(f\"{idx}, 평균 : {평균:.2f}\")"
   ]
  },
  {
   "cell_type": "code",
   "execution_count": 110,
   "metadata": {},
   "outputs": [],
   "source": [
    "import pandas as pd"
   ]
  },
  {
   "cell_type": "code",
   "execution_count": 113,
   "metadata": {
    "collapsed": true
   },
   "outputs": [
    {
     "data": {
      "text/html": [
       "<div>\n",
       "<style scoped>\n",
       "    .dataframe tbody tr th:only-of-type {\n",
       "        vertical-align: middle;\n",
       "    }\n",
       "\n",
       "    .dataframe tbody tr th {\n",
       "        vertical-align: top;\n",
       "    }\n",
       "\n",
       "    .dataframe thead th {\n",
       "        text-align: right;\n",
       "    }\n",
       "</style>\n",
       "<table border=\"1\" class=\"dataframe\">\n",
       "  <thead>\n",
       "    <tr style=\"text-align: right;\">\n",
       "      <th></th>\n",
       "      <th>국어</th>\n",
       "      <th>수학</th>\n",
       "      <th>영어</th>\n",
       "    </tr>\n",
       "  </thead>\n",
       "  <tbody>\n",
       "    <tr>\n",
       "      <th>0</th>\n",
       "      <td>80</td>\n",
       "      <td>86</td>\n",
       "      <td>90</td>\n",
       "    </tr>\n",
       "    <tr>\n",
       "      <th>1</th>\n",
       "      <td>78</td>\n",
       "      <td>85</td>\n",
       "      <td>88</td>\n",
       "    </tr>\n",
       "    <tr>\n",
       "      <th>2</th>\n",
       "      <td>85</td>\n",
       "      <td>92</td>\n",
       "      <td>85</td>\n",
       "    </tr>\n",
       "    <tr>\n",
       "      <th>3</th>\n",
       "      <td>70</td>\n",
       "      <td>65</td>\n",
       "      <td>69</td>\n",
       "    </tr>\n",
       "    <tr>\n",
       "      <th>4</th>\n",
       "      <td>90</td>\n",
       "      <td>100</td>\n",
       "      <td>95</td>\n",
       "    </tr>\n",
       "  </tbody>\n",
       "</table>\n",
       "</div>"
      ],
      "text/plain": [
       "   국어   수학  영어\n",
       "0  80   86  90\n",
       "1  78   85  88\n",
       "2  85   92  85\n",
       "3  70   65  69\n",
       "4  90  100  95"
      ]
     },
     "execution_count": 113,
     "metadata": {},
     "output_type": "execute_result"
    }
   ],
   "source": [
    "df = pd.DataFrame(성적_리스트)\n",
    "df"
   ]
  },
  {
   "cell_type": "code",
   "execution_count": 118,
   "metadata": {},
   "outputs": [
    {
     "data": {
      "text/html": [
       "<div>\n",
       "<style scoped>\n",
       "    .dataframe tbody tr th:only-of-type {\n",
       "        vertical-align: middle;\n",
       "    }\n",
       "\n",
       "    .dataframe tbody tr th {\n",
       "        vertical-align: top;\n",
       "    }\n",
       "\n",
       "    .dataframe thead th {\n",
       "        text-align: right;\n",
       "    }\n",
       "</style>\n",
       "<table border=\"1\" class=\"dataframe\">\n",
       "  <thead>\n",
       "    <tr style=\"text-align: right;\">\n",
       "      <th></th>\n",
       "      <th>국어</th>\n",
       "      <th>수학</th>\n",
       "      <th>영어</th>\n",
       "      <th>평균</th>\n",
       "      <th>총점</th>\n",
       "    </tr>\n",
       "  </thead>\n",
       "  <tbody>\n",
       "    <tr>\n",
       "      <th>0</th>\n",
       "      <td>80</td>\n",
       "      <td>86</td>\n",
       "      <td>90</td>\n",
       "      <td>85</td>\n",
       "      <td>256</td>\n",
       "    </tr>\n",
       "    <tr>\n",
       "      <th>1</th>\n",
       "      <td>78</td>\n",
       "      <td>85</td>\n",
       "      <td>88</td>\n",
       "      <td>83</td>\n",
       "      <td>251</td>\n",
       "    </tr>\n",
       "    <tr>\n",
       "      <th>2</th>\n",
       "      <td>85</td>\n",
       "      <td>92</td>\n",
       "      <td>85</td>\n",
       "      <td>87</td>\n",
       "      <td>262</td>\n",
       "    </tr>\n",
       "    <tr>\n",
       "      <th>3</th>\n",
       "      <td>70</td>\n",
       "      <td>65</td>\n",
       "      <td>69</td>\n",
       "      <td>68</td>\n",
       "      <td>204</td>\n",
       "    </tr>\n",
       "    <tr>\n",
       "      <th>4</th>\n",
       "      <td>90</td>\n",
       "      <td>100</td>\n",
       "      <td>95</td>\n",
       "      <td>95</td>\n",
       "      <td>285</td>\n",
       "    </tr>\n",
       "  </tbody>\n",
       "</table>\n",
       "</div>"
      ],
      "text/plain": [
       "   국어   수학  영어  평균   총점\n",
       "0  80   86  90  85  256\n",
       "1  78   85  88  83  251\n",
       "2  85   92  85  87  262\n",
       "3  70   65  69  68  204\n",
       "4  90  100  95  95  285"
      ]
     },
     "execution_count": 118,
     "metadata": {},
     "output_type": "execute_result"
    }
   ],
   "source": [
    "df['총점'] = df['국어'] + df['수학'] + df['영어']\n",
    "df['평균'] = df['총점'] // 3\n",
    "df"
   ]
  },
  {
   "cell_type": "code",
   "execution_count": 119,
   "metadata": {},
   "outputs": [],
   "source": [
    "df.to_excel(\"성적.xlsx\")  # pip install xlwt"
   ]
  },
  {
   "cell_type": "code",
   "execution_count": null,
   "metadata": {},
   "outputs": [],
   "source": []
  },
  {
   "cell_type": "code",
   "execution_count": null,
   "metadata": {},
   "outputs": [],
   "source": [
    "# import xlwings as xw\n",
    "\n",
    "# xw.view(df)"
   ]
  },
  {
   "cell_type": "code",
   "execution_count": null,
   "metadata": {},
   "outputs": [],
   "source": []
  },
  {
   "cell_type": "markdown",
   "metadata": {},
   "source": [
    "# 17강. 실습 4"
   ]
  },
  {
   "cell_type": "markdown",
   "metadata": {},
   "source": [
    "문제1) 이전 실습에서 했던 문제이다. A 학교에서는 주당 12시간 강의를 기본으로 하고 있다. 만약에 강의 시간이 12시간을 초과하면 초과한 시간에 대해 시간당 급여의 30%를 더 지급한다. 주당 총 근무 시간과 A학교의 시간당 급여를 입력받아 1주일 급여를 계산하는 부분을 함수로 작성하고 main에서 함수를 호출하시오."
   ]
  },
  {
   "cell_type": "code",
   "execution_count": 49,
   "metadata": {},
   "outputs": [
    {
     "name": "stdout",
     "output_type": "stream",
     "text": [
      "1주일 강의시간 : 20\n",
      "시간당 급여 : 50000\n",
      "급여 : 1120000.0\n"
     ]
    }
   ],
   "source": [
    "def 일주일_급여(강의시간, 시간당_급여):\n",
    "    if 강의시간 > 12:\n",
    "        초과시간 = 강의시간 - 12\n",
    "        급여 = (12 + 초과시간 * 1.3) * 시간당_급여\n",
    "    else:\n",
    "        급여 = 강의시간 * 시간당_급여\n",
    "    \n",
    "    return 급여\n",
    "\n",
    "def main():\n",
    "    강의시간 = int(input(\"1주일 강의시간 : \"))\n",
    "    시간당_급여 = int(input(\"시간당 급여 : \"))\n",
    "\n",
    "    급여 = 일주일_급여(강의시간, 시간당_급여)\n",
    "    print(f\"급여 : {급여}\")\n",
    "    \n",
    "if __name__ == \"__main__\":\n",
    "    main()"
   ]
  },
  {
   "cell_type": "markdown",
   "metadata": {},
   "source": [
    "문제2) 섭씨 온도를 화씨 온도로 바꾸는 프로그램을 작성하려고 한다. 섭씨 시작온도와 섭씨 끝 온도를 입력받아서 다음과 같이 출력되도록 프로그램을 작성하시오. 이때 섭씨 온도를 화씨 온도로 바꾸는 부분은 반드시 함수로 작성하도록 한다."
   ]
  },
  {
   "cell_type": "code",
   "execution_count": 51,
   "metadata": {},
   "outputs": [
    {
     "name": "stdout",
     "output_type": "stream",
     "text": [
      "시작 온도를 입력하시오 : 10\n",
      "끝 온도를 입력하시오 : 20\n",
      "섭씨 10도는 화씨 50.0도입니다.\n",
      "섭씨 11도는 화씨 51.8도입니다.\n",
      "섭씨 12도는 화씨 53.6도입니다.\n",
      "섭씨 13도는 화씨 55.4도입니다.\n",
      "섭씨 14도는 화씨 57.2도입니다.\n",
      "섭씨 15도는 화씨 59.0도입니다.\n",
      "섭씨 16도는 화씨 60.8도입니다.\n",
      "섭씨 17도는 화씨 62.6도입니다.\n",
      "섭씨 18도는 화씨 64.4도입니다.\n",
      "섭씨 19도는 화씨 66.2도입니다.\n",
      "섭씨 20도는 화씨 68.0도입니다.\n"
     ]
    }
   ],
   "source": [
    "def 섭씨_to_화씨(섭씨):\n",
    "    return 섭씨 * 9 / 5 + 32\n",
    "\n",
    "시작온도 = int(input(\"시작 온도를 입력하시오 : \"))\n",
    "끝온도 = int(input(\"끝 온도를 입력하시오 : \"))\n",
    "\n",
    "for 섭씨 in range(시작온도, 끝온도+1):\n",
    "    화씨 = 섭씨_to_화씨(섭씨)\n",
    "    print(f\"섭씨 {섭씨}도는 화씨 {화씨}도입니다.\")"
   ]
  },
  {
   "cell_type": "markdown",
   "metadata": {},
   "source": [
    "문제3) 컴퓨터는 1부터 100사이의 정수 하나를 임의로 선택한다. 사용자는 컴퓨터가 선택한 수를 맞춘다. 최종적으로 몇 번의 guess로 맞췄는 지와 컴퓨터가 선택한 숫자를 출력한다."
   ]
  },
  {
   "cell_type": "code",
   "execution_count": 53,
   "metadata": {},
   "outputs": [
    {
     "name": "stdout",
     "output_type": "stream",
     "text": [
      "20\n",
      "[1] Guess :50\n",
      "더 작은 수를 선택하세요.\n",
      "[2] Guess :10\n",
      "더 큰 수를 선택하세요.\n",
      "[3] Guess :15\n",
      "더 큰 수를 선택하세요.\n",
      "[4] Guess :20\n",
      "4번의 시도 끝에 숫자20를 맞추셨습니다.\n"
     ]
    }
   ],
   "source": [
    "import random\n",
    "\n",
    "number = random.randint(1, 100)\n",
    "\n",
    "retry = 1\n",
    "while True:\n",
    "    guess = int(input(f\"[{retry}] Guess :\"))\n",
    "    if guess == number:\n",
    "        break\n",
    "    elif guess < number:\n",
    "        print(\"더 큰 수를 선택하세요.\")\n",
    "    else:\n",
    "        print(\"더 작은 수를 선택하세요.\")\n",
    "    retry += 1\n",
    "\n",
    "print(f\"{retry}번의 시도 끝에 숫자{number}를 맞추셨습니다.\")"
   ]
  },
  {
   "cell_type": "code",
   "execution_count": null,
   "metadata": {},
   "outputs": [],
   "source": []
  },
  {
   "cell_type": "markdown",
   "metadata": {},
   "source": [
    "# 멜론 데이터"
   ]
  },
  {
   "cell_type": "code",
   "execution_count": 121,
   "metadata": {
    "collapsed": true
   },
   "outputs": [
    {
     "data": {
      "text/plain": [
       "[{'index': 0,\n",
       "  '곡일련번호': 31346009,\n",
       "  '순위': 1,\n",
       "  '앨범': '삐삐',\n",
       "  '곡명': '삐삐',\n",
       "  '가수': '아이유',\n",
       "  '커버이미지_주소': 'https://cdnimg.melon.co.kr/cm/album/images/102/10/535/10210535_500.jpg/melon/resize/120/quality/80/optimize',\n",
       "  '좋아요': 61528},\n",
       " {'index': 1,\n",
       "  '곡일련번호': 31344113,\n",
       "  '순위': 2,\n",
       "  '앨범': '시간이 들겠지',\n",
       "  '곡명': '시간이 들겠지 (Feat. Colde)',\n",
       "  '가수': '로꼬',\n",
       "  '커버이미지_주소': 'https://cdnimg.melon.co.kr/cm/album/images/102/10/198/10210198_500.jpg/melon/resize/120/quality/80/optimize',\n",
       "  '좋아요': 48331},\n",
       " {'index': 2,\n",
       "  '곡일련번호': 31340985,\n",
       "  '순위': 3,\n",
       "  '앨범': '쇼미더머니 777 Episode 1',\n",
       "  '곡명': 'Good Day (Feat. 팔로알토) (Prod. 코드 쿤스트)',\n",
       "  '가수': 'pH-1',\n",
       "  '커버이미지_주소': 'https://cdnimg.melon.co.kr/cm/album/images/102/09/647/10209647_500.jpg/melon/resize/120/quality/80/optimize',\n",
       "  '좋아요': 54022},\n",
       " {'index': 3,\n",
       "  '곡일련번호': 31316695,\n",
       "  '순위': 4,\n",
       "  '앨범': '하루도 그대를 사랑하지 않은 적이 없었다',\n",
       "  '곡명': '하루도 그대를 사랑하지 않은 적이 없었다',\n",
       "  '가수': '임창정',\n",
       "  '커버이미지_주소': 'https://cdnimg.melon.co.kr/cm/album/images/102/05/805/10205805_500.jpg/melon/resize/120/quality/80/optimize',\n",
       "  '좋아요': 97984},\n",
       " {'index': 4,\n",
       "  '곡일련번호': 31266290,\n",
       "  '순위': 5,\n",
       "  '앨범': 'LOVE YOURSELF 結 `Answer`',\n",
       "  '곡명': 'IDOL',\n",
       "  '가수': '방탄소년단',\n",
       "  '커버이미지_주소': 'https://cdnimg.melon.co.kr/cm/album/images/101/97/480/10197480_500.jpg/melon/resize/120/quality/80/optimize',\n",
       "  '좋아요': 173279},\n",
       " {'index': 5,\n",
       "  '곡일련번호': 31331745,\n",
       "  '순위': 6,\n",
       "  '앨범': 'NEW KIDS : THE FINAL',\n",
       "  '곡명': '이별길 (GOODBYE ROAD)',\n",
       "  '가수': 'iKON',\n",
       "  '커버이미지_주소': 'https://cdnimg.melon.co.kr/cm/album/images/102/08/358/10208358_500.jpg/melon/resize/120/quality/80/optimize',\n",
       "  '좋아요': 55396},\n",
       " {'index': 6,\n",
       "  '곡일련번호': 31340982,\n",
       "  '순위': 7,\n",
       "  '앨범': '쇼미더머니 777 Episode 1',\n",
       "  '곡명': '사임사임 (Feat. CHANGMO)',\n",
       "  '가수': 'Coogie',\n",
       "  '커버이미지_주소': 'https://cdnimg.melon.co.kr/cm/album/images/102/09/647/10209647_500.jpg/melon/resize/120/quality/80/optimize',\n",
       "  '좋아요': 27564},\n",
       " {'index': 7,\n",
       "  '곡일련번호': 31266289,\n",
       "  '순위': 8,\n",
       "  '앨범': 'LOVE YOURSELF 結 `Answer`',\n",
       "  '곡명': 'I`m Fine',\n",
       "  '가수': '방탄소년단',\n",
       "  '커버이미지_주소': 'https://cdnimg.melon.co.kr/cm/album/images/101/97/480/10197480_500.jpg/melon/resize/120/quality/80/optimize',\n",
       "  '좋아요': 132847},\n",
       " {'index': 8,\n",
       "  '곡일련번호': 31314142,\n",
       "  '순위': 9,\n",
       "  '앨범': '우리 그만하자',\n",
       "  '곡명': '우리 그만하자',\n",
       "  '가수': '로이킴',\n",
       "  '커버이미지_주소': 'https://cdnimg.melon.co.kr/cm/album/images/102/05/438/10205438_500.jpg/melon/resize/120/quality/80/optimize',\n",
       "  '좋아요': 95771},\n",
       " {'index': 9,\n",
       "  '곡일련번호': 31085237,\n",
       "  '순위': 10,\n",
       "  '앨범': 'LOVE YOURSELF 轉 `Tear`',\n",
       "  '곡명': 'FAKE LOVE',\n",
       "  '가수': '방탄소년단',\n",
       "  '커버이미지_주소': 'https://cdnimg.melon.co.kr/cm/album/images/101/68/559/10168559_500.jpg/melon/resize/120/quality/80/optimize',\n",
       "  '좋아요': 253847},\n",
       " {'index': 10,\n",
       "  '곡일련번호': 31314144,\n",
       "  '순위': 11,\n",
       "  '앨범': '가을 타나 봐',\n",
       "  '곡명': '가을 타나 봐',\n",
       "  '가수': '바이브',\n",
       "  '커버이미지_주소': 'https://cdnimg.melon.co.kr/cm/album/images/102/05/439/10205439_500.jpg/melon/resize/120/quality/80/optimize',\n",
       "  '좋아요': 28056},\n",
       " {'index': 11,\n",
       "  '곡일련번호': 31266282,\n",
       "  '순위': 12,\n",
       "  '앨범': 'LOVE YOURSELF 結 `Answer`',\n",
       "  '곡명': 'Euphoria',\n",
       "  '가수': '방탄소년단',\n",
       "  '커버이미지_주소': 'https://cdnimg.melon.co.kr/cm/album/images/101/97/480/10197480_500.jpg/melon/resize/120/quality/80/optimize',\n",
       "  '좋아요': 129017},\n",
       " {'index': 12,\n",
       "  '곡일련번호': 31302310,\n",
       "  '순위': 13,\n",
       "  '앨범': '헤어지는 중',\n",
       "  '곡명': '헤어지는 중',\n",
       "  '가수': '펀치 (Punch)',\n",
       "  '커버이미지_주소': 'https://cdnimg.melon.co.kr/cm/album/images/102/03/500/10203500_500.jpg/melon/resize/120/quality/80/optimize',\n",
       "  '좋아요': 77050},\n",
       " {'index': 13,\n",
       "  '곡일련번호': 31266291,\n",
       "  '순위': 14,\n",
       "  '앨범': 'LOVE YOURSELF 結 `Answer`',\n",
       "  '곡명': 'Answer : Love Myself',\n",
       "  '가수': '방탄소년단',\n",
       "  '커버이미지_주소': 'https://cdnimg.melon.co.kr/cm/album/images/101/97/480/10197480_500.jpg/melon/resize/120/quality/80/optimize',\n",
       "  '좋아요': 108151},\n",
       " {'index': 14,\n",
       "  '곡일련번호': 31085238,\n",
       "  '순위': 15,\n",
       "  '앨범': 'LOVE YOURSELF 轉 `Tear`',\n",
       "  '곡명': '전하지 못한 진심 (Feat. Steve Aoki)',\n",
       "  '가수': '방탄소년단',\n",
       "  '커버이미지_주소': 'https://cdnimg.melon.co.kr/cm/album/images/101/68/559/10168559_500.jpg/melon/resize/120/quality/80/optimize',\n",
       "  '좋아요': 176653},\n",
       " {'index': 15,\n",
       "  '곡일련번호': 31266288,\n",
       "  '순위': 16,\n",
       "  '앨범': 'LOVE YOURSELF 結 `Answer`',\n",
       "  '곡명': 'Epiphany',\n",
       "  '가수': '방탄소년단',\n",
       "  '커버이미지_주소': 'https://cdnimg.melon.co.kr/cm/album/images/101/97/480/10197480_500.jpg/melon/resize/120/quality/80/optimize',\n",
       "  '좋아요': 101011},\n",
       " {'index': 16,\n",
       "  '곡일련번호': 31266286,\n",
       "  '순위': 17,\n",
       "  '앨범': 'LOVE YOURSELF 結 `Answer`',\n",
       "  '곡명': 'Trivia 轉 : Seesaw',\n",
       "  '가수': '방탄소년단',\n",
       "  '커버이미지_주소': 'https://cdnimg.melon.co.kr/cm/album/images/101/97/480/10197480_500.jpg/melon/resize/120/quality/80/optimize',\n",
       "  '좋아요': 98436},\n",
       " {'index': 17,\n",
       "  '곡일련번호': 30962526,\n",
       "  '순위': 18,\n",
       "  '앨범': '`키스 먼저 할까요?` OST Part.3',\n",
       "  '곡명': '모든 날, 모든 순간 (Every day, Every Moment)',\n",
       "  '가수': '폴킴',\n",
       "  '커버이미지_주소': 'https://cdnimg.melon.co.kr/cm/album/images/101/49/492/10149492_500.jpg/melon/resize/120/quality/80/optimize',\n",
       "  '좋아요': 185706},\n",
       " {'index': 18,\n",
       "  '곡일련번호': 31280273,\n",
       "  '순위': 19,\n",
       "  '앨범': 'YOUNG',\n",
       "  '곡명': 'YOUNG',\n",
       "  '가수': '백현 (BAEKHYUN)',\n",
       "  '커버이미지_주소': 'https://cdnimg.melon.co.kr/cm/album/images/101/99/959/10199959_500.jpg/melon/resize/120/quality/80/optimize',\n",
       "  '좋아요': 91106},\n",
       " {'index': 19,\n",
       "  '곡일련번호': 31266292,\n",
       "  '순위': 20,\n",
       "  '앨범': 'LOVE YOURSELF 結 `Answer`',\n",
       "  '곡명': 'Trivia 起 : Just Dance',\n",
       "  '가수': '방탄소년단',\n",
       "  '커버이미지_주소': 'https://cdnimg.melon.co.kr/cm/album/images/101/97/480/10197480_500.jpg/melon/resize/120/quality/80/optimize',\n",
       "  '좋아요': 88970},\n",
       " {'index': 20,\n",
       "  '곡일련번호': 31286161,\n",
       "  '순위': 21,\n",
       "  '앨범': 'WARNING',\n",
       "  '곡명': '사이렌 (Siren)',\n",
       "  '가수': '선미',\n",
       "  '커버이미지_주소': 'https://cdnimg.melon.co.kr/cm/album/images/102/00/838/10200838_500.jpg/melon/resize/120/quality/80/optimize',\n",
       "  '좋아요': 91516},\n",
       " {'index': 21,\n",
       "  '곡일련번호': 31266300,\n",
       "  '순위': 22,\n",
       "  '앨범': 'LOVE YOURSELF 結 `Answer`',\n",
       "  '곡명': 'Trivia 承 : Love',\n",
       "  '가수': '방탄소년단',\n",
       "  '커버이미지_주소': 'https://cdnimg.melon.co.kr/cm/album/images/101/97/480/10197480_500.jpg/melon/resize/120/quality/80/optimize',\n",
       "  '좋아요': 83610},\n",
       " {'index': 22,\n",
       "  '곡일련번호': 31062863,\n",
       "  '순위': 23,\n",
       "  '앨범': 'RECIPE',\n",
       "  '곡명': '열애중',\n",
       "  '가수': '벤',\n",
       "  '커버이미지_주소': 'https://cdnimg.melon.co.kr/cm/album/images/101/64/839/10164839_500.jpg/melon/resize/120/quality/80/optimize',\n",
       "  '좋아요': 115805},\n",
       " {'index': 23,\n",
       "  '곡일련번호': 31151836,\n",
       "  '순위': 24,\n",
       "  '앨범': 'Take',\n",
       "  '곡명': 'Way Back Home',\n",
       "  '가수': '숀 (SHAUN)',\n",
       "  '커버이미지_주소': 'https://cdnimg.melon.co.kr/cm/album/images/101/79/508/10179508_500.jpg/melon/resize/120/quality/80/optimize',\n",
       "  '좋아요': 225308},\n",
       " {'index': 24,\n",
       "  '곡일련번호': 31085244,\n",
       "  '순위': 25,\n",
       "  '앨범': 'LOVE YOURSELF 轉 `Tear`',\n",
       "  '곡명': 'Anpanman',\n",
       "  '가수': '방탄소년단',\n",
       "  '커버이미지_주소': 'https://cdnimg.melon.co.kr/cm/album/images/101/68/559/10168559_500.jpg/melon/resize/120/quality/80/optimize',\n",
       "  '좋아요': 138694},\n",
       " {'index': 25,\n",
       "  '곡일련번호': 30244931,\n",
       "  '순위': 26,\n",
       "  '앨범': 'YOU NEVER WALK ALONE',\n",
       "  '곡명': '봄날',\n",
       "  '가수': '방탄소년단',\n",
       "  '커버이미지_주소': 'https://cdnimg.melon.co.kr/cm/album/images/100/37/969/10037969_500.jpg/melon/resize/120/quality/80/optimize',\n",
       "  '좋아요': 359130},\n",
       " {'index': 26,\n",
       "  '곡일련번호': 30637982,\n",
       "  '순위': 27,\n",
       "  '앨범': 'LOVE YOURSELF 承 `Her`',\n",
       "  '곡명': 'DNA',\n",
       "  '가수': '방탄소년단',\n",
       "  '커버이미지_주소': 'https://cdnimg.melon.co.kr/cm/album/images/100/97/112/10097112_500.jpg/melon/resize/120/quality/80/optimize',\n",
       "  '좋아요': 323911},\n",
       " {'index': 27,\n",
       "  '곡일련번호': 31085243,\n",
       "  '순위': 28,\n",
       "  '앨범': 'LOVE YOURSELF 轉 `Tear`',\n",
       "  '곡명': 'Airplane pt.2',\n",
       "  '가수': '방탄소년단',\n",
       "  '커버이미지_주소': 'https://cdnimg.melon.co.kr/cm/album/images/101/68/559/10168559_500.jpg/melon/resize/120/quality/80/optimize',\n",
       "  '좋아요': 127355},\n",
       " {'index': 28,\n",
       "  '곡일련번호': 30806536,\n",
       "  '순위': 29,\n",
       "  '앨범': 'Universe - 겨울 스페셜 앨범, 2017',\n",
       "  '곡명': 'Universe',\n",
       "  '가수': 'EXO',\n",
       "  '커버이미지_주소': 'https://cdnimg.melon.co.kr/cm/album/images/101/22/917/10122917_500.jpg/melon/resize/120/quality/80/optimize',\n",
       "  '좋아요': 155809},\n",
       " {'index': 29,\n",
       "  '곡일련번호': 31309079,\n",
       "  '순위': 30,\n",
       "  '앨범': 'We Young',\n",
       "  '곡명': 'We Young',\n",
       "  '가수': '찬열',\n",
       "  '커버이미지_주소': 'https://cdnimg.melon.co.kr/cm/album/images/102/04/604/10204604_500.jpg/melon/resize/120/quality/80/optimize',\n",
       "  '좋아요': 53852},\n",
       " {'index': 30,\n",
       "  '곡일련번호': 31219546,\n",
       "  '순위': 31,\n",
       "  '앨범': 'Dingo X Indigo Music',\n",
       "  '곡명': 'flex (Prod. By 기리보이)',\n",
       "  '가수': '기리보이',\n",
       "  '커버이미지_주소': 'https://cdnimg.melon.co.kr/cm/album/images/101/89/965/10189965_500.jpg/melon/resize/120/quality/80/optimize',\n",
       "  '좋아요': 72135},\n",
       " {'index': 31,\n",
       "  '곡일련번호': 31009483,\n",
       "  '순위': 32,\n",
       "  '앨범': 'Blooming Days - The 2nd Mini Album',\n",
       "  '곡명': '花요일 (Blooming Day)',\n",
       "  '가수': 'EXO-CBX (첸백시)',\n",
       "  '커버이미지_주소': 'https://cdnimg.melon.co.kr/cm/album/images/101/56/597/10156597_500.jpg/melon/resize/120/quality/80/optimize',\n",
       "  '좋아요': 110311},\n",
       " {'index': 32,\n",
       "  '곡일련번호': 31144690,\n",
       "  '순위': 33,\n",
       "  '앨범': 'IM',\n",
       "  '곡명': 'IndiGO',\n",
       "  '가수': '저스디스 (JUSTHIS)',\n",
       "  '커버이미지_주소': 'https://cdnimg.melon.co.kr/cm/album/images/101/78/566/10178566_500.jpg/melon/resize/120/quality/80/optimize',\n",
       "  '좋아요': 46739},\n",
       " {'index': 33,\n",
       "  '곡일련번호': 31278454,\n",
       "  '순위': 34,\n",
       "  '앨범': 'Sheep (Alan Walker Relift)',\n",
       "  '곡명': 'Sheep (Alan Walker Relift)',\n",
       "  '가수': '레이 (LAY)',\n",
       "  '커버이미지_주소': 'https://cdnimg.melon.co.kr/cm/album/images/101/99/693/10199693_500.jpg/melon/resize/120/quality/80/optimize',\n",
       "  '좋아요': 30411},\n",
       " {'index': 34,\n",
       "  '곡일련번호': 31131273,\n",
       "  '순위': 35,\n",
       "  '앨범': 'SQUARE UP',\n",
       "  '곡명': '뚜두뚜두 (DDU-DU DDU-DU)',\n",
       "  '가수': 'BLACKPINK',\n",
       "  '커버이미지_주소': 'https://cdnimg.melon.co.kr/cm/album/images/101/76/415/10176415_500.jpg/melon/resize/120/quality/80/optimize',\n",
       "  '좋아요': 192831},\n",
       " {'index': 35,\n",
       "  '곡일련번호': 30699142,\n",
       "  '순위': 36,\n",
       "  '앨범': 'About You',\n",
       "  '곡명': '지나오다',\n",
       "  '가수': '닐로 (Nilo)',\n",
       "  '커버이미지_주소': 'https://cdnimg.melon.co.kr/cm/album/images/101/06/853/10106853_500.jpg/melon/resize/120/quality/80/optimize',\n",
       "  '좋아요': 178367},\n",
       " {'index': 36,\n",
       "  '곡일련번호': 31175119,\n",
       "  '순위': 37,\n",
       "  '앨범': 'Summer Nights',\n",
       "  '곡명': 'Dance The Night Away',\n",
       "  '가수': 'TWICE (트와이스)',\n",
       "  '커버이미지_주소': 'https://cdnimg.melon.co.kr/cm/album/images/101/83/127/10183127_500.jpg/melon/resize/120/quality/80/optimize',\n",
       "  '좋아요': 127052},\n",
       " {'index': 37,\n",
       "  '곡일련번호': 31331750,\n",
       "  '순위': 38,\n",
       "  '앨범': 'r',\n",
       "  '곡명': '나',\n",
       "  '가수': '박원',\n",
       "  '커버이미지_주소': 'https://cdnimg.melon.co.kr/cm/album/images/102/08/360/10208360_500.jpg/melon/resize/120/quality/80/optimize',\n",
       "  '좋아요': 26696},\n",
       " {'index': 38,\n",
       "  '곡일련번호': 31113240,\n",
       "  '순위': 39,\n",
       "  '앨범': '1÷χ=1 (UNDIVIDED)',\n",
       "  '곡명': '켜줘 (Light)',\n",
       "  '가수': 'Wanna One (워너원)',\n",
       "  '커버이미지_주소': 'https://cdnimg.melon.co.kr/cm/album/images/101/73/365/10173365_500.jpg/melon/resize/120/quality/80/optimize',\n",
       "  '좋아요': 112878},\n",
       " {'index': 39,\n",
       "  '곡일련번호': 31230093,\n",
       "  '순위': 40,\n",
       "  '앨범': 'Summer Magic - Summer Mini Album',\n",
       "  '곡명': 'Power Up',\n",
       "  '가수': 'Red Velvet (레드벨벳)',\n",
       "  '커버이미지_주소': 'https://cdnimg.melon.co.kr/cm/album/images/101/91/694/10191694_500.jpg/melon/resize/120/quality/80/optimize',\n",
       "  '좋아요': 130949},\n",
       " {'index': 40,\n",
       "  '곡일련번호': 30568338,\n",
       "  '순위': 41,\n",
       "  '앨범': '1X1=1(TO BE ONE)',\n",
       "  '곡명': '에너제틱 (Energetic)',\n",
       "  '가수': 'Wanna One (워너원)',\n",
       "  '커버이미지_주소': 'https://cdnimg.melon.co.kr/cm/album/images/100/85/951/10085951_500.jpg/melon/resize/120/quality/80/optimize',\n",
       "  '좋아요': 268394},\n",
       " {'index': 41,\n",
       "  '곡일련번호': 30859584,\n",
       "  '순위': 42,\n",
       "  '앨범': 'Return',\n",
       "  '곡명': '사랑을 했다 (LOVE SCENARIO)',\n",
       "  '가수': 'iKON',\n",
       "  '커버이미지_주소': 'https://cdnimg.melon.co.kr/cm/album/images/101/32/945/10132945_500.jpg/melon/resize/120/quality/80/optimize',\n",
       "  '좋아요': 267692},\n",
       " {'index': 42,\n",
       "  '곡일련번호': 31304766,\n",
       "  '순위': 43,\n",
       "  '앨범': '이별하러 가는 길',\n",
       "  '곡명': '이별하러 가는 길',\n",
       "  '가수': '임한별',\n",
       "  '커버이미지_주소': 'https://cdnimg.melon.co.kr/cm/album/images/102/03/965/10203965_500.jpg/melon/resize/120/quality/80/optimize',\n",
       "  '좋아요': 25182},\n",
       " {'index': 43,\n",
       "  '곡일련번호': 30960341,\n",
       "  '순위': 44,\n",
       "  '앨범': '0+1=1 (I PROMISE YOU)',\n",
       "  '곡명': 'BOOMERANG (부메랑)',\n",
       "  '가수': 'Wanna One (워너원)',\n",
       "  '커버이미지_주소': 'https://cdnimg.melon.co.kr/cm/album/images/101/44/723/10144723_2_500.jpg/melon/resize/120/quality/80/optimize',\n",
       "  '좋아요': 124968},\n",
       " {'index': 44,\n",
       "  '곡일련번호': 30725482,\n",
       "  '순위': 45,\n",
       "  '앨범': '1-1=0 (NOTHING WITHOUT YOU)',\n",
       "  '곡명': 'Beautiful',\n",
       "  '가수': 'Wanna One (워너원)',\n",
       "  '커버이미지_주소': 'https://cdnimg.melon.co.kr/cm/album/images/101/11/029/10111029_500.jpg/melon/resize/120/quality/80/optimize',\n",
       "  '좋아요': 216065},\n",
       " {'index': 45,\n",
       "  '곡일련번호': 31093710,\n",
       "  '순위': 46,\n",
       "  '앨범': 'Red Diary Page.2',\n",
       "  '곡명': '여행',\n",
       "  '가수': '볼빨간사춘기',\n",
       "  '커버이미지_주소': 'https://cdnimg.melon.co.kr/cm/album/images/101/70/069/10170069_500.jpg/melon/resize/120/quality/80/optimize',\n",
       "  '좋아요': 190489},\n",
       " {'index': 46,\n",
       "  '곡일련번호': 31113241,\n",
       "  '순위': 47,\n",
       "  '앨범': '1÷χ=1 (UNDIVIDED)',\n",
       "  '곡명': '캥거루 (Kangaroo) (Prod. ZICO)',\n",
       "  '가수': 'Wanna One (워너원) - 트리플포지션',\n",
       "  '커버이미지_주소': 'https://cdnimg.melon.co.kr/cm/album/images/101/73/365/10173365_500.jpg/melon/resize/120/quality/80/optimize',\n",
       "  '좋아요': 104852},\n",
       " {'index': 47,\n",
       "  '곡일련번호': 31189241,\n",
       "  '순위': 48,\n",
       "  '앨범': 'RED MOON',\n",
       "  '곡명': '너나 해 (Egotistic)',\n",
       "  '가수': '마마무(Mamamoo)',\n",
       "  '커버이미지_주소': 'https://cdnimg.melon.co.kr/cm/album/images/101/85/416/10185416_500.jpg/melon/resize/120/quality/80/optimize',\n",
       "  '좋아요': 94861},\n",
       " {'index': 48,\n",
       "  '곡일련번호': 30884950,\n",
       "  '순위': 49,\n",
       "  '앨범': '그때 헤어지면 돼',\n",
       "  '곡명': '그때 헤어지면 돼',\n",
       "  '가수': '로이킴',\n",
       "  '커버이미지_주소': 'https://cdnimg.melon.co.kr/cm/album/images/101/37/574/10137574_500.jpg/melon/resize/120/quality/80/optimize',\n",
       "  '좋아요': 176025},\n",
       " {'index': 49,\n",
       "  '곡일련번호': 30809895,\n",
       "  '순위': 50,\n",
       "  '앨범': 'inside',\n",
       "  '곡명': '미안해',\n",
       "  '가수': '양다일',\n",
       "  '커버이미지_주소': 'https://cdnimg.melon.co.kr/cm/album/images/101/23/639/10123639_500.jpg/melon/resize/120/quality/80/optimize',\n",
       "  '좋아요': 115955},\n",
       " {'index': 50,\n",
       "  '곡일련번호': 31224316,\n",
       "  '순위': 51,\n",
       "  '앨범': 'NEW KIDS : CONTINUE',\n",
       "  '곡명': '죽겠다 (KILLING ME)',\n",
       "  '가수': 'iKON',\n",
       "  '커버이미지_주소': 'https://cdnimg.melon.co.kr/cm/album/images/101/90/854/10190854_500.jpg/melon/resize/120/quality/80/optimize',\n",
       "  '좋아요': 66253},\n",
       " {'index': 51,\n",
       "  '곡일련번호': 8235260,\n",
       "  '순위': 52,\n",
       "  '앨범': '비',\n",
       "  '곡명': '비',\n",
       "  '가수': '폴킴',\n",
       "  '커버이미지_주소': 'https://cdnimg.melon.co.kr/cm/album/images/026/92/501/2692501_500.jpg/melon/resize/120/quality/80/optimize',\n",
       "  '좋아요': 156761},\n",
       " {'index': 52,\n",
       "  '곡일련번호': 30669593,\n",
       "  '순위': 53,\n",
       "  '앨범': '가을 안부',\n",
       "  '곡명': '가을 안부',\n",
       "  '가수': '먼데이 키즈 (Monday Kiz)',\n",
       "  '커버이미지_주소': 'https://cdnimg.melon.co.kr/cm/album/images/101/02/177/10102177_500.jpg/melon/resize/120/quality/80/optimize',\n",
       "  '좋아요': 109447},\n",
       " {'index': 53,\n",
       "  '곡일련번호': 31133898,\n",
       "  '순위': 54,\n",
       "  '앨범': 'THIS IS US',\n",
       "  '곡명': '너 없인 안 된다',\n",
       "  '가수': '비투비',\n",
       "  '커버이미지_주소': 'https://cdnimg.melon.co.kr/cm/album/images/101/75/106/10175106_500.jpg/melon/resize/120/quality/80/optimize',\n",
       "  '좋아요': 132726},\n",
       " {'index': 54,\n",
       "  '곡일련번호': 31346039,\n",
       "  '순위': 55,\n",
       "  '앨범': 'ABOUT ME',\n",
       "  '곡명': 'Not A Love',\n",
       "  '가수': '바이브',\n",
       "  '커버이미지_주소': 'https://cdnimg.melon.co.kr/cm/album/images/102/10/541/10210541_500.jpg/melon/resize/120/quality/80/optimize',\n",
       "  '좋아요': 2508},\n",
       " {'index': 55,\n",
       "  '곡일련번호': 31164090,\n",
       "  '순위': 56,\n",
       "  '앨범': 'The Fairy Tale',\n",
       "  '곡명': '동화',\n",
       "  '가수': '멜로망스',\n",
       "  '커버이미지_주소': 'https://cdnimg.melon.co.kr/cm/album/images/101/81/438/10181438_500.jpg/melon/resize/120/quality/80/optimize',\n",
       "  '좋아요': 81522},\n",
       " {'index': 56,\n",
       "  '곡일련번호': 31199873,\n",
       "  '순위': 57,\n",
       "  '앨범': 'THE GREAT SEUNGRI',\n",
       "  '곡명': '셋 셀테니 (1, 2, 3!)',\n",
       "  '가수': '승리',\n",
       "  '커버이미지_주소': 'https://cdnimg.melon.co.kr/cm/album/images/101/87/129/10187129_500.jpg/melon/resize/120/quality/80/optimize',\n",
       "  '좋아요': 78381},\n",
       " {'index': 57,\n",
       "  '곡일련번호': 31161280,\n",
       "  '순위': 58,\n",
       "  '앨범': 'ONE & SIX',\n",
       "  '곡명': '1도 없어',\n",
       "  '가수': 'Apink (에이핑크)',\n",
       "  '커버이미지_주소': 'https://cdnimg.melon.co.kr/cm/album/images/101/81/013/10181013_500.jpg/melon/resize/120/quality/80/optimize',\n",
       "  '좋아요': 88037},\n",
       " {'index': 58,\n",
       "  '곡일련번호': 30314784,\n",
       "  '순위': 59,\n",
       "  '앨범': '밤편지',\n",
       "  '곡명': '밤편지',\n",
       "  '가수': '아이유',\n",
       "  '커버이미지_주소': 'https://cdnimg.melon.co.kr/cm/album/images/100/47/890/10047890_500.jpg/melon/resize/120/quality/80/optimize',\n",
       "  '좋아요': 283167},\n",
       " {'index': 59,\n",
       "  '곡일련번호': 31215747,\n",
       "  '순위': 60,\n",
       "  '앨범': 'SoulMate',\n",
       "  '곡명': 'SoulMate (Feat. 아이유)',\n",
       "  '가수': '지코 (ZICO)',\n",
       "  '커버이미지_주소': 'https://cdnimg.melon.co.kr/cm/album/images/101/89/402/10189402_500.jpg/melon/resize/120/quality/80/optimize',\n",
       "  '좋아요': 113443},\n",
       " {'index': 60,\n",
       "  '곡일련번호': 31189085,\n",
       "  '순위': 61,\n",
       "  '앨범': 'SEVENTEEN 5TH MINI ALBUM `YOU MAKE MY DAY`',\n",
       "  '곡명': '어쩌나',\n",
       "  '가수': '세븐틴',\n",
       "  '커버이미지_주소': 'https://cdnimg.melon.co.kr/cm/album/images/101/85/387/10185387_500.jpg/melon/resize/120/quality/80/optimize',\n",
       "  '좋아요': 64770},\n",
       " {'index': 61,\n",
       "  '곡일련번호': 31244486,\n",
       "  '순위': 62,\n",
       "  '앨범': 'A-TEEN Part.3',\n",
       "  '곡명': 'A-TEEN',\n",
       "  '가수': '세븐틴',\n",
       "  '커버이미지_주소': 'https://cdnimg.melon.co.kr/cm/album/images/101/94/044/10194044_500.jpg/melon/resize/120/quality/80/optimize',\n",
       "  '좋아요': 75932},\n",
       " {'index': 62,\n",
       "  '곡일련번호': 30755375,\n",
       "  '순위': 63,\n",
       "  '앨범': '그날처럼',\n",
       "  '곡명': '그날처럼',\n",
       "  '가수': '장덕철',\n",
       "  '커버이미지_주소': 'https://cdnimg.melon.co.kr/cm/album/images/101/15/186/10115186_500.jpg/melon/resize/120/quality/80/optimize',\n",
       "  '좋아요': 208427},\n",
       " {'index': 63,\n",
       "  '곡일련번호': 31113243,\n",
       "  '순위': 64,\n",
       "  '앨범': '1÷χ=1 (UNDIVIDED)',\n",
       "  '곡명': '모래시계 (Prod. 헤이즈)',\n",
       "  '가수': 'Wanna One (워너원) - 더힐',\n",
       "  '커버이미지_주소': 'https://cdnimg.melon.co.kr/cm/album/images/101/73/365/10173365_500.jpg/melon/resize/120/quality/80/optimize',\n",
       "  '좋아요': 83296},\n",
       " {'index': 64,\n",
       "  '곡일련번호': 30672529,\n",
       "  '순위': 65,\n",
       "  '앨범': 'Brother Act.',\n",
       "  '곡명': '그리워하다',\n",
       "  '가수': '비투비',\n",
       "  '커버이미지_주소': 'https://cdnimg.melon.co.kr/cm/album/images/101/02/658/10102658_500.jpg/melon/resize/120/quality/80/optimize',\n",
       "  '좋아요': 203463},\n",
       " {'index': 65,\n",
       "  '곡일련번호': 9642570,\n",
       "  '순위': 66,\n",
       "  '앨범': '넋두리',\n",
       "  '곡명': '넋두리',\n",
       "  '가수': '닐로 (Nilo)',\n",
       "  '커버이미지_주소': 'https://cdnimg.melon.co.kr/cm/album/images/027/10/553/2710553_500.jpg/melon/resize/120/quality/80/optimize',\n",
       "  '좋아요': 81028},\n",
       " {'index': 66,\n",
       "  '곡일련번호': 30930312,\n",
       "  '순위': 67,\n",
       "  '앨범': '0+1=1 (I PROMISE YOU)',\n",
       "  '곡명': '약속해요 (I.P.U.)',\n",
       "  '가수': 'Wanna One (워너원)',\n",
       "  '커버이미지_주소': 'https://cdnimg.melon.co.kr/cm/album/images/101/44/723/10144723_2_500.jpg/melon/resize/120/quality/80/optimize',\n",
       "  '좋아요': 137141},\n",
       " {'index': 67,\n",
       "  '곡일련번호': 31263577,\n",
       "  '순위': 68,\n",
       "  '앨범': '4.1',\n",
       "  '곡명': '매트리스',\n",
       "  '가수': '10cm',\n",
       "  '커버이미지_주소': 'https://cdnimg.melon.co.kr/cm/album/images/101/96/980/10196980_500.jpg/melon/resize/120/quality/80/optimize',\n",
       "  '좋아요': 62312},\n",
       " {'index': 68,\n",
       "  '곡일련번호': 31340983,\n",
       "  '순위': 69,\n",
       "  '앨범': '쇼미더머니 777 Episode 1',\n",
       "  '곡명': '공상과학기술 (Feat. 기리보이, 스윙스)',\n",
       "  '가수': 'nafla',\n",
       "  '커버이미지_주소': 'https://cdnimg.melon.co.kr/cm/album/images/102/09/647/10209647_500.jpg/melon/resize/120/quality/80/optimize',\n",
       "  '좋아요': 13148},\n",
       " {'index': 69,\n",
       "  '곡일련번호': 31131274,\n",
       "  '순위': 70,\n",
       "  '앨범': 'SQUARE UP',\n",
       "  '곡명': 'Forever Young',\n",
       "  '가수': 'BLACKPINK',\n",
       "  '커버이미지_주소': 'https://cdnimg.melon.co.kr/cm/album/images/101/76/415/10176415_500.jpg/melon/resize/120/quality/80/optimize',\n",
       "  '좋아요': 119422},\n",
       " {'index': 70,\n",
       "  '곡일련번호': 31246870,\n",
       "  '순위': 71,\n",
       "  '앨범': '한(一)',\n",
       "  '곡명': '한(一)',\n",
       "  '가수': '(여자)아이들',\n",
       "  '커버이미지_주소': 'https://cdnimg.melon.co.kr/cm/album/images/101/94/362/10194362_500.jpg/melon/resize/120/quality/80/optimize',\n",
       "  '좋아요': 69062},\n",
       " {'index': 71,\n",
       "  '곡일련번호': 31035061,\n",
       "  '순위': 72,\n",
       "  '앨범': '건반 위의 하이에나 Part.4',\n",
       "  '곡명': '주지마',\n",
       "  '가수': '로꼬',\n",
       "  '커버이미지_주소': 'https://cdnimg.melon.co.kr/cm/album/images/101/60/487/10160487_500.jpg/melon/resize/120/quality/80/optimize',\n",
       "  '좋아요': 154263},\n",
       " {'index': 72,\n",
       "  '곡일련번호': 31147211,\n",
       "  '순위': 73,\n",
       "  '앨범': 'WHO, YOU',\n",
       "  '곡명': 'Dejavu',\n",
       "  '가수': '뉴이스트 W',\n",
       "  '커버이미지_주소': 'https://cdnimg.melon.co.kr/cm/album/images/101/78/912/10178912_500.jpg/melon/resize/120/quality/80/optimize',\n",
       "  '좋아요': 53081},\n",
       " {'index': 73,\n",
       "  '곡일련번호': 30849733,\n",
       "  '순위': 74,\n",
       "  '앨범': '투유 프로젝트 - 슈가맨2 Part.2',\n",
       "  '곡명': 'You',\n",
       "  '가수': '멜로망스',\n",
       "  '커버이미지_주소': 'https://cdnimg.melon.co.kr/cm/album/images/101/31/018/10131018_500.jpg/melon/resize/120/quality/80/optimize',\n",
       "  '좋아요': 141103},\n",
       " {'index': 74,\n",
       "  '곡일련번호': 31340984,\n",
       "  '순위': 75,\n",
       "  '앨범': '쇼미더머니 777 Episode 1',\n",
       "  '곡명': '패 (Feat. 넉살, 딥플로우)',\n",
       "  '가수': '김효은',\n",
       "  '커버이미지_주소': 'https://cdnimg.melon.co.kr/cm/album/images/102/09/647/10209647_500.jpg/melon/resize/120/quality/80/optimize',\n",
       "  '좋아요': 10536},\n",
       " {'index': 75,\n",
       "  '곡일련번호': 31309947,\n",
       "  '순위': 76,\n",
       "  '앨범': 'A-TEEN Part.4',\n",
       "  '곡명': '도망가지마',\n",
       "  '가수': '모트 (Motte)',\n",
       "  '커버이미지_주소': 'https://cdnimg.melon.co.kr/cm/album/images/102/04/722/10204722_500.jpg/melon/resize/120/quality/80/optimize',\n",
       "  '좋아요': 48716},\n",
       " {'index': 76,\n",
       "  '곡일련번호': 30721801,\n",
       "  '순위': 77,\n",
       "  '앨범': '돈꽃 OST Part.1',\n",
       "  '곡명': 'My Way',\n",
       "  '가수': '이수 (엠씨 더 맥스)',\n",
       "  '커버이미지_주소': 'https://cdnimg.melon.co.kr/cm/album/images/101/10/396/10110396_500.jpg/melon/resize/120/quality/80/optimize',\n",
       "  '좋아요': 119657},\n",
       " {'index': 77,\n",
       "  '곡일련번호': 30514366,\n",
       "  '순위': 78,\n",
       "  '앨범': 'Moonlight',\n",
       "  '곡명': '선물',\n",
       "  '가수': '멜로망스',\n",
       "  '커버이미지_주소': 'https://cdnimg.melon.co.kr/cm/album/images/100/78/176/10078176_500.jpg/melon/resize/120/quality/80/optimize',\n",
       "  '좋아요': 266869},\n",
       " {'index': 78,\n",
       "  '곡일련번호': 31227367,\n",
       "  '순위': 79,\n",
       "  '앨범': '미스터 션샤인 OST Part.5',\n",
       "  '곡명': '좋은 날',\n",
       "  '가수': '멜로망스',\n",
       "  '커버이미지_주소': 'https://cdnimg.melon.co.kr/cm/album/images/101/91/294/10191294_500.jpg/melon/resize/120/quality/80/optimize',\n",
       "  '좋아요': 33146},\n",
       " {'index': 79,\n",
       "  '곡일련번호': 31113242,\n",
       "  '순위': 80,\n",
       "  '앨범': '1÷χ=1 (UNDIVIDED)',\n",
       "  '곡명': '영원+1 (Prod. NELL)',\n",
       "  '가수': 'Wanna One (워너원) - 린온미',\n",
       "  '커버이미지_주소': 'https://cdnimg.melon.co.kr/cm/album/images/101/73/365/10173365_500.jpg/melon/resize/120/quality/80/optimize',\n",
       "  '좋아요': 76313},\n",
       " {'index': 80,\n",
       "  '곡일련번호': 31266377,\n",
       "  '순위': 81,\n",
       "  '앨범': '미스터 션샤인 OST Part.10',\n",
       "  '곡명': 'AND I',\n",
       "  '가수': '뉴이스트 W',\n",
       "  '커버이미지_주소': 'https://cdnimg.melon.co.kr/cm/album/images/101/97/500/10197500_500.jpg/melon/resize/120/quality/80/optimize',\n",
       "  '좋아요': 20736},\n",
       " {'index': 81,\n",
       "  '곡일련번호': 31331749,\n",
       "  '순위': 82,\n",
       "  '앨범': 'I Don’t Care (with 스푼즈)',\n",
       "  '곡명': 'I Don’t Care (with 스푼즈)',\n",
       "  '가수': '뉴이스트 W',\n",
       "  '커버이미지_주소': 'https://cdnimg.melon.co.kr/cm/album/images/102/08/359/10208359_500.jpg/melon/resize/120/quality/80/optimize',\n",
       "  '좋아요': 13544},\n",
       " {'index': 82,\n",
       "  '곡일련번호': 31147212,\n",
       "  '순위': 83,\n",
       "  '앨범': 'WHO, YOU',\n",
       "  '곡명': '북극성 (Polaris)',\n",
       "  '가수': '뉴이스트 W',\n",
       "  '커버이미지_주소': 'https://cdnimg.melon.co.kr/cm/album/images/101/78/912/10178912_500.jpg/melon/resize/120/quality/80/optimize',\n",
       "  '좋아요': 32098},\n",
       " {'index': 83,\n",
       "  '곡일련번호': 30970444,\n",
       "  '순위': 84,\n",
       "  '앨범': '소나기 (Feat. 10cm)',\n",
       "  '곡명': '소나기 (Feat. 10cm)',\n",
       "  '가수': '용준형',\n",
       "  '커버이미지_주소': 'https://cdnimg.melon.co.kr/cm/album/images/101/50/572/10150572_500.jpg/melon/resize/120/quality/80/optimize',\n",
       "  '좋아요': 130935},\n",
       " {'index': 84,\n",
       "  '곡일련번호': 31113244,\n",
       "  '순위': 85,\n",
       "  '앨범': '1÷χ=1 (UNDIVIDED)',\n",
       "  '곡명': '11 (Prod. 다이나믹듀오)',\n",
       "  '가수': 'Wanna One (워너원) - 남바완',\n",
       "  '커버이미지_주소': 'https://cdnimg.melon.co.kr/cm/album/images/101/73/365/10173365_500.jpg/melon/resize/120/quality/80/optimize',\n",
       "  '좋아요': 67211},\n",
       " {'index': 85,\n",
       "  '곡일련번호': 4032981,\n",
       "  '순위': 86,\n",
       "  '앨범': 'THE SECOND MINI ALBUM `여보세요`',\n",
       "  '곡명': '여보세요',\n",
       "  '가수': 'NU`EST',\n",
       "  '커버이미지_주소': 'https://cdnimg.melon.co.kr/cm/album/images/021/75/137/2175137_500.jpg/melon/resize/120/quality/80/optimize',\n",
       "  '좋아요': 126064},\n",
       " {'index': 86,\n",
       "  '곡일련번호': 31299371,\n",
       "  '순위': 87,\n",
       "  '앨범': '라이프 OST Part.6',\n",
       "  '곡명': '잘 지내요',\n",
       "  '가수': '정승환',\n",
       "  '커버이미지_주소': 'https://cdnimg.melon.co.kr/cm/album/images/102/02/962/10202962_500.jpg/melon/resize/120/quality/80/optimize',\n",
       "  '좋아요': 25169},\n",
       " {'index': 87,\n",
       "  '곡일련번호': 30806539,\n",
       "  '순위': 88,\n",
       "  '앨범': 'Universe - 겨울 스페셜 앨범, 2017',\n",
       "  '곡명': '지나갈 테니 (Been Through)',\n",
       "  '가수': 'EXO',\n",
       "  '커버이미지_주소': 'https://cdnimg.melon.co.kr/cm/album/images/101/22/917/10122917_500.jpg/melon/resize/120/quality/80/optimize',\n",
       "  '좋아요': 88331},\n",
       " {'index': 88,\n",
       "  '곡일련번호': 31324696,\n",
       "  '순위': 89,\n",
       "  '앨범': '연애플레이리스트3 Part.1',\n",
       "  '곡명': 'Perfect',\n",
       "  '가수': '10cm',\n",
       "  '커버이미지_주소': 'https://cdnimg.melon.co.kr/cm/album/images/102/07/153/10207153_500.jpg/melon/resize/120/quality/80/optimize',\n",
       "  '좋아요': 24732},\n",
       " {'index': 89,\n",
       "  '곡일련번호': 8111603,\n",
       "  '순위': 90,\n",
       "  '앨범': 'Fitz and The Tantrums (Deluxe)',\n",
       "  '곡명': 'HandClap',\n",
       "  '가수': 'Fitz & The Tantrums',\n",
       "  '커버이미지_주소': 'https://cdnimg.melon.co.kr/cm/album/images/026/75/179/2675179_500.jpg/melon/resize/120/quality/80/optimize',\n",
       "  '좋아요': 156476},\n",
       " {'index': 90,\n",
       "  '곡일련번호': 30661885,\n",
       "  '순위': 91,\n",
       "  '앨범': 'W, HERE',\n",
       "  '곡명': 'WHERE YOU AT',\n",
       "  '가수': '뉴이스트 W',\n",
       "  '커버이미지_주소': 'https://cdnimg.melon.co.kr/cm/album/images/101/00/941/10100941_500.jpg/melon/resize/120/quality/80/optimize',\n",
       "  '좋아요': 92753},\n",
       " {'index': 91,\n",
       "  '곡일련번호': 31006730,\n",
       "  '순위': 92,\n",
       "  '앨범': 'What is Love?',\n",
       "  '곡명': 'What is Love?',\n",
       "  '가수': 'TWICE (트와이스)',\n",
       "  '커버이미지_주소': 'https://cdnimg.melon.co.kr/cm/album/images/101/56/195/10156195_500.jpg/melon/resize/120/quality/80/optimize',\n",
       "  '좋아요': 121530},\n",
       " {'index': 92,\n",
       "  '곡일련번호': 31052421,\n",
       "  '순위': 93,\n",
       "  '앨범': \"여자친구 The 6th Mini Album 'Time for the moon night'\",\n",
       "  '곡명': '밤 (Time for the moon night)',\n",
       "  '가수': '여자친구 (GFRIEND)',\n",
       "  '커버이미지_주소': 'https://cdnimg.melon.co.kr/cm/album/images/101/63/106/10163106_500.jpg/melon/resize/120/quality/80/optimize',\n",
       "  '좋아요': 125760},\n",
       " {'index': 93,\n",
       "  '곡일련번호': 31194610,\n",
       "  '순위': 94,\n",
       "  '앨범': 'Blooming Blue',\n",
       "  '곡명': 'Love U',\n",
       "  '가수': '청하',\n",
       "  '커버이미지_주소': 'https://cdnimg.melon.co.kr/cm/album/images/101/86/254/10186254_500.jpg/melon/resize/120/quality/80/optimize',\n",
       "  '좋아요': 61670},\n",
       " {'index': 94,\n",
       "  '곡일련번호': 31147210,\n",
       "  '순위': 95,\n",
       "  '앨범': 'WHO, YOU',\n",
       "  '곡명': 'Signal',\n",
       "  '가수': '뉴이스트 W',\n",
       "  '커버이미지_주소': 'https://cdnimg.melon.co.kr/cm/album/images/101/78/912/10178912_500.jpg/melon/resize/120/quality/80/optimize',\n",
       "  '좋아요': 27270},\n",
       " {'index': 95,\n",
       "  '곡일련번호': 30937275,\n",
       "  '순위': 96,\n",
       "  '앨범': 'Yellow Flower',\n",
       "  '곡명': '별이 빛나는 밤',\n",
       "  '가수': '마마무(Mamamoo)',\n",
       "  '커버이미지_주소': 'https://cdnimg.melon.co.kr/cm/album/images/101/45/303/10145303_500.jpg/melon/resize/120/quality/80/optimize',\n",
       "  '좋아요': 145494},\n",
       " {'index': 96,\n",
       "  '곡일련번호': 31147213,\n",
       "  '순위': 97,\n",
       "  '앨범': 'WHO, YOU',\n",
       "  '곡명': 'ylenoL',\n",
       "  '가수': '뉴이스트 W',\n",
       "  '커버이미지_주소': 'https://cdnimg.melon.co.kr/cm/album/images/101/78/912/10178912_500.jpg/melon/resize/120/quality/80/optimize',\n",
       "  '좋아요': 26136},\n",
       " {'index': 97,\n",
       "  '곡일련번호': 31288765,\n",
       "  '순위': 98,\n",
       "  '앨범': '몰랐니 - The 1st Single Album',\n",
       "  '곡명': '몰랐니 (Lil` Touch)',\n",
       "  '가수': '소녀시대-Oh!GG',\n",
       "  '커버이미지_주소': 'https://cdnimg.melon.co.kr/cm/album/images/102/01/272/10201272_500.jpg/melon/resize/120/quality/80/optimize',\n",
       "  '좋아요': 42853},\n",
       " {'index': 98,\n",
       "  '곡일련번호': 31147214,\n",
       "  '순위': 99,\n",
       "  '앨범': 'WHO, YOU',\n",
       "  '곡명': '중력달 (Gravity&Moon;)',\n",
       "  '가수': '뉴이스트 W',\n",
       "  '커버이미지_주소': 'https://cdnimg.melon.co.kr/cm/album/images/101/78/912/10178912_500.jpg/melon/resize/120/quality/80/optimize',\n",
       "  '좋아요': 26091},\n",
       " {'index': 99,\n",
       "  '곡일련번호': 30806540,\n",
       "  '순위': 100,\n",
       "  '앨범': 'Universe - 겨울 스페셜 앨범, 2017',\n",
       "  '곡명': 'Stay',\n",
       "  '가수': 'EXO',\n",
       "  '커버이미지_주소': 'https://cdnimg.melon.co.kr/cm/album/images/101/22/917/10122917_500.jpg/melon/resize/120/quality/80/optimize',\n",
       "  '좋아요': 81556}]"
      ]
     },
     "execution_count": 121,
     "metadata": {},
     "output_type": "execute_result"
    }
   ],
   "source": [
    "import pandas as pd\n",
    "df = pd.read_csv(\"https://goo.gl/iDUKrL\")\n",
    "song_list = list(df.reset_index().T.to_dict().values())\n",
    "song_list"
   ]
  },
  {
   "cell_type": "code",
   "execution_count": 132,
   "metadata": {},
   "outputs": [
    {
     "data": {
      "text/plain": [
       "{'index': 99,\n",
       " '곡일련번호': 30806540,\n",
       " '순위': 100,\n",
       " '앨범': 'Universe - 겨울 스페셜 앨범, 2017',\n",
       " '곡명': 'Stay',\n",
       " '가수': 'EXO',\n",
       " '커버이미지_주소': 'https://cdnimg.melon.co.kr/cm/album/images/101/22/917/10122917_500.jpg/melon/resize/120/quality/80/optimize',\n",
       " '좋아요': 81556}"
      ]
     },
     "execution_count": 132,
     "metadata": {},
     "output_type": "execute_result"
    }
   ],
   "source": [
    "song"
   ]
  },
  {
   "cell_type": "code",
   "execution_count": 141,
   "metadata": {},
   "outputs": [
    {
     "name": "stdout",
     "output_type": "stream",
     "text": [
      "IDOL 방탄소년단 173279\n",
      "I`m Fine 방탄소년단 132847\n",
      "FAKE LOVE 방탄소년단 253847\n",
      "Euphoria 방탄소년단 129017\n",
      "Answer : Love Myself 방탄소년단 108151\n",
      "전하지 못한 진심 (Feat. Steve Aoki) 방탄소년단 176653\n",
      "Epiphany 방탄소년단 101011\n",
      "Trivia 轉 : Seesaw 방탄소년단 98436\n",
      "Trivia 起 : Just Dance 방탄소년단 88970\n",
      "Trivia 承 : Love 방탄소년단 83610\n",
      "Anpanman 방탄소년단 138694\n",
      "봄날 방탄소년단 359130\n",
      "DNA 방탄소년단 323911\n",
      "Airplane pt.2 방탄소년단 127355\n"
     ]
    }
   ],
   "source": [
    "for song in song_list:\n",
    "    # if '가을' in song['곡명']:  # 문자열.contains(\"가을\")\n",
    "    if song['가수'] == '방탄소년단':\n",
    "    # if song['좋아요'] > 200_000:\n",
    "#         line = '{곡명} {가수} {좋아요}'.format(\n",
    "#             곡명=song['곡명'],\n",
    "#             가수=song['가수'],\n",
    "#             좋아요=song['좋아요'])\n",
    "        line = '{곡명} {가수} {좋아요}'.format(**song)  # unpacking\n",
    "        print(line)"
   ]
  },
  {
   "cell_type": "markdown",
   "metadata": {},
   "source": [
    "가수는 총 몇 팀일까요?"
   ]
  },
  {
   "cell_type": "code",
   "execution_count": 140,
   "metadata": {},
   "outputs": [
    {
     "data": {
      "text/plain": [
       "57"
      ]
     },
     "execution_count": 140,
     "metadata": {},
     "output_type": "execute_result"
    }
   ],
   "source": [
    "len({song['가수'] for song in song_list})"
   ]
  },
  {
   "cell_type": "markdown",
   "metadata": {},
   "source": [
    "가수별 곡수는?"
   ]
  },
  {
   "cell_type": "code",
   "execution_count": 144,
   "metadata": {
    "collapsed": true
   },
   "outputs": [
    {
     "name": "stdout",
     "output_type": "stream",
     "text": [
      "True\n",
      "False\n",
      "True\n"
     ]
    }
   ],
   "source": [
    "# Hint\n",
    "\n",
    "print(80 in {100, 80})\n",
    "print(80 in {'국어': 100, '영어': 80})\n",
    "print('국어' in {'국어': 100, '영어': 80})"
   ]
  },
  {
   "cell_type": "code",
   "execution_count": 147,
   "metadata": {
    "collapsed": true
   },
   "outputs": [
    {
     "data": {
      "text/plain": [
       "{'아이유': 2,\n",
       " '로꼬': 2,\n",
       " 'pH-1': 1,\n",
       " '임창정': 1,\n",
       " '방탄소년단': 14,\n",
       " 'iKON': 3,\n",
       " 'Coogie': 1,\n",
       " '로이킴': 2,\n",
       " '바이브': 2,\n",
       " '펀치 (Punch)': 1,\n",
       " '폴킴': 2,\n",
       " '백현 (BAEKHYUN)': 1,\n",
       " '선미': 1,\n",
       " '벤': 1,\n",
       " '숀 (SHAUN)': 1,\n",
       " 'EXO': 3,\n",
       " '찬열': 1,\n",
       " '기리보이': 1,\n",
       " 'EXO-CBX (첸백시)': 1,\n",
       " '저스디스 (JUSTHIS)': 1,\n",
       " '레이 (LAY)': 1,\n",
       " 'BLACKPINK': 2,\n",
       " '닐로 (Nilo)': 2,\n",
       " 'TWICE (트와이스)': 2,\n",
       " '박원': 1,\n",
       " 'Wanna One (워너원)': 5,\n",
       " 'Red Velvet (레드벨벳)': 1,\n",
       " '임한별': 1,\n",
       " '볼빨간사춘기': 1,\n",
       " 'Wanna One (워너원) - 트리플포지션': 1,\n",
       " '마마무(Mamamoo)': 2,\n",
       " '양다일': 1,\n",
       " '먼데이 키즈 (Monday Kiz)': 1,\n",
       " '비투비': 2,\n",
       " '멜로망스': 4,\n",
       " '승리': 1,\n",
       " 'Apink (에이핑크)': 1,\n",
       " '지코 (ZICO)': 1,\n",
       " '세븐틴': 2,\n",
       " '장덕철': 1,\n",
       " 'Wanna One (워너원) - 더힐': 1,\n",
       " '10cm': 2,\n",
       " 'nafla': 1,\n",
       " '(여자)아이들': 1,\n",
       " '뉴이스트 W': 8,\n",
       " '김효은': 1,\n",
       " '모트 (Motte)': 1,\n",
       " '이수 (엠씨 더 맥스)': 1,\n",
       " 'Wanna One (워너원) - 린온미': 1,\n",
       " '용준형': 1,\n",
       " 'Wanna One (워너원) - 남바완': 1,\n",
       " 'NU`EST': 1,\n",
       " '정승환': 1,\n",
       " 'Fitz & The Tantrums': 1,\n",
       " '여자친구 (GFRIEND)': 1,\n",
       " '청하': 1,\n",
       " '소녀시대-Oh!GG': 1}"
      ]
     },
     "execution_count": 147,
     "metadata": {},
     "output_type": "execute_result"
    }
   ],
   "source": [
    "# Level 1\n",
    "\n",
    "가수별_곡수 = {}\n",
    "\n",
    "for song in song_list:\n",
    "    가수 = song['가수']\n",
    "    if 가수 not in 가수별_곡수:\n",
    "        가수별_곡수[가수] = 0\n",
    "    가수별_곡수[가수] += 1\n",
    "    \n",
    "가수별_곡수"
   ]
  },
  {
   "cell_type": "code",
   "execution_count": 160,
   "metadata": {
    "collapsed": true
   },
   "outputs": [
    {
     "data": {
      "text/plain": [
       "defaultdict(int,\n",
       "            {'아이유': 2,\n",
       "             '로꼬': 2,\n",
       "             'pH-1': 1,\n",
       "             '임창정': 1,\n",
       "             '방탄소년단': 14,\n",
       "             'iKON': 3,\n",
       "             'Coogie': 1,\n",
       "             '로이킴': 2,\n",
       "             '바이브': 2,\n",
       "             '펀치 (Punch)': 1,\n",
       "             '폴킴': 2,\n",
       "             '백현 (BAEKHYUN)': 1,\n",
       "             '선미': 1,\n",
       "             '벤': 1,\n",
       "             '숀 (SHAUN)': 1,\n",
       "             'EXO': 3,\n",
       "             '찬열': 1,\n",
       "             '기리보이': 1,\n",
       "             'EXO-CBX (첸백시)': 1,\n",
       "             '저스디스 (JUSTHIS)': 1,\n",
       "             '레이 (LAY)': 1,\n",
       "             'BLACKPINK': 2,\n",
       "             '닐로 (Nilo)': 2,\n",
       "             'TWICE (트와이스)': 2,\n",
       "             '박원': 1,\n",
       "             'Wanna One (워너원)': 5,\n",
       "             'Red Velvet (레드벨벳)': 1,\n",
       "             '임한별': 1,\n",
       "             '볼빨간사춘기': 1,\n",
       "             'Wanna One (워너원) - 트리플포지션': 1,\n",
       "             '마마무(Mamamoo)': 2,\n",
       "             '양다일': 1,\n",
       "             '먼데이 키즈 (Monday Kiz)': 1,\n",
       "             '비투비': 2,\n",
       "             '멜로망스': 4,\n",
       "             '승리': 1,\n",
       "             'Apink (에이핑크)': 1,\n",
       "             '지코 (ZICO)': 1,\n",
       "             '세븐틴': 2,\n",
       "             '장덕철': 1,\n",
       "             'Wanna One (워너원) - 더힐': 1,\n",
       "             '10cm': 2,\n",
       "             'nafla': 1,\n",
       "             '(여자)아이들': 1,\n",
       "             '뉴이스트 W': 8,\n",
       "             '김효은': 1,\n",
       "             '모트 (Motte)': 1,\n",
       "             '이수 (엠씨 더 맥스)': 1,\n",
       "             'Wanna One (워너원) - 린온미': 1,\n",
       "             '용준형': 1,\n",
       "             'Wanna One (워너원) - 남바완': 1,\n",
       "             'NU`EST': 1,\n",
       "             '정승환': 1,\n",
       "             'Fitz & The Tantrums': 1,\n",
       "             '여자친구 (GFRIEND)': 1,\n",
       "             '청하': 1,\n",
       "             '소녀시대-Oh!GG': 1})"
      ]
     },
     "execution_count": 160,
     "metadata": {},
     "output_type": "execute_result"
    }
   ],
   "source": [
    "# Level 2\n",
    "from collections import defaultdict\n",
    "\n",
    "가수별_곡수 = defaultdict(int)\n",
    "# 가수별_노래 = defaultdict(list)\n",
    "\n",
    "for song in song_list:\n",
    "    가수 = song['가수']\n",
    "    가수별_곡수[가수] += 1\n",
    "#     가수별_노래[가수].append(song['곡명'])\n",
    "    \n",
    "가수별_곡수\n",
    "# 가수별_노래"
   ]
  },
  {
   "cell_type": "code",
   "execution_count": 164,
   "metadata": {},
   "outputs": [
    {
     "data": {
      "text/plain": [
       "Counter({'아이유': 2,\n",
       "         '로꼬': 2,\n",
       "         'pH-1': 1,\n",
       "         '임창정': 1,\n",
       "         '방탄소년단': 14,\n",
       "         'iKON': 3,\n",
       "         'Coogie': 1,\n",
       "         '로이킴': 2,\n",
       "         '바이브': 2,\n",
       "         '펀치 (Punch)': 1,\n",
       "         '폴킴': 2,\n",
       "         '백현 (BAEKHYUN)': 1,\n",
       "         '선미': 1,\n",
       "         '벤': 1,\n",
       "         '숀 (SHAUN)': 1,\n",
       "         'EXO': 3,\n",
       "         '찬열': 1,\n",
       "         '기리보이': 1,\n",
       "         'EXO-CBX (첸백시)': 1,\n",
       "         '저스디스 (JUSTHIS)': 1,\n",
       "         '레이 (LAY)': 1,\n",
       "         'BLACKPINK': 2,\n",
       "         '닐로 (Nilo)': 2,\n",
       "         'TWICE (트와이스)': 2,\n",
       "         '박원': 1,\n",
       "         'Wanna One (워너원)': 5,\n",
       "         'Red Velvet (레드벨벳)': 1,\n",
       "         '임한별': 1,\n",
       "         '볼빨간사춘기': 1,\n",
       "         'Wanna One (워너원) - 트리플포지션': 1,\n",
       "         '마마무(Mamamoo)': 2,\n",
       "         '양다일': 1,\n",
       "         '먼데이 키즈 (Monday Kiz)': 1,\n",
       "         '비투비': 2,\n",
       "         '멜로망스': 4,\n",
       "         '승리': 1,\n",
       "         'Apink (에이핑크)': 1,\n",
       "         '지코 (ZICO)': 1,\n",
       "         '세븐틴': 2,\n",
       "         '장덕철': 1,\n",
       "         'Wanna One (워너원) - 더힐': 1,\n",
       "         '10cm': 2,\n",
       "         'nafla': 1,\n",
       "         '(여자)아이들': 1,\n",
       "         '뉴이스트 W': 8,\n",
       "         '김효은': 1,\n",
       "         '모트 (Motte)': 1,\n",
       "         '이수 (엠씨 더 맥스)': 1,\n",
       "         'Wanna One (워너원) - 린온미': 1,\n",
       "         '용준형': 1,\n",
       "         'Wanna One (워너원) - 남바완': 1,\n",
       "         'NU`EST': 1,\n",
       "         '정승환': 1,\n",
       "         'Fitz & The Tantrums': 1,\n",
       "         '여자친구 (GFRIEND)': 1,\n",
       "         '청하': 1,\n",
       "         '소녀시대-Oh!GG': 1})"
      ]
     },
     "execution_count": 164,
     "metadata": {},
     "output_type": "execute_result"
    }
   ],
   "source": [
    "# Level 3\n",
    "from collections import Counter\n",
    "\n",
    "Counter([song['가수'] for song in song_list])"
   ]
  },
  {
   "cell_type": "code",
   "execution_count": null,
   "metadata": {},
   "outputs": [],
   "source": []
  },
  {
   "cell_type": "markdown",
   "metadata": {},
   "source": [
    "# 파일 I/O"
   ]
  },
  {
   "cell_type": "code",
   "execution_count": 165,
   "metadata": {},
   "outputs": [
    {
     "name": "stdout",
     "output_type": "stream",
     "text": [
      "10\n"
     ]
    }
   ],
   "source": [
    "name = \"10\"\n",
    "print(name)"
   ]
  },
  {
   "cell_type": "code",
   "execution_count": 169,
   "metadata": {},
   "outputs": [],
   "source": [
    "# utf8, cp949(euckr 확장)\n",
    "f = open(\"test.csv\", \"wt\", encoding='utf8')   # write + text\n",
    "try:\n",
    "    f.write(\"이름,국어,영어,수학\\n\")\n",
    "    f.write(\"철수,100,90,80\\n\")\n",
    "    f.write(\"영희,90,80,100\\n\")\n",
    "finally:\n",
    "    f.close()"
   ]
  },
  {
   "cell_type": "code",
   "execution_count": 173,
   "metadata": {},
   "outputs": [],
   "source": [
    "f = open(\"test_cp949.csv\", \"wt\", encoding='cp949')   # write + text\n",
    "f.write(\"이름,국어,영어,수학\\n\")\n",
    "f.write(\"철수,100,90,80\\n\")\n",
    "f.write(\"영희,90,80,100\\n\")\n",
    "f.close()"
   ]
  },
  {
   "cell_type": "code",
   "execution_count": 174,
   "metadata": {},
   "outputs": [],
   "source": [
    "with open(\"test.csv\", \"wt\", encoding='utf8') as f:\n",
    "    f.write(\"이름,국어,영어,수학\\n\")\n",
    "    f.write(\"철수,100,90,80\\n\")\n",
    "    f.write(\"영희,90,80,100\\n\")"
   ]
  },
  {
   "cell_type": "code",
   "execution_count": 176,
   "metadata": {},
   "outputs": [
    {
     "data": {
      "text/html": [
       "<div>\n",
       "<style scoped>\n",
       "    .dataframe tbody tr th:only-of-type {\n",
       "        vertical-align: middle;\n",
       "    }\n",
       "\n",
       "    .dataframe tbody tr th {\n",
       "        vertical-align: top;\n",
       "    }\n",
       "\n",
       "    .dataframe thead th {\n",
       "        text-align: right;\n",
       "    }\n",
       "</style>\n",
       "<table border=\"1\" class=\"dataframe\">\n",
       "  <thead>\n",
       "    <tr style=\"text-align: right;\">\n",
       "      <th></th>\n",
       "      <th>이름</th>\n",
       "      <th>국어</th>\n",
       "      <th>영어</th>\n",
       "      <th>수학</th>\n",
       "    </tr>\n",
       "  </thead>\n",
       "  <tbody>\n",
       "    <tr>\n",
       "      <th>0</th>\n",
       "      <td>철수</td>\n",
       "      <td>100</td>\n",
       "      <td>90</td>\n",
       "      <td>80</td>\n",
       "    </tr>\n",
       "    <tr>\n",
       "      <th>1</th>\n",
       "      <td>영희</td>\n",
       "      <td>90</td>\n",
       "      <td>80</td>\n",
       "      <td>100</td>\n",
       "    </tr>\n",
       "  </tbody>\n",
       "</table>\n",
       "</div>"
      ],
      "text/plain": [
       "   이름   국어  영어   수학\n",
       "0  철수  100  90   80\n",
       "1  영희   90  80  100"
      ]
     },
     "execution_count": 176,
     "metadata": {},
     "output_type": "execute_result"
    }
   ],
   "source": [
    "pd.read_csv(\"test_cp949.csv\", encoding='cp949')"
   ]
  },
  {
   "cell_type": "code",
   "execution_count": null,
   "metadata": {},
   "outputs": [],
   "source": []
  },
  {
   "cell_type": "code",
   "execution_count": null,
   "metadata": {},
   "outputs": [],
   "source": []
  },
  {
   "cell_type": "code",
   "execution_count": null,
   "metadata": {},
   "outputs": [],
   "source": []
  }
 ],
 "metadata": {
  "kernelspec": {
   "display_name": "Python 3",
   "language": "python",
   "name": "python3"
  },
  "language_info": {
   "codemirror_mode": {
    "name": "ipython",
    "version": 3
   },
   "file_extension": ".py",
   "mimetype": "text/x-python",
   "name": "python",
   "nbconvert_exporter": "python",
   "pygments_lexer": "ipython3",
   "version": "3.7.2"
  }
 },
 "nbformat": 4,
 "nbformat_minor": 2
}
