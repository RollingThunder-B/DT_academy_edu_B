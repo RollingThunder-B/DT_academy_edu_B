{
 "cells": [
  {
   "cell_type": "markdown",
   "metadata": {},
   "source": [
    "# Anaconda Python 설치\n",
    "\n",
    "1. Anaconda Python 다운로드 설치\n",
    "    * 환경변수 PATH 옵션 필히 체크\n",
    "2. 시작 메뉴 -> Anaconda Prompt 검색/실행\n",
    "3. Anaconda Prompt 내에서 `python --version` 수행\n",
    "\n",
    "```\n",
    "쉘> python --version\n",
    "Python 3.7.3\n",
    "\n",
    "쉘> pip --version\n",
    "pip 19.0.3 from C:\\Anaconda3\\lib\\site-packages\\pip (python 3.7)\n",
    "\n",
    "쉘> conda --version\n",
    "conda 4.6.14\n",
    "\n",
    "쉘> jupyter --version\n",
    "4.4.0\n",
    "```"
   ]
  },
  {
   "cell_type": "code",
   "execution_count": null,
   "metadata": {},
   "outputs": [],
   "source": []
  },
  {
   "cell_type": "code",
   "execution_count": 17,
   "metadata": {},
   "outputs": [
    {
     "data": {
      "text/plain": [
       "'3.7.2 (default, Dec 29 2018, 00:00:04) \\n[Clang 4.0.1 (tags/RELEASE_401/final)]'"
      ]
     },
     "execution_count": 17,
     "metadata": {},
     "output_type": "execute_result"
    }
   ],
   "source": [
    "import sys\n",
    "sys.version"
   ]
  },
  {
   "cell_type": "code",
   "execution_count": 3,
   "metadata": {},
   "outputs": [
    {
     "name": "stdout",
     "output_type": "stream",
     "text": [
      "이진석 20\n",
      "이름은 이진석입니다. 나이는 20입니다.\n",
      "이름은 이진석입니다. 나이는 20입니다.\n",
      "이름은 이진석입니다. 나이는 20입니다.\n"
     ]
    }
   ],
   "source": [
    "name = \"이진석\"\n",
    "age = 20        # 실행 : Shift+Enter\n",
    "\n",
    "print(name, age)\n",
    "\n",
    "print(\"이름은 %s입니다. 나이는 %d입니다.\" % (name, age))  # python 2에서 주로 활용하던 방식\n",
    "print(\"이름은 {}입니다. 나이는 {}입니다.\".format(name, age))  # python 2.7 ~\n",
    "\n",
    "# python 3.6~ : f-string\n",
    "print(f\"이름은 {name}입니다. 나이는 {age}입니다.\")"
   ]
  },
  {
   "cell_type": "markdown",
   "metadata": {},
   "source": [
    "# 6강. 실습 1\n",
    "\n",
    "문제1) 세 과목 (국어, 수학, 영어) 성적을 input() 함수로 입력받아 세 과목의 총점과 평균을 구하는 프로그램을 작성하시오. 평균은 소수점 둘째자리까지 출력되도록 한다."
   ]
  },
  {
   "cell_type": "code",
   "execution_count": 4,
   "metadata": {},
   "outputs": [],
   "source": [
    "국어 = 100\n",
    "영어 = 80\n",
    "수학 = 95"
   ]
  },
  {
   "cell_type": "code",
   "execution_count": 6,
   "metadata": {},
   "outputs": [
    {
     "data": {
      "text/plain": [
       "(275, 91.66666666666667)"
      ]
     },
     "execution_count": 6,
     "metadata": {},
     "output_type": "execute_result"
    }
   ],
   "source": [
    "총점 = 국어 + 영어 + 수학\n",
    "평균 = 총점 / 3\n",
    "총점, 평균"
   ]
  },
  {
   "cell_type": "code",
   "execution_count": 10,
   "metadata": {},
   "outputs": [
    {
     "name": "stdout",
     "output_type": "stream",
     "text": [
      "총점 : 275, 평균 : 91.67\n",
      "총점 : 275, 평균 : 91.67\n"
     ]
    }
   ],
   "source": [
    "print(\"총점 : %d, 평균 : %.2f\" % (총점, 평균))\n",
    "print(f\"총점 : {총점}, 평균 : {평균:.2f}\")"
   ]
  },
  {
   "cell_type": "code",
   "execution_count": 12,
   "metadata": {
    "collapsed": true
   },
   "outputs": [
    {
     "name": "stdout",
     "output_type": "stream",
     "text": [
      "국어 성적 : 100\n",
      "수학 성적 : 80\n",
      "영어 성적 : 95\n"
     ]
    },
    {
     "data": {
      "text/plain": [
       "(100, 80, 95)"
      ]
     },
     "execution_count": 12,
     "metadata": {},
     "output_type": "execute_result"
    }
   ],
   "source": [
    "국어 = int(input(\"국어 성적 : \"))\n",
    "수학 = int(input(\"수학 성적 : \"))\n",
    "영어 = int(input(\"영어 성적 : \"))\n",
    "\n",
    "국어, 수학, 영어"
   ]
  },
  {
   "cell_type": "code",
   "execution_count": 20,
   "metadata": {},
   "outputs": [
    {
     "name": "stdout",
     "output_type": "stream",
     "text": [
      "국어 수학 영어 성적 : 100 80 90 95\n",
      "에러) 국어 수학 영어 순으로 성적을 입력해주세요.\n"
     ]
    }
   ],
   "source": [
    "line = input(\"국어 수학 영어 성적 : \")\n",
    "# 국어, 수학, 영어 = line.split()  # white spaces를 구분자로 해서, 단어를 리스트화\n",
    "# 국어 = int(국어)\n",
    "# 수학 = int(수학)\n",
    "# 영어 = int(영어)\n",
    "\n",
    "try:\n",
    "    국어, 수학, 영어 = map(int, line.split())\n",
    "except ValueError:\n",
    "    print(\"에러) 국어 수학 영어 순으로 성적을 입력해주세요.\")"
   ]
  },
  {
   "cell_type": "code",
   "execution_count": 16,
   "metadata": {},
   "outputs": [
    {
     "name": "stdout",
     "output_type": "stream",
     "text": [
      "총점 : 275, 평균 : 91.67\n",
      "총점 : 275, 평균 : 91.67\n"
     ]
    }
   ],
   "source": [
    "총점 = 국어 + 수학 + 영어\n",
    "평균 = 총점 / 3\n",
    "print(\"총점 : %d, 평균 : %.2f\" % (총점, 평균))\n",
    "print(f\"총점 : {총점}, 평균 : {평균:.2f}\")"
   ]
  },
  {
   "cell_type": "markdown",
   "metadata": {},
   "source": [
    "문제2) input() 함수를 이용하여 원의 반지름을 입력받는다. 입력받은 반지름으로 원의 넓이와 원의 둘레를 구하여 소수 셋째 자리까지 출\n",
    "력하는 프로그램을 작성하시오."
   ]
  },
  {
   "cell_type": "code",
   "execution_count": 12,
   "metadata": {},
   "outputs": [
    {
     "name": "stdout",
     "output_type": "stream",
     "text": [
      "반지름 : 10\n",
      "원의 넓이 : 314.159, 원의 둘레 : 62.832\n"
     ]
    }
   ],
   "source": [
    "import math\n",
    "\n",
    "반지름 = int(input(\"반지름 : \"))\n",
    "\n",
    "원의_넓이 = math.pi * 반지름 ** 2\n",
    "원의_둘레 = 2 * math.pi * 반지름\n",
    "\n",
    "print(f\"원의 넓이 : {원의_넓이:.3f}, 원의 둘레 : {원의_둘레:.3f}\")"
   ]
  },
  {
   "cell_type": "markdown",
   "metadata": {},
   "source": [
    "문제3) 다섯 자리 양의 정수를 입력받아서, 다음과 같이 각 자리수를 떼어서 출력하는 프로그램을 작성하시오. 항상 올바르게 다섯 자리 숫자를 입력하고 1~9의 수만 입력한다고 가정한다."
   ]
  },
  {
   "cell_type": "code",
   "execution_count": 21,
   "metadata": {},
   "outputs": [
    {
     "name": "stdout",
     "output_type": "stream",
     "text": [
      "다섯 자리 숫자 : 12345\n"
     ]
    },
    {
     "data": {
      "text/plain": [
       "'12345'"
      ]
     },
     "execution_count": 21,
     "metadata": {},
     "output_type": "execute_result"
    }
   ],
   "source": [
    "숫자 = input(\"다섯 자리 숫자 : \")\n",
    "숫자"
   ]
  },
  {
   "cell_type": "code",
   "execution_count": 27,
   "metadata": {},
   "outputs": [
    {
     "data": {
      "text/plain": [
       "('1', '2', '3', '4', '5')"
      ]
     },
     "execution_count": 27,
     "metadata": {},
     "output_type": "execute_result"
    }
   ],
   "source": [
    "숫자[0], 숫자[1], 숫자[2], 숫자[3], 숫자[4]"
   ]
  },
  {
   "cell_type": "code",
   "execution_count": 30,
   "metadata": {},
   "outputs": [
    {
     "data": {
      "text/plain": [
       "'1 , 2 , 3 , 4 , 5'"
      ]
     },
     "execution_count": 30,
     "metadata": {},
     "output_type": "execute_result"
    }
   ],
   "source": [
    "' , '.join(숫자)"
   ]
  },
  {
   "cell_type": "code",
   "execution_count": 31,
   "metadata": {},
   "outputs": [
    {
     "data": {
      "text/plain": [
       "'1 , 2 , 3 , 4 , 5'"
      ]
     },
     "execution_count": 31,
     "metadata": {},
     "output_type": "execute_result"
    }
   ],
   "source": [
    "' , '.join(['1', '2', '3', '4', '5'])\n",
    "' , '.join('12345')"
   ]
  },
  {
   "cell_type": "code",
   "execution_count": null,
   "metadata": {},
   "outputs": [],
   "source": []
  },
  {
   "cell_type": "markdown",
   "metadata": {},
   "source": [
    "# 기본 자료형\n",
    "\n",
    "1. 수치 자료형 : int, float, complex\n",
    "2. 부울 자료형 : bool (True/False)\n",
    "3. 목록형 자료형 : str, list, tuple, set, dict 등\n",
    "    1. str : 홑/쌍 1개/3개 언급"
   ]
  },
  {
   "cell_type": "code",
   "execution_count": 32,
   "metadata": {},
   "outputs": [
    {
     "data": {
      "text/plain": [
       "('a', 'b', 'c', 'd', 'e')"
      ]
     },
     "execution_count": 32,
     "metadata": {},
     "output_type": "execute_result"
    }
   ],
   "source": [
    "[\"a\", \"b\", \"c\", \"d\", \"e\"]  # list\n",
    "{\"a\", \"b\", \"c\", \"d\", \"e\"}  # set\n",
    "(\"a\", \"b\", \"c\", \"d\", \"e\")  # tuple\n",
    "\"a\", \"b\", \"c\", \"d\", \"e\"  # tuple"
   ]
  },
  {
   "cell_type": "code",
   "execution_count": 34,
   "metadata": {},
   "outputs": [
    {
     "data": {
      "text/plain": [
       "(1,)"
      ]
     },
     "execution_count": 34,
     "metadata": {},
     "output_type": "execute_result"
    }
   ],
   "source": [
    "[1]  # list\n",
    "[1,] # list\n",
    "(1)  # int\n",
    "(1,) # tuple"
   ]
  },
  {
   "cell_type": "code",
   "execution_count": 36,
   "metadata": {},
   "outputs": [
    {
     "data": {
      "text/plain": [
       "[]"
      ]
     },
     "execution_count": 36,
     "metadata": {},
     "output_type": "execute_result"
    }
   ],
   "source": [
    "# 빈 리스트, 튜플, 집합, 사전\n",
    "[], list()\n",
    "(), tuple()\n",
    "set()\n",
    "{}, dict()"
   ]
  },
  {
   "cell_type": "code",
   "execution_count": 37,
   "metadata": {},
   "outputs": [
    {
     "data": {
      "text/plain": [
       "{'a': 1, 'b': 2}"
      ]
     },
     "execution_count": 37,
     "metadata": {},
     "output_type": "execute_result"
    }
   ],
   "source": [
    "{\"a\", \"b\"}  # set\n",
    "{\"a\": 1, \"b\": 2}  # dict"
   ]
  },
  {
   "cell_type": "code",
   "execution_count": null,
   "metadata": {},
   "outputs": [],
   "source": []
  },
  {
   "cell_type": "markdown",
   "metadata": {},
   "source": [
    "# index와 슬라이싱"
   ]
  },
  {
   "cell_type": "code",
   "execution_count": 38,
   "metadata": {},
   "outputs": [
    {
     "data": {
      "text/plain": [
       "'abcdefghijklmnopqrstuvwxyz'"
      ]
     },
     "execution_count": 38,
     "metadata": {},
     "output_type": "execute_result"
    }
   ],
   "source": [
    "알파벳 = \"abcdefghijklmnopqrstuvwxyz\"\n",
    "알파벳"
   ]
  },
  {
   "cell_type": "code",
   "execution_count": 39,
   "metadata": {},
   "outputs": [
    {
     "data": {
      "text/plain": [
       "'a'"
      ]
     },
     "execution_count": 39,
     "metadata": {},
     "output_type": "execute_result"
    }
   ],
   "source": [
    "알파벳[0]"
   ]
  },
  {
   "cell_type": "code",
   "execution_count": 40,
   "metadata": {},
   "outputs": [
    {
     "data": {
      "text/plain": [
       "26"
      ]
     },
     "execution_count": 40,
     "metadata": {},
     "output_type": "execute_result"
    }
   ],
   "source": [
    "len(알파벳)"
   ]
  },
  {
   "cell_type": "code",
   "execution_count": 43,
   "metadata": {},
   "outputs": [
    {
     "name": "stdout",
     "output_type": "stream",
     "text": [
      "z\n",
      "z\n"
     ]
    }
   ],
   "source": [
    "print(알파벳[len(알파벳)-1])  # 보통의 타언어\n",
    "print(알파벳[-1])"
   ]
  },
  {
   "cell_type": "code",
   "execution_count": 44,
   "metadata": {},
   "outputs": [
    {
     "data": {
      "text/plain": [
       "('z', 'z')"
      ]
     },
     "execution_count": 44,
     "metadata": {},
     "output_type": "execute_result"
    }
   ],
   "source": [
    "알파벳[25], 알파벳[-1]"
   ]
  },
  {
   "cell_type": "code",
   "execution_count": 46,
   "metadata": {},
   "outputs": [
    {
     "ename": "IndexError",
     "evalue": "string index out of range",
     "output_type": "error",
     "traceback": [
      "\u001b[0;31m---------------------------------------------------------------------------\u001b[0m",
      "\u001b[0;31mIndexError\u001b[0m                                Traceback (most recent call last)",
      "\u001b[0;32m<ipython-input-46-37d68460a9b4>\u001b[0m in \u001b[0;36m<module>\u001b[0;34m()\u001b[0m\n\u001b[0;32m----> 1\u001b[0;31m \u001b[0m알파벳\u001b[0m\u001b[0;34m[\u001b[0m\u001b[0;36m30\u001b[0m\u001b[0;34m]\u001b[0m\u001b[0;34m\u001b[0m\u001b[0;34m\u001b[0m\u001b[0m\n\u001b[0m",
      "\u001b[0;31mIndexError\u001b[0m: string index out of range"
     ]
    }
   ],
   "source": [
    "알파벳[30]"
   ]
  },
  {
   "cell_type": "code",
   "execution_count": null,
   "metadata": {},
   "outputs": [],
   "source": []
  },
  {
   "cell_type": "code",
   "execution_count": 55,
   "metadata": {},
   "outputs": [
    {
     "name": "stdout",
     "output_type": "stream",
     "text": [
      "behknqtwz\n",
      "cdefghijklmnopqrstuvwx\n",
      "defghijklm\n",
      "zyxwvutsrqponmlkjihgfedcba\n"
     ]
    }
   ],
   "source": [
    "# 알파벳[start:stop:step]  # start이상 stop미만, step\n",
    "# start 생략 => 처음부터\n",
    "# stop 생략 => 끝까지\n",
    "# step 생략 => 1 혹은 -1\n",
    "\n",
    "print(알파벳[1::3])\n",
    "print(알파벳[2:-2])  # 처음 2글자 제외, 마지막 2글자 제외\n",
    "print(알파벳[3:3+10])  # 3번 인덱스부터 10개 글자\n",
    "print(알파벳[::-1])"
   ]
  },
  {
   "cell_type": "code",
   "execution_count": null,
   "metadata": {},
   "outputs": [],
   "source": []
  },
  {
   "cell_type": "markdown",
   "metadata": {},
   "source": [
    "# 9강. 실습 2"
   ]
  },
  {
   "cell_type": "markdown",
   "metadata": {},
   "source": [
    "문제1) A 학교에서는 주당 12시간 강의를 기본으로 하고 있다. 만약에 강의 시간이 12시간을 초과하면 초과한 시간에 대해 시간당 급여의 30%를 더 지급한다. 주당 총 근무 시간과 A학교의 시간당 급여를 입력받아 1주일 급여를 계산하는 프로그램을 작성하시오."
   ]
  },
  {
   "cell_type": "code",
   "execution_count": 19,
   "metadata": {},
   "outputs": [
    {
     "name": "stdout",
     "output_type": "stream",
     "text": [
      "1주일 강의시간 : 20\n",
      "시간당 급여 : 40000\n",
      "1주일 급여 : 896000.0\n"
     ]
    }
   ],
   "source": [
    "강의시간 = int(input(\"1주일 강의시간 : \"))\n",
    "시간당_급여 = int(input(\"시간당 급여 : \"))\n",
    "\n",
    "if 강의시간 > 12:\n",
    "    초과시간 = 강의시간 - 12\n",
    "    급여 = (12 + 초과시간 * 1.3) * 시간당_급여\n",
    "else:\n",
    "    급여 = 강의시간 * 시간당_급여\n",
    "\n",
    "print(f\"1주일 급여 : {급여}\")"
   ]
  },
  {
   "cell_type": "markdown",
   "metadata": {},
   "source": [
    "문제2) 하나의 양의 정수를 입력받아서 그 수의 약수를 모두 출력하고, 약수의 개수도 출력하시오."
   ]
  },
  {
   "cell_type": "code",
   "execution_count": 76,
   "metadata": {},
   "outputs": [
    {
     "name": "stdout",
     "output_type": "stream",
     "text": [
      "약수_리스트 : [1, 2, 5, 10], 개수 : 4\n"
     ]
    }
   ],
   "source": [
    "숫자 = 10\n",
    "약수_리스트 = []\n",
    "\n",
    "for i in range(1, 숫자//2+1):\n",
    "    if 숫자 % i == 0:\n",
    "        약수_리스트.append(i)\n",
    "\n",
    "약수_리스트.append(숫자)\n",
    "약수_개수 = len(약수_리스트)\n",
    "\n",
    "print(f\"약수_리스트 : {약수_리스트}, 개수 : {약수_개수}\")"
   ]
  },
  {
   "cell_type": "code",
   "execution_count": 79,
   "metadata": {},
   "outputs": [
    {
     "data": {
      "text/plain": [
       "[1, 4, 9, 16, 25, 36, 49, 64, 81, 100]"
      ]
     },
     "execution_count": 79,
     "metadata": {},
     "output_type": "execute_result"
    }
   ],
   "source": [
    "# number_list = []\n",
    "# for i in range(1, 11):\n",
    "#     number_list.append(i ** 2)\n",
    "# number_list\n",
    "\n",
    "# list comprehension\n",
    "number_list = [i**2 for i in range(1, 11)]\n",
    "number_list"
   ]
  },
  {
   "cell_type": "code",
   "execution_count": 84,
   "metadata": {},
   "outputs": [
    {
     "name": "stdout",
     "output_type": "stream",
     "text": [
      "[1, 2, 0, 1, 2, 0, 1, 2, 0, 1]\n",
      "{0, 1, 2}\n",
      "{1: 1, 2: 2, 3: 0, 4: 1, 5: 2, 6: 0, 7: 1, 8: 2, 9: 0, 10: 1}\n",
      "<generator object <genexpr> at 0x110754660>\n"
     ]
    }
   ],
   "source": [
    "print([i % 3 for i in range(1, 11)])     # list comprehension\n",
    "print({i % 3 for i in range(1, 11)})     # set comprehension\n",
    "print({i: i % 3 for i in range(1, 11)})  # dict comprehension\n",
    "print((i % 3 for i in range(1, 11)))     # Generator (고급)"
   ]
  },
  {
   "cell_type": "code",
   "execution_count": 87,
   "metadata": {},
   "outputs": [
    {
     "data": {
      "text/plain": [
       "[1, 2, 5, 10]"
      ]
     },
     "execution_count": 87,
     "metadata": {},
     "output_type": "execute_result"
    }
   ],
   "source": [
    "숫자 = 10\n",
    "\n",
    "약수_리스트 = [i\n",
    "               for i in range(1, 숫자//2+1)\n",
    "               if 숫자 % i == 0]\n",
    "약수_리스트.append(숫자)\n",
    "\n",
    "약수_리스트"
   ]
  },
  {
   "cell_type": "markdown",
   "metadata": {},
   "source": [
    "문제3) input 함수 한 번에 다섯 개의 정수를 입력받아서 그 정수들 중에서 가장 큰 값을 출력하시오."
   ]
  },
  {
   "cell_type": "code",
   "execution_count": 96,
   "metadata": {},
   "outputs": [
    {
     "data": {
      "text/plain": [
       "50"
      ]
     },
     "execution_count": 96,
     "metadata": {},
     "output_type": "execute_result"
    }
   ],
   "source": [
    "line = \"10 20 30 40 50\"\n",
    "max(map(int, line.split()))  # Generator"
   ]
  },
  {
   "cell_type": "code",
   "execution_count": 1,
   "metadata": {},
   "outputs": [
    {
     "name": "stdout",
     "output_type": "stream",
     "text": [
      "적으셈 1 3 4 3 6\n"
     ]
    },
    {
     "data": {
      "text/plain": [
       "6"
      ]
     },
     "execution_count": 1,
     "metadata": {},
     "output_type": "execute_result"
    }
   ],
   "source": [
    "max(map(int, input('적으셈 ').split()))"
   ]
  },
  {
   "cell_type": "code",
   "execution_count": 2,
   "metadata": {},
   "outputs": [
    {
     "name": "stdout",
     "output_type": "stream",
     "text": [
      "적으셈 2 4 5 7 1\n"
     ]
    }
   ],
   "source": [
    "ggg = max(map(int, input('적으셈 ').split()))"
   ]
  },
  {
   "cell_type": "code",
   "execution_count": 5,
   "metadata": {},
   "outputs": [
    {
     "name": "stdout",
     "output_type": "stream",
     "text": [
      "7\n"
     ]
    },
    {
     "data": {
      "text/plain": [
       "int"
      ]
     },
     "execution_count": 5,
     "metadata": {},
     "output_type": "execute_result"
    }
   ],
   "source": [
    "print(ggg)\n",
    "type(ggg)"
   ]
  },
  {
   "cell_type": "code",
   "execution_count": null,
   "metadata": {},
   "outputs": [],
   "source": []
  },
  {
   "cell_type": "code",
   "execution_count": 102,
   "metadata": {},
   "outputs": [],
   "source": [
    "for i in range(1000000000000):\n",
    "    break"
   ]
  },
  {
   "cell_type": "code",
   "execution_count": null,
   "metadata": {},
   "outputs": [],
   "source": []
  },
  {
   "cell_type": "markdown",
   "metadata": {},
   "source": [
    "# 13강. 실습 3"
   ]
  },
  {
   "cell_type": "markdown",
   "metadata": {},
   "source": [
    "문제1) for 구문과 range() 함수를 이용하여 다음과 같이 출력되도록 하시오.\n",
    "\n",
    "```\n",
    "0 1 2 3 4 5 6 7 8 9 \n",
    "0 5 10 15 20 25 30 35 40 45 50 \n",
    "10 9 8 7 6 5 4 3 2 1\n",
    "```"
   ]
  },
  {
   "cell_type": "code",
   "execution_count": 32,
   "metadata": {},
   "outputs": [
    {
     "name": "stdout",
     "output_type": "stream",
     "text": [
      "0 1 2 3 4 5 6 7 8 9\n",
      "0 5 10 15 20 25 30 35 40 45 50\n",
      "10 9 8 7 6 5 4 3 2 1\n"
     ]
    }
   ],
   "source": [
    "print(' '.join(map(str, range(10))))\n",
    "print(' '.join(map(str, range(0, 51, 5))))\n",
    "print(' '.join(map(str, range(10, 0, -1))))"
   ]
  },
  {
   "cell_type": "markdown",
   "metadata": {},
   "source": [
    "문제2) score 리스트에 다섯 개의 성적 (정수)를 입력받아서, 다음과 같이 출력하시오. 성적을 입력받을 때에는 반드시 for 구문을 사용하고, 파이썬 내장 함수를 적절히 이용하시오."
   ]
  },
  {
   "cell_type": "code",
   "execution_count": 36,
   "metadata": {},
   "outputs": [
    {
     "name": "stdout",
     "output_type": "stream",
     "text": [
      "성적을 입력하시오 : 80\n",
      "성적을 입력하시오 : 88\n",
      "성적을 입력하시오 : 75\n",
      "성적을 입력하시오 : 93\n",
      "성적을 입력하시오 : 80\n",
      "입력한 성적들 : [80, 88, 75, 93, 80]\n",
      "최고 성적 : 93\n",
      "최저 성적 : 75\n",
      "평균 : 83.20\n"
     ]
    }
   ],
   "source": [
    "score = []\n",
    "\n",
    "for i in range(5):\n",
    "    성적 = int(input(\"성적을 입력하시오 : \"))\n",
    "    score.append(성적)\n",
    "    \n",
    "최고 = max(score)\n",
    "최저 = min(score)\n",
    "평균 = sum(score) / len(score)\n",
    "    \n",
    "print(f\"입력한 성적들 : {score}\")\n",
    "print(f\"최고 성적 : {최고}\")\n",
    "print(f\"최저 성적 : {최저}\")\n",
    "print(f\"평균 : {평균:.2f}\")"
   ]
  },
  {
   "cell_type": "markdown",
   "metadata": {},
   "source": [
    "문제3) A고등학교 어떤 반 학생들 5명의 번호와 국어, 영어, 수학 성적이 다음과 같다. 5명 각자의 평균을 출력하시오. (사전과 리스트 이용할 것)"
   ]
  },
  {
   "cell_type": "code",
   "execution_count": 109,
   "metadata": {},
   "outputs": [
    {
     "name": "stdout",
     "output_type": "stream",
     "text": [
      "1, 평균 : 85.33\n",
      "2, 평균 : 83.67\n",
      "3, 평균 : 87.33\n",
      "4, 평균 : 68.00\n",
      "5, 평균 : 95.00\n"
     ]
    }
   ],
   "source": [
    "성적_리스트 = [\n",
    "    {'국어': 80, '영어': 90, '수학': 86},\n",
    "    {'국어': 78, '영어': 88, '수학': 85},\n",
    "    {'국어': 85, '영어': 85, '수학': 92},\n",
    "    {'국어': 70, '영어': 69, '수학': 65},\n",
    "    {'국어': 90, '영어': 95, '수학': 100},\n",
    "]\n",
    "\n",
    "for idx, 성적 in enumerate(성적_리스트, 1):\n",
    "    총점 = 성적['국어'] + 성적['영어'] + 성적['수학']\n",
    "    평균 = 총점 / 3\n",
    "    print(f\"{idx}, 평균 : {평균:.2f}\")"
   ]
  },
  {
   "cell_type": "code",
   "execution_count": 110,
   "metadata": {},
   "outputs": [],
   "source": [
    "import pandas as pd"
   ]
  },
  {
   "cell_type": "code",
   "execution_count": 113,
   "metadata": {
    "collapsed": true
   },
   "outputs": [
    {
     "data": {
      "text/html": [
       "<div>\n",
       "<style scoped>\n",
       "    .dataframe tbody tr th:only-of-type {\n",
       "        vertical-align: middle;\n",
       "    }\n",
       "\n",
       "    .dataframe tbody tr th {\n",
       "        vertical-align: top;\n",
       "    }\n",
       "\n",
       "    .dataframe thead th {\n",
       "        text-align: right;\n",
       "    }\n",
       "</style>\n",
       "<table border=\"1\" class=\"dataframe\">\n",
       "  <thead>\n",
       "    <tr style=\"text-align: right;\">\n",
       "      <th></th>\n",
       "      <th>국어</th>\n",
       "      <th>수학</th>\n",
       "      <th>영어</th>\n",
       "    </tr>\n",
       "  </thead>\n",
       "  <tbody>\n",
       "    <tr>\n",
       "      <th>0</th>\n",
       "      <td>80</td>\n",
       "      <td>86</td>\n",
       "      <td>90</td>\n",
       "    </tr>\n",
       "    <tr>\n",
       "      <th>1</th>\n",
       "      <td>78</td>\n",
       "      <td>85</td>\n",
       "      <td>88</td>\n",
       "    </tr>\n",
       "    <tr>\n",
       "      <th>2</th>\n",
       "      <td>85</td>\n",
       "      <td>92</td>\n",
       "      <td>85</td>\n",
       "    </tr>\n",
       "    <tr>\n",
       "      <th>3</th>\n",
       "      <td>70</td>\n",
       "      <td>65</td>\n",
       "      <td>69</td>\n",
       "    </tr>\n",
       "    <tr>\n",
       "      <th>4</th>\n",
       "      <td>90</td>\n",
       "      <td>100</td>\n",
       "      <td>95</td>\n",
       "    </tr>\n",
       "  </tbody>\n",
       "</table>\n",
       "</div>"
      ],
      "text/plain": [
       "   국어   수학  영어\n",
       "0  80   86  90\n",
       "1  78   85  88\n",
       "2  85   92  85\n",
       "3  70   65  69\n",
       "4  90  100  95"
      ]
     },
     "execution_count": 113,
     "metadata": {},
     "output_type": "execute_result"
    }
   ],
   "source": [
    "df = pd.DataFrame(성적_리스트)\n",
    "df"
   ]
  },
  {
   "cell_type": "code",
   "execution_count": 118,
   "metadata": {},
   "outputs": [
    {
     "data": {
      "text/html": [
       "<div>\n",
       "<style scoped>\n",
       "    .dataframe tbody tr th:only-of-type {\n",
       "        vertical-align: middle;\n",
       "    }\n",
       "\n",
       "    .dataframe tbody tr th {\n",
       "        vertical-align: top;\n",
       "    }\n",
       "\n",
       "    .dataframe thead th {\n",
       "        text-align: right;\n",
       "    }\n",
       "</style>\n",
       "<table border=\"1\" class=\"dataframe\">\n",
       "  <thead>\n",
       "    <tr style=\"text-align: right;\">\n",
       "      <th></th>\n",
       "      <th>국어</th>\n",
       "      <th>수학</th>\n",
       "      <th>영어</th>\n",
       "      <th>평균</th>\n",
       "      <th>총점</th>\n",
       "    </tr>\n",
       "  </thead>\n",
       "  <tbody>\n",
       "    <tr>\n",
       "      <th>0</th>\n",
       "      <td>80</td>\n",
       "      <td>86</td>\n",
       "      <td>90</td>\n",
       "      <td>85</td>\n",
       "      <td>256</td>\n",
       "    </tr>\n",
       "    <tr>\n",
       "      <th>1</th>\n",
       "      <td>78</td>\n",
       "      <td>85</td>\n",
       "      <td>88</td>\n",
       "      <td>83</td>\n",
       "      <td>251</td>\n",
       "    </tr>\n",
       "    <tr>\n",
       "      <th>2</th>\n",
       "      <td>85</td>\n",
       "      <td>92</td>\n",
       "      <td>85</td>\n",
       "      <td>87</td>\n",
       "      <td>262</td>\n",
       "    </tr>\n",
       "    <tr>\n",
       "      <th>3</th>\n",
       "      <td>70</td>\n",
       "      <td>65</td>\n",
       "      <td>69</td>\n",
       "      <td>68</td>\n",
       "      <td>204</td>\n",
       "    </tr>\n",
       "    <tr>\n",
       "      <th>4</th>\n",
       "      <td>90</td>\n",
       "      <td>100</td>\n",
       "      <td>95</td>\n",
       "      <td>95</td>\n",
       "      <td>285</td>\n",
       "    </tr>\n",
       "  </tbody>\n",
       "</table>\n",
       "</div>"
      ],
      "text/plain": [
       "   국어   수학  영어  평균   총점\n",
       "0  80   86  90  85  256\n",
       "1  78   85  88  83  251\n",
       "2  85   92  85  87  262\n",
       "3  70   65  69  68  204\n",
       "4  90  100  95  95  285"
      ]
     },
     "execution_count": 118,
     "metadata": {},
     "output_type": "execute_result"
    }
   ],
   "source": [
    "df['총점'] = df['국어'] + df['수학'] + df['영어']\n",
    "df['평균'] = df['총점'] // 3\n",
    "df"
   ]
  },
  {
   "cell_type": "code",
   "execution_count": 119,
   "metadata": {},
   "outputs": [],
   "source": [
    "df.to_excel(\"성적.xlsx\")  # pip install xlwt"
   ]
  },
  {
   "cell_type": "code",
   "execution_count": null,
   "metadata": {},
   "outputs": [],
   "source": []
  },
  {
   "cell_type": "code",
   "execution_count": null,
   "metadata": {},
   "outputs": [],
   "source": [
    "# import xlwings as xw\n",
    "\n",
    "# xw.view(df)"
   ]
  },
  {
   "cell_type": "code",
   "execution_count": null,
   "metadata": {},
   "outputs": [],
   "source": []
  },
  {
   "cell_type": "markdown",
   "metadata": {},
   "source": [
    "# 17강. 실습 4"
   ]
  },
  {
   "cell_type": "markdown",
   "metadata": {},
   "source": [
    "문제1) 이전 실습에서 했던 문제이다. A 학교에서는 주당 12시간 강의를 기본으로 하고 있다. 만약에 강의 시간이 12시간을 초과하면 초과한 시간에 대해 시간당 급여의 30%를 더 지급한다. 주당 총 근무 시간과 A학교의 시간당 급여를 입력받아 1주일 급여를 계산하는 부분을 함수로 작성하고 main에서 함수를 호출하시오."
   ]
  },
  {
   "cell_type": "code",
   "execution_count": 49,
   "metadata": {},
   "outputs": [
    {
     "name": "stdout",
     "output_type": "stream",
     "text": [
      "1주일 강의시간 : 20\n",
      "시간당 급여 : 50000\n",
      "급여 : 1120000.0\n"
     ]
    }
   ],
   "source": [
    "def 일주일_급여(강의시간, 시간당_급여):\n",
    "    if 강의시간 > 12:\n",
    "        초과시간 = 강의시간 - 12\n",
    "        급여 = (12 + 초과시간 * 1.3) * 시간당_급여\n",
    "    else:\n",
    "        급여 = 강의시간 * 시간당_급여\n",
    "    \n",
    "    return 급여\n",
    "\n",
    "def main():\n",
    "    강의시간 = int(input(\"1주일 강의시간 : \"))\n",
    "    시간당_급여 = int(input(\"시간당 급여 : \"))\n",
    "\n",
    "    급여 = 일주일_급여(강의시간, 시간당_급여)\n",
    "    print(f\"급여 : {급여}\")\n",
    "    \n",
    "if __name__ == \"__main__\":\n",
    "    main()"
   ]
  },
  {
   "cell_type": "markdown",
   "metadata": {},
   "source": [
    "문제2) 섭씨 온도를 화씨 온도로 바꾸는 프로그램을 작성하려고 한다. 섭씨 시작온도와 섭씨 끝 온도를 입력받아서 다음과 같이 출력되도록 프로그램을 작성하시오. 이때 섭씨 온도를 화씨 온도로 바꾸는 부분은 반드시 함수로 작성하도록 한다."
   ]
  },
  {
   "cell_type": "code",
   "execution_count": 51,
   "metadata": {},
   "outputs": [
    {
     "name": "stdout",
     "output_type": "stream",
     "text": [
      "시작 온도를 입력하시오 : 10\n",
      "끝 온도를 입력하시오 : 20\n",
      "섭씨 10도는 화씨 50.0도입니다.\n",
      "섭씨 11도는 화씨 51.8도입니다.\n",
      "섭씨 12도는 화씨 53.6도입니다.\n",
      "섭씨 13도는 화씨 55.4도입니다.\n",
      "섭씨 14도는 화씨 57.2도입니다.\n",
      "섭씨 15도는 화씨 59.0도입니다.\n",
      "섭씨 16도는 화씨 60.8도입니다.\n",
      "섭씨 17도는 화씨 62.6도입니다.\n",
      "섭씨 18도는 화씨 64.4도입니다.\n",
      "섭씨 19도는 화씨 66.2도입니다.\n",
      "섭씨 20도는 화씨 68.0도입니다.\n"
     ]
    }
   ],
   "source": [
    "def 섭씨_to_화씨(섭씨):\n",
    "    return 섭씨 * 9 / 5 + 32\n",
    "\n",
    "시작온도 = int(input(\"시작 온도를 입력하시오 : \"))\n",
    "끝온도 = int(input(\"끝 온도를 입력하시오 : \"))\n",
    "\n",
    "for 섭씨 in range(시작온도, 끝온도+1):\n",
    "    화씨 = 섭씨_to_화씨(섭씨)\n",
    "    print(f\"섭씨 {섭씨}도는 화씨 {화씨}도입니다.\")"
   ]
  },
  {
   "cell_type": "markdown",
   "metadata": {},
   "source": [
    "문제3) 컴퓨터는 1부터 100사이의 정수 하나를 임의로 선택한다. 사용자는 컴퓨터가 선택한 수를 맞춘다. 최종적으로 몇 번의 guess로 맞췄는 지와 컴퓨터가 선택한 숫자를 출력한다."
   ]
  },
  {
   "cell_type": "code",
   "execution_count": 53,
   "metadata": {},
   "outputs": [
    {
     "name": "stdout",
     "output_type": "stream",
     "text": [
      "20\n",
      "[1] Guess :50\n",
      "더 작은 수를 선택하세요.\n",
      "[2] Guess :10\n",
      "더 큰 수를 선택하세요.\n",
      "[3] Guess :15\n",
      "더 큰 수를 선택하세요.\n",
      "[4] Guess :20\n",
      "4번의 시도 끝에 숫자20를 맞추셨습니다.\n"
     ]
    }
   ],
   "source": [
    "import random\n",
    "\n",
    "number = random.randint(1, 100)\n",
    "\n",
    "retry = 1\n",
    "while True:\n",
    "    guess = int(input(f\"[{retry}] Guess :\"))\n",
    "    if guess == number:\n",
    "        break\n",
    "    elif guess < number:\n",
    "        print(\"더 큰 수를 선택하세요.\")\n",
    "    else:\n",
    "        print(\"더 작은 수를 선택하세요.\")\n",
    "    retry += 1\n",
    "\n",
    "print(f\"{retry}번의 시도 끝에 숫자{number}를 맞추셨습니다.\")"
   ]
  },
  {
   "cell_type": "code",
   "execution_count": null,
   "metadata": {},
   "outputs": [],
   "source": []
  },
  {
   "cell_type": "markdown",
   "metadata": {},
   "source": [
    "# 멜론 데이터"
   ]
  },
  {
   "cell_type": "code",
   "execution_count": 19,
   "metadata": {},
   "outputs": [
    {
     "ename": "URLError",
     "evalue": "<urlopen error [Errno 11004] getaddrinfo failed>",
     "output_type": "error",
     "traceback": [
      "\u001b[1;31m---------------------------------------------------------------------------\u001b[0m",
      "\u001b[1;31mgaierror\u001b[0m                                  Traceback (most recent call last)",
      "\u001b[1;32mC:\\Anaconda3\\envs\\DT_Academy\\lib\\urllib\\request.py\u001b[0m in \u001b[0;36mdo_open\u001b[1;34m(self, http_class, req, **http_conn_args)\u001b[0m\n\u001b[0;32m   1316\u001b[0m                 h.request(req.get_method(), req.selector, req.data, headers,\n\u001b[1;32m-> 1317\u001b[1;33m                           encode_chunked=req.has_header('Transfer-encoding'))\n\u001b[0m\u001b[0;32m   1318\u001b[0m             \u001b[1;32mexcept\u001b[0m \u001b[0mOSError\u001b[0m \u001b[1;32mas\u001b[0m \u001b[0merr\u001b[0m\u001b[1;33m:\u001b[0m \u001b[1;31m# timeout error\u001b[0m\u001b[1;33m\u001b[0m\u001b[1;33m\u001b[0m\u001b[0m\n",
      "\u001b[1;32mC:\\Anaconda3\\envs\\DT_Academy\\lib\\http\\client.py\u001b[0m in \u001b[0;36mrequest\u001b[1;34m(self, method, url, body, headers, encode_chunked)\u001b[0m\n\u001b[0;32m   1228\u001b[0m         \u001b[1;34m\"\"\"Send a complete request to the server.\"\"\"\u001b[0m\u001b[1;33m\u001b[0m\u001b[1;33m\u001b[0m\u001b[0m\n\u001b[1;32m-> 1229\u001b[1;33m         \u001b[0mself\u001b[0m\u001b[1;33m.\u001b[0m\u001b[0m_send_request\u001b[0m\u001b[1;33m(\u001b[0m\u001b[0mmethod\u001b[0m\u001b[1;33m,\u001b[0m \u001b[0murl\u001b[0m\u001b[1;33m,\u001b[0m \u001b[0mbody\u001b[0m\u001b[1;33m,\u001b[0m \u001b[0mheaders\u001b[0m\u001b[1;33m,\u001b[0m \u001b[0mencode_chunked\u001b[0m\u001b[1;33m)\u001b[0m\u001b[1;33m\u001b[0m\u001b[1;33m\u001b[0m\u001b[0m\n\u001b[0m\u001b[0;32m   1230\u001b[0m \u001b[1;33m\u001b[0m\u001b[0m\n",
      "\u001b[1;32mC:\\Anaconda3\\envs\\DT_Academy\\lib\\http\\client.py\u001b[0m in \u001b[0;36m_send_request\u001b[1;34m(self, method, url, body, headers, encode_chunked)\u001b[0m\n\u001b[0;32m   1274\u001b[0m             \u001b[0mbody\u001b[0m \u001b[1;33m=\u001b[0m \u001b[0m_encode\u001b[0m\u001b[1;33m(\u001b[0m\u001b[0mbody\u001b[0m\u001b[1;33m,\u001b[0m \u001b[1;34m'body'\u001b[0m\u001b[1;33m)\u001b[0m\u001b[1;33m\u001b[0m\u001b[1;33m\u001b[0m\u001b[0m\n\u001b[1;32m-> 1275\u001b[1;33m         \u001b[0mself\u001b[0m\u001b[1;33m.\u001b[0m\u001b[0mendheaders\u001b[0m\u001b[1;33m(\u001b[0m\u001b[0mbody\u001b[0m\u001b[1;33m,\u001b[0m \u001b[0mencode_chunked\u001b[0m\u001b[1;33m=\u001b[0m\u001b[0mencode_chunked\u001b[0m\u001b[1;33m)\u001b[0m\u001b[1;33m\u001b[0m\u001b[1;33m\u001b[0m\u001b[0m\n\u001b[0m\u001b[0;32m   1276\u001b[0m \u001b[1;33m\u001b[0m\u001b[0m\n",
      "\u001b[1;32mC:\\Anaconda3\\envs\\DT_Academy\\lib\\http\\client.py\u001b[0m in \u001b[0;36mendheaders\u001b[1;34m(self, message_body, encode_chunked)\u001b[0m\n\u001b[0;32m   1223\u001b[0m             \u001b[1;32mraise\u001b[0m \u001b[0mCannotSendHeader\u001b[0m\u001b[1;33m(\u001b[0m\u001b[1;33m)\u001b[0m\u001b[1;33m\u001b[0m\u001b[1;33m\u001b[0m\u001b[0m\n\u001b[1;32m-> 1224\u001b[1;33m         \u001b[0mself\u001b[0m\u001b[1;33m.\u001b[0m\u001b[0m_send_output\u001b[0m\u001b[1;33m(\u001b[0m\u001b[0mmessage_body\u001b[0m\u001b[1;33m,\u001b[0m \u001b[0mencode_chunked\u001b[0m\u001b[1;33m=\u001b[0m\u001b[0mencode_chunked\u001b[0m\u001b[1;33m)\u001b[0m\u001b[1;33m\u001b[0m\u001b[1;33m\u001b[0m\u001b[0m\n\u001b[0m\u001b[0;32m   1225\u001b[0m \u001b[1;33m\u001b[0m\u001b[0m\n",
      "\u001b[1;32mC:\\Anaconda3\\envs\\DT_Academy\\lib\\http\\client.py\u001b[0m in \u001b[0;36m_send_output\u001b[1;34m(self, message_body, encode_chunked)\u001b[0m\n\u001b[0;32m   1015\u001b[0m         \u001b[1;32mdel\u001b[0m \u001b[0mself\u001b[0m\u001b[1;33m.\u001b[0m\u001b[0m_buffer\u001b[0m\u001b[1;33m[\u001b[0m\u001b[1;33m:\u001b[0m\u001b[1;33m]\u001b[0m\u001b[1;33m\u001b[0m\u001b[1;33m\u001b[0m\u001b[0m\n\u001b[1;32m-> 1016\u001b[1;33m         \u001b[0mself\u001b[0m\u001b[1;33m.\u001b[0m\u001b[0msend\u001b[0m\u001b[1;33m(\u001b[0m\u001b[0mmsg\u001b[0m\u001b[1;33m)\u001b[0m\u001b[1;33m\u001b[0m\u001b[1;33m\u001b[0m\u001b[0m\n\u001b[0m\u001b[0;32m   1017\u001b[0m \u001b[1;33m\u001b[0m\u001b[0m\n",
      "\u001b[1;32mC:\\Anaconda3\\envs\\DT_Academy\\lib\\http\\client.py\u001b[0m in \u001b[0;36msend\u001b[1;34m(self, data)\u001b[0m\n\u001b[0;32m    955\u001b[0m             \u001b[1;32mif\u001b[0m \u001b[0mself\u001b[0m\u001b[1;33m.\u001b[0m\u001b[0mauto_open\u001b[0m\u001b[1;33m:\u001b[0m\u001b[1;33m\u001b[0m\u001b[1;33m\u001b[0m\u001b[0m\n\u001b[1;32m--> 956\u001b[1;33m                 \u001b[0mself\u001b[0m\u001b[1;33m.\u001b[0m\u001b[0mconnect\u001b[0m\u001b[1;33m(\u001b[0m\u001b[1;33m)\u001b[0m\u001b[1;33m\u001b[0m\u001b[1;33m\u001b[0m\u001b[0m\n\u001b[0m\u001b[0;32m    957\u001b[0m             \u001b[1;32melse\u001b[0m\u001b[1;33m:\u001b[0m\u001b[1;33m\u001b[0m\u001b[1;33m\u001b[0m\u001b[0m\n",
      "\u001b[1;32mC:\\Anaconda3\\envs\\DT_Academy\\lib\\http\\client.py\u001b[0m in \u001b[0;36mconnect\u001b[1;34m(self)\u001b[0m\n\u001b[0;32m   1383\u001b[0m \u001b[1;33m\u001b[0m\u001b[0m\n\u001b[1;32m-> 1384\u001b[1;33m             \u001b[0msuper\u001b[0m\u001b[1;33m(\u001b[0m\u001b[1;33m)\u001b[0m\u001b[1;33m.\u001b[0m\u001b[0mconnect\u001b[0m\u001b[1;33m(\u001b[0m\u001b[1;33m)\u001b[0m\u001b[1;33m\u001b[0m\u001b[1;33m\u001b[0m\u001b[0m\n\u001b[0m\u001b[0;32m   1385\u001b[0m \u001b[1;33m\u001b[0m\u001b[0m\n",
      "\u001b[1;32mC:\\Anaconda3\\envs\\DT_Academy\\lib\\http\\client.py\u001b[0m in \u001b[0;36mconnect\u001b[1;34m(self)\u001b[0m\n\u001b[0;32m    927\u001b[0m         self.sock = self._create_connection(\n\u001b[1;32m--> 928\u001b[1;33m             (self.host,self.port), self.timeout, self.source_address)\n\u001b[0m\u001b[0;32m    929\u001b[0m         \u001b[0mself\u001b[0m\u001b[1;33m.\u001b[0m\u001b[0msock\u001b[0m\u001b[1;33m.\u001b[0m\u001b[0msetsockopt\u001b[0m\u001b[1;33m(\u001b[0m\u001b[0msocket\u001b[0m\u001b[1;33m.\u001b[0m\u001b[0mIPPROTO_TCP\u001b[0m\u001b[1;33m,\u001b[0m \u001b[0msocket\u001b[0m\u001b[1;33m.\u001b[0m\u001b[0mTCP_NODELAY\u001b[0m\u001b[1;33m,\u001b[0m \u001b[1;36m1\u001b[0m\u001b[1;33m)\u001b[0m\u001b[1;33m\u001b[0m\u001b[1;33m\u001b[0m\u001b[0m\n",
      "\u001b[1;32mC:\\Anaconda3\\envs\\DT_Academy\\lib\\socket.py\u001b[0m in \u001b[0;36mcreate_connection\u001b[1;34m(address, timeout, source_address)\u001b[0m\n\u001b[0;32m    706\u001b[0m     \u001b[0merr\u001b[0m \u001b[1;33m=\u001b[0m \u001b[1;32mNone\u001b[0m\u001b[1;33m\u001b[0m\u001b[1;33m\u001b[0m\u001b[0m\n\u001b[1;32m--> 707\u001b[1;33m     \u001b[1;32mfor\u001b[0m \u001b[0mres\u001b[0m \u001b[1;32min\u001b[0m \u001b[0mgetaddrinfo\u001b[0m\u001b[1;33m(\u001b[0m\u001b[0mhost\u001b[0m\u001b[1;33m,\u001b[0m \u001b[0mport\u001b[0m\u001b[1;33m,\u001b[0m \u001b[1;36m0\u001b[0m\u001b[1;33m,\u001b[0m \u001b[0mSOCK_STREAM\u001b[0m\u001b[1;33m)\u001b[0m\u001b[1;33m:\u001b[0m\u001b[1;33m\u001b[0m\u001b[1;33m\u001b[0m\u001b[0m\n\u001b[0m\u001b[0;32m    708\u001b[0m         \u001b[0maf\u001b[0m\u001b[1;33m,\u001b[0m \u001b[0msocktype\u001b[0m\u001b[1;33m,\u001b[0m \u001b[0mproto\u001b[0m\u001b[1;33m,\u001b[0m \u001b[0mcanonname\u001b[0m\u001b[1;33m,\u001b[0m \u001b[0msa\u001b[0m \u001b[1;33m=\u001b[0m \u001b[0mres\u001b[0m\u001b[1;33m\u001b[0m\u001b[1;33m\u001b[0m\u001b[0m\n",
      "\u001b[1;32mC:\\Anaconda3\\envs\\DT_Academy\\lib\\socket.py\u001b[0m in \u001b[0;36mgetaddrinfo\u001b[1;34m(host, port, family, type, proto, flags)\u001b[0m\n\u001b[0;32m    747\u001b[0m     \u001b[0maddrlist\u001b[0m \u001b[1;33m=\u001b[0m \u001b[1;33m[\u001b[0m\u001b[1;33m]\u001b[0m\u001b[1;33m\u001b[0m\u001b[1;33m\u001b[0m\u001b[0m\n\u001b[1;32m--> 748\u001b[1;33m     \u001b[1;32mfor\u001b[0m \u001b[0mres\u001b[0m \u001b[1;32min\u001b[0m \u001b[0m_socket\u001b[0m\u001b[1;33m.\u001b[0m\u001b[0mgetaddrinfo\u001b[0m\u001b[1;33m(\u001b[0m\u001b[0mhost\u001b[0m\u001b[1;33m,\u001b[0m \u001b[0mport\u001b[0m\u001b[1;33m,\u001b[0m \u001b[0mfamily\u001b[0m\u001b[1;33m,\u001b[0m \u001b[0mtype\u001b[0m\u001b[1;33m,\u001b[0m \u001b[0mproto\u001b[0m\u001b[1;33m,\u001b[0m \u001b[0mflags\u001b[0m\u001b[1;33m)\u001b[0m\u001b[1;33m:\u001b[0m\u001b[1;33m\u001b[0m\u001b[1;33m\u001b[0m\u001b[0m\n\u001b[0m\u001b[0;32m    749\u001b[0m         \u001b[0maf\u001b[0m\u001b[1;33m,\u001b[0m \u001b[0msocktype\u001b[0m\u001b[1;33m,\u001b[0m \u001b[0mproto\u001b[0m\u001b[1;33m,\u001b[0m \u001b[0mcanonname\u001b[0m\u001b[1;33m,\u001b[0m \u001b[0msa\u001b[0m \u001b[1;33m=\u001b[0m \u001b[0mres\u001b[0m\u001b[1;33m\u001b[0m\u001b[1;33m\u001b[0m\u001b[0m\n",
      "\u001b[1;31mgaierror\u001b[0m: [Errno 11004] getaddrinfo failed",
      "\nDuring handling of the above exception, another exception occurred:\n",
      "\u001b[1;31mURLError\u001b[0m                                  Traceback (most recent call last)",
      "\u001b[1;32m<ipython-input-19-f6420c1ac573>\u001b[0m in \u001b[0;36m<module>\u001b[1;34m\u001b[0m\n\u001b[0;32m      1\u001b[0m \u001b[1;32mimport\u001b[0m \u001b[0mpandas\u001b[0m \u001b[1;32mas\u001b[0m \u001b[0mpd\u001b[0m\u001b[1;33m\u001b[0m\u001b[1;33m\u001b[0m\u001b[0m\n\u001b[1;32m----> 2\u001b[1;33m \u001b[0mdf\u001b[0m \u001b[1;33m=\u001b[0m \u001b[0mpd\u001b[0m\u001b[1;33m.\u001b[0m\u001b[0mread_csv\u001b[0m\u001b[1;33m(\u001b[0m\u001b[1;34m\"https://goo.gl/iDUKrL\"\u001b[0m\u001b[1;33m)\u001b[0m\u001b[1;33m\u001b[0m\u001b[1;33m\u001b[0m\u001b[0m\n\u001b[0m\u001b[0;32m      3\u001b[0m \u001b[0msong_list\u001b[0m \u001b[1;33m=\u001b[0m \u001b[0mlist\u001b[0m\u001b[1;33m(\u001b[0m\u001b[0mdf\u001b[0m\u001b[1;33m.\u001b[0m\u001b[0mreset_index\u001b[0m\u001b[1;33m(\u001b[0m\u001b[1;33m)\u001b[0m\u001b[1;33m.\u001b[0m\u001b[0mT\u001b[0m\u001b[1;33m.\u001b[0m\u001b[0mto_dict\u001b[0m\u001b[1;33m(\u001b[0m\u001b[1;33m)\u001b[0m\u001b[1;33m.\u001b[0m\u001b[0mvalues\u001b[0m\u001b[1;33m(\u001b[0m\u001b[1;33m)\u001b[0m\u001b[1;33m)\u001b[0m\u001b[1;33m\u001b[0m\u001b[1;33m\u001b[0m\u001b[0m\n\u001b[0;32m      4\u001b[0m \u001b[0msong_list\u001b[0m\u001b[1;33m\u001b[0m\u001b[1;33m\u001b[0m\u001b[0m\n",
      "\u001b[1;32mC:\\Anaconda3\\envs\\DT_Academy\\lib\\site-packages\\pandas\\io\\parsers.py\u001b[0m in \u001b[0;36mparser_f\u001b[1;34m(filepath_or_buffer, sep, delimiter, header, names, index_col, usecols, squeeze, prefix, mangle_dupe_cols, dtype, engine, converters, true_values, false_values, skipinitialspace, skiprows, skipfooter, nrows, na_values, keep_default_na, na_filter, verbose, skip_blank_lines, parse_dates, infer_datetime_format, keep_date_col, date_parser, dayfirst, iterator, chunksize, compression, thousands, decimal, lineterminator, quotechar, quoting, doublequote, escapechar, comment, encoding, dialect, tupleize_cols, error_bad_lines, warn_bad_lines, delim_whitespace, low_memory, memory_map, float_precision)\u001b[0m\n\u001b[0;32m    700\u001b[0m                     skip_blank_lines=skip_blank_lines)\n\u001b[0;32m    701\u001b[0m \u001b[1;33m\u001b[0m\u001b[0m\n\u001b[1;32m--> 702\u001b[1;33m         \u001b[1;32mreturn\u001b[0m \u001b[0m_read\u001b[0m\u001b[1;33m(\u001b[0m\u001b[0mfilepath_or_buffer\u001b[0m\u001b[1;33m,\u001b[0m \u001b[0mkwds\u001b[0m\u001b[1;33m)\u001b[0m\u001b[1;33m\u001b[0m\u001b[1;33m\u001b[0m\u001b[0m\n\u001b[0m\u001b[0;32m    703\u001b[0m \u001b[1;33m\u001b[0m\u001b[0m\n\u001b[0;32m    704\u001b[0m     \u001b[0mparser_f\u001b[0m\u001b[1;33m.\u001b[0m\u001b[0m__name__\u001b[0m \u001b[1;33m=\u001b[0m \u001b[0mname\u001b[0m\u001b[1;33m\u001b[0m\u001b[1;33m\u001b[0m\u001b[0m\n",
      "\u001b[1;32mC:\\Anaconda3\\envs\\DT_Academy\\lib\\site-packages\\pandas\\io\\parsers.py\u001b[0m in \u001b[0;36m_read\u001b[1;34m(filepath_or_buffer, kwds)\u001b[0m\n\u001b[0;32m    411\u001b[0m     \u001b[0mcompression\u001b[0m \u001b[1;33m=\u001b[0m \u001b[0m_infer_compression\u001b[0m\u001b[1;33m(\u001b[0m\u001b[0mfilepath_or_buffer\u001b[0m\u001b[1;33m,\u001b[0m \u001b[0mcompression\u001b[0m\u001b[1;33m)\u001b[0m\u001b[1;33m\u001b[0m\u001b[1;33m\u001b[0m\u001b[0m\n\u001b[0;32m    412\u001b[0m     filepath_or_buffer, _, compression, should_close = get_filepath_or_buffer(\n\u001b[1;32m--> 413\u001b[1;33m         filepath_or_buffer, encoding, compression)\n\u001b[0m\u001b[0;32m    414\u001b[0m     \u001b[0mkwds\u001b[0m\u001b[1;33m[\u001b[0m\u001b[1;34m'compression'\u001b[0m\u001b[1;33m]\u001b[0m \u001b[1;33m=\u001b[0m \u001b[0mcompression\u001b[0m\u001b[1;33m\u001b[0m\u001b[1;33m\u001b[0m\u001b[0m\n\u001b[0;32m    415\u001b[0m \u001b[1;33m\u001b[0m\u001b[0m\n",
      "\u001b[1;32mC:\\Anaconda3\\envs\\DT_Academy\\lib\\site-packages\\pandas\\io\\common.py\u001b[0m in \u001b[0;36mget_filepath_or_buffer\u001b[1;34m(filepath_or_buffer, encoding, compression, mode)\u001b[0m\n\u001b[0;32m    200\u001b[0m \u001b[1;33m\u001b[0m\u001b[0m\n\u001b[0;32m    201\u001b[0m     \u001b[1;32mif\u001b[0m \u001b[0m_is_url\u001b[0m\u001b[1;33m(\u001b[0m\u001b[0mfilepath_or_buffer\u001b[0m\u001b[1;33m)\u001b[0m\u001b[1;33m:\u001b[0m\u001b[1;33m\u001b[0m\u001b[1;33m\u001b[0m\u001b[0m\n\u001b[1;32m--> 202\u001b[1;33m         \u001b[0mreq\u001b[0m \u001b[1;33m=\u001b[0m \u001b[0m_urlopen\u001b[0m\u001b[1;33m(\u001b[0m\u001b[0mfilepath_or_buffer\u001b[0m\u001b[1;33m)\u001b[0m\u001b[1;33m\u001b[0m\u001b[1;33m\u001b[0m\u001b[0m\n\u001b[0m\u001b[0;32m    203\u001b[0m         \u001b[0mcontent_encoding\u001b[0m \u001b[1;33m=\u001b[0m \u001b[0mreq\u001b[0m\u001b[1;33m.\u001b[0m\u001b[0mheaders\u001b[0m\u001b[1;33m.\u001b[0m\u001b[0mget\u001b[0m\u001b[1;33m(\u001b[0m\u001b[1;34m'Content-Encoding'\u001b[0m\u001b[1;33m,\u001b[0m \u001b[1;32mNone\u001b[0m\u001b[1;33m)\u001b[0m\u001b[1;33m\u001b[0m\u001b[1;33m\u001b[0m\u001b[0m\n\u001b[0;32m    204\u001b[0m         \u001b[1;32mif\u001b[0m \u001b[0mcontent_encoding\u001b[0m \u001b[1;33m==\u001b[0m \u001b[1;34m'gzip'\u001b[0m\u001b[1;33m:\u001b[0m\u001b[1;33m\u001b[0m\u001b[1;33m\u001b[0m\u001b[0m\n",
      "\u001b[1;32mC:\\Anaconda3\\envs\\DT_Academy\\lib\\urllib\\request.py\u001b[0m in \u001b[0;36murlopen\u001b[1;34m(url, data, timeout, cafile, capath, cadefault, context)\u001b[0m\n\u001b[0;32m    220\u001b[0m     \u001b[1;32melse\u001b[0m\u001b[1;33m:\u001b[0m\u001b[1;33m\u001b[0m\u001b[1;33m\u001b[0m\u001b[0m\n\u001b[0;32m    221\u001b[0m         \u001b[0mopener\u001b[0m \u001b[1;33m=\u001b[0m \u001b[0m_opener\u001b[0m\u001b[1;33m\u001b[0m\u001b[1;33m\u001b[0m\u001b[0m\n\u001b[1;32m--> 222\u001b[1;33m     \u001b[1;32mreturn\u001b[0m \u001b[0mopener\u001b[0m\u001b[1;33m.\u001b[0m\u001b[0mopen\u001b[0m\u001b[1;33m(\u001b[0m\u001b[0murl\u001b[0m\u001b[1;33m,\u001b[0m \u001b[0mdata\u001b[0m\u001b[1;33m,\u001b[0m \u001b[0mtimeout\u001b[0m\u001b[1;33m)\u001b[0m\u001b[1;33m\u001b[0m\u001b[1;33m\u001b[0m\u001b[0m\n\u001b[0m\u001b[0;32m    223\u001b[0m \u001b[1;33m\u001b[0m\u001b[0m\n\u001b[0;32m    224\u001b[0m \u001b[1;32mdef\u001b[0m \u001b[0minstall_opener\u001b[0m\u001b[1;33m(\u001b[0m\u001b[0mopener\u001b[0m\u001b[1;33m)\u001b[0m\u001b[1;33m:\u001b[0m\u001b[1;33m\u001b[0m\u001b[1;33m\u001b[0m\u001b[0m\n",
      "\u001b[1;32mC:\\Anaconda3\\envs\\DT_Academy\\lib\\urllib\\request.py\u001b[0m in \u001b[0;36mopen\u001b[1;34m(self, fullurl, data, timeout)\u001b[0m\n\u001b[0;32m    523\u001b[0m             \u001b[0mreq\u001b[0m \u001b[1;33m=\u001b[0m \u001b[0mmeth\u001b[0m\u001b[1;33m(\u001b[0m\u001b[0mreq\u001b[0m\u001b[1;33m)\u001b[0m\u001b[1;33m\u001b[0m\u001b[1;33m\u001b[0m\u001b[0m\n\u001b[0;32m    524\u001b[0m \u001b[1;33m\u001b[0m\u001b[0m\n\u001b[1;32m--> 525\u001b[1;33m         \u001b[0mresponse\u001b[0m \u001b[1;33m=\u001b[0m \u001b[0mself\u001b[0m\u001b[1;33m.\u001b[0m\u001b[0m_open\u001b[0m\u001b[1;33m(\u001b[0m\u001b[0mreq\u001b[0m\u001b[1;33m,\u001b[0m \u001b[0mdata\u001b[0m\u001b[1;33m)\u001b[0m\u001b[1;33m\u001b[0m\u001b[1;33m\u001b[0m\u001b[0m\n\u001b[0m\u001b[0;32m    526\u001b[0m \u001b[1;33m\u001b[0m\u001b[0m\n\u001b[0;32m    527\u001b[0m         \u001b[1;31m# post-process response\u001b[0m\u001b[1;33m\u001b[0m\u001b[1;33m\u001b[0m\u001b[1;33m\u001b[0m\u001b[0m\n",
      "\u001b[1;32mC:\\Anaconda3\\envs\\DT_Academy\\lib\\urllib\\request.py\u001b[0m in \u001b[0;36m_open\u001b[1;34m(self, req, data)\u001b[0m\n\u001b[0;32m    541\u001b[0m         \u001b[0mprotocol\u001b[0m \u001b[1;33m=\u001b[0m \u001b[0mreq\u001b[0m\u001b[1;33m.\u001b[0m\u001b[0mtype\u001b[0m\u001b[1;33m\u001b[0m\u001b[1;33m\u001b[0m\u001b[0m\n\u001b[0;32m    542\u001b[0m         result = self._call_chain(self.handle_open, protocol, protocol +\n\u001b[1;32m--> 543\u001b[1;33m                                   '_open', req)\n\u001b[0m\u001b[0;32m    544\u001b[0m         \u001b[1;32mif\u001b[0m \u001b[0mresult\u001b[0m\u001b[1;33m:\u001b[0m\u001b[1;33m\u001b[0m\u001b[1;33m\u001b[0m\u001b[0m\n\u001b[0;32m    545\u001b[0m             \u001b[1;32mreturn\u001b[0m \u001b[0mresult\u001b[0m\u001b[1;33m\u001b[0m\u001b[1;33m\u001b[0m\u001b[0m\n",
      "\u001b[1;32mC:\\Anaconda3\\envs\\DT_Academy\\lib\\urllib\\request.py\u001b[0m in \u001b[0;36m_call_chain\u001b[1;34m(self, chain, kind, meth_name, *args)\u001b[0m\n\u001b[0;32m    501\u001b[0m         \u001b[1;32mfor\u001b[0m \u001b[0mhandler\u001b[0m \u001b[1;32min\u001b[0m \u001b[0mhandlers\u001b[0m\u001b[1;33m:\u001b[0m\u001b[1;33m\u001b[0m\u001b[1;33m\u001b[0m\u001b[0m\n\u001b[0;32m    502\u001b[0m             \u001b[0mfunc\u001b[0m \u001b[1;33m=\u001b[0m \u001b[0mgetattr\u001b[0m\u001b[1;33m(\u001b[0m\u001b[0mhandler\u001b[0m\u001b[1;33m,\u001b[0m \u001b[0mmeth_name\u001b[0m\u001b[1;33m)\u001b[0m\u001b[1;33m\u001b[0m\u001b[1;33m\u001b[0m\u001b[0m\n\u001b[1;32m--> 503\u001b[1;33m             \u001b[0mresult\u001b[0m \u001b[1;33m=\u001b[0m \u001b[0mfunc\u001b[0m\u001b[1;33m(\u001b[0m\u001b[1;33m*\u001b[0m\u001b[0margs\u001b[0m\u001b[1;33m)\u001b[0m\u001b[1;33m\u001b[0m\u001b[1;33m\u001b[0m\u001b[0m\n\u001b[0m\u001b[0;32m    504\u001b[0m             \u001b[1;32mif\u001b[0m \u001b[0mresult\u001b[0m \u001b[1;32mis\u001b[0m \u001b[1;32mnot\u001b[0m \u001b[1;32mNone\u001b[0m\u001b[1;33m:\u001b[0m\u001b[1;33m\u001b[0m\u001b[1;33m\u001b[0m\u001b[0m\n\u001b[0;32m    505\u001b[0m                 \u001b[1;32mreturn\u001b[0m \u001b[0mresult\u001b[0m\u001b[1;33m\u001b[0m\u001b[1;33m\u001b[0m\u001b[0m\n",
      "\u001b[1;32mC:\\Anaconda3\\envs\\DT_Academy\\lib\\urllib\\request.py\u001b[0m in \u001b[0;36mhttps_open\u001b[1;34m(self, req)\u001b[0m\n\u001b[0;32m   1358\u001b[0m         \u001b[1;32mdef\u001b[0m \u001b[0mhttps_open\u001b[0m\u001b[1;33m(\u001b[0m\u001b[0mself\u001b[0m\u001b[1;33m,\u001b[0m \u001b[0mreq\u001b[0m\u001b[1;33m)\u001b[0m\u001b[1;33m:\u001b[0m\u001b[1;33m\u001b[0m\u001b[1;33m\u001b[0m\u001b[0m\n\u001b[0;32m   1359\u001b[0m             return self.do_open(http.client.HTTPSConnection, req,\n\u001b[1;32m-> 1360\u001b[1;33m                 context=self._context, check_hostname=self._check_hostname)\n\u001b[0m\u001b[0;32m   1361\u001b[0m \u001b[1;33m\u001b[0m\u001b[0m\n\u001b[0;32m   1362\u001b[0m         \u001b[0mhttps_request\u001b[0m \u001b[1;33m=\u001b[0m \u001b[0mAbstractHTTPHandler\u001b[0m\u001b[1;33m.\u001b[0m\u001b[0mdo_request_\u001b[0m\u001b[1;33m\u001b[0m\u001b[1;33m\u001b[0m\u001b[0m\n",
      "\u001b[1;32mC:\\Anaconda3\\envs\\DT_Academy\\lib\\urllib\\request.py\u001b[0m in \u001b[0;36mdo_open\u001b[1;34m(self, http_class, req, **http_conn_args)\u001b[0m\n\u001b[0;32m   1317\u001b[0m                           encode_chunked=req.has_header('Transfer-encoding'))\n\u001b[0;32m   1318\u001b[0m             \u001b[1;32mexcept\u001b[0m \u001b[0mOSError\u001b[0m \u001b[1;32mas\u001b[0m \u001b[0merr\u001b[0m\u001b[1;33m:\u001b[0m \u001b[1;31m# timeout error\u001b[0m\u001b[1;33m\u001b[0m\u001b[1;33m\u001b[0m\u001b[0m\n\u001b[1;32m-> 1319\u001b[1;33m                 \u001b[1;32mraise\u001b[0m \u001b[0mURLError\u001b[0m\u001b[1;33m(\u001b[0m\u001b[0merr\u001b[0m\u001b[1;33m)\u001b[0m\u001b[1;33m\u001b[0m\u001b[1;33m\u001b[0m\u001b[0m\n\u001b[0m\u001b[0;32m   1320\u001b[0m             \u001b[0mr\u001b[0m \u001b[1;33m=\u001b[0m \u001b[0mh\u001b[0m\u001b[1;33m.\u001b[0m\u001b[0mgetresponse\u001b[0m\u001b[1;33m(\u001b[0m\u001b[1;33m)\u001b[0m\u001b[1;33m\u001b[0m\u001b[1;33m\u001b[0m\u001b[0m\n\u001b[0;32m   1321\u001b[0m         \u001b[1;32mexcept\u001b[0m\u001b[1;33m:\u001b[0m\u001b[1;33m\u001b[0m\u001b[1;33m\u001b[0m\u001b[0m\n",
      "\u001b[1;31mURLError\u001b[0m: <urlopen error [Errno 11004] getaddrinfo failed>"
     ]
    }
   ],
   "source": [
    "import pandas as pd\n",
    "df = pd.read_csv(\"https://goo.gl/iDUKrL\")\n",
    "song_list = list(df.reset_index().T.to_dict().values())\n",
    "song_list"
   ]
  },
  {
   "cell_type": "code",
   "execution_count": 132,
   "metadata": {},
   "outputs": [
    {
     "data": {
      "text/plain": [
       "{'index': 99,\n",
       " '곡일련번호': 30806540,\n",
       " '순위': 100,\n",
       " '앨범': 'Universe - 겨울 스페셜 앨범, 2017',\n",
       " '곡명': 'Stay',\n",
       " '가수': 'EXO',\n",
       " '커버이미지_주소': 'https://cdnimg.melon.co.kr/cm/album/images/101/22/917/10122917_500.jpg/melon/resize/120/quality/80/optimize',\n",
       " '좋아요': 81556}"
      ]
     },
     "execution_count": 132,
     "metadata": {},
     "output_type": "execute_result"
    }
   ],
   "source": [
    "song"
   ]
  },
  {
   "cell_type": "code",
   "execution_count": 141,
   "metadata": {},
   "outputs": [
    {
     "name": "stdout",
     "output_type": "stream",
     "text": [
      "IDOL 방탄소년단 173279\n",
      "I`m Fine 방탄소년단 132847\n",
      "FAKE LOVE 방탄소년단 253847\n",
      "Euphoria 방탄소년단 129017\n",
      "Answer : Love Myself 방탄소년단 108151\n",
      "전하지 못한 진심 (Feat. Steve Aoki) 방탄소년단 176653\n",
      "Epiphany 방탄소년단 101011\n",
      "Trivia 轉 : Seesaw 방탄소년단 98436\n",
      "Trivia 起 : Just Dance 방탄소년단 88970\n",
      "Trivia 承 : Love 방탄소년단 83610\n",
      "Anpanman 방탄소년단 138694\n",
      "봄날 방탄소년단 359130\n",
      "DNA 방탄소년단 323911\n",
      "Airplane pt.2 방탄소년단 127355\n"
     ]
    }
   ],
   "source": [
    "for song in song_list:\n",
    "    # if '가을' in song['곡명']:  # 문자열.contains(\"가을\")\n",
    "    if song['가수'] == '방탄소년단':\n",
    "    # if song['좋아요'] > 200_000:\n",
    "#         line = '{곡명} {가수} {좋아요}'.format(\n",
    "#             곡명=song['곡명'],\n",
    "#             가수=song['가수'],\n",
    "#             좋아요=song['좋아요'])\n",
    "        line = '{곡명} {가수} {좋아요}'.format(**song)  # unpacking\n",
    "        print(line)"
   ]
  },
  {
   "cell_type": "markdown",
   "metadata": {},
   "source": [
    "가수는 총 몇 팀일까요?"
   ]
  },
  {
   "cell_type": "code",
   "execution_count": 140,
   "metadata": {},
   "outputs": [
    {
     "data": {
      "text/plain": [
       "57"
      ]
     },
     "execution_count": 140,
     "metadata": {},
     "output_type": "execute_result"
    }
   ],
   "source": [
    "len({song['가수'] for song in song_list})"
   ]
  },
  {
   "cell_type": "markdown",
   "metadata": {},
   "source": [
    "가수별 곡수는?"
   ]
  },
  {
   "cell_type": "code",
   "execution_count": 144,
   "metadata": {
    "collapsed": true
   },
   "outputs": [
    {
     "name": "stdout",
     "output_type": "stream",
     "text": [
      "True\n",
      "False\n",
      "True\n"
     ]
    }
   ],
   "source": [
    "# Hint\n",
    "\n",
    "print(80 in {100, 80})\n",
    "print(80 in {'국어': 100, '영어': 80})\n",
    "print('국어' in {'국어': 100, '영어': 80})"
   ]
  },
  {
   "cell_type": "code",
   "execution_count": 147,
   "metadata": {
    "scrolled": true
   },
   "outputs": [
    {
     "data": {
      "text/plain": [
       "{'아이유': 2,\n",
       " '로꼬': 2,\n",
       " 'pH-1': 1,\n",
       " '임창정': 1,\n",
       " '방탄소년단': 14,\n",
       " 'iKON': 3,\n",
       " 'Coogie': 1,\n",
       " '로이킴': 2,\n",
       " '바이브': 2,\n",
       " '펀치 (Punch)': 1,\n",
       " '폴킴': 2,\n",
       " '백현 (BAEKHYUN)': 1,\n",
       " '선미': 1,\n",
       " '벤': 1,\n",
       " '숀 (SHAUN)': 1,\n",
       " 'EXO': 3,\n",
       " '찬열': 1,\n",
       " '기리보이': 1,\n",
       " 'EXO-CBX (첸백시)': 1,\n",
       " '저스디스 (JUSTHIS)': 1,\n",
       " '레이 (LAY)': 1,\n",
       " 'BLACKPINK': 2,\n",
       " '닐로 (Nilo)': 2,\n",
       " 'TWICE (트와이스)': 2,\n",
       " '박원': 1,\n",
       " 'Wanna One (워너원)': 5,\n",
       " 'Red Velvet (레드벨벳)': 1,\n",
       " '임한별': 1,\n",
       " '볼빨간사춘기': 1,\n",
       " 'Wanna One (워너원) - 트리플포지션': 1,\n",
       " '마마무(Mamamoo)': 2,\n",
       " '양다일': 1,\n",
       " '먼데이 키즈 (Monday Kiz)': 1,\n",
       " '비투비': 2,\n",
       " '멜로망스': 4,\n",
       " '승리': 1,\n",
       " 'Apink (에이핑크)': 1,\n",
       " '지코 (ZICO)': 1,\n",
       " '세븐틴': 2,\n",
       " '장덕철': 1,\n",
       " 'Wanna One (워너원) - 더힐': 1,\n",
       " '10cm': 2,\n",
       " 'nafla': 1,\n",
       " '(여자)아이들': 1,\n",
       " '뉴이스트 W': 8,\n",
       " '김효은': 1,\n",
       " '모트 (Motte)': 1,\n",
       " '이수 (엠씨 더 맥스)': 1,\n",
       " 'Wanna One (워너원) - 린온미': 1,\n",
       " '용준형': 1,\n",
       " 'Wanna One (워너원) - 남바완': 1,\n",
       " 'NU`EST': 1,\n",
       " '정승환': 1,\n",
       " 'Fitz & The Tantrums': 1,\n",
       " '여자친구 (GFRIEND)': 1,\n",
       " '청하': 1,\n",
       " '소녀시대-Oh!GG': 1}"
      ]
     },
     "execution_count": 147,
     "metadata": {},
     "output_type": "execute_result"
    }
   ],
   "source": [
    "# Level 1\n",
    "\n",
    "가수별_곡수 = {}\n",
    "\n",
    "for song in song_list:\n",
    "    가수 = song['가수']\n",
    "    if 가수 not in 가수별_곡수:\n",
    "        가수별_곡수[가수] = 0\n",
    "    가수별_곡수[가수] += 1\n",
    "    \n",
    "가수별_곡수"
   ]
  },
  {
   "cell_type": "code",
   "execution_count": 21,
   "metadata": {
    "scrolled": true
   },
   "outputs": [
    {
     "ename": "NameError",
     "evalue": "name 'song_list' is not defined",
     "output_type": "error",
     "traceback": [
      "\u001b[1;31m---------------------------------------------------------------------------\u001b[0m",
      "\u001b[1;31mNameError\u001b[0m                                 Traceback (most recent call last)",
      "\u001b[1;32m<ipython-input-21-3ecacafddec1>\u001b[0m in \u001b[0;36m<module>\u001b[1;34m\u001b[0m\n\u001b[0;32m      5\u001b[0m \u001b[1;31m# 가수별_노래 = defaultdict(list)\u001b[0m\u001b[1;33m\u001b[0m\u001b[1;33m\u001b[0m\u001b[1;33m\u001b[0m\u001b[0m\n\u001b[0;32m      6\u001b[0m \u001b[1;33m\u001b[0m\u001b[0m\n\u001b[1;32m----> 7\u001b[1;33m \u001b[1;32mfor\u001b[0m \u001b[0msong\u001b[0m \u001b[1;32min\u001b[0m \u001b[0msong_list\u001b[0m\u001b[1;33m:\u001b[0m\u001b[1;33m\u001b[0m\u001b[1;33m\u001b[0m\u001b[0m\n\u001b[0m\u001b[0;32m      8\u001b[0m     \u001b[0m가수\u001b[0m \u001b[1;33m=\u001b[0m \u001b[0msong\u001b[0m\u001b[1;33m[\u001b[0m\u001b[1;34m'가수'\u001b[0m\u001b[1;33m]\u001b[0m\u001b[1;33m\u001b[0m\u001b[1;33m\u001b[0m\u001b[0m\n\u001b[0;32m      9\u001b[0m     \u001b[0m가수별_곡수\u001b[0m\u001b[1;33m[\u001b[0m\u001b[0m가수\u001b[0m\u001b[1;33m]\u001b[0m \u001b[1;33m+=\u001b[0m \u001b[1;36m1\u001b[0m\u001b[1;33m\u001b[0m\u001b[1;33m\u001b[0m\u001b[0m\n",
      "\u001b[1;31mNameError\u001b[0m: name 'song_list' is not defined"
     ]
    }
   ],
   "source": [
    "# Level 2\n",
    "from collections import defaultdict\n",
    "\n",
    "가수별_곡수 = defaultdict(int)\n",
    "# 가수별_노래 = defaultdict(list)\n",
    "\n",
    "for song in song_list:\n",
    "    가수 = song['가수']\n",
    "    가수별_곡수[가수] += 1\n",
    "#     가수별_노래[가수].append(song['곡명'])\n",
    "    \n",
    "가수별_곡수\n",
    "# 가수별_노래"
   ]
  },
  {
   "cell_type": "code",
   "execution_count": 22,
   "metadata": {},
   "outputs": [
    {
     "ename": "NameError",
     "evalue": "name 'collections' is not defined",
     "output_type": "error",
     "traceback": [
      "\u001b[1;31m---------------------------------------------------------------------------\u001b[0m",
      "\u001b[1;31mNameError\u001b[0m                                 Traceback (most recent call last)",
      "\u001b[1;32m<ipython-input-22-19a274a15565>\u001b[0m in \u001b[0;36m<module>\u001b[1;34m\u001b[0m\n\u001b[1;32m----> 1\u001b[1;33m \u001b[0mdir\u001b[0m\u001b[1;33m(\u001b[0m\u001b[0mcollections\u001b[0m\u001b[1;33m)\u001b[0m\u001b[1;33m\u001b[0m\u001b[1;33m\u001b[0m\u001b[0m\n\u001b[0m",
      "\u001b[1;31mNameError\u001b[0m: name 'collections' is not defined"
     ]
    }
   ],
   "source": [
    "dir(collections)"
   ]
  },
  {
   "cell_type": "code",
   "execution_count": 164,
   "metadata": {
    "scrolled": true
   },
   "outputs": [
    {
     "data": {
      "text/plain": [
       "Counter({'아이유': 2,\n",
       "         '로꼬': 2,\n",
       "         'pH-1': 1,\n",
       "         '임창정': 1,\n",
       "         '방탄소년단': 14,\n",
       "         'iKON': 3,\n",
       "         'Coogie': 1,\n",
       "         '로이킴': 2,\n",
       "         '바이브': 2,\n",
       "         '펀치 (Punch)': 1,\n",
       "         '폴킴': 2,\n",
       "         '백현 (BAEKHYUN)': 1,\n",
       "         '선미': 1,\n",
       "         '벤': 1,\n",
       "         '숀 (SHAUN)': 1,\n",
       "         'EXO': 3,\n",
       "         '찬열': 1,\n",
       "         '기리보이': 1,\n",
       "         'EXO-CBX (첸백시)': 1,\n",
       "         '저스디스 (JUSTHIS)': 1,\n",
       "         '레이 (LAY)': 1,\n",
       "         'BLACKPINK': 2,\n",
       "         '닐로 (Nilo)': 2,\n",
       "         'TWICE (트와이스)': 2,\n",
       "         '박원': 1,\n",
       "         'Wanna One (워너원)': 5,\n",
       "         'Red Velvet (레드벨벳)': 1,\n",
       "         '임한별': 1,\n",
       "         '볼빨간사춘기': 1,\n",
       "         'Wanna One (워너원) - 트리플포지션': 1,\n",
       "         '마마무(Mamamoo)': 2,\n",
       "         '양다일': 1,\n",
       "         '먼데이 키즈 (Monday Kiz)': 1,\n",
       "         '비투비': 2,\n",
       "         '멜로망스': 4,\n",
       "         '승리': 1,\n",
       "         'Apink (에이핑크)': 1,\n",
       "         '지코 (ZICO)': 1,\n",
       "         '세븐틴': 2,\n",
       "         '장덕철': 1,\n",
       "         'Wanna One (워너원) - 더힐': 1,\n",
       "         '10cm': 2,\n",
       "         'nafla': 1,\n",
       "         '(여자)아이들': 1,\n",
       "         '뉴이스트 W': 8,\n",
       "         '김효은': 1,\n",
       "         '모트 (Motte)': 1,\n",
       "         '이수 (엠씨 더 맥스)': 1,\n",
       "         'Wanna One (워너원) - 린온미': 1,\n",
       "         '용준형': 1,\n",
       "         'Wanna One (워너원) - 남바완': 1,\n",
       "         'NU`EST': 1,\n",
       "         '정승환': 1,\n",
       "         'Fitz & The Tantrums': 1,\n",
       "         '여자친구 (GFRIEND)': 1,\n",
       "         '청하': 1,\n",
       "         '소녀시대-Oh!GG': 1})"
      ]
     },
     "execution_count": 164,
     "metadata": {},
     "output_type": "execute_result"
    }
   ],
   "source": [
    "# Level 3\n",
    "from collections import Counter\n",
    "\n",
    "Counter([song['가수'] for song in song_list])"
   ]
  },
  {
   "cell_type": "code",
   "execution_count": null,
   "metadata": {},
   "outputs": [],
   "source": []
  },
  {
   "cell_type": "markdown",
   "metadata": {},
   "source": [
    "# 파일 I/O"
   ]
  },
  {
   "cell_type": "code",
   "execution_count": 165,
   "metadata": {},
   "outputs": [
    {
     "name": "stdout",
     "output_type": "stream",
     "text": [
      "10\n"
     ]
    }
   ],
   "source": [
    "name = \"10\"\n",
    "print(name)"
   ]
  },
  {
   "cell_type": "code",
   "execution_count": 169,
   "metadata": {},
   "outputs": [],
   "source": [
    "# utf8, cp949(euckr 확장)\n",
    "f = open(\"test.csv\", \"wt\", encoding='utf8')   # write + text\n",
    "try:\n",
    "    f.write(\"이름,국어,영어,수학\\n\")\n",
    "    f.write(\"철수,100,90,80\\n\")\n",
    "    f.write(\"영희,90,80,100\\n\")\n",
    "finally:\n",
    "    f.close()"
   ]
  },
  {
   "cell_type": "code",
   "execution_count": 173,
   "metadata": {},
   "outputs": [],
   "source": [
    "f = open(\"test_cp949.csv\", \"wt\", encoding='cp949')   # write + text\n",
    "f.write(\"이름,국어,영어,수학\\n\")\n",
    "f.write(\"철수,100,90,80\\n\")\n",
    "f.write(\"영희,90,80,100\\n\")\n",
    "f.close()"
   ]
  },
  {
   "cell_type": "code",
   "execution_count": 174,
   "metadata": {},
   "outputs": [],
   "source": [
    "with open(\"test.csv\", \"wt\", encoding='utf8') as f:\n",
    "    f.write(\"이름,국어,영어,수학\\n\")\n",
    "    f.write(\"철수,100,90,80\\n\")\n",
    "    f.write(\"영희,90,80,100\\n\")"
   ]
  },
  {
   "cell_type": "code",
   "execution_count": 176,
   "metadata": {},
   "outputs": [
    {
     "data": {
      "text/html": [
       "<div>\n",
       "<style scoped>\n",
       "    .dataframe tbody tr th:only-of-type {\n",
       "        vertical-align: middle;\n",
       "    }\n",
       "\n",
       "    .dataframe tbody tr th {\n",
       "        vertical-align: top;\n",
       "    }\n",
       "\n",
       "    .dataframe thead th {\n",
       "        text-align: right;\n",
       "    }\n",
       "</style>\n",
       "<table border=\"1\" class=\"dataframe\">\n",
       "  <thead>\n",
       "    <tr style=\"text-align: right;\">\n",
       "      <th></th>\n",
       "      <th>이름</th>\n",
       "      <th>국어</th>\n",
       "      <th>영어</th>\n",
       "      <th>수학</th>\n",
       "    </tr>\n",
       "  </thead>\n",
       "  <tbody>\n",
       "    <tr>\n",
       "      <th>0</th>\n",
       "      <td>철수</td>\n",
       "      <td>100</td>\n",
       "      <td>90</td>\n",
       "      <td>80</td>\n",
       "    </tr>\n",
       "    <tr>\n",
       "      <th>1</th>\n",
       "      <td>영희</td>\n",
       "      <td>90</td>\n",
       "      <td>80</td>\n",
       "      <td>100</td>\n",
       "    </tr>\n",
       "  </tbody>\n",
       "</table>\n",
       "</div>"
      ],
      "text/plain": [
       "   이름   국어  영어   수학\n",
       "0  철수  100  90   80\n",
       "1  영희   90  80  100"
      ]
     },
     "execution_count": 176,
     "metadata": {},
     "output_type": "execute_result"
    }
   ],
   "source": [
    "pd.read_csv(\"test_cp949.csv\", encoding='cp949')"
   ]
  },
  {
   "cell_type": "code",
   "execution_count": null,
   "metadata": {},
   "outputs": [],
   "source": []
  },
  {
   "cell_type": "code",
   "execution_count": null,
   "metadata": {},
   "outputs": [],
   "source": []
  },
  {
   "cell_type": "code",
   "execution_count": null,
   "metadata": {},
   "outputs": [],
   "source": []
  }
 ],
 "metadata": {
  "kernelspec": {
   "display_name": "Python 3",
   "language": "python",
   "name": "python3"
  },
  "language_info": {
   "codemirror_mode": {
    "name": "ipython",
    "version": 3
   },
   "file_extension": ".py",
   "mimetype": "text/x-python",
   "name": "python",
   "nbconvert_exporter": "python",
   "pygments_lexer": "ipython3",
   "version": "3.7.3"
  }
 },
 "nbformat": 4,
 "nbformat_minor": 2
}
