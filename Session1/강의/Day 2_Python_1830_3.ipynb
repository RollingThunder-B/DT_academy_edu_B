{
 "cells": [
  {
   "cell_type": "code",
   "execution_count": null,
   "metadata": {},
   "outputs": [],
   "source": []
  },
  {
   "cell_type": "code",
   "execution_count": 1,
   "metadata": {},
   "outputs": [
    {
     "data": {
      "text/plain": [
       "100"
      ]
     },
     "execution_count": 1,
     "metadata": {},
     "output_type": "execute_result"
    }
   ],
   "source": [
    "import pandas as pd\n",
    "# import numpy as np\n",
    "df = pd.read_csv(\"https://goo.gl/iDUKrL\")\n",
    "song_list = list(df.reset_index().T.to_dict().values())\n",
    "len(song_list)"
   ]
  },
  {
   "cell_type": "code",
   "execution_count": 2,
   "metadata": {},
   "outputs": [],
   "source": [
    "# pd.read_excel(\"...\", sheet_name='현황')  # 암호화된 파일은 기본에서는 미지원"
   ]
  },
  {
   "cell_type": "code",
   "execution_count": 3,
   "metadata": {},
   "outputs": [
    {
     "name": "stdout",
     "output_type": "stream",
     "text": [
      "(100, 6)\n"
     ]
    },
    {
     "data": {
      "text/html": [
       "<div>\n",
       "<style scoped>\n",
       "    .dataframe tbody tr th:only-of-type {\n",
       "        vertical-align: middle;\n",
       "    }\n",
       "\n",
       "    .dataframe tbody tr th {\n",
       "        vertical-align: top;\n",
       "    }\n",
       "\n",
       "    .dataframe thead th {\n",
       "        text-align: right;\n",
       "    }\n",
       "</style>\n",
       "<table border=\"1\" class=\"dataframe\">\n",
       "  <thead>\n",
       "    <tr style=\"text-align: right;\">\n",
       "      <th></th>\n",
       "      <th>순위</th>\n",
       "      <th>앨범</th>\n",
       "      <th>곡명</th>\n",
       "      <th>가수</th>\n",
       "      <th>커버이미지_주소</th>\n",
       "      <th>좋아요</th>\n",
       "    </tr>\n",
       "    <tr>\n",
       "      <th>곡일련번호</th>\n",
       "      <th></th>\n",
       "      <th></th>\n",
       "      <th></th>\n",
       "      <th></th>\n",
       "      <th></th>\n",
       "      <th></th>\n",
       "    </tr>\n",
       "  </thead>\n",
       "  <tbody>\n",
       "    <tr>\n",
       "      <th>31346009</th>\n",
       "      <td>1</td>\n",
       "      <td>삐삐</td>\n",
       "      <td>삐삐</td>\n",
       "      <td>아이유</td>\n",
       "      <td>https://cdnimg.melon.co.kr/cm/album/images/102...</td>\n",
       "      <td>61528</td>\n",
       "    </tr>\n",
       "    <tr>\n",
       "      <th>31344113</th>\n",
       "      <td>2</td>\n",
       "      <td>시간이 들겠지</td>\n",
       "      <td>시간이 들겠지 (Feat. Colde)</td>\n",
       "      <td>로꼬</td>\n",
       "      <td>https://cdnimg.melon.co.kr/cm/album/images/102...</td>\n",
       "      <td>48331</td>\n",
       "    </tr>\n",
       "    <tr>\n",
       "      <th>31340985</th>\n",
       "      <td>3</td>\n",
       "      <td>쇼미더머니 777 Episode 1</td>\n",
       "      <td>Good Day (Feat. 팔로알토) (Prod. 코드 쿤스트)</td>\n",
       "      <td>pH-1</td>\n",
       "      <td>https://cdnimg.melon.co.kr/cm/album/images/102...</td>\n",
       "      <td>54022</td>\n",
       "    </tr>\n",
       "    <tr>\n",
       "      <th>31316695</th>\n",
       "      <td>4</td>\n",
       "      <td>하루도 그대를 사랑하지 않은 적이 없었다</td>\n",
       "      <td>하루도 그대를 사랑하지 않은 적이 없었다</td>\n",
       "      <td>임창정</td>\n",
       "      <td>https://cdnimg.melon.co.kr/cm/album/images/102...</td>\n",
       "      <td>97984</td>\n",
       "    </tr>\n",
       "    <tr>\n",
       "      <th>31266290</th>\n",
       "      <td>5</td>\n",
       "      <td>LOVE YOURSELF 結 `Answer`</td>\n",
       "      <td>IDOL</td>\n",
       "      <td>방탄소년단</td>\n",
       "      <td>https://cdnimg.melon.co.kr/cm/album/images/101...</td>\n",
       "      <td>173279</td>\n",
       "    </tr>\n",
       "  </tbody>\n",
       "</table>\n",
       "</div>"
      ],
      "text/plain": [
       "          순위                        앨범                                    곡명  \\\n",
       "곡일련번호                                                                          \n",
       "31346009   1                        삐삐                                    삐삐   \n",
       "31344113   2                   시간이 들겠지                 시간이 들겠지 (Feat. Colde)   \n",
       "31340985   3       쇼미더머니 777 Episode 1  Good Day (Feat. 팔로알토) (Prod. 코드 쿤스트)   \n",
       "31316695   4    하루도 그대를 사랑하지 않은 적이 없었다                하루도 그대를 사랑하지 않은 적이 없었다   \n",
       "31266290   5  LOVE YOURSELF 結 `Answer`                                  IDOL   \n",
       "\n",
       "             가수                                           커버이미지_주소     좋아요  \n",
       "곡일련번호                                                                       \n",
       "31346009    아이유  https://cdnimg.melon.co.kr/cm/album/images/102...   61528  \n",
       "31344113     로꼬  https://cdnimg.melon.co.kr/cm/album/images/102...   48331  \n",
       "31340985   pH-1  https://cdnimg.melon.co.kr/cm/album/images/102...   54022  \n",
       "31316695    임창정  https://cdnimg.melon.co.kr/cm/album/images/102...   97984  \n",
       "31266290  방탄소년단  https://cdnimg.melon.co.kr/cm/album/images/101...  173279  "
      ]
     },
     "execution_count": 3,
     "metadata": {},
     "output_type": "execute_result"
    }
   ],
   "source": [
    "df = pd.read_csv(\"https://goo.gl/iDUKrL\", index_col='곡일련번호')  # pd.DataFrame\n",
    "print(df.shape)\n",
    "df.head()"
   ]
  },
  {
   "cell_type": "code",
   "execution_count": 4,
   "metadata": {},
   "outputs": [
    {
     "data": {
      "text/plain": [
       "Index(['순위', '앨범', '곡명', '가수', '커버이미지_주소', '좋아요'], dtype='object')"
      ]
     },
     "execution_count": 4,
     "metadata": {},
     "output_type": "execute_result"
    }
   ],
   "source": [
    "df.columns"
   ]
  },
  {
   "cell_type": "code",
   "execution_count": 5,
   "metadata": {},
   "outputs": [],
   "source": [
    "song_list = list(df.reset_index().T.to_dict().values())"
   ]
  },
  {
   "cell_type": "code",
   "execution_count": null,
   "metadata": {},
   "outputs": [],
   "source": []
  },
  {
   "cell_type": "code",
   "execution_count": 6,
   "metadata": {},
   "outputs": [
    {
     "name": "stdout",
     "output_type": "stream",
     "text": [
      "안녕하세요. 저는 이진석입니다.\n",
      "안녕하세요. 저는 이진석입니다.\n",
      "안녕하세요. 저는 이진석입니다.\n"
     ]
    }
   ],
   "source": [
    "# 형식 지정자\n",
    "\n",
    "print(\"안녕하세요. 저는 %s입니다.\" % \"이진석\")\n",
    "print(\"안녕하세요. 저는 {}입니다.\".format(\"이진석\"))\n",
    "print(\"안녕하세요. 저는 {name}입니다.\".format(name=\"이진석\"))"
   ]
  },
  {
   "cell_type": "code",
   "execution_count": 7,
   "metadata": {},
   "outputs": [],
   "source": [
    "def 월급_계산(기본급, 야근시간):\n",
    "    return 기본급 + 야근시간 * 10000"
   ]
  },
  {
   "cell_type": "code",
   "execution_count": 8,
   "metadata": {},
   "outputs": [
    {
     "name": "stdout",
     "output_type": "stream",
     "text": [
      "1200000\n",
      "10000000020\n",
      "1200000\n",
      "1200000\n"
     ]
    }
   ],
   "source": [
    "print(월급_계산(1000000, 20))\n",
    "print(월급_계산(20, 1000000))\n",
    "\n",
    "print(월급_계산(기본급=1000000, 야근시간=20))\n",
    "print(월급_계산(야근시간=20, 기본급=1000000))"
   ]
  },
  {
   "cell_type": "code",
   "execution_count": null,
   "metadata": {},
   "outputs": [],
   "source": []
  },
  {
   "cell_type": "code",
   "execution_count": 9,
   "metadata": {},
   "outputs": [
    {
     "name": "stdout",
     "output_type": "stream",
     "text": [
      "1200000\n",
      "1200000\n"
     ]
    }
   ],
   "source": [
    "# 위치 인자 (Positional Arguments)에서의 unpacking\n",
    "mylist = [1000000, 20]\n",
    "print(월급_계산(mylist[0], mylist[1]))\n",
    "print(월급_계산(*mylist))"
   ]
  },
  {
   "cell_type": "code",
   "execution_count": 10,
   "metadata": {},
   "outputs": [
    {
     "name": "stdout",
     "output_type": "stream",
     "text": [
      "1200000\n",
      "1200000\n",
      "1200000\n"
     ]
    }
   ],
   "source": [
    "# 키워드 인자 (Keyword Arguments)에서의 unpacking\n",
    "mydict = {'기본급': 1000000, '야근시간': 20}\n",
    "print(월급_계산(mydict['기본급'], mydict['야근시간']))  # 위치인자\n",
    "print(월급_계산(기본급=mydict['기본급'], 야근시간=mydict['야근시간']))\n",
    "print(월급_계산(**mydict))"
   ]
  },
  {
   "cell_type": "code",
   "execution_count": 11,
   "metadata": {},
   "outputs": [
    {
     "name": "stdout",
     "output_type": "stream",
     "text": [
      "1\n",
      "1 2\n",
      "1 2 3\n"
     ]
    }
   ],
   "source": [
    "print(\"1\")\n",
    "print(\"1\", \"2\")\n",
    "print(\"1\", \"2\", \"3\")"
   ]
  },
  {
   "cell_type": "code",
   "execution_count": 12,
   "metadata": {},
   "outputs": [],
   "source": [
    "# 가변인자\n",
    "def myprint(*args, **kwargs):  # packing\n",
    "    print(f\"args : {args}\")\n",
    "    print(f\"kwargs : {kwargs}\")"
   ]
  },
  {
   "cell_type": "code",
   "execution_count": 13,
   "metadata": {},
   "outputs": [
    {
     "name": "stdout",
     "output_type": "stream",
     "text": [
      "args : (1, 2, 3)\n",
      "kwargs : {}\n"
     ]
    }
   ],
   "source": [
    "myprint(1, 2, 3)"
   ]
  },
  {
   "cell_type": "code",
   "execution_count": 14,
   "metadata": {},
   "outputs": [
    {
     "name": "stdout",
     "output_type": "stream",
     "text": [
      "args : ()\n",
      "kwargs : {'a': '1', 'b': 2}\n"
     ]
    }
   ],
   "source": [
    "myprint(a='1', b=2)"
   ]
  },
  {
   "cell_type": "code",
   "execution_count": 15,
   "metadata": {},
   "outputs": [
    {
     "name": "stdout",
     "output_type": "stream",
     "text": [
      "args : (1, 2, 3)\n",
      "kwargs : {'c': 4}\n"
     ]
    }
   ],
   "source": [
    "myprint(1, 2, 3, c=4)"
   ]
  },
  {
   "cell_type": "code",
   "execution_count": null,
   "metadata": {},
   "outputs": [],
   "source": []
  },
  {
   "cell_type": "code",
   "execution_count": 16,
   "metadata": {},
   "outputs": [
    {
     "name": "stdout",
     "output_type": "stream",
     "text": [
      "None\n"
     ]
    }
   ],
   "source": [
    "# 반환값 (return value)\n",
    "#  - 파이썬은 무조건 반환값이 1개입니다.\n",
    "def mycalc(x, y):\n",
    "    x * 10 + y\n",
    "\n",
    "print(mycalc(1, 2))"
   ]
  },
  {
   "cell_type": "code",
   "execution_count": 17,
   "metadata": {},
   "outputs": [
    {
     "data": {
      "text/plain": [
       "(18182, 1818)"
      ]
     },
     "execution_count": 17,
     "metadata": {},
     "output_type": "execute_result"
    }
   ],
   "source": [
    "def 부가세_계산(결제금액):\n",
    "    부가세 = 결제금액 // 11\n",
    "    부가세_뺀_금액 = 결제금액 - 부가세\n",
    "    return 부가세_뺀_금액, 부가세\n",
    "\n",
    "부가세_계산(20000)"
   ]
  },
  {
   "cell_type": "code",
   "execution_count": 18,
   "metadata": {},
   "outputs": [],
   "source": [
    "금액1, 금액2 = 부가세_계산(20000)"
   ]
  },
  {
   "cell_type": "code",
   "execution_count": 19,
   "metadata": {},
   "outputs": [],
   "source": [
    "x, y = 1, 2"
   ]
  },
  {
   "cell_type": "code",
   "execution_count": null,
   "metadata": {},
   "outputs": [],
   "source": []
  },
  {
   "cell_type": "code",
   "execution_count": 20,
   "metadata": {},
   "outputs": [
    {
     "data": {
      "text/plain": [
       "1000000"
      ]
     },
     "execution_count": 20,
     "metadata": {},
     "output_type": "execute_result"
    }
   ],
   "source": [
    "def 월급_계산2(기본급, 야근시간=0):\n",
    "    return 기본급 + 야근시간 * 10000\n",
    "\n",
    "월급_계산2(1000000)"
   ]
  },
  {
   "cell_type": "markdown",
   "metadata": {},
   "source": [
    "# 디폴트 인자에는 절대 muttable값을 넣으시면 안 됩니다.\n",
    "\n",
    "+ immutable : str, int, tuple, None"
   ]
  },
  {
   "cell_type": "code",
   "execution_count": 21,
   "metadata": {},
   "outputs": [],
   "source": [
    "def 좋아하는_메뉴(메뉴, 메뉴_리스트=[]):\n",
    "    메뉴_리스트.append(메뉴)\n",
    "    return 메뉴_리스트"
   ]
  },
  {
   "cell_type": "code",
   "execution_count": 22,
   "metadata": {},
   "outputs": [
    {
     "data": {
      "text/plain": [
       "['김밥']"
      ]
     },
     "execution_count": 22,
     "metadata": {},
     "output_type": "execute_result"
    }
   ],
   "source": [
    "좋아하는_메뉴(\"김밥\")"
   ]
  },
  {
   "cell_type": "code",
   "execution_count": 23,
   "metadata": {},
   "outputs": [
    {
     "data": {
      "text/plain": [
       "['김밥', '커피']"
      ]
     },
     "execution_count": 23,
     "metadata": {},
     "output_type": "execute_result"
    }
   ],
   "source": [
    "좋아하는_메뉴(\"커피\")"
   ]
  },
  {
   "cell_type": "code",
   "execution_count": 24,
   "metadata": {},
   "outputs": [
    {
     "name": "stdout",
     "output_type": "stream",
     "text": [
      "['김밥']\n",
      "['라면']\n"
     ]
    }
   ],
   "source": [
    "def 좋아하는_메뉴2(메뉴, 메뉴_리스트=None):\n",
    "    if 메뉴_리스트 is None:\n",
    "        메뉴_리스트 = []\n",
    "    메뉴_리스트.append(메뉴)\n",
    "    return 메뉴_리스트\n",
    "\n",
    "print(좋아하는_메뉴2(\"김밥\"))\n",
    "print(좋아하는_메뉴2(\"라면\"))"
   ]
  },
  {
   "cell_type": "code",
   "execution_count": null,
   "metadata": {},
   "outputs": [],
   "source": []
  },
  {
   "cell_type": "markdown",
   "metadata": {},
   "source": [
    "# Pandas"
   ]
  },
  {
   "cell_type": "code",
   "execution_count": 25,
   "metadata": {},
   "outputs": [],
   "source": [
    "%matplotlib inline\n",
    "\n",
    "import matplotlib.pyplot as plt\n",
    "from matplotlib import rc\n",
    "\n",
    "rc('font', family='Malgun Gothic')  # 맥: AppleGothic\n",
    "rc('axes', unicode_minus=False)\n",
    "\n",
    "import pandas as pd\n",
    "import numpy as np"
   ]
  },
  {
   "cell_type": "code",
   "execution_count": 26,
   "metadata": {},
   "outputs": [
    {
     "data": {
      "text/plain": [
       "2000"
      ]
     },
     "execution_count": 26,
     "metadata": {},
     "output_type": "execute_result"
    }
   ],
   "source": [
    "# range(0, 10, 1)  # 정수 범위\n",
    "array_x = np.arange(0, 20, 0.01)  # ndarray\n",
    "len(array_x)"
   ]
  },
  {
   "cell_type": "code",
   "execution_count": 27,
   "metadata": {},
   "outputs": [],
   "source": [
    "array_y = np.sin(array_x)"
   ]
  },
  {
   "cell_type": "code",
   "execution_count": 28,
   "metadata": {},
   "outputs": [
    {
     "data": {
      "text/plain": [
       "[<matplotlib.lines.Line2D at 0x14e61071f60>]"
      ]
     },
     "execution_count": 28,
     "metadata": {},
     "output_type": "execute_result"
    },
    {
     "data": {
      "image/png": "[encoded data removed]",
      "text/plain": [
       "<Figure size 432x288 with 1 Axes>"
      ]
     },
     "metadata": {
      "needs_background": "light"
     },
     "output_type": "display_data"
    }
   ],
   "source": [
    "plt.plot(array_x, array_y)"
   ]
  },
  {
   "cell_type": "code",
   "execution_count": null,
   "metadata": {},
   "outputs": [],
   "source": []
  },
  {
   "cell_type": "markdown",
   "metadata": {},
   "source": [
    "## 1차원 데이터"
   ]
  },
  {
   "cell_type": "code",
   "execution_count": 29,
   "metadata": {},
   "outputs": [
    {
     "data": {
      "text/plain": [
       "0     사과\n",
       "1    바나나\n",
       "dtype: object"
      ]
     },
     "execution_count": 29,
     "metadata": {},
     "output_type": "execute_result"
    }
   ],
   "source": [
    "data = [\"사과\", \"바나나\"]\n",
    "series1 = pd.Series(data)\n",
    "series1"
   ]
  },
  {
   "cell_type": "code",
   "execution_count": 30,
   "metadata": {},
   "outputs": [
    {
     "data": {
      "text/plain": [
       "0     사과\n",
       "1    바나나\n",
       "dtype: object"
      ]
     },
     "execution_count": 30,
     "metadata": {},
     "output_type": "execute_result"
    }
   ],
   "source": [
    "series1"
   ]
  },
  {
   "cell_type": "code",
   "execution_count": 31,
   "metadata": {},
   "outputs": [
    {
     "data": {
      "text/plain": [
       "10     수박\n",
       "11    바나나\n",
       "dtype: object"
      ]
     },
     "execution_count": 31,
     "metadata": {},
     "output_type": "execute_result"
    }
   ],
   "source": [
    "data = {10: \"사과\", 11: \"바나나\", 10: \"수박\"}\n",
    "pd.Series(data)"
   ]
  },
  {
   "cell_type": "code",
   "execution_count": 32,
   "metadata": {
    "scrolled": true
   },
   "outputs": [
    {
     "data": {
      "text/plain": [
       "10     사과\n",
       "11    바나나\n",
       "10     수박\n",
       "dtype: object"
      ]
     },
     "execution_count": 32,
     "metadata": {},
     "output_type": "execute_result"
    }
   ],
   "source": [
    "data = [\"사과\", \"바나나\", \"수박\"]\n",
    "series3 = pd.Series(data, index=[10, 11, 10])\n",
    "series3"
   ]
  },
  {
   "cell_type": "code",
   "execution_count": 33,
   "metadata": {},
   "outputs": [
    {
     "data": {
      "text/plain": [
       "10    사과\n",
       "10    수박\n",
       "dtype: object"
      ]
     },
     "execution_count": 33,
     "metadata": {},
     "output_type": "execute_result"
    }
   ],
   "source": [
    "series3[10]"
   ]
  },
  {
   "cell_type": "code",
   "execution_count": 34,
   "metadata": {},
   "outputs": [
    {
     "data": {
      "text/plain": [
       "'바나나'"
      ]
     },
     "execution_count": 34,
     "metadata": {},
     "output_type": "execute_result"
    }
   ],
   "source": [
    "series3[11]"
   ]
  },
  {
   "cell_type": "code",
   "execution_count": 35,
   "metadata": {},
   "outputs": [
    {
     "data": {
      "text/plain": [
       "0     사과\n",
       "1    바나나\n",
       "dtype: object"
      ]
     },
     "execution_count": 35,
     "metadata": {},
     "output_type": "execute_result"
    }
   ],
   "source": [
    "data = tuple({\"사과\", \"바나나\"})\n",
    "pd.Series(data)"
   ]
  },
  {
   "cell_type": "code",
   "execution_count": null,
   "metadata": {},
   "outputs": [],
   "source": []
  },
  {
   "cell_type": "markdown",
   "metadata": {},
   "source": [
    "## 2차원 데이터"
   ]
  },
  {
   "cell_type": "code",
   "execution_count": 36,
   "metadata": {},
   "outputs": [
    {
     "name": "stdout",
     "output_type": "stream",
     "text": [
      "(100, 6)\n"
     ]
    },
    {
     "data": {
      "text/html": [
       "<div>\n",
       "<style scoped>\n",
       "    .dataframe tbody tr th:only-of-type {\n",
       "        vertical-align: middle;\n",
       "    }\n",
       "\n",
       "    .dataframe tbody tr th {\n",
       "        vertical-align: top;\n",
       "    }\n",
       "\n",
       "    .dataframe thead th {\n",
       "        text-align: right;\n",
       "    }\n",
       "</style>\n",
       "<table border=\"1\" class=\"dataframe\">\n",
       "  <thead>\n",
       "    <tr style=\"text-align: right;\">\n",
       "      <th></th>\n",
       "      <th>가수</th>\n",
       "      <th>곡명</th>\n",
       "      <th>순위</th>\n",
       "      <th>앨범</th>\n",
       "      <th>좋아요</th>\n",
       "      <th>커버이미지_주소</th>\n",
       "    </tr>\n",
       "    <tr>\n",
       "      <th>곡일련번호</th>\n",
       "      <th></th>\n",
       "      <th></th>\n",
       "      <th></th>\n",
       "      <th></th>\n",
       "      <th></th>\n",
       "      <th></th>\n",
       "    </tr>\n",
       "  </thead>\n",
       "  <tbody>\n",
       "    <tr>\n",
       "      <th>31346009</th>\n",
       "      <td>아이유</td>\n",
       "      <td>삐삐</td>\n",
       "      <td>1</td>\n",
       "      <td>삐삐</td>\n",
       "      <td>61528</td>\n",
       "      <td>https://cdnimg.melon.co.kr/cm/album/images/102...</td>\n",
       "    </tr>\n",
       "    <tr>\n",
       "      <th>31344113</th>\n",
       "      <td>로꼬</td>\n",
       "      <td>시간이 들겠지 (Feat. Colde)</td>\n",
       "      <td>2</td>\n",
       "      <td>시간이 들겠지</td>\n",
       "      <td>48331</td>\n",
       "      <td>https://cdnimg.melon.co.kr/cm/album/images/102...</td>\n",
       "    </tr>\n",
       "    <tr>\n",
       "      <th>31340985</th>\n",
       "      <td>pH-1</td>\n",
       "      <td>Good Day (Feat. 팔로알토) (Prod. 코드 쿤스트)</td>\n",
       "      <td>3</td>\n",
       "      <td>쇼미더머니 777 Episode 1</td>\n",
       "      <td>54022</td>\n",
       "      <td>https://cdnimg.melon.co.kr/cm/album/images/102...</td>\n",
       "    </tr>\n",
       "    <tr>\n",
       "      <th>31316695</th>\n",
       "      <td>임창정</td>\n",
       "      <td>하루도 그대를 사랑하지 않은 적이 없었다</td>\n",
       "      <td>4</td>\n",
       "      <td>하루도 그대를 사랑하지 않은 적이 없었다</td>\n",
       "      <td>97984</td>\n",
       "      <td>https://cdnimg.melon.co.kr/cm/album/images/102...</td>\n",
       "    </tr>\n",
       "    <tr>\n",
       "      <th>31266290</th>\n",
       "      <td>방탄소년단</td>\n",
       "      <td>IDOL</td>\n",
       "      <td>5</td>\n",
       "      <td>LOVE YOURSELF 結 `Answer`</td>\n",
       "      <td>173279</td>\n",
       "      <td>https://cdnimg.melon.co.kr/cm/album/images/101...</td>\n",
       "    </tr>\n",
       "  </tbody>\n",
       "</table>\n",
       "</div>"
      ],
      "text/plain": [
       "             가수                                    곡명  순위  \\\n",
       "곡일련번호                                                       \n",
       "31346009    아이유                                    삐삐   1   \n",
       "31344113     로꼬                 시간이 들겠지 (Feat. Colde)   2   \n",
       "31340985   pH-1  Good Day (Feat. 팔로알토) (Prod. 코드 쿤스트)   3   \n",
       "31316695    임창정                하루도 그대를 사랑하지 않은 적이 없었다   4   \n",
       "31266290  방탄소년단                                  IDOL   5   \n",
       "\n",
       "                                앨범     좋아요  \\\n",
       "곡일련번호                                        \n",
       "31346009                        삐삐   61528   \n",
       "31344113                   시간이 들겠지   48331   \n",
       "31340985       쇼미더머니 777 Episode 1   54022   \n",
       "31316695    하루도 그대를 사랑하지 않은 적이 없었다   97984   \n",
       "31266290  LOVE YOURSELF 結 `Answer`  173279   \n",
       "\n",
       "                                                   커버이미지_주소  \n",
       "곡일련번호                                                        \n",
       "31346009  https://cdnimg.melon.co.kr/cm/album/images/102...  \n",
       "31344113  https://cdnimg.melon.co.kr/cm/album/images/102...  \n",
       "31340985  https://cdnimg.melon.co.kr/cm/album/images/102...  \n",
       "31316695  https://cdnimg.melon.co.kr/cm/album/images/102...  \n",
       "31266290  https://cdnimg.melon.co.kr/cm/album/images/101...  "
      ]
     },
     "execution_count": 36,
     "metadata": {},
     "output_type": "execute_result"
    }
   ],
   "source": [
    "df = pd.DataFrame(song_list).set_index(\"곡일련번호\")\n",
    "print(df.shape)\n",
    "df.head()"
   ]
  },
  {
   "cell_type": "code",
   "execution_count": 37,
   "metadata": {},
   "outputs": [
    {
     "name": "stdout",
     "output_type": "stream",
     "text": [
      "<class 'pandas.core.frame.DataFrame'>\n",
      "Int64Index: 100 entries, 31346009 to 30806540\n",
      "Data columns (total 6 columns):\n",
      "가수          100 non-null object\n",
      "곡명          100 non-null object\n",
      "순위          100 non-null int64\n",
      "앨범          100 non-null object\n",
      "좋아요         100 non-null int64\n",
      "커버이미지_주소    100 non-null object\n",
      "dtypes: int64(2), object(4)\n",
      "memory usage: 5.5+ KB\n"
     ]
    }
   ],
   "source": [
    "df.info()"
   ]
  },
  {
   "cell_type": "code",
   "execution_count": 38,
   "metadata": {},
   "outputs": [
    {
     "data": {
      "text/html": [
       "<div>\n",
       "<style scoped>\n",
       "    .dataframe tbody tr th:only-of-type {\n",
       "        vertical-align: middle;\n",
       "    }\n",
       "\n",
       "    .dataframe tbody tr th {\n",
       "        vertical-align: top;\n",
       "    }\n",
       "\n",
       "    .dataframe thead th {\n",
       "        text-align: right;\n",
       "    }\n",
       "</style>\n",
       "<table border=\"1\" class=\"dataframe\">\n",
       "  <thead>\n",
       "    <tr style=\"text-align: right;\">\n",
       "      <th></th>\n",
       "      <th>순위</th>\n",
       "      <th>좋아요</th>\n",
       "    </tr>\n",
       "  </thead>\n",
       "  <tbody>\n",
       "    <tr>\n",
       "      <th>count</th>\n",
       "      <td>100.000000</td>\n",
       "      <td>100.000000</td>\n",
       "    </tr>\n",
       "    <tr>\n",
       "      <th>mean</th>\n",
       "      <td>50.500000</td>\n",
       "      <td>109429.060000</td>\n",
       "    </tr>\n",
       "    <tr>\n",
       "      <th>std</th>\n",
       "      <td>29.011492</td>\n",
       "      <td>72060.919511</td>\n",
       "    </tr>\n",
       "    <tr>\n",
       "      <th>min</th>\n",
       "      <td>1.000000</td>\n",
       "      <td>2508.000000</td>\n",
       "    </tr>\n",
       "    <tr>\n",
       "      <th>25%</th>\n",
       "      <td>25.750000</td>\n",
       "      <td>59995.000000</td>\n",
       "    </tr>\n",
       "    <tr>\n",
       "      <th>50%</th>\n",
       "      <td>50.500000</td>\n",
       "      <td>96877.500000</td>\n",
       "    </tr>\n",
       "    <tr>\n",
       "      <th>75%</th>\n",
       "      <td>75.250000</td>\n",
       "      <td>137529.250000</td>\n",
       "    </tr>\n",
       "    <tr>\n",
       "      <th>max</th>\n",
       "      <td>100.000000</td>\n",
       "      <td>359130.000000</td>\n",
       "    </tr>\n",
       "  </tbody>\n",
       "</table>\n",
       "</div>"
      ],
      "text/plain": [
       "               순위            좋아요\n",
       "count  100.000000     100.000000\n",
       "mean    50.500000  109429.060000\n",
       "std     29.011492   72060.919511\n",
       "min      1.000000    2508.000000\n",
       "25%     25.750000   59995.000000\n",
       "50%     50.500000   96877.500000\n",
       "75%     75.250000  137529.250000\n",
       "max    100.000000  359130.000000"
      ]
     },
     "execution_count": 38,
     "metadata": {},
     "output_type": "execute_result"
    }
   ],
   "source": [
    "df.describe()"
   ]
  },
  {
   "cell_type": "code",
   "execution_count": 39,
   "metadata": {},
   "outputs": [
    {
     "data": {
      "text/plain": [
       "Index(['가수', '곡명', '순위', '앨범', '좋아요', '커버이미지_주소'], dtype='object')"
      ]
     },
     "execution_count": 39,
     "metadata": {},
     "output_type": "execute_result"
    }
   ],
   "source": [
    "df.columns"
   ]
  },
  {
   "cell_type": "code",
   "execution_count": 40,
   "metadata": {},
   "outputs": [
    {
     "data": {
      "text/plain": [
       "곡일련번호\n",
       "31346009                                       삐삐\n",
       "31344113                    시간이 들겠지 (Feat. Colde)\n",
       "31340985     Good Day (Feat. 팔로알토) (Prod. 코드 쿤스트)\n",
       "31316695                   하루도 그대를 사랑하지 않은 적이 없었다\n",
       "31266290                                     IDOL\n",
       "31331745                       이별길 (GOODBYE ROAD)\n",
       "31340982                     사임사임 (Feat. CHANGMO)\n",
       "31266289                                 I`m Fine\n",
       "31314142                                  우리 그만하자\n",
       "31085237                                FAKE LOVE\n",
       "31314144                                  가을 타나 봐\n",
       "31266282                                 Euphoria\n",
       "31302310                                   헤어지는 중\n",
       "31266291                     Answer : Love Myself\n",
       "31085238             전하지 못한 진심 (Feat. Steve Aoki)\n",
       "31266288                                 Epiphany\n",
       "31266286                        Trivia 轉 : Seesaw\n",
       "30962526    모든 날, 모든 순간 (Every day, Every Moment)\n",
       "31280273                                    YOUNG\n",
       "31266292                    Trivia 起 : Just Dance\n",
       "31286161                              사이렌 (Siren)\n",
       "31266300                          Trivia 承 : Love\n",
       "31062863                                      열애중\n",
       "31151836                            Way Back Home\n",
       "31085244                                 Anpanman\n",
       "30244931                                       봄날\n",
       "30637982                                      DNA\n",
       "31085243                            Airplane pt.2\n",
       "30806536                                 Universe\n",
       "31309079                                 We Young\n",
       "                            ...                  \n",
       "31246870                                     한(一)\n",
       "31035061                                      주지마\n",
       "31147211                                   Dejavu\n",
       "30849733                                      You\n",
       "31340984                       패 (Feat. 넉살, 딥플로우)\n",
       "31309947                                    도망가지마\n",
       "30721801                                   My Way\n",
       "30514366                                       선물\n",
       "31227367                                     좋은 날\n",
       "31113242                        영원+1 (Prod. NELL)\n",
       "31266377                                    AND I\n",
       "31331749                  I Don’t Care (with 스푼즈)\n",
       "31147212                            북극성 (Polaris)\n",
       "30970444                         소나기 (Feat. 10cm)\n",
       "31113244                        11 (Prod. 다이나믹듀오)\n",
       "4032981                                      여보세요\n",
       "31299371                                    잘 지내요\n",
       "30806539                    지나갈 테니 (Been Through)\n",
       "31324696                                  Perfect\n",
       "8111603                                  HandClap\n",
       "30661885                             WHERE YOU AT\n",
       "31006730                            What is Love?\n",
       "31052421              밤 (Time for the moon night)\n",
       "31194610                                   Love U\n",
       "31147210                                   Signal\n",
       "30937275                                 별이 빛나는 밤\n",
       "31147213                                   ylenoL\n",
       "31288765                         몰랐니 (Lil` Touch)\n",
       "31147214                      중력달 (Gravity&Moon;)\n",
       "30806540                                     Stay\n",
       "Name: 곡명, Length: 100, dtype: object"
      ]
     },
     "execution_count": 40,
     "metadata": {},
     "output_type": "execute_result"
    }
   ],
   "source": [
    "df['곡명']"
   ]
  },
  {
   "cell_type": "code",
   "execution_count": 41,
   "metadata": {},
   "outputs": [
    {
     "data": {
      "text/html": [
       "<div>\n",
       "<style scoped>\n",
       "    .dataframe tbody tr th:only-of-type {\n",
       "        vertical-align: middle;\n",
       "    }\n",
       "\n",
       "    .dataframe tbody tr th {\n",
       "        vertical-align: top;\n",
       "    }\n",
       "\n",
       "    .dataframe thead th {\n",
       "        text-align: right;\n",
       "    }\n",
       "</style>\n",
       "<table border=\"1\" class=\"dataframe\">\n",
       "  <thead>\n",
       "    <tr style=\"text-align: right;\">\n",
       "      <th></th>\n",
       "      <th>좋아요</th>\n",
       "      <th>가수</th>\n",
       "      <th>곡명</th>\n",
       "    </tr>\n",
       "    <tr>\n",
       "      <th>곡일련번호</th>\n",
       "      <th></th>\n",
       "      <th></th>\n",
       "      <th></th>\n",
       "    </tr>\n",
       "  </thead>\n",
       "  <tbody>\n",
       "    <tr>\n",
       "      <th>31346009</th>\n",
       "      <td>61528</td>\n",
       "      <td>아이유</td>\n",
       "      <td>삐삐</td>\n",
       "    </tr>\n",
       "    <tr>\n",
       "      <th>31344113</th>\n",
       "      <td>48331</td>\n",
       "      <td>로꼬</td>\n",
       "      <td>시간이 들겠지 (Feat. Colde)</td>\n",
       "    </tr>\n",
       "    <tr>\n",
       "      <th>31340985</th>\n",
       "      <td>54022</td>\n",
       "      <td>pH-1</td>\n",
       "      <td>Good Day (Feat. 팔로알토) (Prod. 코드 쿤스트)</td>\n",
       "    </tr>\n",
       "    <tr>\n",
       "      <th>31316695</th>\n",
       "      <td>97984</td>\n",
       "      <td>임창정</td>\n",
       "      <td>하루도 그대를 사랑하지 않은 적이 없었다</td>\n",
       "    </tr>\n",
       "    <tr>\n",
       "      <th>31266290</th>\n",
       "      <td>173279</td>\n",
       "      <td>방탄소년단</td>\n",
       "      <td>IDOL</td>\n",
       "    </tr>\n",
       "    <tr>\n",
       "      <th>31331745</th>\n",
       "      <td>55396</td>\n",
       "      <td>iKON</td>\n",
       "      <td>이별길 (GOODBYE ROAD)</td>\n",
       "    </tr>\n",
       "    <tr>\n",
       "      <th>31340982</th>\n",
       "      <td>27564</td>\n",
       "      <td>Coogie</td>\n",
       "      <td>사임사임 (Feat. CHANGMO)</td>\n",
       "    </tr>\n",
       "    <tr>\n",
       "      <th>31266289</th>\n",
       "      <td>132847</td>\n",
       "      <td>방탄소년단</td>\n",
       "      <td>I`m Fine</td>\n",
       "    </tr>\n",
       "    <tr>\n",
       "      <th>31314142</th>\n",
       "      <td>95771</td>\n",
       "      <td>로이킴</td>\n",
       "      <td>우리 그만하자</td>\n",
       "    </tr>\n",
       "    <tr>\n",
       "      <th>31085237</th>\n",
       "      <td>253847</td>\n",
       "      <td>방탄소년단</td>\n",
       "      <td>FAKE LOVE</td>\n",
       "    </tr>\n",
       "    <tr>\n",
       "      <th>31314144</th>\n",
       "      <td>28056</td>\n",
       "      <td>바이브</td>\n",
       "      <td>가을 타나 봐</td>\n",
       "    </tr>\n",
       "    <tr>\n",
       "      <th>31266282</th>\n",
       "      <td>129017</td>\n",
       "      <td>방탄소년단</td>\n",
       "      <td>Euphoria</td>\n",
       "    </tr>\n",
       "    <tr>\n",
       "      <th>31302310</th>\n",
       "      <td>77050</td>\n",
       "      <td>펀치 (Punch)</td>\n",
       "      <td>헤어지는 중</td>\n",
       "    </tr>\n",
       "    <tr>\n",
       "      <th>31266291</th>\n",
       "      <td>108151</td>\n",
       "      <td>방탄소년단</td>\n",
       "      <td>Answer : Love Myself</td>\n",
       "    </tr>\n",
       "    <tr>\n",
       "      <th>31085238</th>\n",
       "      <td>176653</td>\n",
       "      <td>방탄소년단</td>\n",
       "      <td>전하지 못한 진심 (Feat. Steve Aoki)</td>\n",
       "    </tr>\n",
       "    <tr>\n",
       "      <th>31266288</th>\n",
       "      <td>101011</td>\n",
       "      <td>방탄소년단</td>\n",
       "      <td>Epiphany</td>\n",
       "    </tr>\n",
       "    <tr>\n",
       "      <th>31266286</th>\n",
       "      <td>98436</td>\n",
       "      <td>방탄소년단</td>\n",
       "      <td>Trivia 轉 : Seesaw</td>\n",
       "    </tr>\n",
       "    <tr>\n",
       "      <th>30962526</th>\n",
       "      <td>185706</td>\n",
       "      <td>폴킴</td>\n",
       "      <td>모든 날, 모든 순간 (Every day, Every Moment)</td>\n",
       "    </tr>\n",
       "    <tr>\n",
       "      <th>31280273</th>\n",
       "      <td>91106</td>\n",
       "      <td>백현 (BAEKHYUN)</td>\n",
       "      <td>YOUNG</td>\n",
       "    </tr>\n",
       "    <tr>\n",
       "      <th>31266292</th>\n",
       "      <td>88970</td>\n",
       "      <td>방탄소년단</td>\n",
       "      <td>Trivia 起 : Just Dance</td>\n",
       "    </tr>\n",
       "    <tr>\n",
       "      <th>31286161</th>\n",
       "      <td>91516</td>\n",
       "      <td>선미</td>\n",
       "      <td>사이렌 (Siren)</td>\n",
       "    </tr>\n",
       "    <tr>\n",
       "      <th>31266300</th>\n",
       "      <td>83610</td>\n",
       "      <td>방탄소년단</td>\n",
       "      <td>Trivia 承 : Love</td>\n",
       "    </tr>\n",
       "    <tr>\n",
       "      <th>31062863</th>\n",
       "      <td>115805</td>\n",
       "      <td>벤</td>\n",
       "      <td>열애중</td>\n",
       "    </tr>\n",
       "    <tr>\n",
       "      <th>31151836</th>\n",
       "      <td>225308</td>\n",
       "      <td>숀 (SHAUN)</td>\n",
       "      <td>Way Back Home</td>\n",
       "    </tr>\n",
       "    <tr>\n",
       "      <th>31085244</th>\n",
       "      <td>138694</td>\n",
       "      <td>방탄소년단</td>\n",
       "      <td>Anpanman</td>\n",
       "    </tr>\n",
       "    <tr>\n",
       "      <th>30244931</th>\n",
       "      <td>359130</td>\n",
       "      <td>방탄소년단</td>\n",
       "      <td>봄날</td>\n",
       "    </tr>\n",
       "    <tr>\n",
       "      <th>30637982</th>\n",
       "      <td>323911</td>\n",
       "      <td>방탄소년단</td>\n",
       "      <td>DNA</td>\n",
       "    </tr>\n",
       "    <tr>\n",
       "      <th>31085243</th>\n",
       "      <td>127355</td>\n",
       "      <td>방탄소년단</td>\n",
       "      <td>Airplane pt.2</td>\n",
       "    </tr>\n",
       "    <tr>\n",
       "      <th>30806536</th>\n",
       "      <td>155809</td>\n",
       "      <td>EXO</td>\n",
       "      <td>Universe</td>\n",
       "    </tr>\n",
       "    <tr>\n",
       "      <th>31309079</th>\n",
       "      <td>53852</td>\n",
       "      <td>찬열</td>\n",
       "      <td>We Young</td>\n",
       "    </tr>\n",
       "    <tr>\n",
       "      <th>...</th>\n",
       "      <td>...</td>\n",
       "      <td>...</td>\n",
       "      <td>...</td>\n",
       "    </tr>\n",
       "    <tr>\n",
       "      <th>31246870</th>\n",
       "      <td>69062</td>\n",
       "      <td>(여자)아이들</td>\n",
       "      <td>한(一)</td>\n",
       "    </tr>\n",
       "    <tr>\n",
       "      <th>31035061</th>\n",
       "      <td>154263</td>\n",
       "      <td>로꼬</td>\n",
       "      <td>주지마</td>\n",
       "    </tr>\n",
       "    <tr>\n",
       "      <th>31147211</th>\n",
       "      <td>53081</td>\n",
       "      <td>뉴이스트 W</td>\n",
       "      <td>Dejavu</td>\n",
       "    </tr>\n",
       "    <tr>\n",
       "      <th>30849733</th>\n",
       "      <td>141103</td>\n",
       "      <td>멜로망스</td>\n",
       "      <td>You</td>\n",
       "    </tr>\n",
       "    <tr>\n",
       "      <th>31340984</th>\n",
       "      <td>10536</td>\n",
       "      <td>김효은</td>\n",
       "      <td>패 (Feat. 넉살, 딥플로우)</td>\n",
       "    </tr>\n",
       "    <tr>\n",
       "      <th>31309947</th>\n",
       "      <td>48716</td>\n",
       "      <td>모트 (Motte)</td>\n",
       "      <td>도망가지마</td>\n",
       "    </tr>\n",
       "    <tr>\n",
       "      <th>30721801</th>\n",
       "      <td>119657</td>\n",
       "      <td>이수 (엠씨 더 맥스)</td>\n",
       "      <td>My Way</td>\n",
       "    </tr>\n",
       "    <tr>\n",
       "      <th>30514366</th>\n",
       "      <td>266869</td>\n",
       "      <td>멜로망스</td>\n",
       "      <td>선물</td>\n",
       "    </tr>\n",
       "    <tr>\n",
       "      <th>31227367</th>\n",
       "      <td>33146</td>\n",
       "      <td>멜로망스</td>\n",
       "      <td>좋은 날</td>\n",
       "    </tr>\n",
       "    <tr>\n",
       "      <th>31113242</th>\n",
       "      <td>76313</td>\n",
       "      <td>Wanna One (워너원) - 린온미</td>\n",
       "      <td>영원+1 (Prod. NELL)</td>\n",
       "    </tr>\n",
       "    <tr>\n",
       "      <th>31266377</th>\n",
       "      <td>20736</td>\n",
       "      <td>뉴이스트 W</td>\n",
       "      <td>AND I</td>\n",
       "    </tr>\n",
       "    <tr>\n",
       "      <th>31331749</th>\n",
       "      <td>13544</td>\n",
       "      <td>뉴이스트 W</td>\n",
       "      <td>I Don’t Care (with 스푼즈)</td>\n",
       "    </tr>\n",
       "    <tr>\n",
       "      <th>31147212</th>\n",
       "      <td>32098</td>\n",
       "      <td>뉴이스트 W</td>\n",
       "      <td>북극성 (Polaris)</td>\n",
       "    </tr>\n",
       "    <tr>\n",
       "      <th>30970444</th>\n",
       "      <td>130935</td>\n",
       "      <td>용준형</td>\n",
       "      <td>소나기 (Feat. 10cm)</td>\n",
       "    </tr>\n",
       "    <tr>\n",
       "      <th>31113244</th>\n",
       "      <td>67211</td>\n",
       "      <td>Wanna One (워너원) - 남바완</td>\n",
       "      <td>11 (Prod. 다이나믹듀오)</td>\n",
       "    </tr>\n",
       "    <tr>\n",
       "      <th>4032981</th>\n",
       "      <td>126064</td>\n",
       "      <td>NU`EST</td>\n",
       "      <td>여보세요</td>\n",
       "    </tr>\n",
       "    <tr>\n",
       "      <th>31299371</th>\n",
       "      <td>25169</td>\n",
       "      <td>정승환</td>\n",
       "      <td>잘 지내요</td>\n",
       "    </tr>\n",
       "    <tr>\n",
       "      <th>30806539</th>\n",
       "      <td>88331</td>\n",
       "      <td>EXO</td>\n",
       "      <td>지나갈 테니 (Been Through)</td>\n",
       "    </tr>\n",
       "    <tr>\n",
       "      <th>31324696</th>\n",
       "      <td>24732</td>\n",
       "      <td>10cm</td>\n",
       "      <td>Perfect</td>\n",
       "    </tr>\n",
       "    <tr>\n",
       "      <th>8111603</th>\n",
       "      <td>156476</td>\n",
       "      <td>Fitz &amp; The Tantrums</td>\n",
       "      <td>HandClap</td>\n",
       "    </tr>\n",
       "    <tr>\n",
       "      <th>30661885</th>\n",
       "      <td>92753</td>\n",
       "      <td>뉴이스트 W</td>\n",
       "      <td>WHERE YOU AT</td>\n",
       "    </tr>\n",
       "    <tr>\n",
       "      <th>31006730</th>\n",
       "      <td>121530</td>\n",
       "      <td>TWICE (트와이스)</td>\n",
       "      <td>What is Love?</td>\n",
       "    </tr>\n",
       "    <tr>\n",
       "      <th>31052421</th>\n",
       "      <td>125760</td>\n",
       "      <td>여자친구 (GFRIEND)</td>\n",
       "      <td>밤 (Time for the moon night)</td>\n",
       "    </tr>\n",
       "    <tr>\n",
       "      <th>31194610</th>\n",
       "      <td>61670</td>\n",
       "      <td>청하</td>\n",
       "      <td>Love U</td>\n",
       "    </tr>\n",
       "    <tr>\n",
       "      <th>31147210</th>\n",
       "      <td>27270</td>\n",
       "      <td>뉴이스트 W</td>\n",
       "      <td>Signal</td>\n",
       "    </tr>\n",
       "    <tr>\n",
       "      <th>30937275</th>\n",
       "      <td>145494</td>\n",
       "      <td>마마무(Mamamoo)</td>\n",
       "      <td>별이 빛나는 밤</td>\n",
       "    </tr>\n",
       "    <tr>\n",
       "      <th>31147213</th>\n",
       "      <td>26136</td>\n",
       "      <td>뉴이스트 W</td>\n",
       "      <td>ylenoL</td>\n",
       "    </tr>\n",
       "    <tr>\n",
       "      <th>31288765</th>\n",
       "      <td>42853</td>\n",
       "      <td>소녀시대-Oh!GG</td>\n",
       "      <td>몰랐니 (Lil` Touch)</td>\n",
       "    </tr>\n",
       "    <tr>\n",
       "      <th>31147214</th>\n",
       "      <td>26091</td>\n",
       "      <td>뉴이스트 W</td>\n",
       "      <td>중력달 (Gravity&amp;Moon;)</td>\n",
       "    </tr>\n",
       "    <tr>\n",
       "      <th>30806540</th>\n",
       "      <td>81556</td>\n",
       "      <td>EXO</td>\n",
       "      <td>Stay</td>\n",
       "    </tr>\n",
       "  </tbody>\n",
       "</table>\n",
       "<p>100 rows × 3 columns</p>\n",
       "</div>"
      ],
      "text/plain": [
       "             좋아요                     가수                                     곡명\n",
       "곡일련번호                                                                         \n",
       "31346009   61528                    아이유                                     삐삐\n",
       "31344113   48331                     로꼬                  시간이 들겠지 (Feat. Colde)\n",
       "31340985   54022                   pH-1   Good Day (Feat. 팔로알토) (Prod. 코드 쿤스트)\n",
       "31316695   97984                    임창정                 하루도 그대를 사랑하지 않은 적이 없었다\n",
       "31266290  173279                  방탄소년단                                   IDOL\n",
       "31331745   55396                   iKON                     이별길 (GOODBYE ROAD)\n",
       "31340982   27564                 Coogie                   사임사임 (Feat. CHANGMO)\n",
       "31266289  132847                  방탄소년단                               I`m Fine\n",
       "31314142   95771                    로이킴                                우리 그만하자\n",
       "31085237  253847                  방탄소년단                              FAKE LOVE\n",
       "31314144   28056                    바이브                                가을 타나 봐\n",
       "31266282  129017                  방탄소년단                               Euphoria\n",
       "31302310   77050             펀치 (Punch)                                 헤어지는 중\n",
       "31266291  108151                  방탄소년단                   Answer : Love Myself\n",
       "31085238  176653                  방탄소년단           전하지 못한 진심 (Feat. Steve Aoki)\n",
       "31266288  101011                  방탄소년단                               Epiphany\n",
       "31266286   98436                  방탄소년단                      Trivia 轉 : Seesaw\n",
       "30962526  185706                     폴킴  모든 날, 모든 순간 (Every day, Every Moment)\n",
       "31280273   91106          백현 (BAEKHYUN)                                  YOUNG\n",
       "31266292   88970                  방탄소년단                  Trivia 起 : Just Dance\n",
       "31286161   91516                     선미                            사이렌 (Siren)\n",
       "31266300   83610                  방탄소년단                        Trivia 承 : Love\n",
       "31062863  115805                      벤                                    열애중\n",
       "31151836  225308              숀 (SHAUN)                          Way Back Home\n",
       "31085244  138694                  방탄소년단                               Anpanman\n",
       "30244931  359130                  방탄소년단                                     봄날\n",
       "30637982  323911                  방탄소년단                                    DNA\n",
       "31085243  127355                  방탄소년단                          Airplane pt.2\n",
       "30806536  155809                    EXO                               Universe\n",
       "31309079   53852                     찬열                               We Young\n",
       "...          ...                    ...                                    ...\n",
       "31246870   69062                (여자)아이들                                   한(一)\n",
       "31035061  154263                     로꼬                                    주지마\n",
       "31147211   53081                 뉴이스트 W                                 Dejavu\n",
       "30849733  141103                   멜로망스                                    You\n",
       "31340984   10536                    김효은                     패 (Feat. 넉살, 딥플로우)\n",
       "31309947   48716             모트 (Motte)                                  도망가지마\n",
       "30721801  119657           이수 (엠씨 더 맥스)                                 My Way\n",
       "30514366  266869                   멜로망스                                     선물\n",
       "31227367   33146                   멜로망스                                   좋은 날\n",
       "31113242   76313  Wanna One (워너원) - 린온미                      영원+1 (Prod. NELL)\n",
       "31266377   20736                 뉴이스트 W                                  AND I\n",
       "31331749   13544                 뉴이스트 W                I Don’t Care (with 스푼즈)\n",
       "31147212   32098                 뉴이스트 W                          북극성 (Polaris)\n",
       "30970444  130935                    용준형                       소나기 (Feat. 10cm)\n",
       "31113244   67211  Wanna One (워너원) - 남바완                      11 (Prod. 다이나믹듀오)\n",
       "4032981   126064                 NU`EST                                   여보세요\n",
       "31299371   25169                    정승환                                  잘 지내요\n",
       "30806539   88331                    EXO                  지나갈 테니 (Been Through)\n",
       "31324696   24732                   10cm                                Perfect\n",
       "8111603   156476    Fitz & The Tantrums                               HandClap\n",
       "30661885   92753                 뉴이스트 W                           WHERE YOU AT\n",
       "31006730  121530           TWICE (트와이스)                          What is Love?\n",
       "31052421  125760         여자친구 (GFRIEND)            밤 (Time for the moon night)\n",
       "31194610   61670                     청하                                 Love U\n",
       "31147210   27270                 뉴이스트 W                                 Signal\n",
       "30937275  145494           마마무(Mamamoo)                               별이 빛나는 밤\n",
       "31147213   26136                 뉴이스트 W                                 ylenoL\n",
       "31288765   42853             소녀시대-Oh!GG                       몰랐니 (Lil` Touch)\n",
       "31147214   26091                 뉴이스트 W                    중력달 (Gravity&Moon;)\n",
       "30806540   81556                    EXO                                   Stay\n",
       "\n",
       "[100 rows x 3 columns]"
      ]
     },
     "execution_count": 41,
     "metadata": {},
     "output_type": "execute_result"
    }
   ],
   "source": [
    "# name = ['곡명', '좋아요']\n",
    "# df[name]\n",
    "\n",
    "df[['좋아요', '가수', '곡명']]"
   ]
  },
  {
   "cell_type": "code",
   "execution_count": 42,
   "metadata": {},
   "outputs": [
    {
     "data": {
      "text/plain": [
       "방탄소년단                       14\n",
       "뉴이스트 W                       8\n",
       "Wanna One (워너원)              5\n",
       "멜로망스                         4\n",
       "EXO                          3\n",
       "iKON                         3\n",
       "BLACKPINK                    2\n",
       "아이유                          2\n",
       "폴킴                           2\n",
       "10cm                         2\n",
       "로이킴                          2\n",
       "바이브                          2\n",
       "비투비                          2\n",
       "닐로 (Nilo)                    2\n",
       "마마무(Mamamoo)                 2\n",
       "세븐틴                          2\n",
       "TWICE (트와이스)                 2\n",
       "로꼬                           2\n",
       "김효은                          1\n",
       "모트 (Motte)                   1\n",
       "pH-1                         1\n",
       "숀 (SHAUN)                    1\n",
       "Fitz & The Tantrums          1\n",
       "Wanna One (워너원) - 남바완        1\n",
       "양다일                          1\n",
       "이수 (엠씨 더 맥스)                 1\n",
       "Coogie                       1\n",
       "기리보이                         1\n",
       "NU`EST                       1\n",
       "저스디스 (JUSTHIS)               1\n",
       "Apink (에이핑크)                 1\n",
       "EXO-CBX (첸백시)                1\n",
       "(여자)아이들                      1\n",
       "백현 (BAEKHYUN)                1\n",
       "박원                           1\n",
       "선미                           1\n",
       "여자친구 (GFRIEND)               1\n",
       "Wanna One (워너원) - 더힐         1\n",
       "Red Velvet (레드벨벳)            1\n",
       "Wanna One (워너원) - 린온미        1\n",
       "볼빨간사춘기                       1\n",
       "청하                           1\n",
       "nafla                        1\n",
       "펀치 (Punch)                   1\n",
       "레이 (LAY)                     1\n",
       "소녀시대-Oh!GG                   1\n",
       "임한별                          1\n",
       "먼데이 키즈 (Monday Kiz)          1\n",
       "승리                           1\n",
       "지코 (ZICO)                    1\n",
       "찬열                           1\n",
       "정승환                          1\n",
       "장덕철                          1\n",
       "임창정                          1\n",
       "벤                            1\n",
       "Wanna One (워너원) - 트리플포지션     1\n",
       "용준형                          1\n",
       "Name: 가수, dtype: int64"
      ]
     },
     "execution_count": 42,
     "metadata": {},
     "output_type": "execute_result"
    }
   ],
   "source": [
    "df['가수'].value_counts()  # 가수별 곡수"
   ]
  },
  {
   "cell_type": "code",
   "execution_count": 43,
   "metadata": {},
   "outputs": [
    {
     "data": {
      "text/plain": [
       "방탄소년단              14\n",
       "뉴이스트 W              8\n",
       "Wanna One (워너원)     5\n",
       "멜로망스                4\n",
       "EXO                 3\n",
       "iKON                3\n",
       "Name: 가수, dtype: int64"
      ]
     },
     "execution_count": 43,
     "metadata": {},
     "output_type": "execute_result"
    }
   ],
   "source": [
    "가수별_곡수 = df['가수'].value_counts()\n",
    "mask = 가수별_곡수 >= 3\n",
    "가수별_곡수[mask]"
   ]
  },
  {
   "cell_type": "code",
   "execution_count": 44,
   "metadata": {},
   "outputs": [
    {
     "data": {
      "text/plain": [
       "<matplotlib.axes._subplots.AxesSubplot at 0x14e61134390>"
      ]
     },
     "execution_count": 44,
     "metadata": {},
     "output_type": "execute_result"
    },
    {
     "data": {
      "image/png": "[encoded data removed]",
      "text/plain": [
       "<Figure size 432x288 with 1 Axes>"
      ]
     },
     "metadata": {},
     "output_type": "display_data"
    }
   ],
   "source": [
    "# 가수별_곡수[mask].plot.pie()  # bar, barh, pie()\n",
    "가수별_곡수[mask].plot(kind='pie')"
   ]
  },
  {
   "cell_type": "code",
   "execution_count": 45,
   "metadata": {},
   "outputs": [
    {
     "data": {
      "text/plain": [
       "<matplotlib.axes._subplots.AxesSubplot at 0x14e611c85c0>"
      ]
     },
     "execution_count": 45,
     "metadata": {},
     "output_type": "execute_result"
    },
    {
     "data": {
      "image/png": "[encoded data removed]",
      "text/plain": [
       "<Figure size 720x720 with 4 Axes>"
      ]
     },
     "metadata": {
      "needs_background": "light"
     },
     "output_type": "display_data"
    }
   ],
   "source": [
    "figure, ((ax1, ax2), (ax3, ax4)) = plt.subplots(2, 2)\n",
    "figure.set_size_inches(10, 10)\n",
    "\n",
    "가수별_곡수[mask].plot.bar(ax=ax1) \n",
    "가수별_곡수[mask].plot.barh(ax=ax2) \n",
    "가수별_곡수[mask].plot.pie(ax=ax3) "
   ]
  },
  {
   "cell_type": "markdown",
   "metadata": {},
   "source": [
    "# seaborn을 통한 샘플 데이터 로딩\n",
    "\n",
    "+ matplotlib보다 조금 더 이쁜 시각화 라이브러리"
   ]
  },
  {
   "cell_type": "code",
   "execution_count": 46,
   "metadata": {},
   "outputs": [],
   "source": [
    "import seaborn as sns"
   ]
  },
  {
   "cell_type": "code",
   "execution_count": 47,
   "metadata": {},
   "outputs": [
    {
     "data": {
      "text/html": [
       "<div>\n",
       "<style scoped>\n",
       "    .dataframe tbody tr th:only-of-type {\n",
       "        vertical-align: middle;\n",
       "    }\n",
       "\n",
       "    .dataframe tbody tr th {\n",
       "        vertical-align: top;\n",
       "    }\n",
       "\n",
       "    .dataframe thead th {\n",
       "        text-align: right;\n",
       "    }\n",
       "</style>\n",
       "<table border=\"1\" class=\"dataframe\">\n",
       "  <thead>\n",
       "    <tr style=\"text-align: right;\">\n",
       "      <th></th>\n",
       "      <th>sex</th>\n",
       "      <th>survived</th>\n",
       "    </tr>\n",
       "  </thead>\n",
       "  <tbody>\n",
       "    <tr>\n",
       "      <th>0</th>\n",
       "      <td>male</td>\n",
       "      <td>0</td>\n",
       "    </tr>\n",
       "    <tr>\n",
       "      <th>1</th>\n",
       "      <td>female</td>\n",
       "      <td>1</td>\n",
       "    </tr>\n",
       "    <tr>\n",
       "      <th>2</th>\n",
       "      <td>female</td>\n",
       "      <td>1</td>\n",
       "    </tr>\n",
       "    <tr>\n",
       "      <th>3</th>\n",
       "      <td>female</td>\n",
       "      <td>1</td>\n",
       "    </tr>\n",
       "    <tr>\n",
       "      <th>4</th>\n",
       "      <td>male</td>\n",
       "      <td>0</td>\n",
       "    </tr>\n",
       "  </tbody>\n",
       "</table>\n",
       "</div>"
      ],
      "text/plain": [
       "      sex  survived\n",
       "0    male         0\n",
       "1  female         1\n",
       "2  female         1\n",
       "3  female         1\n",
       "4    male         0"
      ]
     },
     "execution_count": 47,
     "metadata": {},
     "output_type": "execute_result"
    }
   ],
   "source": [
    "titanic_df = sns.load_dataset('titanic')\n",
    "titanic_df[['sex', 'survived']].head()"
   ]
  },
  {
   "cell_type": "code",
   "execution_count": 48,
   "metadata": {},
   "outputs": [
    {
     "data": {
      "text/plain": [
       "0.3838383838383838"
      ]
     },
     "execution_count": 48,
     "metadata": {},
     "output_type": "execute_result"
    }
   ],
   "source": [
    "titanic_df['survived'].mean()  # 평균"
   ]
  },
  {
   "cell_type": "code",
   "execution_count": null,
   "metadata": {},
   "outputs": [],
   "source": []
  },
  {
   "cell_type": "code",
   "execution_count": 49,
   "metadata": {},
   "outputs": [
    {
     "name": "stdout",
     "output_type": "stream",
     "text": [
      "(244, 7)\n"
     ]
    },
    {
     "data": {
      "text/html": [
       "<div>\n",
       "<style scoped>\n",
       "    .dataframe tbody tr th:only-of-type {\n",
       "        vertical-align: middle;\n",
       "    }\n",
       "\n",
       "    .dataframe tbody tr th {\n",
       "        vertical-align: top;\n",
       "    }\n",
       "\n",
       "    .dataframe thead th {\n",
       "        text-align: right;\n",
       "    }\n",
       "</style>\n",
       "<table border=\"1\" class=\"dataframe\">\n",
       "  <thead>\n",
       "    <tr style=\"text-align: right;\">\n",
       "      <th></th>\n",
       "      <th>total_bill</th>\n",
       "      <th>tip</th>\n",
       "      <th>sex</th>\n",
       "      <th>smoker</th>\n",
       "      <th>day</th>\n",
       "      <th>time</th>\n",
       "      <th>size</th>\n",
       "    </tr>\n",
       "  </thead>\n",
       "  <tbody>\n",
       "    <tr>\n",
       "      <th>0</th>\n",
       "      <td>16.99</td>\n",
       "      <td>1.01</td>\n",
       "      <td>Female</td>\n",
       "      <td>No</td>\n",
       "      <td>Sun</td>\n",
       "      <td>Dinner</td>\n",
       "      <td>2</td>\n",
       "    </tr>\n",
       "    <tr>\n",
       "      <th>1</th>\n",
       "      <td>10.34</td>\n",
       "      <td>1.66</td>\n",
       "      <td>Male</td>\n",
       "      <td>No</td>\n",
       "      <td>Sun</td>\n",
       "      <td>Dinner</td>\n",
       "      <td>3</td>\n",
       "    </tr>\n",
       "    <tr>\n",
       "      <th>2</th>\n",
       "      <td>21.01</td>\n",
       "      <td>3.50</td>\n",
       "      <td>Male</td>\n",
       "      <td>No</td>\n",
       "      <td>Sun</td>\n",
       "      <td>Dinner</td>\n",
       "      <td>3</td>\n",
       "    </tr>\n",
       "    <tr>\n",
       "      <th>3</th>\n",
       "      <td>23.68</td>\n",
       "      <td>3.31</td>\n",
       "      <td>Male</td>\n",
       "      <td>No</td>\n",
       "      <td>Sun</td>\n",
       "      <td>Dinner</td>\n",
       "      <td>2</td>\n",
       "    </tr>\n",
       "    <tr>\n",
       "      <th>4</th>\n",
       "      <td>24.59</td>\n",
       "      <td>3.61</td>\n",
       "      <td>Female</td>\n",
       "      <td>No</td>\n",
       "      <td>Sun</td>\n",
       "      <td>Dinner</td>\n",
       "      <td>4</td>\n",
       "    </tr>\n",
       "  </tbody>\n",
       "</table>\n",
       "</div>"
      ],
      "text/plain": [
       "   total_bill   tip     sex smoker  day    time  size\n",
       "0       16.99  1.01  Female     No  Sun  Dinner     2\n",
       "1       10.34  1.66    Male     No  Sun  Dinner     3\n",
       "2       21.01  3.50    Male     No  Sun  Dinner     3\n",
       "3       23.68  3.31    Male     No  Sun  Dinner     2\n",
       "4       24.59  3.61  Female     No  Sun  Dinner     4"
      ]
     },
     "execution_count": 49,
     "metadata": {},
     "output_type": "execute_result"
    }
   ],
   "source": [
    "tips_df = sns.load_dataset('tips')\n",
    "print(tips_df.shape)\n",
    "tips_df.head()"
   ]
  },
  {
   "cell_type": "code",
   "execution_count": 50,
   "metadata": {},
   "outputs": [
    {
     "data": {
      "text/plain": [
       "Male      157\n",
       "Female     87\n",
       "Name: sex, dtype: int64"
      ]
     },
     "execution_count": 50,
     "metadata": {},
     "output_type": "execute_result"
    }
   ],
   "source": [
    "tips_df['sex'].value_counts()"
   ]
  },
  {
   "cell_type": "code",
   "execution_count": 51,
   "metadata": {},
   "outputs": [
    {
     "data": {
      "text/html": [
       "<div>\n",
       "<style scoped>\n",
       "    .dataframe tbody tr th:only-of-type {\n",
       "        vertical-align: middle;\n",
       "    }\n",
       "\n",
       "    .dataframe tbody tr th {\n",
       "        vertical-align: top;\n",
       "    }\n",
       "\n",
       "    .dataframe thead th {\n",
       "        text-align: right;\n",
       "    }\n",
       "</style>\n",
       "<table border=\"1\" class=\"dataframe\">\n",
       "  <thead>\n",
       "    <tr style=\"text-align: right;\">\n",
       "      <th></th>\n",
       "      <th>tip</th>\n",
       "      <th>total_bill</th>\n",
       "    </tr>\n",
       "    <tr>\n",
       "      <th>sex</th>\n",
       "      <th></th>\n",
       "      <th></th>\n",
       "    </tr>\n",
       "  </thead>\n",
       "  <tbody>\n",
       "    <tr>\n",
       "      <th>Male</th>\n",
       "      <td>3.089618</td>\n",
       "      <td>20.744076</td>\n",
       "    </tr>\n",
       "    <tr>\n",
       "      <th>Female</th>\n",
       "      <td>2.833448</td>\n",
       "      <td>18.056897</td>\n",
       "    </tr>\n",
       "  </tbody>\n",
       "</table>\n",
       "</div>"
      ],
      "text/plain": [
       "             tip  total_bill\n",
       "sex                         \n",
       "Male    3.089618   20.744076\n",
       "Female  2.833448   18.056897"
      ]
     },
     "execution_count": 51,
     "metadata": {},
     "output_type": "execute_result"
    }
   ],
   "source": [
    "tips_df.pivot_table(index='sex',\n",
    "                    values=['tip', 'total_bill'], aggfunc='mean')  # min, max, sum, mean, median"
   ]
  },
  {
   "cell_type": "markdown",
   "metadata": {},
   "source": [
    "# 원하는 범위 지정하기"
   ]
  },
  {
   "cell_type": "code",
   "execution_count": 52,
   "metadata": {},
   "outputs": [
    {
     "name": "stdout",
     "output_type": "stream",
     "text": [
      "(891, 15)\n"
     ]
    },
    {
     "data": {
      "text/html": [
       "<div>\n",
       "<style scoped>\n",
       "    .dataframe tbody tr th:only-of-type {\n",
       "        vertical-align: middle;\n",
       "    }\n",
       "\n",
       "    .dataframe tbody tr th {\n",
       "        vertical-align: top;\n",
       "    }\n",
       "\n",
       "    .dataframe thead th {\n",
       "        text-align: right;\n",
       "    }\n",
       "</style>\n",
       "<table border=\"1\" class=\"dataframe\">\n",
       "  <thead>\n",
       "    <tr style=\"text-align: right;\">\n",
       "      <th></th>\n",
       "      <th>survived</th>\n",
       "      <th>pclass</th>\n",
       "      <th>sex</th>\n",
       "      <th>age</th>\n",
       "      <th>sibsp</th>\n",
       "      <th>parch</th>\n",
       "      <th>fare</th>\n",
       "      <th>embarked</th>\n",
       "      <th>class</th>\n",
       "      <th>who</th>\n",
       "      <th>adult_male</th>\n",
       "      <th>deck</th>\n",
       "      <th>embark_town</th>\n",
       "      <th>alive</th>\n",
       "      <th>alone</th>\n",
       "    </tr>\n",
       "  </thead>\n",
       "  <tbody>\n",
       "    <tr>\n",
       "      <th>0</th>\n",
       "      <td>0</td>\n",
       "      <td>3</td>\n",
       "      <td>male</td>\n",
       "      <td>22.0</td>\n",
       "      <td>1</td>\n",
       "      <td>0</td>\n",
       "      <td>7.2500</td>\n",
       "      <td>S</td>\n",
       "      <td>Third</td>\n",
       "      <td>man</td>\n",
       "      <td>True</td>\n",
       "      <td>NaN</td>\n",
       "      <td>Southampton</td>\n",
       "      <td>no</td>\n",
       "      <td>False</td>\n",
       "    </tr>\n",
       "    <tr>\n",
       "      <th>1</th>\n",
       "      <td>1</td>\n",
       "      <td>1</td>\n",
       "      <td>female</td>\n",
       "      <td>38.0</td>\n",
       "      <td>1</td>\n",
       "      <td>0</td>\n",
       "      <td>71.2833</td>\n",
       "      <td>C</td>\n",
       "      <td>First</td>\n",
       "      <td>woman</td>\n",
       "      <td>False</td>\n",
       "      <td>C</td>\n",
       "      <td>Cherbourg</td>\n",
       "      <td>yes</td>\n",
       "      <td>False</td>\n",
       "    </tr>\n",
       "    <tr>\n",
       "      <th>2</th>\n",
       "      <td>1</td>\n",
       "      <td>3</td>\n",
       "      <td>female</td>\n",
       "      <td>26.0</td>\n",
       "      <td>0</td>\n",
       "      <td>0</td>\n",
       "      <td>7.9250</td>\n",
       "      <td>S</td>\n",
       "      <td>Third</td>\n",
       "      <td>woman</td>\n",
       "      <td>False</td>\n",
       "      <td>NaN</td>\n",
       "      <td>Southampton</td>\n",
       "      <td>yes</td>\n",
       "      <td>True</td>\n",
       "    </tr>\n",
       "    <tr>\n",
       "      <th>3</th>\n",
       "      <td>1</td>\n",
       "      <td>1</td>\n",
       "      <td>female</td>\n",
       "      <td>35.0</td>\n",
       "      <td>1</td>\n",
       "      <td>0</td>\n",
       "      <td>53.1000</td>\n",
       "      <td>S</td>\n",
       "      <td>First</td>\n",
       "      <td>woman</td>\n",
       "      <td>False</td>\n",
       "      <td>C</td>\n",
       "      <td>Southampton</td>\n",
       "      <td>yes</td>\n",
       "      <td>False</td>\n",
       "    </tr>\n",
       "    <tr>\n",
       "      <th>4</th>\n",
       "      <td>0</td>\n",
       "      <td>3</td>\n",
       "      <td>male</td>\n",
       "      <td>35.0</td>\n",
       "      <td>0</td>\n",
       "      <td>0</td>\n",
       "      <td>8.0500</td>\n",
       "      <td>S</td>\n",
       "      <td>Third</td>\n",
       "      <td>man</td>\n",
       "      <td>True</td>\n",
       "      <td>NaN</td>\n",
       "      <td>Southampton</td>\n",
       "      <td>no</td>\n",
       "      <td>True</td>\n",
       "    </tr>\n",
       "  </tbody>\n",
       "</table>\n",
       "</div>"
      ],
      "text/plain": [
       "   survived  pclass     sex   age  sibsp  parch     fare embarked  class  \\\n",
       "0         0       3    male  22.0      1      0   7.2500        S  Third   \n",
       "1         1       1  female  38.0      1      0  71.2833        C  First   \n",
       "2         1       3  female  26.0      0      0   7.9250        S  Third   \n",
       "3         1       1  female  35.0      1      0  53.1000        S  First   \n",
       "4         0       3    male  35.0      0      0   8.0500        S  Third   \n",
       "\n",
       "     who  adult_male deck  embark_town alive  alone  \n",
       "0    man        True  NaN  Southampton    no  False  \n",
       "1  woman       False    C    Cherbourg   yes  False  \n",
       "2  woman       False  NaN  Southampton   yes   True  \n",
       "3  woman       False    C  Southampton   yes  False  \n",
       "4    man        True  NaN  Southampton    no   True  "
      ]
     },
     "execution_count": 52,
     "metadata": {},
     "output_type": "execute_result"
    }
   ],
   "source": [
    "import seaborn as sns\n",
    "titanic_df = sns.load_dataset('titanic')\n",
    "print(titanic_df.shape)\n",
    "titanic_df.head()"
   ]
  },
  {
   "cell_type": "code",
   "execution_count": 53,
   "metadata": {},
   "outputs": [
    {
     "data": {
      "text/html": [
       "<div>\n",
       "<style scoped>\n",
       "    .dataframe tbody tr th:only-of-type {\n",
       "        vertical-align: middle;\n",
       "    }\n",
       "\n",
       "    .dataframe tbody tr th {\n",
       "        vertical-align: top;\n",
       "    }\n",
       "\n",
       "    .dataframe thead th {\n",
       "        text-align: right;\n",
       "    }\n",
       "</style>\n",
       "<table border=\"1\" class=\"dataframe\">\n",
       "  <thead>\n",
       "    <tr style=\"text-align: right;\">\n",
       "      <th></th>\n",
       "      <th>survived</th>\n",
       "      <th>pclass</th>\n",
       "      <th>sex</th>\n",
       "      <th>age</th>\n",
       "      <th>sibsp</th>\n",
       "      <th>parch</th>\n",
       "      <th>fare</th>\n",
       "      <th>embarked</th>\n",
       "      <th>class</th>\n",
       "      <th>who</th>\n",
       "      <th>adult_male</th>\n",
       "      <th>deck</th>\n",
       "      <th>embark_town</th>\n",
       "      <th>alive</th>\n",
       "      <th>alone</th>\n",
       "    </tr>\n",
       "  </thead>\n",
       "  <tbody>\n",
       "    <tr>\n",
       "      <th>0</th>\n",
       "      <td>0</td>\n",
       "      <td>3</td>\n",
       "      <td>male</td>\n",
       "      <td>22.0</td>\n",
       "      <td>1</td>\n",
       "      <td>0</td>\n",
       "      <td>7.2500</td>\n",
       "      <td>S</td>\n",
       "      <td>Third</td>\n",
       "      <td>man</td>\n",
       "      <td>True</td>\n",
       "      <td>NaN</td>\n",
       "      <td>Southampton</td>\n",
       "      <td>no</td>\n",
       "      <td>False</td>\n",
       "    </tr>\n",
       "    <tr>\n",
       "      <th>1</th>\n",
       "      <td>1</td>\n",
       "      <td>1</td>\n",
       "      <td>female</td>\n",
       "      <td>38.0</td>\n",
       "      <td>1</td>\n",
       "      <td>0</td>\n",
       "      <td>71.2833</td>\n",
       "      <td>C</td>\n",
       "      <td>First</td>\n",
       "      <td>woman</td>\n",
       "      <td>False</td>\n",
       "      <td>C</td>\n",
       "      <td>Cherbourg</td>\n",
       "      <td>yes</td>\n",
       "      <td>False</td>\n",
       "    </tr>\n",
       "    <tr>\n",
       "      <th>2</th>\n",
       "      <td>1</td>\n",
       "      <td>3</td>\n",
       "      <td>female</td>\n",
       "      <td>26.0</td>\n",
       "      <td>0</td>\n",
       "      <td>0</td>\n",
       "      <td>7.9250</td>\n",
       "      <td>S</td>\n",
       "      <td>Third</td>\n",
       "      <td>woman</td>\n",
       "      <td>False</td>\n",
       "      <td>NaN</td>\n",
       "      <td>Southampton</td>\n",
       "      <td>yes</td>\n",
       "      <td>True</td>\n",
       "    </tr>\n",
       "    <tr>\n",
       "      <th>3</th>\n",
       "      <td>1</td>\n",
       "      <td>1</td>\n",
       "      <td>female</td>\n",
       "      <td>35.0</td>\n",
       "      <td>1</td>\n",
       "      <td>0</td>\n",
       "      <td>53.1000</td>\n",
       "      <td>S</td>\n",
       "      <td>First</td>\n",
       "      <td>woman</td>\n",
       "      <td>False</td>\n",
       "      <td>C</td>\n",
       "      <td>Southampton</td>\n",
       "      <td>yes</td>\n",
       "      <td>False</td>\n",
       "    </tr>\n",
       "    <tr>\n",
       "      <th>4</th>\n",
       "      <td>0</td>\n",
       "      <td>3</td>\n",
       "      <td>male</td>\n",
       "      <td>35.0</td>\n",
       "      <td>0</td>\n",
       "      <td>0</td>\n",
       "      <td>8.0500</td>\n",
       "      <td>S</td>\n",
       "      <td>Third</td>\n",
       "      <td>man</td>\n",
       "      <td>True</td>\n",
       "      <td>NaN</td>\n",
       "      <td>Southampton</td>\n",
       "      <td>no</td>\n",
       "      <td>True</td>\n",
       "    </tr>\n",
       "  </tbody>\n",
       "</table>\n",
       "</div>"
      ],
      "text/plain": [
       "   survived  pclass     sex   age  sibsp  parch     fare embarked  class  \\\n",
       "0         0       3    male  22.0      1      0   7.2500        S  Third   \n",
       "1         1       1  female  38.0      1      0  71.2833        C  First   \n",
       "2         1       3  female  26.0      0      0   7.9250        S  Third   \n",
       "3         1       1  female  35.0      1      0  53.1000        S  First   \n",
       "4         0       3    male  35.0      0      0   8.0500        S  Third   \n",
       "\n",
       "     who  adult_male deck  embark_town alive  alone  \n",
       "0    man        True  NaN  Southampton    no  False  \n",
       "1  woman       False    C    Cherbourg   yes  False  \n",
       "2  woman       False  NaN  Southampton   yes   True  \n",
       "3  woman       False    C  Southampton   yes  False  \n",
       "4    man        True  NaN  Southampton    no   True  "
      ]
     },
     "execution_count": 53,
     "metadata": {},
     "output_type": "execute_result"
    }
   ],
   "source": [
    "titanic_df.head()  # .tail()\n",
    "# titanic_df.iloc[:5]  # 의미상으로는 .head()와 동일"
   ]
  },
  {
   "cell_type": "code",
   "execution_count": 54,
   "metadata": {},
   "outputs": [
    {
     "data": {
      "text/plain": [
       "Index(['survived', 'pclass', 'sex', 'age', 'sibsp', 'parch', 'fare',\n",
       "       'embarked', 'class', 'who', 'adult_male', 'deck', 'embark_town',\n",
       "       'alive', 'alone'],\n",
       "      dtype='object')"
      ]
     },
     "execution_count": 54,
     "metadata": {},
     "output_type": "execute_result"
    }
   ],
   "source": [
    "titanic_df.columns"
   ]
  },
  {
   "cell_type": "code",
   "execution_count": 55,
   "metadata": {},
   "outputs": [
    {
     "data": {
      "text/plain": [
       "0     7.2500\n",
       "1    71.2833\n",
       "2     7.9250\n",
       "3    53.1000\n",
       "4     8.0500\n",
       "Name: fare, dtype: float64"
      ]
     },
     "execution_count": 55,
     "metadata": {},
     "output_type": "execute_result"
    }
   ],
   "source": [
    "titanic_df['fare'].head()  # 컬럼이 1개 => Series, 2개 이상 => DataFrame"
   ]
  },
  {
   "cell_type": "code",
   "execution_count": 56,
   "metadata": {},
   "outputs": [
    {
     "data": {
      "text/html": [
       "<div>\n",
       "<style scoped>\n",
       "    .dataframe tbody tr th:only-of-type {\n",
       "        vertical-align: middle;\n",
       "    }\n",
       "\n",
       "    .dataframe tbody tr th {\n",
       "        vertical-align: top;\n",
       "    }\n",
       "\n",
       "    .dataframe thead th {\n",
       "        text-align: right;\n",
       "    }\n",
       "</style>\n",
       "<table border=\"1\" class=\"dataframe\">\n",
       "  <thead>\n",
       "    <tr style=\"text-align: right;\">\n",
       "      <th></th>\n",
       "      <th>fare</th>\n",
       "    </tr>\n",
       "  </thead>\n",
       "  <tbody>\n",
       "    <tr>\n",
       "      <th>0</th>\n",
       "      <td>7.2500</td>\n",
       "    </tr>\n",
       "    <tr>\n",
       "      <th>1</th>\n",
       "      <td>71.2833</td>\n",
       "    </tr>\n",
       "    <tr>\n",
       "      <th>2</th>\n",
       "      <td>7.9250</td>\n",
       "    </tr>\n",
       "    <tr>\n",
       "      <th>3</th>\n",
       "      <td>53.1000</td>\n",
       "    </tr>\n",
       "    <tr>\n",
       "      <th>4</th>\n",
       "      <td>8.0500</td>\n",
       "    </tr>\n",
       "  </tbody>\n",
       "</table>\n",
       "</div>"
      ],
      "text/plain": [
       "      fare\n",
       "0   7.2500\n",
       "1  71.2833\n",
       "2   7.9250\n",
       "3  53.1000\n",
       "4   8.0500"
      ]
     },
     "execution_count": 56,
     "metadata": {},
     "output_type": "execute_result"
    }
   ],
   "source": [
    "titanic_df[['fare']].head()  # DataFrame"
   ]
  },
  {
   "cell_type": "code",
   "execution_count": 57,
   "metadata": {},
   "outputs": [
    {
     "name": "stdout",
     "output_type": "stream",
     "text": [
      "(100, 6)\n"
     ]
    },
    {
     "data": {
      "text/html": [
       "<div>\n",
       "<style scoped>\n",
       "    .dataframe tbody tr th:only-of-type {\n",
       "        vertical-align: middle;\n",
       "    }\n",
       "\n",
       "    .dataframe tbody tr th {\n",
       "        vertical-align: top;\n",
       "    }\n",
       "\n",
       "    .dataframe thead th {\n",
       "        text-align: right;\n",
       "    }\n",
       "</style>\n",
       "<table border=\"1\" class=\"dataframe\">\n",
       "  <thead>\n",
       "    <tr style=\"text-align: right;\">\n",
       "      <th></th>\n",
       "      <th>가수</th>\n",
       "      <th>곡명</th>\n",
       "      <th>순위</th>\n",
       "      <th>앨범</th>\n",
       "      <th>좋아요</th>\n",
       "      <th>커버이미지_주소</th>\n",
       "    </tr>\n",
       "    <tr>\n",
       "      <th>곡일련번호</th>\n",
       "      <th></th>\n",
       "      <th></th>\n",
       "      <th></th>\n",
       "      <th></th>\n",
       "      <th></th>\n",
       "      <th></th>\n",
       "    </tr>\n",
       "  </thead>\n",
       "  <tbody>\n",
       "    <tr>\n",
       "      <th>31346009</th>\n",
       "      <td>아이유</td>\n",
       "      <td>삐삐</td>\n",
       "      <td>1</td>\n",
       "      <td>삐삐</td>\n",
       "      <td>61528</td>\n",
       "      <td>https://cdnimg.melon.co.kr/cm/album/images/102...</td>\n",
       "    </tr>\n",
       "    <tr>\n",
       "      <th>31344113</th>\n",
       "      <td>로꼬</td>\n",
       "      <td>시간이 들겠지 (Feat. Colde)</td>\n",
       "      <td>2</td>\n",
       "      <td>시간이 들겠지</td>\n",
       "      <td>48331</td>\n",
       "      <td>https://cdnimg.melon.co.kr/cm/album/images/102...</td>\n",
       "    </tr>\n",
       "    <tr>\n",
       "      <th>31340985</th>\n",
       "      <td>pH-1</td>\n",
       "      <td>Good Day (Feat. 팔로알토) (Prod. 코드 쿤스트)</td>\n",
       "      <td>3</td>\n",
       "      <td>쇼미더머니 777 Episode 1</td>\n",
       "      <td>54022</td>\n",
       "      <td>https://cdnimg.melon.co.kr/cm/album/images/102...</td>\n",
       "    </tr>\n",
       "    <tr>\n",
       "      <th>31316695</th>\n",
       "      <td>임창정</td>\n",
       "      <td>하루도 그대를 사랑하지 않은 적이 없었다</td>\n",
       "      <td>4</td>\n",
       "      <td>하루도 그대를 사랑하지 않은 적이 없었다</td>\n",
       "      <td>97984</td>\n",
       "      <td>https://cdnimg.melon.co.kr/cm/album/images/102...</td>\n",
       "    </tr>\n",
       "    <tr>\n",
       "      <th>31266290</th>\n",
       "      <td>방탄소년단</td>\n",
       "      <td>IDOL</td>\n",
       "      <td>5</td>\n",
       "      <td>LOVE YOURSELF 結 `Answer`</td>\n",
       "      <td>173279</td>\n",
       "      <td>https://cdnimg.melon.co.kr/cm/album/images/101...</td>\n",
       "    </tr>\n",
       "  </tbody>\n",
       "</table>\n",
       "</div>"
      ],
      "text/plain": [
       "             가수                                    곡명  순위  \\\n",
       "곡일련번호                                                       \n",
       "31346009    아이유                                    삐삐   1   \n",
       "31344113     로꼬                 시간이 들겠지 (Feat. Colde)   2   \n",
       "31340985   pH-1  Good Day (Feat. 팔로알토) (Prod. 코드 쿤스트)   3   \n",
       "31316695    임창정                하루도 그대를 사랑하지 않은 적이 없었다   4   \n",
       "31266290  방탄소년단                                  IDOL   5   \n",
       "\n",
       "                                앨범     좋아요  \\\n",
       "곡일련번호                                        \n",
       "31346009                        삐삐   61528   \n",
       "31344113                   시간이 들겠지   48331   \n",
       "31340985       쇼미더머니 777 Episode 1   54022   \n",
       "31316695    하루도 그대를 사랑하지 않은 적이 없었다   97984   \n",
       "31266290  LOVE YOURSELF 結 `Answer`  173279   \n",
       "\n",
       "                                                   커버이미지_주소  \n",
       "곡일련번호                                                        \n",
       "31346009  https://cdnimg.melon.co.kr/cm/album/images/102...  \n",
       "31344113  https://cdnimg.melon.co.kr/cm/album/images/102...  \n",
       "31340985  https://cdnimg.melon.co.kr/cm/album/images/102...  \n",
       "31316695  https://cdnimg.melon.co.kr/cm/album/images/102...  \n",
       "31266290  https://cdnimg.melon.co.kr/cm/album/images/101...  "
      ]
     },
     "execution_count": 57,
     "metadata": {},
     "output_type": "execute_result"
    }
   ],
   "source": [
    "song_df = pd.DataFrame(song_list).set_index('곡일련번호')\n",
    "print(song_df.shape)\n",
    "song_df.head()"
   ]
  },
  {
   "cell_type": "code",
   "execution_count": 58,
   "metadata": {},
   "outputs": [
    {
     "data": {
      "text/html": [
       "<div>\n",
       "<style scoped>\n",
       "    .dataframe tbody tr th:only-of-type {\n",
       "        vertical-align: middle;\n",
       "    }\n",
       "\n",
       "    .dataframe tbody tr th {\n",
       "        vertical-align: top;\n",
       "    }\n",
       "\n",
       "    .dataframe thead th {\n",
       "        text-align: right;\n",
       "    }\n",
       "</style>\n",
       "<table border=\"1\" class=\"dataframe\">\n",
       "  <thead>\n",
       "    <tr style=\"text-align: right;\">\n",
       "      <th></th>\n",
       "      <th>가수</th>\n",
       "      <th>곡명</th>\n",
       "      <th>순위</th>\n",
       "      <th>앨범</th>\n",
       "      <th>좋아요</th>\n",
       "      <th>커버이미지_주소</th>\n",
       "    </tr>\n",
       "    <tr>\n",
       "      <th>곡일련번호</th>\n",
       "      <th></th>\n",
       "      <th></th>\n",
       "      <th></th>\n",
       "      <th></th>\n",
       "      <th></th>\n",
       "      <th></th>\n",
       "    </tr>\n",
       "  </thead>\n",
       "  <tbody>\n",
       "    <tr>\n",
       "      <th>31344113</th>\n",
       "      <td>로꼬</td>\n",
       "      <td>시간이 들겠지 (Feat. Colde)</td>\n",
       "      <td>2</td>\n",
       "      <td>시간이 들겠지</td>\n",
       "      <td>48331</td>\n",
       "      <td>https://cdnimg.melon.co.kr/cm/album/images/102...</td>\n",
       "    </tr>\n",
       "    <tr>\n",
       "      <th>31266290</th>\n",
       "      <td>방탄소년단</td>\n",
       "      <td>IDOL</td>\n",
       "      <td>5</td>\n",
       "      <td>LOVE YOURSELF 結 `Answer`</td>\n",
       "      <td>173279</td>\n",
       "      <td>https://cdnimg.melon.co.kr/cm/album/images/101...</td>\n",
       "    </tr>\n",
       "    <tr>\n",
       "      <th>31316695</th>\n",
       "      <td>임창정</td>\n",
       "      <td>하루도 그대를 사랑하지 않은 적이 없었다</td>\n",
       "      <td>4</td>\n",
       "      <td>하루도 그대를 사랑하지 않은 적이 없었다</td>\n",
       "      <td>97984</td>\n",
       "      <td>https://cdnimg.melon.co.kr/cm/album/images/102...</td>\n",
       "    </tr>\n",
       "  </tbody>\n",
       "</table>\n",
       "</div>"
      ],
      "text/plain": [
       "             가수                      곡명  순위                        앨범     좋아요  \\\n",
       "곡일련번호                                                                           \n",
       "31344113     로꼬   시간이 들겠지 (Feat. Colde)   2                   시간이 들겠지   48331   \n",
       "31266290  방탄소년단                    IDOL   5  LOVE YOURSELF 結 `Answer`  173279   \n",
       "31316695    임창정  하루도 그대를 사랑하지 않은 적이 없었다   4    하루도 그대를 사랑하지 않은 적이 없었다   97984   \n",
       "\n",
       "                                                   커버이미지_주소  \n",
       "곡일련번호                                                        \n",
       "31344113  https://cdnimg.melon.co.kr/cm/album/images/102...  \n",
       "31266290  https://cdnimg.melon.co.kr/cm/album/images/101...  \n",
       "31316695  https://cdnimg.melon.co.kr/cm/album/images/102...  "
      ]
     },
     "execution_count": 58,
     "metadata": {},
     "output_type": "execute_result"
    }
   ],
   "source": [
    "# song_df[['곡명', '좋아요']]\n",
    "song_df.loc[[31344113, 31266290, 31316695]]  # 개별 index 지정"
   ]
  },
  {
   "cell_type": "code",
   "execution_count": 59,
   "metadata": {},
   "outputs": [
    {
     "data": {
      "text/html": [
       "<div>\n",
       "<style scoped>\n",
       "    .dataframe tbody tr th:only-of-type {\n",
       "        vertical-align: middle;\n",
       "    }\n",
       "\n",
       "    .dataframe tbody tr th {\n",
       "        vertical-align: top;\n",
       "    }\n",
       "\n",
       "    .dataframe thead th {\n",
       "        text-align: right;\n",
       "    }\n",
       "</style>\n",
       "<table border=\"1\" class=\"dataframe\">\n",
       "  <thead>\n",
       "    <tr style=\"text-align: right;\">\n",
       "      <th></th>\n",
       "      <th>가수</th>\n",
       "      <th>곡명</th>\n",
       "      <th>순위</th>\n",
       "      <th>앨범</th>\n",
       "      <th>좋아요</th>\n",
       "      <th>커버이미지_주소</th>\n",
       "    </tr>\n",
       "    <tr>\n",
       "      <th>곡일련번호</th>\n",
       "      <th></th>\n",
       "      <th></th>\n",
       "      <th></th>\n",
       "      <th></th>\n",
       "      <th></th>\n",
       "      <th></th>\n",
       "    </tr>\n",
       "  </thead>\n",
       "  <tbody>\n",
       "    <tr>\n",
       "      <th>31340985</th>\n",
       "      <td>pH-1</td>\n",
       "      <td>Good Day (Feat. 팔로알토) (Prod. 코드 쿤스트)</td>\n",
       "      <td>3</td>\n",
       "      <td>쇼미더머니 777 Episode 1</td>\n",
       "      <td>54022</td>\n",
       "      <td>https://cdnimg.melon.co.kr/cm/album/images/102...</td>\n",
       "    </tr>\n",
       "    <tr>\n",
       "      <th>31316695</th>\n",
       "      <td>임창정</td>\n",
       "      <td>하루도 그대를 사랑하지 않은 적이 없었다</td>\n",
       "      <td>4</td>\n",
       "      <td>하루도 그대를 사랑하지 않은 적이 없었다</td>\n",
       "      <td>97984</td>\n",
       "      <td>https://cdnimg.melon.co.kr/cm/album/images/102...</td>\n",
       "    </tr>\n",
       "    <tr>\n",
       "      <th>31266290</th>\n",
       "      <td>방탄소년단</td>\n",
       "      <td>IDOL</td>\n",
       "      <td>5</td>\n",
       "      <td>LOVE YOURSELF 結 `Answer`</td>\n",
       "      <td>173279</td>\n",
       "      <td>https://cdnimg.melon.co.kr/cm/album/images/101...</td>\n",
       "    </tr>\n",
       "  </tbody>\n",
       "</table>\n",
       "</div>"
      ],
      "text/plain": [
       "             가수                                    곡명  순위  \\\n",
       "곡일련번호                                                       \n",
       "31340985   pH-1  Good Day (Feat. 팔로알토) (Prod. 코드 쿤스트)   3   \n",
       "31316695    임창정                하루도 그대를 사랑하지 않은 적이 없었다   4   \n",
       "31266290  방탄소년단                                  IDOL   5   \n",
       "\n",
       "                                앨범     좋아요  \\\n",
       "곡일련번호                                        \n",
       "31340985       쇼미더머니 777 Episode 1   54022   \n",
       "31316695    하루도 그대를 사랑하지 않은 적이 없었다   97984   \n",
       "31266290  LOVE YOURSELF 結 `Answer`  173279   \n",
       "\n",
       "                                                   커버이미지_주소  \n",
       "곡일련번호                                                        \n",
       "31340985  https://cdnimg.melon.co.kr/cm/album/images/102...  \n",
       "31316695  https://cdnimg.melon.co.kr/cm/album/images/102...  \n",
       "31266290  https://cdnimg.melon.co.kr/cm/album/images/101...  "
      ]
     },
     "execution_count": 59,
     "metadata": {},
     "output_type": "execute_result"
    }
   ],
   "source": [
    "song_df.loc[31340985:31266290]"
   ]
  },
  {
   "cell_type": "code",
   "execution_count": 60,
   "metadata": {},
   "outputs": [
    {
     "data": {
      "text/html": [
       "<div>\n",
       "<style scoped>\n",
       "    .dataframe tbody tr th:only-of-type {\n",
       "        vertical-align: middle;\n",
       "    }\n",
       "\n",
       "    .dataframe tbody tr th {\n",
       "        vertical-align: top;\n",
       "    }\n",
       "\n",
       "    .dataframe thead th {\n",
       "        text-align: right;\n",
       "    }\n",
       "</style>\n",
       "<table border=\"1\" class=\"dataframe\">\n",
       "  <thead>\n",
       "    <tr style=\"text-align: right;\">\n",
       "      <th></th>\n",
       "      <th>곡명</th>\n",
       "      <th>좋아요</th>\n",
       "    </tr>\n",
       "    <tr>\n",
       "      <th>곡일련번호</th>\n",
       "      <th></th>\n",
       "      <th></th>\n",
       "    </tr>\n",
       "  </thead>\n",
       "  <tbody>\n",
       "    <tr>\n",
       "      <th>31340985</th>\n",
       "      <td>Good Day (Feat. 팔로알토) (Prod. 코드 쿤스트)</td>\n",
       "      <td>54022</td>\n",
       "    </tr>\n",
       "    <tr>\n",
       "      <th>31316695</th>\n",
       "      <td>하루도 그대를 사랑하지 않은 적이 없었다</td>\n",
       "      <td>97984</td>\n",
       "    </tr>\n",
       "    <tr>\n",
       "      <th>31266290</th>\n",
       "      <td>IDOL</td>\n",
       "      <td>173279</td>\n",
       "    </tr>\n",
       "  </tbody>\n",
       "</table>\n",
       "</div>"
      ],
      "text/plain": [
       "                                            곡명     좋아요\n",
       "곡일련번호                                                 \n",
       "31340985  Good Day (Feat. 팔로알토) (Prod. 코드 쿤스트)   54022\n",
       "31316695                하루도 그대를 사랑하지 않은 적이 없었다   97984\n",
       "31266290                                  IDOL  173279"
      ]
     },
     "execution_count": 60,
     "metadata": {},
     "output_type": "execute_result"
    }
   ],
   "source": [
    "song_df.loc[31340985:31266290][['곡명', '좋아요']]"
   ]
  },
  {
   "cell_type": "code",
   "execution_count": 61,
   "metadata": {},
   "outputs": [
    {
     "data": {
      "text/html": [
       "<div>\n",
       "<style scoped>\n",
       "    .dataframe tbody tr th:only-of-type {\n",
       "        vertical-align: middle;\n",
       "    }\n",
       "\n",
       "    .dataframe tbody tr th {\n",
       "        vertical-align: top;\n",
       "    }\n",
       "\n",
       "    .dataframe thead th {\n",
       "        text-align: right;\n",
       "    }\n",
       "</style>\n",
       "<table border=\"1\" class=\"dataframe\">\n",
       "  <thead>\n",
       "    <tr style=\"text-align: right;\">\n",
       "      <th></th>\n",
       "      <th>곡명</th>\n",
       "      <th>좋아요</th>\n",
       "    </tr>\n",
       "    <tr>\n",
       "      <th>곡일련번호</th>\n",
       "      <th></th>\n",
       "      <th></th>\n",
       "    </tr>\n",
       "  </thead>\n",
       "  <tbody>\n",
       "    <tr>\n",
       "      <th>31340985</th>\n",
       "      <td>Good Day (Feat. 팔로알토) (Prod. 코드 쿤스트)</td>\n",
       "      <td>54022</td>\n",
       "    </tr>\n",
       "    <tr>\n",
       "      <th>31316695</th>\n",
       "      <td>하루도 그대를 사랑하지 않은 적이 없었다</td>\n",
       "      <td>97984</td>\n",
       "    </tr>\n",
       "    <tr>\n",
       "      <th>31266290</th>\n",
       "      <td>IDOL</td>\n",
       "      <td>173279</td>\n",
       "    </tr>\n",
       "  </tbody>\n",
       "</table>\n",
       "</div>"
      ],
      "text/plain": [
       "                                            곡명     좋아요\n",
       "곡일련번호                                                 \n",
       "31340985  Good Day (Feat. 팔로알토) (Prod. 코드 쿤스트)   54022\n",
       "31316695                하루도 그대를 사랑하지 않은 적이 없었다   97984\n",
       "31266290                                  IDOL  173279"
      ]
     },
     "execution_count": 61,
     "metadata": {},
     "output_type": "execute_result"
    }
   ],
   "source": [
    "song_df.loc[31340985:31266290, ['곡명', '좋아요']]"
   ]
  },
  {
   "cell_type": "code",
   "execution_count": 62,
   "metadata": {},
   "outputs": [
    {
     "data": {
      "text/html": [
       "<div>\n",
       "<style scoped>\n",
       "    .dataframe tbody tr th:only-of-type {\n",
       "        vertical-align: middle;\n",
       "    }\n",
       "\n",
       "    .dataframe tbody tr th {\n",
       "        vertical-align: top;\n",
       "    }\n",
       "\n",
       "    .dataframe thead th {\n",
       "        text-align: right;\n",
       "    }\n",
       "</style>\n",
       "<table border=\"1\" class=\"dataframe\">\n",
       "  <thead>\n",
       "    <tr style=\"text-align: right;\">\n",
       "      <th></th>\n",
       "      <th>곡명</th>\n",
       "      <th>좋아요</th>\n",
       "    </tr>\n",
       "    <tr>\n",
       "      <th>곡일련번호</th>\n",
       "      <th></th>\n",
       "      <th></th>\n",
       "    </tr>\n",
       "  </thead>\n",
       "  <tbody>\n",
       "    <tr>\n",
       "      <th>31346009</th>\n",
       "      <td>삐삐</td>\n",
       "      <td>61528</td>\n",
       "    </tr>\n",
       "    <tr>\n",
       "      <th>31344113</th>\n",
       "      <td>시간이 들겠지 (Feat. Colde)</td>\n",
       "      <td>48331</td>\n",
       "    </tr>\n",
       "    <tr>\n",
       "      <th>31340985</th>\n",
       "      <td>Good Day (Feat. 팔로알토) (Prod. 코드 쿤스트)</td>\n",
       "      <td>54022</td>\n",
       "    </tr>\n",
       "    <tr>\n",
       "      <th>31316695</th>\n",
       "      <td>하루도 그대를 사랑하지 않은 적이 없었다</td>\n",
       "      <td>97984</td>\n",
       "    </tr>\n",
       "    <tr>\n",
       "      <th>31266290</th>\n",
       "      <td>IDOL</td>\n",
       "      <td>173279</td>\n",
       "    </tr>\n",
       "  </tbody>\n",
       "</table>\n",
       "</div>"
      ],
      "text/plain": [
       "                                            곡명     좋아요\n",
       "곡일련번호                                                 \n",
       "31346009                                    삐삐   61528\n",
       "31344113                 시간이 들겠지 (Feat. Colde)   48331\n",
       "31340985  Good Day (Feat. 팔로알토) (Prod. 코드 쿤스트)   54022\n",
       "31316695                하루도 그대를 사랑하지 않은 적이 없었다   97984\n",
       "31266290                                  IDOL  173279"
      ]
     },
     "execution_count": 62,
     "metadata": {},
     "output_type": "execute_result"
    }
   ],
   "source": [
    "# song_df[['곡명', '좋아요']].head()\n",
    "song_df.loc[:, ['곡명', '좋아요']].head()"
   ]
  },
  {
   "cell_type": "code",
   "execution_count": 63,
   "metadata": {},
   "outputs": [
    {
     "name": "stdout",
     "output_type": "stream",
     "text": [
      "FAKE LOVE 253847\n",
      "Way Back Home 225308\n",
      "봄날 359130\n",
      "DNA 323911\n",
      "에너제틱 (Energetic) 268394\n",
      "사랑을 했다 (LOVE SCENARIO) 267692\n",
      "Beautiful 216065\n",
      "밤편지 283167\n",
      "그날처럼 208427\n",
      "그리워하다 203463\n",
      "선물 266869\n"
     ]
    }
   ],
   "source": [
    "for index, row in song_df.iterrows():\n",
    "    if row['좋아요'] >= 200_000:\n",
    "        print('{곡명} {좋아요}'.format(**row))"
   ]
  },
  {
   "cell_type": "code",
   "execution_count": 64,
   "metadata": {},
   "outputs": [
    {
     "data": {
      "text/html": [
       "<div>\n",
       "<style scoped>\n",
       "    .dataframe tbody tr th:only-of-type {\n",
       "        vertical-align: middle;\n",
       "    }\n",
       "\n",
       "    .dataframe tbody tr th {\n",
       "        vertical-align: top;\n",
       "    }\n",
       "\n",
       "    .dataframe thead th {\n",
       "        text-align: right;\n",
       "    }\n",
       "</style>\n",
       "<table border=\"1\" class=\"dataframe\">\n",
       "  <thead>\n",
       "    <tr style=\"text-align: right;\">\n",
       "      <th></th>\n",
       "      <th>가수</th>\n",
       "      <th>곡명</th>\n",
       "      <th>순위</th>\n",
       "      <th>앨범</th>\n",
       "      <th>좋아요</th>\n",
       "      <th>커버이미지_주소</th>\n",
       "    </tr>\n",
       "    <tr>\n",
       "      <th>곡일련번호</th>\n",
       "      <th></th>\n",
       "      <th></th>\n",
       "      <th></th>\n",
       "      <th></th>\n",
       "      <th></th>\n",
       "      <th></th>\n",
       "    </tr>\n",
       "  </thead>\n",
       "  <tbody>\n",
       "    <tr>\n",
       "      <th>31085237</th>\n",
       "      <td>방탄소년단</td>\n",
       "      <td>FAKE LOVE</td>\n",
       "      <td>10</td>\n",
       "      <td>LOVE YOURSELF 轉 `Tear`</td>\n",
       "      <td>253847</td>\n",
       "      <td>https://cdnimg.melon.co.kr/cm/album/images/101...</td>\n",
       "    </tr>\n",
       "    <tr>\n",
       "      <th>30244931</th>\n",
       "      <td>방탄소년단</td>\n",
       "      <td>봄날</td>\n",
       "      <td>26</td>\n",
       "      <td>YOU NEVER WALK ALONE</td>\n",
       "      <td>359130</td>\n",
       "      <td>https://cdnimg.melon.co.kr/cm/album/images/100...</td>\n",
       "    </tr>\n",
       "    <tr>\n",
       "      <th>30637982</th>\n",
       "      <td>방탄소년단</td>\n",
       "      <td>DNA</td>\n",
       "      <td>27</td>\n",
       "      <td>LOVE YOURSELF 承 `Her`</td>\n",
       "      <td>323911</td>\n",
       "      <td>https://cdnimg.melon.co.kr/cm/album/images/100...</td>\n",
       "    </tr>\n",
       "  </tbody>\n",
       "</table>\n",
       "</div>"
      ],
      "text/plain": [
       "             가수         곡명  순위                      앨범     좋아요  \\\n",
       "곡일련번호                                                            \n",
       "31085237  방탄소년단  FAKE LOVE  10  LOVE YOURSELF 轉 `Tear`  253847   \n",
       "30244931  방탄소년단         봄날  26    YOU NEVER WALK ALONE  359130   \n",
       "30637982  방탄소년단        DNA  27   LOVE YOURSELF 承 `Her`  323911   \n",
       "\n",
       "                                                   커버이미지_주소  \n",
       "곡일련번호                                                        \n",
       "31085237  https://cdnimg.melon.co.kr/cm/album/images/101...  \n",
       "30244931  https://cdnimg.melon.co.kr/cm/album/images/100...  \n",
       "30637982  https://cdnimg.melon.co.kr/cm/album/images/100...  "
      ]
     },
     "metadata": {},
     "output_type": "display_data"
    }
   ],
   "source": [
    "# mask = song_df['가수'] == '방탄소년단'  # Broadcast => Boolean Mask\n",
    "# mask = song_df['좋아요'] >= 200_000\n",
    "# mask = song_df['곡명'].str.contains('가을')\n",
    "\n",
    "# mask = (song_df['가수'] == '방탄소년단') & (song_df['좋아요'] >= 200_000)\n",
    "\n",
    "mask = song_df['가수'] == '방탄소년단'\n",
    "mask &= song_df['좋아요'] >= 200_000\n",
    "\n",
    "# from IPython.display import display\n",
    "# display(song_df.loc[mask])\n",
    "display(song_df.loc[mask])"
   ]
  },
  {
   "cell_type": "code",
   "execution_count": 65,
   "metadata": {},
   "outputs": [],
   "source": [
    "# df.loc를 쓰는 4가지 패턴\n",
    "\n",
    "# song_df.loc[31344113]\n",
    "# song_df.loc[[31344113, 31340985, 31316695]]\n",
    "# song_df.loc[31344113:31316695]\n",
    "# song_df.loc[mask] => song_df[mask]"
   ]
  },
  {
   "cell_type": "code",
   "execution_count": null,
   "metadata": {},
   "outputs": [],
   "source": []
  },
  {
   "cell_type": "code",
   "execution_count": 66,
   "metadata": {},
   "outputs": [
    {
     "data": {
      "text/html": [
       "<div>\n",
       "<style scoped>\n",
       "    .dataframe tbody tr th:only-of-type {\n",
       "        vertical-align: middle;\n",
       "    }\n",
       "\n",
       "    .dataframe tbody tr th {\n",
       "        vertical-align: top;\n",
       "    }\n",
       "\n",
       "    .dataframe thead th {\n",
       "        text-align: right;\n",
       "    }\n",
       "</style>\n",
       "<table border=\"1\" class=\"dataframe\">\n",
       "  <thead>\n",
       "    <tr style=\"text-align: right;\">\n",
       "      <th></th>\n",
       "      <th>곡명</th>\n",
       "    </tr>\n",
       "    <tr>\n",
       "      <th>곡일련번호</th>\n",
       "      <th></th>\n",
       "    </tr>\n",
       "  </thead>\n",
       "  <tbody>\n",
       "    <tr>\n",
       "      <th>31346009</th>\n",
       "      <td>삐삐</td>\n",
       "    </tr>\n",
       "    <tr>\n",
       "      <th>31344113</th>\n",
       "      <td>시간이 들겠지 (Feat. Colde)</td>\n",
       "    </tr>\n",
       "    <tr>\n",
       "      <th>31340985</th>\n",
       "      <td>Good Day (Feat. 팔로알토) (Prod. 코드 쿤스트)</td>\n",
       "    </tr>\n",
       "  </tbody>\n",
       "</table>\n",
       "</div>"
      ],
      "text/plain": [
       "                                            곡명\n",
       "곡일련번호                                         \n",
       "31346009                                    삐삐\n",
       "31344113                 시간이 들겠지 (Feat. Colde)\n",
       "31340985  Good Day (Feat. 팔로알토) (Prod. 코드 쿤스트)"
      ]
     },
     "execution_count": 66,
     "metadata": {},
     "output_type": "execute_result"
    }
   ],
   "source": [
    "# song_df.loc[31346009:31340985]\n",
    "song_df.iloc[:3, :3]\n",
    "song_df.iloc[:3, -3:]\n",
    "song_df.iloc[:3][['곡명']]"
   ]
  },
  {
   "cell_type": "code",
   "execution_count": null,
   "metadata": {},
   "outputs": [],
   "source": []
  },
  {
   "cell_type": "markdown",
   "metadata": {},
   "source": [
    "# kaggle.com에서 받은 titanic 데이터\n",
    "\n",
    "https://www.kaggle.com/c/titanic/data"
   ]
  },
  {
   "cell_type": "code",
   "execution_count": 67,
   "metadata": {
    "collapsed": true
   },
   "outputs": [
    {
     "name": "stdout",
     "output_type": "stream",
     "text": [
      "(891, 11)\n"
     ]
    },
    {
     "data": {
      "text/html": [
       "<div>\n",
       "<style scoped>\n",
       "    .dataframe tbody tr th:only-of-type {\n",
       "        vertical-align: middle;\n",
       "    }\n",
       "\n",
       "    .dataframe tbody tr th {\n",
       "        vertical-align: top;\n",
       "    }\n",
       "\n",
       "    .dataframe thead th {\n",
       "        text-align: right;\n",
       "    }\n",
       "</style>\n",
       "<table border=\"1\" class=\"dataframe\">\n",
       "  <thead>\n",
       "    <tr style=\"text-align: right;\">\n",
       "      <th></th>\n",
       "      <th>Survived</th>\n",
       "      <th>Pclass</th>\n",
       "      <th>Name</th>\n",
       "      <th>Sex</th>\n",
       "      <th>Age</th>\n",
       "      <th>SibSp</th>\n",
       "      <th>Parch</th>\n",
       "      <th>Ticket</th>\n",
       "      <th>Fare</th>\n",
       "      <th>Cabin</th>\n",
       "      <th>Embarked</th>\n",
       "    </tr>\n",
       "    <tr>\n",
       "      <th>PassengerId</th>\n",
       "      <th></th>\n",
       "      <th></th>\n",
       "      <th></th>\n",
       "      <th></th>\n",
       "      <th></th>\n",
       "      <th></th>\n",
       "      <th></th>\n",
       "      <th></th>\n",
       "      <th></th>\n",
       "      <th></th>\n",
       "      <th></th>\n",
       "    </tr>\n",
       "  </thead>\n",
       "  <tbody>\n",
       "    <tr>\n",
       "      <th>1</th>\n",
       "      <td>0</td>\n",
       "      <td>3</td>\n",
       "      <td>Braund, Mr. Owen Harris</td>\n",
       "      <td>male</td>\n",
       "      <td>22.0</td>\n",
       "      <td>1</td>\n",
       "      <td>0</td>\n",
       "      <td>A/5 21171</td>\n",
       "      <td>7.2500</td>\n",
       "      <td>NaN</td>\n",
       "      <td>S</td>\n",
       "    </tr>\n",
       "    <tr>\n",
       "      <th>2</th>\n",
       "      <td>1</td>\n",
       "      <td>1</td>\n",
       "      <td>Cumings, Mrs. John Bradley (Florence Briggs Th...</td>\n",
       "      <td>female</td>\n",
       "      <td>38.0</td>\n",
       "      <td>1</td>\n",
       "      <td>0</td>\n",
       "      <td>PC 17599</td>\n",
       "      <td>71.2833</td>\n",
       "      <td>C85</td>\n",
       "      <td>C</td>\n",
       "    </tr>\n",
       "    <tr>\n",
       "      <th>3</th>\n",
       "      <td>1</td>\n",
       "      <td>3</td>\n",
       "      <td>Heikkinen, Miss. Laina</td>\n",
       "      <td>female</td>\n",
       "      <td>26.0</td>\n",
       "      <td>0</td>\n",
       "      <td>0</td>\n",
       "      <td>STON/O2. 3101282</td>\n",
       "      <td>7.9250</td>\n",
       "      <td>NaN</td>\n",
       "      <td>S</td>\n",
       "    </tr>\n",
       "    <tr>\n",
       "      <th>4</th>\n",
       "      <td>1</td>\n",
       "      <td>1</td>\n",
       "      <td>Futrelle, Mrs. Jacques Heath (Lily May Peel)</td>\n",
       "      <td>female</td>\n",
       "      <td>35.0</td>\n",
       "      <td>1</td>\n",
       "      <td>0</td>\n",
       "      <td>113803</td>\n",
       "      <td>53.1000</td>\n",
       "      <td>C123</td>\n",
       "      <td>S</td>\n",
       "    </tr>\n",
       "    <tr>\n",
       "      <th>5</th>\n",
       "      <td>0</td>\n",
       "      <td>3</td>\n",
       "      <td>Allen, Mr. William Henry</td>\n",
       "      <td>male</td>\n",
       "      <td>35.0</td>\n",
       "      <td>0</td>\n",
       "      <td>0</td>\n",
       "      <td>373450</td>\n",
       "      <td>8.0500</td>\n",
       "      <td>NaN</td>\n",
       "      <td>S</td>\n",
       "    </tr>\n",
       "  </tbody>\n",
       "</table>\n",
       "</div>"
      ],
      "text/plain": [
       "             Survived  Pclass  \\\n",
       "PassengerId                     \n",
       "1                   0       3   \n",
       "2                   1       1   \n",
       "3                   1       3   \n",
       "4                   1       1   \n",
       "5                   0       3   \n",
       "\n",
       "                                                          Name     Sex   Age  \\\n",
       "PassengerId                                                                    \n",
       "1                                      Braund, Mr. Owen Harris    male  22.0   \n",
       "2            Cumings, Mrs. John Bradley (Florence Briggs Th...  female  38.0   \n",
       "3                                       Heikkinen, Miss. Laina  female  26.0   \n",
       "4                 Futrelle, Mrs. Jacques Heath (Lily May Peel)  female  35.0   \n",
       "5                                     Allen, Mr. William Henry    male  35.0   \n",
       "\n",
       "             SibSp  Parch            Ticket     Fare Cabin Embarked  \n",
       "PassengerId                                                          \n",
       "1                1      0         A/5 21171   7.2500   NaN        S  \n",
       "2                1      0          PC 17599  71.2833   C85        C  \n",
       "3                0      0  STON/O2. 3101282   7.9250   NaN        S  \n",
       "4                1      0            113803  53.1000  C123        S  \n",
       "5                0      0            373450   8.0500   NaN        S  "
      ]
     },
     "execution_count": 67,
     "metadata": {},
     "output_type": "execute_result"
    }
   ],
   "source": [
    "train_df = pd.read_csv(\"data/titanic/train.csv\", index_col='PassengerId') #.set_index('PassengerId')\n",
    "print(train_df.shape)\n",
    "train_df.head()"
   ]
  },
  {
   "cell_type": "code",
   "execution_count": 68,
   "metadata": {
    "collapsed": true
   },
   "outputs": [
    {
     "name": "stdout",
     "output_type": "stream",
     "text": [
      "(418, 10)\n"
     ]
    },
    {
     "data": {
      "text/html": [
       "<div>\n",
       "<style scoped>\n",
       "    .dataframe tbody tr th:only-of-type {\n",
       "        vertical-align: middle;\n",
       "    }\n",
       "\n",
       "    .dataframe tbody tr th {\n",
       "        vertical-align: top;\n",
       "    }\n",
       "\n",
       "    .dataframe thead th {\n",
       "        text-align: right;\n",
       "    }\n",
       "</style>\n",
       "<table border=\"1\" class=\"dataframe\">\n",
       "  <thead>\n",
       "    <tr style=\"text-align: right;\">\n",
       "      <th></th>\n",
       "      <th>Pclass</th>\n",
       "      <th>Name</th>\n",
       "      <th>Sex</th>\n",
       "      <th>Age</th>\n",
       "      <th>SibSp</th>\n",
       "      <th>Parch</th>\n",
       "      <th>Ticket</th>\n",
       "      <th>Fare</th>\n",
       "      <th>Cabin</th>\n",
       "      <th>Embarked</th>\n",
       "    </tr>\n",
       "    <tr>\n",
       "      <th>PassengerId</th>\n",
       "      <th></th>\n",
       "      <th></th>\n",
       "      <th></th>\n",
       "      <th></th>\n",
       "      <th></th>\n",
       "      <th></th>\n",
       "      <th></th>\n",
       "      <th></th>\n",
       "      <th></th>\n",
       "      <th></th>\n",
       "    </tr>\n",
       "  </thead>\n",
       "  <tbody>\n",
       "    <tr>\n",
       "      <th>892</th>\n",
       "      <td>3</td>\n",
       "      <td>Kelly, Mr. James</td>\n",
       "      <td>male</td>\n",
       "      <td>34.5</td>\n",
       "      <td>0</td>\n",
       "      <td>0</td>\n",
       "      <td>330911</td>\n",
       "      <td>7.8292</td>\n",
       "      <td>NaN</td>\n",
       "      <td>Q</td>\n",
       "    </tr>\n",
       "    <tr>\n",
       "      <th>893</th>\n",
       "      <td>3</td>\n",
       "      <td>Wilkes, Mrs. James (Ellen Needs)</td>\n",
       "      <td>female</td>\n",
       "      <td>47.0</td>\n",
       "      <td>1</td>\n",
       "      <td>0</td>\n",
       "      <td>363272</td>\n",
       "      <td>7.0000</td>\n",
       "      <td>NaN</td>\n",
       "      <td>S</td>\n",
       "    </tr>\n",
       "    <tr>\n",
       "      <th>894</th>\n",
       "      <td>2</td>\n",
       "      <td>Myles, Mr. Thomas Francis</td>\n",
       "      <td>male</td>\n",
       "      <td>62.0</td>\n",
       "      <td>0</td>\n",
       "      <td>0</td>\n",
       "      <td>240276</td>\n",
       "      <td>9.6875</td>\n",
       "      <td>NaN</td>\n",
       "      <td>Q</td>\n",
       "    </tr>\n",
       "    <tr>\n",
       "      <th>895</th>\n",
       "      <td>3</td>\n",
       "      <td>Wirz, Mr. Albert</td>\n",
       "      <td>male</td>\n",
       "      <td>27.0</td>\n",
       "      <td>0</td>\n",
       "      <td>0</td>\n",
       "      <td>315154</td>\n",
       "      <td>8.6625</td>\n",
       "      <td>NaN</td>\n",
       "      <td>S</td>\n",
       "    </tr>\n",
       "    <tr>\n",
       "      <th>896</th>\n",
       "      <td>3</td>\n",
       "      <td>Hirvonen, Mrs. Alexander (Helga E Lindqvist)</td>\n",
       "      <td>female</td>\n",
       "      <td>22.0</td>\n",
       "      <td>1</td>\n",
       "      <td>1</td>\n",
       "      <td>3101298</td>\n",
       "      <td>12.2875</td>\n",
       "      <td>NaN</td>\n",
       "      <td>S</td>\n",
       "    </tr>\n",
       "  </tbody>\n",
       "</table>\n",
       "</div>"
      ],
      "text/plain": [
       "             Pclass                                          Name     Sex  \\\n",
       "PassengerId                                                                 \n",
       "892               3                              Kelly, Mr. James    male   \n",
       "893               3              Wilkes, Mrs. James (Ellen Needs)  female   \n",
       "894               2                     Myles, Mr. Thomas Francis    male   \n",
       "895               3                              Wirz, Mr. Albert    male   \n",
       "896               3  Hirvonen, Mrs. Alexander (Helga E Lindqvist)  female   \n",
       "\n",
       "              Age  SibSp  Parch   Ticket     Fare Cabin Embarked  \n",
       "PassengerId                                                       \n",
       "892          34.5      0      0   330911   7.8292   NaN        Q  \n",
       "893          47.0      1      0   363272   7.0000   NaN        S  \n",
       "894          62.0      0      0   240276   9.6875   NaN        Q  \n",
       "895          27.0      0      0   315154   8.6625   NaN        S  \n",
       "896          22.0      1      1  3101298  12.2875   NaN        S  "
      ]
     },
     "execution_count": 68,
     "metadata": {},
     "output_type": "execute_result"
    }
   ],
   "source": [
    "test_df = pd.read_csv('data/titanic/test.csv', index_col='PassengerId')\n",
    "print(test_df.shape)\n",
    "test_df.head()"
   ]
  },
  {
   "cell_type": "code",
   "execution_count": 69,
   "metadata": {},
   "outputs": [
    {
     "data": {
      "text/plain": [
       "Int64Index([  1,   2,   3,   4,   5,   6,   7,   8,   9,  10,\n",
       "            ...\n",
       "            882, 883, 884, 885, 886, 887, 888, 889, 890, 891],\n",
       "           dtype='int64', name='PassengerId', length=891)"
      ]
     },
     "execution_count": 69,
     "metadata": {},
     "output_type": "execute_result"
    }
   ],
   "source": [
    "train_df.index"
   ]
  },
  {
   "cell_type": "code",
   "execution_count": 70,
   "metadata": {},
   "outputs": [
    {
     "data": {
      "text/plain": [
       "Index(['Survived', 'Pclass', 'Name', 'Sex', 'Age', 'SibSp', 'Parch', 'Ticket',\n",
       "       'Fare', 'Cabin', 'Embarked'],\n",
       "      dtype='object')"
      ]
     },
     "execution_count": 70,
     "metadata": {},
     "output_type": "execute_result"
    }
   ],
   "source": [
    "train_df.columns"
   ]
  },
  {
   "cell_type": "code",
   "execution_count": 71,
   "metadata": {},
   "outputs": [
    {
     "data": {
      "text/html": [
       "<div>\n",
       "<style scoped>\n",
       "    .dataframe tbody tr th:only-of-type {\n",
       "        vertical-align: middle;\n",
       "    }\n",
       "\n",
       "    .dataframe tbody tr th {\n",
       "        vertical-align: top;\n",
       "    }\n",
       "\n",
       "    .dataframe thead th {\n",
       "        text-align: right;\n",
       "    }\n",
       "</style>\n",
       "<table border=\"1\" class=\"dataframe\">\n",
       "  <thead>\n",
       "    <tr style=\"text-align: right;\">\n",
       "      <th></th>\n",
       "      <th>Sex</th>\n",
       "      <th>Survived</th>\n",
       "    </tr>\n",
       "    <tr>\n",
       "      <th>PassengerId</th>\n",
       "      <th></th>\n",
       "      <th></th>\n",
       "    </tr>\n",
       "  </thead>\n",
       "  <tbody>\n",
       "    <tr>\n",
       "      <th>2</th>\n",
       "      <td>female</td>\n",
       "      <td>1</td>\n",
       "    </tr>\n",
       "    <tr>\n",
       "      <th>3</th>\n",
       "      <td>female</td>\n",
       "      <td>1</td>\n",
       "    </tr>\n",
       "    <tr>\n",
       "      <th>4</th>\n",
       "      <td>female</td>\n",
       "      <td>1</td>\n",
       "    </tr>\n",
       "    <tr>\n",
       "      <th>9</th>\n",
       "      <td>female</td>\n",
       "      <td>1</td>\n",
       "    </tr>\n",
       "    <tr>\n",
       "      <th>10</th>\n",
       "      <td>female</td>\n",
       "      <td>1</td>\n",
       "    </tr>\n",
       "    <tr>\n",
       "      <th>11</th>\n",
       "      <td>female</td>\n",
       "      <td>1</td>\n",
       "    </tr>\n",
       "    <tr>\n",
       "      <th>12</th>\n",
       "      <td>female</td>\n",
       "      <td>1</td>\n",
       "    </tr>\n",
       "    <tr>\n",
       "      <th>15</th>\n",
       "      <td>female</td>\n",
       "      <td>0</td>\n",
       "    </tr>\n",
       "    <tr>\n",
       "      <th>16</th>\n",
       "      <td>female</td>\n",
       "      <td>1</td>\n",
       "    </tr>\n",
       "    <tr>\n",
       "      <th>19</th>\n",
       "      <td>female</td>\n",
       "      <td>0</td>\n",
       "    </tr>\n",
       "    <tr>\n",
       "      <th>20</th>\n",
       "      <td>female</td>\n",
       "      <td>1</td>\n",
       "    </tr>\n",
       "    <tr>\n",
       "      <th>23</th>\n",
       "      <td>female</td>\n",
       "      <td>1</td>\n",
       "    </tr>\n",
       "    <tr>\n",
       "      <th>25</th>\n",
       "      <td>female</td>\n",
       "      <td>0</td>\n",
       "    </tr>\n",
       "    <tr>\n",
       "      <th>26</th>\n",
       "      <td>female</td>\n",
       "      <td>1</td>\n",
       "    </tr>\n",
       "    <tr>\n",
       "      <th>29</th>\n",
       "      <td>female</td>\n",
       "      <td>1</td>\n",
       "    </tr>\n",
       "    <tr>\n",
       "      <th>32</th>\n",
       "      <td>female</td>\n",
       "      <td>1</td>\n",
       "    </tr>\n",
       "    <tr>\n",
       "      <th>33</th>\n",
       "      <td>female</td>\n",
       "      <td>1</td>\n",
       "    </tr>\n",
       "    <tr>\n",
       "      <th>39</th>\n",
       "      <td>female</td>\n",
       "      <td>0</td>\n",
       "    </tr>\n",
       "    <tr>\n",
       "      <th>40</th>\n",
       "      <td>female</td>\n",
       "      <td>1</td>\n",
       "    </tr>\n",
       "    <tr>\n",
       "      <th>41</th>\n",
       "      <td>female</td>\n",
       "      <td>0</td>\n",
       "    </tr>\n",
       "    <tr>\n",
       "      <th>42</th>\n",
       "      <td>female</td>\n",
       "      <td>0</td>\n",
       "    </tr>\n",
       "    <tr>\n",
       "      <th>44</th>\n",
       "      <td>female</td>\n",
       "      <td>1</td>\n",
       "    </tr>\n",
       "    <tr>\n",
       "      <th>45</th>\n",
       "      <td>female</td>\n",
       "      <td>1</td>\n",
       "    </tr>\n",
       "    <tr>\n",
       "      <th>48</th>\n",
       "      <td>female</td>\n",
       "      <td>1</td>\n",
       "    </tr>\n",
       "    <tr>\n",
       "      <th>50</th>\n",
       "      <td>female</td>\n",
       "      <td>0</td>\n",
       "    </tr>\n",
       "    <tr>\n",
       "      <th>53</th>\n",
       "      <td>female</td>\n",
       "      <td>1</td>\n",
       "    </tr>\n",
       "    <tr>\n",
       "      <th>54</th>\n",
       "      <td>female</td>\n",
       "      <td>1</td>\n",
       "    </tr>\n",
       "    <tr>\n",
       "      <th>57</th>\n",
       "      <td>female</td>\n",
       "      <td>1</td>\n",
       "    </tr>\n",
       "    <tr>\n",
       "      <th>59</th>\n",
       "      <td>female</td>\n",
       "      <td>1</td>\n",
       "    </tr>\n",
       "    <tr>\n",
       "      <th>62</th>\n",
       "      <td>female</td>\n",
       "      <td>1</td>\n",
       "    </tr>\n",
       "    <tr>\n",
       "      <th>...</th>\n",
       "      <td>...</td>\n",
       "      <td>...</td>\n",
       "    </tr>\n",
       "    <tr>\n",
       "      <th>808</th>\n",
       "      <td>female</td>\n",
       "      <td>0</td>\n",
       "    </tr>\n",
       "    <tr>\n",
       "      <th>810</th>\n",
       "      <td>female</td>\n",
       "      <td>1</td>\n",
       "    </tr>\n",
       "    <tr>\n",
       "      <th>814</th>\n",
       "      <td>female</td>\n",
       "      <td>0</td>\n",
       "    </tr>\n",
       "    <tr>\n",
       "      <th>817</th>\n",
       "      <td>female</td>\n",
       "      <td>0</td>\n",
       "    </tr>\n",
       "    <tr>\n",
       "      <th>821</th>\n",
       "      <td>female</td>\n",
       "      <td>1</td>\n",
       "    </tr>\n",
       "    <tr>\n",
       "      <th>824</th>\n",
       "      <td>female</td>\n",
       "      <td>1</td>\n",
       "    </tr>\n",
       "    <tr>\n",
       "      <th>830</th>\n",
       "      <td>female</td>\n",
       "      <td>1</td>\n",
       "    </tr>\n",
       "    <tr>\n",
       "      <th>831</th>\n",
       "      <td>female</td>\n",
       "      <td>1</td>\n",
       "    </tr>\n",
       "    <tr>\n",
       "      <th>836</th>\n",
       "      <td>female</td>\n",
       "      <td>1</td>\n",
       "    </tr>\n",
       "    <tr>\n",
       "      <th>843</th>\n",
       "      <td>female</td>\n",
       "      <td>1</td>\n",
       "    </tr>\n",
       "    <tr>\n",
       "      <th>850</th>\n",
       "      <td>female</td>\n",
       "      <td>1</td>\n",
       "    </tr>\n",
       "    <tr>\n",
       "      <th>853</th>\n",
       "      <td>female</td>\n",
       "      <td>0</td>\n",
       "    </tr>\n",
       "    <tr>\n",
       "      <th>854</th>\n",
       "      <td>female</td>\n",
       "      <td>1</td>\n",
       "    </tr>\n",
       "    <tr>\n",
       "      <th>855</th>\n",
       "      <td>female</td>\n",
       "      <td>0</td>\n",
       "    </tr>\n",
       "    <tr>\n",
       "      <th>856</th>\n",
       "      <td>female</td>\n",
       "      <td>1</td>\n",
       "    </tr>\n",
       "    <tr>\n",
       "      <th>857</th>\n",
       "      <td>female</td>\n",
       "      <td>1</td>\n",
       "    </tr>\n",
       "    <tr>\n",
       "      <th>859</th>\n",
       "      <td>female</td>\n",
       "      <td>1</td>\n",
       "    </tr>\n",
       "    <tr>\n",
       "      <th>863</th>\n",
       "      <td>female</td>\n",
       "      <td>1</td>\n",
       "    </tr>\n",
       "    <tr>\n",
       "      <th>864</th>\n",
       "      <td>female</td>\n",
       "      <td>0</td>\n",
       "    </tr>\n",
       "    <tr>\n",
       "      <th>866</th>\n",
       "      <td>female</td>\n",
       "      <td>1</td>\n",
       "    </tr>\n",
       "    <tr>\n",
       "      <th>867</th>\n",
       "      <td>female</td>\n",
       "      <td>1</td>\n",
       "    </tr>\n",
       "    <tr>\n",
       "      <th>872</th>\n",
       "      <td>female</td>\n",
       "      <td>1</td>\n",
       "    </tr>\n",
       "    <tr>\n",
       "      <th>875</th>\n",
       "      <td>female</td>\n",
       "      <td>1</td>\n",
       "    </tr>\n",
       "    <tr>\n",
       "      <th>876</th>\n",
       "      <td>female</td>\n",
       "      <td>1</td>\n",
       "    </tr>\n",
       "    <tr>\n",
       "      <th>880</th>\n",
       "      <td>female</td>\n",
       "      <td>1</td>\n",
       "    </tr>\n",
       "    <tr>\n",
       "      <th>881</th>\n",
       "      <td>female</td>\n",
       "      <td>1</td>\n",
       "    </tr>\n",
       "    <tr>\n",
       "      <th>883</th>\n",
       "      <td>female</td>\n",
       "      <td>0</td>\n",
       "    </tr>\n",
       "    <tr>\n",
       "      <th>886</th>\n",
       "      <td>female</td>\n",
       "      <td>0</td>\n",
       "    </tr>\n",
       "    <tr>\n",
       "      <th>888</th>\n",
       "      <td>female</td>\n",
       "      <td>1</td>\n",
       "    </tr>\n",
       "    <tr>\n",
       "      <th>889</th>\n",
       "      <td>female</td>\n",
       "      <td>0</td>\n",
       "    </tr>\n",
       "  </tbody>\n",
       "</table>\n",
       "<p>314 rows × 2 columns</p>\n",
       "</div>"
      ],
      "text/plain": [
       "                Sex  Survived\n",
       "PassengerId                  \n",
       "2            female         1\n",
       "3            female         1\n",
       "4            female         1\n",
       "9            female         1\n",
       "10           female         1\n",
       "11           female         1\n",
       "12           female         1\n",
       "15           female         0\n",
       "16           female         1\n",
       "19           female         0\n",
       "20           female         1\n",
       "23           female         1\n",
       "25           female         0\n",
       "26           female         1\n",
       "29           female         1\n",
       "32           female         1\n",
       "33           female         1\n",
       "39           female         0\n",
       "40           female         1\n",
       "41           female         0\n",
       "42           female         0\n",
       "44           female         1\n",
       "45           female         1\n",
       "48           female         1\n",
       "50           female         0\n",
       "53           female         1\n",
       "54           female         1\n",
       "57           female         1\n",
       "59           female         1\n",
       "62           female         1\n",
       "...             ...       ...\n",
       "808          female         0\n",
       "810          female         1\n",
       "814          female         0\n",
       "817          female         0\n",
       "821          female         1\n",
       "824          female         1\n",
       "830          female         1\n",
       "831          female         1\n",
       "836          female         1\n",
       "843          female         1\n",
       "850          female         1\n",
       "853          female         0\n",
       "854          female         1\n",
       "855          female         0\n",
       "856          female         1\n",
       "857          female         1\n",
       "859          female         1\n",
       "863          female         1\n",
       "864          female         0\n",
       "866          female         1\n",
       "867          female         1\n",
       "872          female         1\n",
       "875          female         1\n",
       "876          female         1\n",
       "880          female         1\n",
       "881          female         1\n",
       "883          female         0\n",
       "886          female         0\n",
       "888          female         1\n",
       "889          female         0\n",
       "\n",
       "[314 rows x 2 columns]"
      ]
     },
     "execution_count": 71,
     "metadata": {},
     "output_type": "execute_result"
    }
   ],
   "source": [
    "mask = train_df['Sex'] == 'female'\n",
    "train_df.loc[mask, ['Sex', 'Survived']]"
   ]
  },
  {
   "cell_type": "code",
   "execution_count": 72,
   "metadata": {},
   "outputs": [
    {
     "data": {
      "text/plain": [
       "0.3838383838383838"
      ]
     },
     "execution_count": 72,
     "metadata": {},
     "output_type": "execute_result"
    }
   ],
   "source": [
    "train_df['Survived'].mean()  # 전체 생존율"
   ]
  },
  {
   "cell_type": "code",
   "execution_count": 73,
   "metadata": {},
   "outputs": [
    {
     "name": "stdout",
     "output_type": "stream",
     "text": [
      "18.89%\n",
      "18.89%\n"
     ]
    }
   ],
   "source": [
    "mask = train_df['Sex'] == 'male'\n",
    "남자_생존율 = train_df.loc[mask, 'Survived'].mean()\n",
    "print('%.2f%%' % (남자_생존율 * 100))  # 남자 생존율\n",
    "print('{:.2f}%'.format(남자_생존율 * 100))  # 남자 생존율"
   ]
  },
  {
   "cell_type": "code",
   "execution_count": 74,
   "metadata": {},
   "outputs": [
    {
     "data": {
      "text/plain": [
       "0.7420382165605095"
      ]
     },
     "execution_count": 74,
     "metadata": {},
     "output_type": "execute_result"
    }
   ],
   "source": [
    "mask = train_df['Sex'] == 'female'\n",
    "train_df.loc[mask, 'Survived'].mean()  # 여자 생존율"
   ]
  },
  {
   "cell_type": "code",
   "execution_count": 75,
   "metadata": {},
   "outputs": [
    {
     "data": {
      "text/html": [
       "<div>\n",
       "<style scoped>\n",
       "    .dataframe tbody tr th:only-of-type {\n",
       "        vertical-align: middle;\n",
       "    }\n",
       "\n",
       "    .dataframe tbody tr th {\n",
       "        vertical-align: top;\n",
       "    }\n",
       "\n",
       "    .dataframe thead th {\n",
       "        text-align: right;\n",
       "    }\n",
       "</style>\n",
       "<table border=\"1\" class=\"dataframe\">\n",
       "  <thead>\n",
       "    <tr style=\"text-align: right;\">\n",
       "      <th></th>\n",
       "      <th>Survived</th>\n",
       "    </tr>\n",
       "    <tr>\n",
       "      <th>Sex</th>\n",
       "      <th></th>\n",
       "    </tr>\n",
       "  </thead>\n",
       "  <tbody>\n",
       "    <tr>\n",
       "      <th>female</th>\n",
       "      <td>0.742038</td>\n",
       "    </tr>\n",
       "    <tr>\n",
       "      <th>male</th>\n",
       "      <td>0.188908</td>\n",
       "    </tr>\n",
       "  </tbody>\n",
       "</table>\n",
       "</div>"
      ],
      "text/plain": [
       "        Survived\n",
       "Sex             \n",
       "female  0.742038\n",
       "male    0.188908"
      ]
     },
     "execution_count": 75,
     "metadata": {},
     "output_type": "execute_result"
    }
   ],
   "source": [
    "성별_생존율_df = train_df.pivot_table(index='Sex', values='Survived', aggfunc='mean')\n",
    "성별_생존율_df"
   ]
  },
  {
   "cell_type": "code",
   "execution_count": 76,
   "metadata": {},
   "outputs": [
    {
     "data": {
      "text/plain": [
       "<matplotlib.axes._subplots.AxesSubplot at 0x14e63087ef0>"
      ]
     },
     "execution_count": 76,
     "metadata": {},
     "output_type": "execute_result"
    },
    {
     "data": {
      "image/png": "[encoded data removed]",
      "text/plain": [
       "<Figure size 864x360 with 1 Axes>"
      ]
     },
     "metadata": {
      "needs_background": "light"
     },
     "output_type": "display_data"
    }
   ],
   "source": [
    "성별_생존율_df.plot.barh(grid=True, figsize=(12, 5))"
   ]
  },
  {
   "cell_type": "code",
   "execution_count": null,
   "metadata": {},
   "outputs": [],
   "source": []
  },
  {
   "cell_type": "code",
   "execution_count": 77,
   "metadata": {},
   "outputs": [
    {
     "data": {
      "text/html": [
       "<div>\n",
       "<style scoped>\n",
       "    .dataframe tbody tr th:only-of-type {\n",
       "        vertical-align: middle;\n",
       "    }\n",
       "\n",
       "    .dataframe tbody tr th {\n",
       "        vertical-align: top;\n",
       "    }\n",
       "\n",
       "    .dataframe thead th {\n",
       "        text-align: right;\n",
       "    }\n",
       "</style>\n",
       "<table border=\"1\" class=\"dataframe\">\n",
       "  <thead>\n",
       "    <tr style=\"text-align: right;\">\n",
       "      <th></th>\n",
       "      <th>Sex</th>\n",
       "      <th>Sex - Label</th>\n",
       "    </tr>\n",
       "    <tr>\n",
       "      <th>PassengerId</th>\n",
       "      <th></th>\n",
       "      <th></th>\n",
       "    </tr>\n",
       "  </thead>\n",
       "  <tbody>\n",
       "    <tr>\n",
       "      <th>1</th>\n",
       "      <td>male</td>\n",
       "      <td>1</td>\n",
       "    </tr>\n",
       "    <tr>\n",
       "      <th>2</th>\n",
       "      <td>female</td>\n",
       "      <td>1</td>\n",
       "    </tr>\n",
       "    <tr>\n",
       "      <th>3</th>\n",
       "      <td>female</td>\n",
       "      <td>1</td>\n",
       "    </tr>\n",
       "    <tr>\n",
       "      <th>4</th>\n",
       "      <td>female</td>\n",
       "      <td>1</td>\n",
       "    </tr>\n",
       "    <tr>\n",
       "      <th>5</th>\n",
       "      <td>male</td>\n",
       "      <td>1</td>\n",
       "    </tr>\n",
       "  </tbody>\n",
       "</table>\n",
       "</div>"
      ],
      "text/plain": [
       "                Sex  Sex - Label\n",
       "PassengerId                     \n",
       "1              male            1\n",
       "2            female            1\n",
       "3            female            1\n",
       "4            female            1\n",
       "5              male            1"
      ]
     },
     "execution_count": 77,
     "metadata": {},
     "output_type": "execute_result"
    }
   ],
   "source": [
    "train_df['Sex - Label'] = 1\n",
    "train_df[['Sex', 'Sex - Label']].head()"
   ]
  },
  {
   "cell_type": "code",
   "execution_count": 78,
   "metadata": {},
   "outputs": [
    {
     "data": {
      "text/html": [
       "<div>\n",
       "<style scoped>\n",
       "    .dataframe tbody tr th:only-of-type {\n",
       "        vertical-align: middle;\n",
       "    }\n",
       "\n",
       "    .dataframe tbody tr th {\n",
       "        vertical-align: top;\n",
       "    }\n",
       "\n",
       "    .dataframe thead th {\n",
       "        text-align: right;\n",
       "    }\n",
       "</style>\n",
       "<table border=\"1\" class=\"dataframe\">\n",
       "  <thead>\n",
       "    <tr style=\"text-align: right;\">\n",
       "      <th></th>\n",
       "      <th>Sex</th>\n",
       "      <th>Sex - Label</th>\n",
       "    </tr>\n",
       "    <tr>\n",
       "      <th>PassengerId</th>\n",
       "      <th></th>\n",
       "      <th></th>\n",
       "    </tr>\n",
       "  </thead>\n",
       "  <tbody>\n",
       "    <tr>\n",
       "      <th>1</th>\n",
       "      <td>male</td>\n",
       "      <td>1</td>\n",
       "    </tr>\n",
       "    <tr>\n",
       "      <th>2</th>\n",
       "      <td>female</td>\n",
       "      <td>0</td>\n",
       "    </tr>\n",
       "    <tr>\n",
       "      <th>3</th>\n",
       "      <td>female</td>\n",
       "      <td>0</td>\n",
       "    </tr>\n",
       "    <tr>\n",
       "      <th>4</th>\n",
       "      <td>female</td>\n",
       "      <td>0</td>\n",
       "    </tr>\n",
       "    <tr>\n",
       "      <th>5</th>\n",
       "      <td>male</td>\n",
       "      <td>1</td>\n",
       "    </tr>\n",
       "  </tbody>\n",
       "</table>\n",
       "</div>"
      ],
      "text/plain": [
       "                Sex  Sex - Label\n",
       "PassengerId                     \n",
       "1              male            1\n",
       "2            female            0\n",
       "3            female            0\n",
       "4            female            0\n",
       "5              male            1"
      ]
     },
     "execution_count": 78,
     "metadata": {},
     "output_type": "execute_result"
    }
   ],
   "source": [
    "# Feature 엔지니어링\n",
    "mapping_data = {'male': 1, 'female': 0}\n",
    "train_df['Sex - Label'] = train_df['Sex'].map(mapping_data)\n",
    "train_df[['Sex', 'Sex - Label']].head()"
   ]
  },
  {
   "cell_type": "code",
   "execution_count": 79,
   "metadata": {},
   "outputs": [],
   "source": [
    "def apply_fn(sex):\n",
    "    # sex == 'male' ? 1 : 0  => 파이썬에는 없는 3항 연산자\n",
    "    return 1 if sex == 'male' else 0\n",
    "#     if sex == 'male':\n",
    "#         return 1\n",
    "#     return 0\n",
    "train_df['Sex - Label'] = train_df['Sex'].apply(apply_fn)"
   ]
  },
  {
   "cell_type": "code",
   "execution_count": null,
   "metadata": {},
   "outputs": [],
   "source": []
  },
  {
   "cell_type": "code",
   "execution_count": 80,
   "metadata": {},
   "outputs": [],
   "source": [
    "# song_df['가수 - 곡명'] = song_df['가수'] + ' - ' + song_df['곡명']\n",
    "# song_df[['가수', '곡명', '가수 - 곡명']].head()"
   ]
  },
  {
   "cell_type": "code",
   "execution_count": null,
   "metadata": {},
   "outputs": [],
   "source": []
  },
  {
   "cell_type": "code",
   "execution_count": 81,
   "metadata": {},
   "outputs": [
    {
     "data": {
      "text/html": [
       "<div>\n",
       "<style scoped>\n",
       "    .dataframe tbody tr th:only-of-type {\n",
       "        vertical-align: middle;\n",
       "    }\n",
       "\n",
       "    .dataframe tbody tr th {\n",
       "        vertical-align: top;\n",
       "    }\n",
       "\n",
       "    .dataframe thead th {\n",
       "        text-align: right;\n",
       "    }\n",
       "</style>\n",
       "<table border=\"1\" class=\"dataframe\">\n",
       "  <thead>\n",
       "    <tr style=\"text-align: right;\">\n",
       "      <th></th>\n",
       "      <th>0</th>\n",
       "      <th>1</th>\n",
       "      <th>2</th>\n",
       "    </tr>\n",
       "  </thead>\n",
       "  <tbody>\n",
       "    <tr>\n",
       "      <th>0</th>\n",
       "      <td>5.0</td>\n",
       "      <td>7.0</td>\n",
       "      <td>9.0</td>\n",
       "    </tr>\n",
       "    <tr>\n",
       "      <th>1</th>\n",
       "      <td>NaN</td>\n",
       "      <td>NaN</td>\n",
       "      <td>NaN</td>\n",
       "    </tr>\n",
       "  </tbody>\n",
       "</table>\n",
       "</div>"
      ],
      "text/plain": [
       "     0    1    2\n",
       "0  5.0  7.0  9.0\n",
       "1  NaN  NaN  NaN"
      ]
     },
     "execution_count": 81,
     "metadata": {},
     "output_type": "execute_result"
    }
   ],
   "source": [
    "df1 = pd.DataFrame([\n",
    "    [1, 2, 3],\n",
    "    [4, 5, 6],\n",
    "])\n",
    "df1\n",
    "\n",
    "df2 = pd.DataFrame([\n",
    "    [4, 5, 6],\n",
    "])\n",
    "df2\n",
    "\n",
    "df1 + df2"
   ]
  },
  {
   "cell_type": "code",
   "execution_count": 82,
   "metadata": {},
   "outputs": [],
   "source": [
    "import numpy as np"
   ]
  },
  {
   "cell_type": "code",
   "execution_count": 83,
   "metadata": {},
   "outputs": [
    {
     "data": {
      "text/plain": [
       "nan"
      ]
     },
     "execution_count": 83,
     "metadata": {},
     "output_type": "execute_result"
    }
   ],
   "source": [
    "np.nan + 10 * 20"
   ]
  },
  {
   "cell_type": "code",
   "execution_count": null,
   "metadata": {},
   "outputs": [],
   "source": []
  },
  {
   "cell_type": "code",
   "execution_count": 84,
   "metadata": {},
   "outputs": [],
   "source": [
    "# train_df['컬럼명'] = 값  # 컬럼 create/replace\n",
    "\n",
    "train_df = train_df.append({\n",
    "    'Survived': 1,\n",
    "    'Pclass': 3,\n",
    "    'Name': 'Chinseok Lee',\n",
    "    'Sex': 'male',\n",
    "    'Age': 20,\n",
    "    'SibSp': 0,\n",
    "    'Parch': 0,\n",
    "}, ignore_index=True)"
   ]
  },
  {
   "cell_type": "code",
   "execution_count": null,
   "metadata": {},
   "outputs": [],
   "source": []
  },
  {
   "cell_type": "code",
   "execution_count": 85,
   "metadata": {},
   "outputs": [],
   "source": [
    "titanic_df1 = train_df.iloc[:10]\n",
    "titanic_df2 = train_df.iloc[-10:]"
   ]
  },
  {
   "cell_type": "code",
   "execution_count": 86,
   "metadata": {},
   "outputs": [
    {
     "data": {
      "text/plain": [
       "(20, 12)"
      ]
     },
     "execution_count": 86,
     "metadata": {},
     "output_type": "execute_result"
    }
   ],
   "source": [
    "pd.concat([titanic_df1, titanic_df2], axis=0).shape"
   ]
  },
  {
   "cell_type": "code",
   "execution_count": null,
   "metadata": {},
   "outputs": [],
   "source": []
  },
  {
   "cell_type": "code",
   "execution_count": 87,
   "metadata": {},
   "outputs": [],
   "source": [
    "# train_df.drop(2, axis='index', inplace=False)  # 행기준 제거\n",
    "# train_df.drop(['Survived', 'SibSp', 'Parch'], axis='columns')  # 열기준 제거"
   ]
  },
  {
   "cell_type": "code",
   "execution_count": 88,
   "metadata": {},
   "outputs": [],
   "source": [
    "mask = song_df['가수'] == '방탄소년단'\n",
    "song_df = song_df.loc[~mask]"
   ]
  },
  {
   "cell_type": "code",
   "execution_count": null,
   "metadata": {},
   "outputs": [],
   "source": []
  },
  {
   "attachments": {},
   "cell_type": "markdown",
   "metadata": {},
   "source": [
    "* `logs/장비번호/2019/05/10/010010.log`\n",
    "\n",
    "```python\n",
    "# (재귀) 지정 디렉토리(C:/work/) 내 모든 xlsx 파일 살펴보기\n",
    "for path in pathlib.Path('c:/logs').glob('**/*.log'):\n",
    "    print(path)\n",
    "```"
   ]
  },
  {
   "cell_type": "code",
   "execution_count": null,
   "metadata": {},
   "outputs": [],
   "source": []
  },
  {
   "cell_type": "code",
   "execution_count": 99,
   "metadata": {},
   "outputs": [],
   "source": [
    "# pd.read_csv()"
   ]
  },
  {
   "cell_type": "code",
   "execution_count": 98,
   "metadata": {
    "collapsed": true
   },
   "outputs": [
    {
     "name": "stdout",
     "output_type": "stream",
     "text": [
      "<class 'pandas.core.frame.DataFrame'>\n",
      "RangeIndex: 892 entries, 0 to 891\n",
      "Data columns (total 12 columns):\n",
      "Survived       892 non-null int64\n",
      "Pclass         892 non-null int64\n",
      "Name           892 non-null object\n",
      "Sex            892 non-null object\n",
      "Age            715 non-null float64\n",
      "SibSp          892 non-null int64\n",
      "Parch          892 non-null int64\n",
      "Ticket         891 non-null object\n",
      "Fare           891 non-null float64\n",
      "Cabin          204 non-null object\n",
      "Embarked       889 non-null object\n",
      "Sex - Label    891 non-null float64\n",
      "dtypes: float64(3), int64(4), object(5)\n",
      "memory usage: 83.7+ KB\n"
     ]
    }
   ],
   "source": [
    "train_df.info()"
   ]
  },
  {
   "cell_type": "code",
   "execution_count": 112,
   "metadata": {},
   "outputs": [
    {
     "data": {
      "text/plain": [
       "0    B\n",
       "1    C\n",
       "2    H\n",
       "3    F\n",
       "4    A\n",
       "Name: Name, dtype: object"
      ]
     },
     "execution_count": 112,
     "metadata": {},
     "output_type": "execute_result"
    }
   ],
   "source": [
    "# train_df['Name'].apply(lambda name: name[0])\n",
    "train_df['Name'].str[0].head()"
   ]
  },
  {
   "cell_type": "code",
   "execution_count": 119,
   "metadata": {},
   "outputs": [
    {
     "data": {
      "text/plain": [
       "'Mr'"
      ]
     },
     "execution_count": 119,
     "metadata": {},
     "output_type": "execute_result"
    }
   ],
   "source": [
    "\"Braund, Mr. Owen Harris\".split(\".\")[0].split(\",\")[1].strip()"
   ]
  },
  {
   "cell_type": "code",
   "execution_count": 122,
   "metadata": {},
   "outputs": [],
   "source": [
    "# 불필요하게 추가된 마지막을 제거\n",
    "train_df = train_df.iloc[:-1]"
   ]
  },
  {
   "cell_type": "markdown",
   "metadata": {},
   "source": [
    "정규표현식 : 프로그래밍 언어에서 문자열의 패턴을 처리하는 가장 효율적인 방법"
   ]
  },
  {
   "cell_type": "code",
   "execution_count": 126,
   "metadata": {
    "collapsed": true
   },
   "outputs": [
    {
     "data": {
      "text/html": [
       "<div>\n",
       "<style scoped>\n",
       "    .dataframe tbody tr th:only-of-type {\n",
       "        vertical-align: middle;\n",
       "    }\n",
       "\n",
       "    .dataframe tbody tr th {\n",
       "        vertical-align: top;\n",
       "    }\n",
       "\n",
       "    .dataframe thead th {\n",
       "        text-align: right;\n",
       "    }\n",
       "</style>\n",
       "<table border=\"1\" class=\"dataframe\">\n",
       "  <thead>\n",
       "    <tr style=\"text-align: right;\">\n",
       "      <th></th>\n",
       "      <th>Name</th>\n",
       "      <th>호칭</th>\n",
       "    </tr>\n",
       "  </thead>\n",
       "  <tbody>\n",
       "    <tr>\n",
       "      <th>0</th>\n",
       "      <td>Braund, Mr. Owen Harris</td>\n",
       "      <td>Mr</td>\n",
       "    </tr>\n",
       "    <tr>\n",
       "      <th>1</th>\n",
       "      <td>Cumings, Mrs. John Bradley (Florence Briggs Th...</td>\n",
       "      <td>Mrs</td>\n",
       "    </tr>\n",
       "    <tr>\n",
       "      <th>2</th>\n",
       "      <td>Heikkinen, Miss. Laina</td>\n",
       "      <td>Miss</td>\n",
       "    </tr>\n",
       "    <tr>\n",
       "      <th>3</th>\n",
       "      <td>Futrelle, Mrs. Jacques Heath (Lily May Peel)</td>\n",
       "      <td>Mrs</td>\n",
       "    </tr>\n",
       "    <tr>\n",
       "      <th>4</th>\n",
       "      <td>Allen, Mr. William Henry</td>\n",
       "      <td>Mr</td>\n",
       "    </tr>\n",
       "  </tbody>\n",
       "</table>\n",
       "</div>"
      ],
      "text/plain": [
       "                                                Name    호칭\n",
       "0                            Braund, Mr. Owen Harris    Mr\n",
       "1  Cumings, Mrs. John Bradley (Florence Briggs Th...   Mrs\n",
       "2                             Heikkinen, Miss. Laina  Miss\n",
       "3       Futrelle, Mrs. Jacques Heath (Lily May Peel)   Mrs\n",
       "4                           Allen, Mr. William Henry    Mr"
      ]
     },
     "execution_count": 126,
     "metadata": {},
     "output_type": "execute_result"
    }
   ],
   "source": [
    "def apply_fn(name):\n",
    "    return name.split(\".\")[0].split(\",\")[1].strip()\n",
    "\n",
    "train_df['호칭'] = train_df['Name'].apply(apply_fn)\n",
    "train_df[['Name', '호칭']].head()"
   ]
  },
  {
   "cell_type": "code",
   "execution_count": 127,
   "metadata": {
    "collapsed": true
   },
   "outputs": [
    {
     "data": {
      "text/plain": [
       "Mr              517\n",
       "Miss            182\n",
       "Mrs             125\n",
       "Master           40\n",
       "Dr                7\n",
       "Rev               6\n",
       "Mlle              2\n",
       "Major             2\n",
       "Col               2\n",
       "Jonkheer          1\n",
       "Lady              1\n",
       "Don               1\n",
       "Sir               1\n",
       "Mme               1\n",
       "Ms                1\n",
       "Capt              1\n",
       "the Countess      1\n",
       "Name: 호칭, dtype: int64"
      ]
     },
     "execution_count": 127,
     "metadata": {},
     "output_type": "execute_result"
    }
   ],
   "source": [
    "train_df['호칭'].value_counts()"
   ]
  },
  {
   "cell_type": "code",
   "execution_count": null,
   "metadata": {},
   "outputs": [],
   "source": []
  },
  {
   "cell_type": "code",
   "execution_count": 130,
   "metadata": {
    "collapsed": true
   },
   "outputs": [
    {
     "data": {
      "text/plain": [
       "<matplotlib.axes._subplots.AxesSubplot at 0x14e653b6fd0>"
      ]
     },
     "execution_count": 130,
     "metadata": {},
     "output_type": "execute_result"
    },
    {
     "data": {
      "image/png": "[encoded data removed]",
      "text/plain": [
       "<Figure size 432x288 with 1 Axes>"
      ]
     },
     "metadata": {
      "needs_background": "light"
     },
     "output_type": "display_data"
    }
   ],
   "source": [
    "figure, ax1 = plt.subplots(1, 1)\n",
    "\n",
    "train_df['호칭'].value_counts().plot.bar(ax=ax1)"
   ]
  },
  {
   "cell_type": "code",
   "execution_count": null,
   "metadata": {},
   "outputs": [],
   "source": []
  },
  {
   "cell_type": "code",
   "execution_count": 139,
   "metadata": {},
   "outputs": [
    {
     "data": {
      "text/plain": [
       "True"
      ]
     },
     "execution_count": 139,
     "metadata": {},
     "output_type": "execute_result"
    }
   ],
   "source": [
    "\"이진석\".startswith(\"이\")"
   ]
  },
  {
   "cell_type": "code",
   "execution_count": 140,
   "metadata": {},
   "outputs": [
    {
     "data": {
      "text/plain": [
       "True"
      ]
     },
     "execution_count": 140,
     "metadata": {},
     "output_type": "execute_result"
    }
   ],
   "source": [
    "\"이진석\".endswith(\"석\")"
   ]
  },
  {
   "cell_type": "code",
   "execution_count": 141,
   "metadata": {},
   "outputs": [
    {
     "data": {
      "text/plain": [
       "True"
      ]
     },
     "execution_count": 141,
     "metadata": {},
     "output_type": "execute_result"
    }
   ],
   "source": [
    "\"진\" in \"이진석\""
   ]
  },
  {
   "cell_type": "code",
   "execution_count": null,
   "metadata": {},
   "outputs": [],
   "source": []
  },
  {
   "cell_type": "code",
   "execution_count": 144,
   "metadata": {},
   "outputs": [],
   "source": [
    "train_df['Sex'] = train_df['Sex'].astype('category')"
   ]
  },
  {
   "cell_type": "code",
   "execution_count": 148,
   "metadata": {},
   "outputs": [
    {
     "data": {
      "text/html": [
       "<div>\n",
       "<style scoped>\n",
       "    .dataframe tbody tr th:only-of-type {\n",
       "        vertical-align: middle;\n",
       "    }\n",
       "\n",
       "    .dataframe tbody tr th {\n",
       "        vertical-align: top;\n",
       "    }\n",
       "\n",
       "    .dataframe thead th {\n",
       "        text-align: right;\n",
       "    }\n",
       "</style>\n",
       "<table border=\"1\" class=\"dataframe\">\n",
       "  <thead>\n",
       "    <tr style=\"text-align: right;\">\n",
       "      <th></th>\n",
       "      <th>Fare</th>\n",
       "      <th>Fare - Label</th>\n",
       "    </tr>\n",
       "  </thead>\n",
       "  <tbody>\n",
       "    <tr>\n",
       "      <th>0</th>\n",
       "      <td>7.2500</td>\n",
       "      <td>7달러</td>\n",
       "    </tr>\n",
       "    <tr>\n",
       "      <th>1</th>\n",
       "      <td>71.2833</td>\n",
       "      <td>71달러</td>\n",
       "    </tr>\n",
       "    <tr>\n",
       "      <th>2</th>\n",
       "      <td>7.9250</td>\n",
       "      <td>7달러</td>\n",
       "    </tr>\n",
       "    <tr>\n",
       "      <th>3</th>\n",
       "      <td>53.1000</td>\n",
       "      <td>53달러</td>\n",
       "    </tr>\n",
       "    <tr>\n",
       "      <th>4</th>\n",
       "      <td>8.0500</td>\n",
       "      <td>8달러</td>\n",
       "    </tr>\n",
       "  </tbody>\n",
       "</table>\n",
       "</div>"
      ],
      "text/plain": [
       "      Fare Fare - Label\n",
       "0   7.2500          7달러\n",
       "1  71.2833         71달러\n",
       "2   7.9250          7달러\n",
       "3  53.1000         53달러\n",
       "4   8.0500          8달러"
      ]
     },
     "execution_count": 148,
     "metadata": {},
     "output_type": "execute_result"
    }
   ],
   "source": [
    "train_df['Fare - Label'] = train_df['Fare'].astype('int').astype('str') + '달러'\n",
    "train_df[['Fare', 'Fare - Label']].head()"
   ]
  },
  {
   "cell_type": "code",
   "execution_count": null,
   "metadata": {},
   "outputs": [],
   "source": []
  },
  {
   "cell_type": "code",
   "execution_count": 149,
   "metadata": {
    "collapsed": true
   },
   "outputs": [
    {
     "name": "stdout",
     "output_type": "stream",
     "text": [
      "<class 'pandas.core.frame.DataFrame'>\n",
      "RangeIndex: 891 entries, 0 to 890\n",
      "Data columns (total 14 columns):\n",
      "Survived        891 non-null int64\n",
      "Pclass          891 non-null int64\n",
      "Name            891 non-null object\n",
      "Sex             891 non-null category\n",
      "Age             714 non-null float64\n",
      "SibSp           891 non-null int64\n",
      "Parch           891 non-null int64\n",
      "Ticket          891 non-null object\n",
      "Fare            891 non-null float64\n",
      "Cabin           204 non-null object\n",
      "Embarked        889 non-null object\n",
      "Sex - Label     891 non-null float64\n",
      "호칭              891 non-null object\n",
      "Fare - Label    891 non-null object\n",
      "dtypes: category(1), float64(3), int64(4), object(6)\n",
      "memory usage: 91.5+ KB\n"
     ]
    }
   ],
   "source": [
    "train_df.info()"
   ]
  },
  {
   "cell_type": "code",
   "execution_count": null,
   "metadata": {},
   "outputs": [],
   "source": []
  },
  {
   "cell_type": "code",
   "execution_count": 152,
   "metadata": {
    "collapsed": true
   },
   "outputs": [
    {
     "name": "stdout",
     "output_type": "stream",
     "text": [
      "Requirement already satisfied: missingno in c:\\anaconda3\\lib\\site-packages (0.4.1)\n",
      "Requirement already satisfied: scipy in c:\\anaconda3\\lib\\site-packages (from missingno) (1.2.1)\n",
      "Requirement already satisfied: numpy in c:\\anaconda3\\lib\\site-packages (from missingno) (1.16.2)\n",
      "Requirement already satisfied: matplotlib in c:\\anaconda3\\lib\\site-packages (from missingno) (3.0.3)\n",
      "Requirement already satisfied: seaborn in c:\\anaconda3\\lib\\site-packages (from missingno) (0.9.0)\n",
      "Requirement already satisfied: cycler>=0.10 in c:\\anaconda3\\lib\\site-packages (from matplotlib->missingno) (0.10.0)\n",
      "Requirement already satisfied: kiwisolver>=1.0.1 in c:\\anaconda3\\lib\\site-packages (from matplotlib->missingno) (1.0.1)\n",
      "Requirement already satisfied: pyparsing!=2.0.4,!=2.1.2,!=2.1.6,>=2.0.1 in c:\\anaconda3\\lib\\site-packages (from matplotlib->missingno) (2.3.1)\n",
      "Requirement already satisfied: python-dateutil>=2.1 in c:\\anaconda3\\lib\\site-packages (from matplotlib->missingno) (2.8.0)\n",
      "Requirement already satisfied: pandas>=0.15.2 in c:\\anaconda3\\lib\\site-packages (from seaborn->missingno) (0.24.2)\n",
      "Requirement already satisfied: six in c:\\anaconda3\\lib\\site-packages (from cycler>=0.10->matplotlib->missingno) (1.12.0)\n",
      "Requirement already satisfied: setuptools in c:\\anaconda3\\lib\\site-packages (from kiwisolver>=1.0.1->matplotlib->missingno) (40.8.0)\n",
      "Requirement already satisfied: pytz>=2011k in c:\\anaconda3\\lib\\site-packages (from pandas>=0.15.2->seaborn->missingno) (2018.9)\n"
     ]
    }
   ],
   "source": [
    "!pip install missingno"
   ]
  },
  {
   "cell_type": "code",
   "execution_count": 153,
   "metadata": {},
   "outputs": [],
   "source": [
    "import missingno as msno"
   ]
  },
  {
   "cell_type": "code",
   "execution_count": 154,
   "metadata": {
    "collapsed": true
   },
   "outputs": [
    {
     "data": {
      "text/plain": [
       "<matplotlib.axes._subplots.AxesSubplot at 0x14e6574d828>"
      ]
     },
     "execution_count": 154,
     "metadata": {},
     "output_type": "execute_result"
    },
    {
     "data": {
      "image/png": "[encoded data removed]",
      "text/plain": [
       "<Figure size 1800x720 with 2 Axes>"
      ]
     },
     "metadata": {
      "needs_background": "light"
     },
     "output_type": "display_data"
    }
   ],
   "source": [
    "msno.matrix(train_df)"
   ]
  },
  {
   "cell_type": "code",
   "execution_count": null,
   "metadata": {},
   "outputs": [],
   "source": []
  },
  {
   "cell_type": "code",
   "execution_count": 160,
   "metadata": {},
   "outputs": [
    {
     "data": {
      "text/plain": [
       "(183, 14)"
      ]
     },
     "execution_count": 160,
     "metadata": {},
     "output_type": "execute_result"
    }
   ],
   "source": [
    "train_df.dropna(axis='index', how='any').shape"
   ]
  },
  {
   "cell_type": "code",
   "execution_count": null,
   "metadata": {},
   "outputs": [],
   "source": []
  },
  {
   "cell_type": "code",
   "execution_count": 167,
   "metadata": {},
   "outputs": [],
   "source": [
    "나이_평균 = train_df['Age'].mean()"
   ]
  },
  {
   "cell_type": "code",
   "execution_count": 168,
   "metadata": {
    "collapsed": true
   },
   "outputs": [
    {
     "data": {
      "text/plain": [
       "0      22.000000\n",
       "1      38.000000\n",
       "2      26.000000\n",
       "3      35.000000\n",
       "4      35.000000\n",
       "5      29.699118\n",
       "6      54.000000\n",
       "7       2.000000\n",
       "8      27.000000\n",
       "9      14.000000\n",
       "10      4.000000\n",
       "11     58.000000\n",
       "12     20.000000\n",
       "13     39.000000\n",
       "14     14.000000\n",
       "15     55.000000\n",
       "16      2.000000\n",
       "17     29.699118\n",
       "18     31.000000\n",
       "19     29.699118\n",
       "20     35.000000\n",
       "21     34.000000\n",
       "22     15.000000\n",
       "23     28.000000\n",
       "24      8.000000\n",
       "25     38.000000\n",
       "26     29.699118\n",
       "27     19.000000\n",
       "28     29.699118\n",
       "29     29.699118\n",
       "         ...    \n",
       "861    21.000000\n",
       "862    48.000000\n",
       "863    29.699118\n",
       "864    24.000000\n",
       "865    42.000000\n",
       "866    27.000000\n",
       "867    31.000000\n",
       "868    29.699118\n",
       "869     4.000000\n",
       "870    26.000000\n",
       "871    47.000000\n",
       "872    33.000000\n",
       "873    47.000000\n",
       "874    28.000000\n",
       "875    15.000000\n",
       "876    20.000000\n",
       "877    19.000000\n",
       "878    29.699118\n",
       "879    56.000000\n",
       "880    25.000000\n",
       "881    33.000000\n",
       "882    22.000000\n",
       "883    28.000000\n",
       "884    25.000000\n",
       "885    39.000000\n",
       "886    27.000000\n",
       "887    19.000000\n",
       "888    29.699118\n",
       "889    26.000000\n",
       "890    32.000000\n",
       "Name: Age, Length: 891, dtype: float64"
      ]
     },
     "execution_count": 168,
     "metadata": {},
     "output_type": "execute_result"
    }
   ],
   "source": [
    "train_df['Age'].fillna(나이_평균)"
   ]
  },
  {
   "cell_type": "code",
   "execution_count": null,
   "metadata": {},
   "outputs": [],
   "source": []
  },
  {
   "cell_type": "code",
   "execution_count": 170,
   "metadata": {},
   "outputs": [
    {
     "data": {
      "text/plain": [
       "3    491\n",
       "1    216\n",
       "2    184\n",
       "Name: Pclass, dtype: int64"
      ]
     },
     "execution_count": 170,
     "metadata": {},
     "output_type": "execute_result"
    }
   ],
   "source": [
    "train_df['Pclass'].value_counts()"
   ]
  },
  {
   "cell_type": "code",
   "execution_count": 173,
   "metadata": {
    "collapsed": true
   },
   "outputs": [
    {
     "data": {
      "text/html": [
       "<div>\n",
       "<style scoped>\n",
       "    .dataframe tbody tr th:only-of-type {\n",
       "        vertical-align: middle;\n",
       "    }\n",
       "\n",
       "    .dataframe tbody tr th {\n",
       "        vertical-align: top;\n",
       "    }\n",
       "\n",
       "    .dataframe thead th {\n",
       "        text-align: right;\n",
       "    }\n",
       "</style>\n",
       "<table border=\"1\" class=\"dataframe\">\n",
       "  <thead>\n",
       "    <tr style=\"text-align: right;\">\n",
       "      <th></th>\n",
       "      <th>Age</th>\n",
       "    </tr>\n",
       "    <tr>\n",
       "      <th>Pclass</th>\n",
       "      <th></th>\n",
       "    </tr>\n",
       "  </thead>\n",
       "  <tbody>\n",
       "    <tr>\n",
       "      <th>1</th>\n",
       "      <td>38.233441</td>\n",
       "    </tr>\n",
       "    <tr>\n",
       "      <th>2</th>\n",
       "      <td>29.877630</td>\n",
       "    </tr>\n",
       "    <tr>\n",
       "      <th>3</th>\n",
       "      <td>25.140620</td>\n",
       "    </tr>\n",
       "  </tbody>\n",
       "</table>\n",
       "</div>"
      ],
      "text/plain": [
       "              Age\n",
       "Pclass           \n",
       "1       38.233441\n",
       "2       29.877630\n",
       "3       25.140620"
      ]
     },
     "execution_count": 173,
     "metadata": {},
     "output_type": "execute_result"
    }
   ],
   "source": [
    "객실등급별_나이평균_df = train_df.pivot_table(index='Pclass', values='Age', aggfunc='mean')\n",
    "객실등급별_나이평균_df"
   ]
  },
  {
   "cell_type": "code",
   "execution_count": 175,
   "metadata": {},
   "outputs": [
    {
     "data": {
      "text/plain": [
       "38.233440860215055"
      ]
     },
     "execution_count": 175,
     "metadata": {},
     "output_type": "execute_result"
    }
   ],
   "source": [
    "객실등급별_나이평균_df.loc[1, 'Age']"
   ]
  },
  {
   "cell_type": "code",
   "execution_count": 172,
   "metadata": {},
   "outputs": [
    {
     "data": {
      "text/plain": [
       "38.233440860215055"
      ]
     },
     "execution_count": 172,
     "metadata": {},
     "output_type": "execute_result"
    }
   ],
   "source": [
    "mask = train_df['Pclass'] == 1\n",
    "train_df.loc[mask, 'Age'].mean()"
   ]
  },
  {
   "cell_type": "code",
   "execution_count": null,
   "metadata": {},
   "outputs": [],
   "source": []
  },
  {
   "cell_type": "code",
   "execution_count": 180,
   "metadata": {},
   "outputs": [],
   "source": [
    "for pclass in [1, 2, 3]:\n",
    "    mask = train_df['Age'].isna() & (train_df['Pclass'] == pclass)\n",
    "    train_df.loc[mask, 'Age'] = 객실등급별_나이평균_df.loc[pclass, 'Age']"
   ]
  },
  {
   "cell_type": "code",
   "execution_count": null,
   "metadata": {},
   "outputs": [],
   "source": []
  },
  {
   "cell_type": "code",
   "execution_count": 185,
   "metadata": {},
   "outputs": [
    {
     "data": {
      "text/plain": [
       "Index(['Survived', 'Pclass', 'Name', 'Sex', 'Age', 'SibSp', 'Parch', 'Ticket',\n",
       "       'Fare', 'Cabin', 'Embarked', 'Sex - Label', '호칭', 'Fare - Label'],\n",
       "      dtype='object')"
      ]
     },
     "execution_count": 185,
     "metadata": {},
     "output_type": "execute_result"
    }
   ],
   "source": [
    "train_df.columns"
   ]
  },
  {
   "cell_type": "code",
   "execution_count": 186,
   "metadata": {
    "collapsed": true
   },
   "outputs": [
    {
     "data": {
      "text/html": [
       "<div>\n",
       "<style scoped>\n",
       "    .dataframe tbody tr th:only-of-type {\n",
       "        vertical-align: middle;\n",
       "    }\n",
       "\n",
       "    .dataframe tbody tr th {\n",
       "        vertical-align: top;\n",
       "    }\n",
       "\n",
       "    .dataframe thead th {\n",
       "        text-align: right;\n",
       "    }\n",
       "</style>\n",
       "<table border=\"1\" class=\"dataframe\">\n",
       "  <thead>\n",
       "    <tr style=\"text-align: right;\">\n",
       "      <th></th>\n",
       "      <th>Survived</th>\n",
       "    </tr>\n",
       "    <tr>\n",
       "      <th>Sex</th>\n",
       "      <th></th>\n",
       "    </tr>\n",
       "  </thead>\n",
       "  <tbody>\n",
       "    <tr>\n",
       "      <th>female</th>\n",
       "      <td>0.742038</td>\n",
       "    </tr>\n",
       "    <tr>\n",
       "      <th>male</th>\n",
       "      <td>0.188908</td>\n",
       "    </tr>\n",
       "  </tbody>\n",
       "</table>\n",
       "</div>"
      ],
      "text/plain": [
       "        Survived\n",
       "Sex             \n",
       "female  0.742038\n",
       "male    0.188908"
      ]
     },
     "execution_count": 186,
     "metadata": {},
     "output_type": "execute_result"
    }
   ],
   "source": [
    "train_df.pivot_table(index='Sex', values='Survived', aggfunc='mean')"
   ]
  },
  {
   "cell_type": "code",
   "execution_count": null,
   "metadata": {},
   "outputs": [],
   "source": []
  },
  {
   "cell_type": "code",
   "execution_count": 193,
   "metadata": {
    "collapsed": true
   },
   "outputs": [
    {
     "data": {
      "text/html": [
       "<div>\n",
       "<style scoped>\n",
       "    .dataframe tbody tr th:only-of-type {\n",
       "        vertical-align: middle;\n",
       "    }\n",
       "\n",
       "    .dataframe tbody tr th {\n",
       "        vertical-align: top;\n",
       "    }\n",
       "\n",
       "    .dataframe thead th {\n",
       "        text-align: right;\n",
       "    }\n",
       "</style>\n",
       "<table border=\"1\" class=\"dataframe\">\n",
       "  <thead>\n",
       "    <tr style=\"text-align: right;\">\n",
       "      <th></th>\n",
       "      <th>Pclass</th>\n",
       "      <th>Name</th>\n",
       "      <th>Sex</th>\n",
       "      <th>Age</th>\n",
       "      <th>SibSp</th>\n",
       "      <th>Parch</th>\n",
       "      <th>Ticket</th>\n",
       "      <th>Fare</th>\n",
       "      <th>Cabin</th>\n",
       "      <th>Embarked</th>\n",
       "      <th>Survived</th>\n",
       "    </tr>\n",
       "    <tr>\n",
       "      <th>PassengerId</th>\n",
       "      <th></th>\n",
       "      <th></th>\n",
       "      <th></th>\n",
       "      <th></th>\n",
       "      <th></th>\n",
       "      <th></th>\n",
       "      <th></th>\n",
       "      <th></th>\n",
       "      <th></th>\n",
       "      <th></th>\n",
       "      <th></th>\n",
       "    </tr>\n",
       "  </thead>\n",
       "  <tbody>\n",
       "    <tr>\n",
       "      <th>892</th>\n",
       "      <td>3</td>\n",
       "      <td>Kelly, Mr. James</td>\n",
       "      <td>male</td>\n",
       "      <td>34.5</td>\n",
       "      <td>0</td>\n",
       "      <td>0</td>\n",
       "      <td>330911</td>\n",
       "      <td>7.8292</td>\n",
       "      <td>NaN</td>\n",
       "      <td>Q</td>\n",
       "      <td>0</td>\n",
       "    </tr>\n",
       "    <tr>\n",
       "      <th>893</th>\n",
       "      <td>3</td>\n",
       "      <td>Wilkes, Mrs. James (Ellen Needs)</td>\n",
       "      <td>female</td>\n",
       "      <td>47.0</td>\n",
       "      <td>1</td>\n",
       "      <td>0</td>\n",
       "      <td>363272</td>\n",
       "      <td>7.0000</td>\n",
       "      <td>NaN</td>\n",
       "      <td>S</td>\n",
       "      <td>1</td>\n",
       "    </tr>\n",
       "    <tr>\n",
       "      <th>894</th>\n",
       "      <td>2</td>\n",
       "      <td>Myles, Mr. Thomas Francis</td>\n",
       "      <td>male</td>\n",
       "      <td>62.0</td>\n",
       "      <td>0</td>\n",
       "      <td>0</td>\n",
       "      <td>240276</td>\n",
       "      <td>9.6875</td>\n",
       "      <td>NaN</td>\n",
       "      <td>Q</td>\n",
       "      <td>0</td>\n",
       "    </tr>\n",
       "    <tr>\n",
       "      <th>895</th>\n",
       "      <td>3</td>\n",
       "      <td>Wirz, Mr. Albert</td>\n",
       "      <td>male</td>\n",
       "      <td>27.0</td>\n",
       "      <td>0</td>\n",
       "      <td>0</td>\n",
       "      <td>315154</td>\n",
       "      <td>8.6625</td>\n",
       "      <td>NaN</td>\n",
       "      <td>S</td>\n",
       "      <td>0</td>\n",
       "    </tr>\n",
       "    <tr>\n",
       "      <th>896</th>\n",
       "      <td>3</td>\n",
       "      <td>Hirvonen, Mrs. Alexander (Helga E Lindqvist)</td>\n",
       "      <td>female</td>\n",
       "      <td>22.0</td>\n",
       "      <td>1</td>\n",
       "      <td>1</td>\n",
       "      <td>3101298</td>\n",
       "      <td>12.2875</td>\n",
       "      <td>NaN</td>\n",
       "      <td>S</td>\n",
       "      <td>1</td>\n",
       "    </tr>\n",
       "  </tbody>\n",
       "</table>\n",
       "</div>"
      ],
      "text/plain": [
       "             Pclass                                          Name     Sex  \\\n",
       "PassengerId                                                                 \n",
       "892               3                              Kelly, Mr. James    male   \n",
       "893               3              Wilkes, Mrs. James (Ellen Needs)  female   \n",
       "894               2                     Myles, Mr. Thomas Francis    male   \n",
       "895               3                              Wirz, Mr. Albert    male   \n",
       "896               3  Hirvonen, Mrs. Alexander (Helga E Lindqvist)  female   \n",
       "\n",
       "              Age  SibSp  Parch   Ticket     Fare Cabin Embarked  Survived  \n",
       "PassengerId                                                                 \n",
       "892          34.5      0      0   330911   7.8292   NaN        Q         0  \n",
       "893          47.0      1      0   363272   7.0000   NaN        S         1  \n",
       "894          62.0      0      0   240276   9.6875   NaN        Q         0  \n",
       "895          27.0      0      0   315154   8.6625   NaN        S         0  \n",
       "896          22.0      1      1  3101298  12.2875   NaN        S         1  "
      ]
     },
     "execution_count": 193,
     "metadata": {},
     "output_type": "execute_result"
    }
   ],
   "source": [
    "test_df['Survived'] = test_df['Sex'].map({'male': 0, 'female': 1})\n",
    "test_df.head()"
   ]
  },
  {
   "cell_type": "code",
   "execution_count": 203,
   "metadata": {},
   "outputs": [],
   "source": [
    "test_df[['Survived']].to_csv(\"data/titanic/submition-20190529-1722.csv\")  # 0.76555"
   ]
  },
  {
   "cell_type": "code",
   "execution_count": null,
   "metadata": {},
   "outputs": [],
   "source": []
  },
  {
   "cell_type": "code",
   "execution_count": 208,
   "metadata": {},
   "outputs": [],
   "source": [
    "def apply_fn(row):\n",
    "    if row['Sex'] == 'male' and row['Pclass'] > 1:\n",
    "        return 0\n",
    "    return 1\n",
    "\n",
    "test_df['Survived'] = test_df.apply(apply_fn, axis=1)\n",
    "test_df[['Survived']].to_csv(\"data/titanic/submition-20190529-1728.csv\")  # 0.70813"
   ]
  },
  {
   "cell_type": "code",
   "execution_count": null,
   "metadata": {},
   "outputs": [],
   "source": []
  },
  {
   "cell_type": "markdown",
   "metadata": {},
   "source": [
    "# sklearn을 활용한 생존 예측"
   ]
  },
  {
   "cell_type": "code",
   "execution_count": 213,
   "metadata": {},
   "outputs": [],
   "source": [
    "train_x = train_df[['Sex - Label']]\n",
    "train_y = train_df['Survived']"
   ]
  },
  {
   "cell_type": "code",
   "execution_count": 214,
   "metadata": {},
   "outputs": [
    {
     "data": {
      "text/plain": [
       "KNeighborsClassifier(algorithm='auto', leaf_size=30, metric='minkowski',\n",
       "           metric_params=None, n_jobs=None, n_neighbors=3, p=2,\n",
       "           weights='uniform')"
      ]
     },
     "execution_count": 214,
     "metadata": {},
     "output_type": "execute_result"
    }
   ],
   "source": [
    "from sklearn.neighbors import KNeighborsClassifier\n",
    "\n",
    "model = KNeighborsClassifier(n_neighbors=3)\n",
    "model.fit(train_x, train_y)"
   ]
  },
  {
   "cell_type": "code",
   "execution_count": 216,
   "metadata": {},
   "outputs": [],
   "source": [
    "test_df['Sex - Label'] = test_df['Sex'].map({'male': 1, 'female': 0})\n",
    "\n",
    "test_x = test_df[['Sex - Label']]"
   ]
  },
  {
   "cell_type": "code",
   "execution_count": 218,
   "metadata": {},
   "outputs": [],
   "source": [
    "test_df['Survived'] = model.predict(test_x)"
   ]
  },
  {
   "cell_type": "code",
   "execution_count": null,
   "metadata": {},
   "outputs": [],
   "source": []
  },
  {
   "cell_type": "markdown",
   "metadata": {},
   "source": [
    "# xlwings/엑셀 연동 샘플"
   ]
  },
  {
   "cell_type": "code",
   "execution_count": 22,
   "metadata": {},
   "outputs": [],
   "source": [
    "import xlwings as xw\n",
    "import pandas as pd\n",
    "\n",
    "xw.view(train_df)  # 새로운 Workbook을 생성"
   ]
  },
  {
   "cell_type": "code",
   "execution_count": null,
   "metadata": {},
   "outputs": [],
   "source": []
  },
  {
   "cell_type": "code",
   "execution_count": 24,
   "metadata": {
    "collapsed": true
   },
   "outputs": [
    {
     "name": "stdout",
     "output_type": "stream",
     "text": [
      "(891, 12)\n"
     ]
    },
    {
     "data": {
      "text/html": [
       "<div>\n",
       "<style scoped>\n",
       "    .dataframe tbody tr th:only-of-type {\n",
       "        vertical-align: middle;\n",
       "    }\n",
       "\n",
       "    .dataframe tbody tr th {\n",
       "        vertical-align: top;\n",
       "    }\n",
       "\n",
       "    .dataframe thead th {\n",
       "        text-align: right;\n",
       "    }\n",
       "</style>\n",
       "<table border=\"1\" class=\"dataframe\">\n",
       "  <thead>\n",
       "    <tr style=\"text-align: right;\">\n",
       "      <th></th>\n",
       "      <th>Survived</th>\n",
       "      <th>Pclass</th>\n",
       "      <th>Name</th>\n",
       "      <th>Sex</th>\n",
       "      <th>Age</th>\n",
       "      <th>SibSp</th>\n",
       "      <th>Parch</th>\n",
       "      <th>Ticket</th>\n",
       "      <th>Fare</th>\n",
       "      <th>Cabin</th>\n",
       "      <th>Embarked</th>\n",
       "      <th>Sex - Label</th>\n",
       "    </tr>\n",
       "    <tr>\n",
       "      <th>PassengerId</th>\n",
       "      <th></th>\n",
       "      <th></th>\n",
       "      <th></th>\n",
       "      <th></th>\n",
       "      <th></th>\n",
       "      <th></th>\n",
       "      <th></th>\n",
       "      <th></th>\n",
       "      <th></th>\n",
       "      <th></th>\n",
       "      <th></th>\n",
       "      <th></th>\n",
       "    </tr>\n",
       "  </thead>\n",
       "  <tbody>\n",
       "    <tr>\n",
       "      <th>1.0</th>\n",
       "      <td>0.0</td>\n",
       "      <td>3.0</td>\n",
       "      <td>Braund, Mr. Owen Harris</td>\n",
       "      <td>male</td>\n",
       "      <td>22.0</td>\n",
       "      <td>1.0</td>\n",
       "      <td>0.0</td>\n",
       "      <td>A/5 21171</td>\n",
       "      <td>7.2500</td>\n",
       "      <td>None</td>\n",
       "      <td>S</td>\n",
       "      <td>1.0</td>\n",
       "    </tr>\n",
       "    <tr>\n",
       "      <th>2.0</th>\n",
       "      <td>1.0</td>\n",
       "      <td>1.0</td>\n",
       "      <td>Cumings, Mrs. John Bradley (Florence Briggs Th...</td>\n",
       "      <td>female</td>\n",
       "      <td>38.0</td>\n",
       "      <td>1.0</td>\n",
       "      <td>0.0</td>\n",
       "      <td>PC 17599</td>\n",
       "      <td>71.2833</td>\n",
       "      <td>C85</td>\n",
       "      <td>C</td>\n",
       "      <td>0.0</td>\n",
       "    </tr>\n",
       "    <tr>\n",
       "      <th>3.0</th>\n",
       "      <td>1.0</td>\n",
       "      <td>3.0</td>\n",
       "      <td>Heikkinen, Miss. Laina</td>\n",
       "      <td>female</td>\n",
       "      <td>26.0</td>\n",
       "      <td>0.0</td>\n",
       "      <td>0.0</td>\n",
       "      <td>STON/O2. 3101282</td>\n",
       "      <td>7.9250</td>\n",
       "      <td>None</td>\n",
       "      <td>S</td>\n",
       "      <td>0.0</td>\n",
       "    </tr>\n",
       "    <tr>\n",
       "      <th>4.0</th>\n",
       "      <td>1.0</td>\n",
       "      <td>1.0</td>\n",
       "      <td>Futrelle, Mrs. Jacques Heath (Lily May Peel)</td>\n",
       "      <td>female</td>\n",
       "      <td>35.0</td>\n",
       "      <td>1.0</td>\n",
       "      <td>0.0</td>\n",
       "      <td>113803</td>\n",
       "      <td>53.1000</td>\n",
       "      <td>C123</td>\n",
       "      <td>S</td>\n",
       "      <td>0.0</td>\n",
       "    </tr>\n",
       "    <tr>\n",
       "      <th>5.0</th>\n",
       "      <td>0.0</td>\n",
       "      <td>3.0</td>\n",
       "      <td>Allen, Mr. William Henry</td>\n",
       "      <td>male</td>\n",
       "      <td>35.0</td>\n",
       "      <td>0.0</td>\n",
       "      <td>0.0</td>\n",
       "      <td>373450</td>\n",
       "      <td>8.0500</td>\n",
       "      <td>None</td>\n",
       "      <td>S</td>\n",
       "      <td>1.0</td>\n",
       "    </tr>\n",
       "  </tbody>\n",
       "</table>\n",
       "</div>"
      ],
      "text/plain": [
       "             Survived  Pclass  \\\n",
       "PassengerId                     \n",
       "1.0               0.0     3.0   \n",
       "2.0               1.0     1.0   \n",
       "3.0               1.0     3.0   \n",
       "4.0               1.0     1.0   \n",
       "5.0               0.0     3.0   \n",
       "\n",
       "                                                          Name     Sex   Age  \\\n",
       "PassengerId                                                                    \n",
       "1.0                                    Braund, Mr. Owen Harris    male  22.0   \n",
       "2.0          Cumings, Mrs. John Bradley (Florence Briggs Th...  female  38.0   \n",
       "3.0                                     Heikkinen, Miss. Laina  female  26.0   \n",
       "4.0               Futrelle, Mrs. Jacques Heath (Lily May Peel)  female  35.0   \n",
       "5.0                                   Allen, Mr. William Henry    male  35.0   \n",
       "\n",
       "             SibSp  Parch            Ticket     Fare Cabin Embarked  \\\n",
       "PassengerId                                                           \n",
       "1.0            1.0    0.0         A/5 21171   7.2500  None        S   \n",
       "2.0            1.0    0.0          PC 17599  71.2833   C85        C   \n",
       "3.0            0.0    0.0  STON/O2. 3101282   7.9250  None        S   \n",
       "4.0            1.0    0.0            113803  53.1000  C123        S   \n",
       "5.0            0.0    0.0            373450   8.0500  None        S   \n",
       "\n",
       "             Sex - Label  \n",
       "PassengerId               \n",
       "1.0                  1.0  \n",
       "2.0                  0.0  \n",
       "3.0                  0.0  \n",
       "4.0                  0.0  \n",
       "5.0                  1.0  "
      ]
     },
     "execution_count": 24,
     "metadata": {},
     "output_type": "execute_result"
    }
   ],
   "source": [
    "# xw.Range('A1:M892').value\n",
    "# xw.Range('A1').expand().value\n",
    "df = xw.Range('A1').expand().options(pd.DataFrame).value\n",
    "print(df.shape)\n",
    "df.head()"
   ]
  },
  {
   "cell_type": "code",
   "execution_count": 26,
   "metadata": {
    "collapsed": true
   },
   "outputs": [
    {
     "data": {
      "text/html": [
       "<div>\n",
       "<style scoped>\n",
       "    .dataframe tbody tr th:only-of-type {\n",
       "        vertical-align: middle;\n",
       "    }\n",
       "\n",
       "    .dataframe tbody tr th {\n",
       "        vertical-align: top;\n",
       "    }\n",
       "\n",
       "    .dataframe thead th {\n",
       "        text-align: right;\n",
       "    }\n",
       "</style>\n",
       "<table border=\"1\" class=\"dataframe\">\n",
       "  <thead>\n",
       "    <tr style=\"text-align: right;\">\n",
       "      <th></th>\n",
       "      <th>Survived</th>\n",
       "    </tr>\n",
       "    <tr>\n",
       "      <th>Sex</th>\n",
       "      <th></th>\n",
       "    </tr>\n",
       "  </thead>\n",
       "  <tbody>\n",
       "    <tr>\n",
       "      <th>female</th>\n",
       "      <td>0.742038</td>\n",
       "    </tr>\n",
       "    <tr>\n",
       "      <th>male</th>\n",
       "      <td>0.188908</td>\n",
       "    </tr>\n",
       "  </tbody>\n",
       "</table>\n",
       "</div>"
      ],
      "text/plain": [
       "        Survived\n",
       "Sex             \n",
       "female  0.742038\n",
       "male    0.188908"
      ]
     },
     "execution_count": 26,
     "metadata": {},
     "output_type": "execute_result"
    }
   ],
   "source": [
    "성별_생존율_df = df.pivot_table(index='Sex', values='Survived')\n",
    "성별_생존율_df"
   ]
  },
  {
   "cell_type": "code",
   "execution_count": 30,
   "metadata": {},
   "outputs": [],
   "source": [
    "# xw.Range('')  # 현재 활성화된 sheet\n",
    "# xw.sheets[1]\n",
    "sheet = xw.sheets['Sheet2']\n",
    "sheet.range('C5').value = 성별_생존율_df"
   ]
  },
  {
   "cell_type": "code",
   "execution_count": null,
   "metadata": {},
   "outputs": [],
   "source": []
  },
  {
   "cell_type": "markdown",
   "metadata": {},
   "source": [
    "# 좋아요 200,000이 넘는 곡을 살펴보는 3가지 방법"
   ]
  },
  {
   "cell_type": "code",
   "execution_count": 2,
   "metadata": {},
   "outputs": [
    {
     "name": "stdout",
     "output_type": "stream",
     "text": [
      "FAKE LOVE 253847\n",
      "Way Back Home 225308\n",
      "봄날 359130\n",
      "DNA 323911\n",
      "에너제틱 (Energetic) 268394\n",
      "사랑을 했다 (LOVE SCENARIO) 267692\n",
      "Beautiful 216065\n",
      "밤편지 283167\n",
      "그날처럼 208427\n",
      "그리워하다 203463\n",
      "선물 266869\n"
     ]
    }
   ],
   "source": [
    "for song in song_list:\n",
    "    if song['좋아요'] >= 200000:\n",
    "        print('{곡명} {좋아요}'.format(**song))"
   ]
  },
  {
   "cell_type": "code",
   "execution_count": 3,
   "metadata": {},
   "outputs": [
    {
     "name": "stdout",
     "output_type": "stream",
     "text": [
      "FAKE LOVE 253847\n",
      "Way Back Home 225308\n",
      "봄날 359130\n",
      "DNA 323911\n",
      "에너제틱 (Energetic) 268394\n",
      "사랑을 했다 (LOVE SCENARIO) 267692\n",
      "Beautiful 216065\n",
      "밤편지 283167\n",
      "그날처럼 208427\n",
      "그리워하다 203463\n",
      "선물 266869\n"
     ]
    }
   ],
   "source": [
    "def check(song):\n",
    "    return song['좋아요'] >= 200000\n",
    "\n",
    "for song in filter(check, song_list):\n",
    "    print('{곡명} {좋아요}'.format(**song))"
   ]
  },
  {
   "cell_type": "code",
   "execution_count": 65,
   "metadata": {},
   "outputs": [
    {
     "data": {
      "text/html": [
       "<div>\n",
       "<style scoped>\n",
       "    .dataframe tbody tr th:only-of-type {\n",
       "        vertical-align: middle;\n",
       "    }\n",
       "\n",
       "    .dataframe tbody tr th {\n",
       "        vertical-align: top;\n",
       "    }\n",
       "\n",
       "    .dataframe thead th {\n",
       "        text-align: right;\n",
       "    }\n",
       "</style>\n",
       "<table border=\"1\" class=\"dataframe\">\n",
       "  <thead>\n",
       "    <tr style=\"text-align: right;\">\n",
       "      <th></th>\n",
       "      <th>index</th>\n",
       "      <th>가수</th>\n",
       "      <th>곡명</th>\n",
       "      <th>곡일련번호</th>\n",
       "      <th>순위</th>\n",
       "      <th>앨범</th>\n",
       "      <th>좋아요</th>\n",
       "      <th>커버이미지_주소</th>\n",
       "    </tr>\n",
       "  </thead>\n",
       "  <tbody>\n",
       "    <tr>\n",
       "      <th>9</th>\n",
       "      <td>9</td>\n",
       "      <td>방탄소년단</td>\n",
       "      <td>FAKE LOVE</td>\n",
       "      <td>31085237</td>\n",
       "      <td>10</td>\n",
       "      <td>LOVE YOURSELF 轉 `Tear`</td>\n",
       "      <td>253847</td>\n",
       "      <td>https://cdnimg.melon.co.kr/cm/album/images/101...</td>\n",
       "    </tr>\n",
       "    <tr>\n",
       "      <th>23</th>\n",
       "      <td>23</td>\n",
       "      <td>숀 (SHAUN)</td>\n",
       "      <td>Way Back Home</td>\n",
       "      <td>31151836</td>\n",
       "      <td>24</td>\n",
       "      <td>Take</td>\n",
       "      <td>225308</td>\n",
       "      <td>https://cdnimg.melon.co.kr/cm/album/images/101...</td>\n",
       "    </tr>\n",
       "    <tr>\n",
       "      <th>25</th>\n",
       "      <td>25</td>\n",
       "      <td>방탄소년단</td>\n",
       "      <td>봄날</td>\n",
       "      <td>30244931</td>\n",
       "      <td>26</td>\n",
       "      <td>YOU NEVER WALK ALONE</td>\n",
       "      <td>359130</td>\n",
       "      <td>https://cdnimg.melon.co.kr/cm/album/images/100...</td>\n",
       "    </tr>\n",
       "    <tr>\n",
       "      <th>26</th>\n",
       "      <td>26</td>\n",
       "      <td>방탄소년단</td>\n",
       "      <td>DNA</td>\n",
       "      <td>30637982</td>\n",
       "      <td>27</td>\n",
       "      <td>LOVE YOURSELF 承 `Her`</td>\n",
       "      <td>323911</td>\n",
       "      <td>https://cdnimg.melon.co.kr/cm/album/images/100...</td>\n",
       "    </tr>\n",
       "    <tr>\n",
       "      <th>40</th>\n",
       "      <td>40</td>\n",
       "      <td>Wanna One (워너원)</td>\n",
       "      <td>에너제틱 (Energetic)</td>\n",
       "      <td>30568338</td>\n",
       "      <td>41</td>\n",
       "      <td>1X1=1(TO BE ONE)</td>\n",
       "      <td>268394</td>\n",
       "      <td>https://cdnimg.melon.co.kr/cm/album/images/100...</td>\n",
       "    </tr>\n",
       "    <tr>\n",
       "      <th>41</th>\n",
       "      <td>41</td>\n",
       "      <td>iKON</td>\n",
       "      <td>사랑을 했다 (LOVE SCENARIO)</td>\n",
       "      <td>30859584</td>\n",
       "      <td>42</td>\n",
       "      <td>Return</td>\n",
       "      <td>267692</td>\n",
       "      <td>https://cdnimg.melon.co.kr/cm/album/images/101...</td>\n",
       "    </tr>\n",
       "    <tr>\n",
       "      <th>44</th>\n",
       "      <td>44</td>\n",
       "      <td>Wanna One (워너원)</td>\n",
       "      <td>Beautiful</td>\n",
       "      <td>30725482</td>\n",
       "      <td>45</td>\n",
       "      <td>1-1=0 (NOTHING WITHOUT YOU)</td>\n",
       "      <td>216065</td>\n",
       "      <td>https://cdnimg.melon.co.kr/cm/album/images/101...</td>\n",
       "    </tr>\n",
       "    <tr>\n",
       "      <th>58</th>\n",
       "      <td>58</td>\n",
       "      <td>아이유</td>\n",
       "      <td>밤편지</td>\n",
       "      <td>30314784</td>\n",
       "      <td>59</td>\n",
       "      <td>밤편지</td>\n",
       "      <td>283167</td>\n",
       "      <td>https://cdnimg.melon.co.kr/cm/album/images/100...</td>\n",
       "    </tr>\n",
       "    <tr>\n",
       "      <th>62</th>\n",
       "      <td>62</td>\n",
       "      <td>장덕철</td>\n",
       "      <td>그날처럼</td>\n",
       "      <td>30755375</td>\n",
       "      <td>63</td>\n",
       "      <td>그날처럼</td>\n",
       "      <td>208427</td>\n",
       "      <td>https://cdnimg.melon.co.kr/cm/album/images/101...</td>\n",
       "    </tr>\n",
       "    <tr>\n",
       "      <th>64</th>\n",
       "      <td>64</td>\n",
       "      <td>비투비</td>\n",
       "      <td>그리워하다</td>\n",
       "      <td>30672529</td>\n",
       "      <td>65</td>\n",
       "      <td>Brother Act.</td>\n",
       "      <td>203463</td>\n",
       "      <td>https://cdnimg.melon.co.kr/cm/album/images/101...</td>\n",
       "    </tr>\n",
       "    <tr>\n",
       "      <th>77</th>\n",
       "      <td>77</td>\n",
       "      <td>멜로망스</td>\n",
       "      <td>선물</td>\n",
       "      <td>30514366</td>\n",
       "      <td>78</td>\n",
       "      <td>Moonlight</td>\n",
       "      <td>266869</td>\n",
       "      <td>https://cdnimg.melon.co.kr/cm/album/images/100...</td>\n",
       "    </tr>\n",
       "  </tbody>\n",
       "</table>\n",
       "</div>"
      ],
      "text/plain": [
       "    index               가수                      곡명     곡일련번호  순위  \\\n",
       "9       9            방탄소년단               FAKE LOVE  31085237  10   \n",
       "23     23        숀 (SHAUN)           Way Back Home  31151836  24   \n",
       "25     25            방탄소년단                      봄날  30244931  26   \n",
       "26     26            방탄소년단                     DNA  30637982  27   \n",
       "40     40  Wanna One (워너원)        에너제틱 (Energetic)  30568338  41   \n",
       "41     41             iKON  사랑을 했다 (LOVE SCENARIO)  30859584  42   \n",
       "44     44  Wanna One (워너원)               Beautiful  30725482  45   \n",
       "58     58              아이유                     밤편지  30314784  59   \n",
       "62     62              장덕철                    그날처럼  30755375  63   \n",
       "64     64              비투비                   그리워하다  30672529  65   \n",
       "77     77             멜로망스                      선물  30514366  78   \n",
       "\n",
       "                             앨범     좋아요  \\\n",
       "9        LOVE YOURSELF 轉 `Tear`  253847   \n",
       "23                         Take  225308   \n",
       "25         YOU NEVER WALK ALONE  359130   \n",
       "26        LOVE YOURSELF 承 `Her`  323911   \n",
       "40             1X1=1(TO BE ONE)  268394   \n",
       "41                       Return  267692   \n",
       "44  1-1=0 (NOTHING WITHOUT YOU)  216065   \n",
       "58                          밤편지  283167   \n",
       "62                         그날처럼  208427   \n",
       "64                 Brother Act.  203463   \n",
       "77                    Moonlight  266869   \n",
       "\n",
       "                                             커버이미지_주소  \n",
       "9   https://cdnimg.melon.co.kr/cm/album/images/101...  \n",
       "23  https://cdnimg.melon.co.kr/cm/album/images/101...  \n",
       "25  https://cdnimg.melon.co.kr/cm/album/images/100...  \n",
       "26  https://cdnimg.melon.co.kr/cm/album/images/100...  \n",
       "40  https://cdnimg.melon.co.kr/cm/album/images/100...  \n",
       "41  https://cdnimg.melon.co.kr/cm/album/images/101...  \n",
       "44  https://cdnimg.melon.co.kr/cm/album/images/101...  \n",
       "58  https://cdnimg.melon.co.kr/cm/album/images/100...  \n",
       "62  https://cdnimg.melon.co.kr/cm/album/images/101...  \n",
       "64  https://cdnimg.melon.co.kr/cm/album/images/101...  \n",
       "77  https://cdnimg.melon.co.kr/cm/album/images/100...  "
      ]
     },
     "execution_count": 65,
     "metadata": {},
     "output_type": "execute_result"
    }
   ],
   "source": [
    "import pandas as pd\n",
    "\n",
    "song_df = pd.DataFrame(song_list)\n",
    "mask = song_df['좋아요'] >= 200000\n",
    "song_df.loc[mask]"
   ]
  },
  {
   "cell_type": "code",
   "execution_count": null,
   "metadata": {},
   "outputs": [],
   "source": []
  }
 ],
 "metadata": {
  "kernelspec": {
   "display_name": "Python 3",
   "language": "python",
   "name": "python3"
  },
  "language_info": {
   "codemirror_mode": {
    "name": "ipython",
    "version": 3
   },
   "file_extension": ".py",
   "mimetype": "text/x-python",
   "name": "python",
   "nbconvert_exporter": "python",
   "pygments_lexer": "ipython3",
   "version": "3.7.3"
  }
 },
 "nbformat": 4,
 "nbformat_minor": 2
}
