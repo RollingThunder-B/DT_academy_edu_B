{
 "cells": [
  {
   "cell_type": "code",
   "execution_count": 1,
   "metadata": {},
   "outputs": [],
   "source": [
    "# 3일차 교육 "
   ]
  },
  {
   "cell_type": "code",
   "execution_count": 2,
   "metadata": {},
   "outputs": [],
   "source": [
    "import numpy as np\n",
    "import pandas as pd\n",
    "import matplotlib.pyplot as plt"
   ]
  },
  {
   "cell_type": "code",
   "execution_count": 3,
   "metadata": {},
   "outputs": [
    {
     "data": {
      "text/plain": [
       "[<matplotlib.lines.Line2D at 0x9b1b5c0>]"
      ]
     },
     "execution_count": 3,
     "metadata": {},
     "output_type": "execute_result"
    },
    {
     "data": {
      "image/png": "[encoded data removed]",
      "text/plain": [
       "<Figure size 432x288 with 1 Axes>"
      ]
     },
     "metadata": {
      "needs_background": "light"
     },
     "output_type": "display_data"
    }
   ],
   "source": [
    "x = [1, 2, 3]\n",
    "y = [20, 46, 67]\n",
    "plt.plot(x, y)"
   ]
  },
  {
   "cell_type": "code",
   "execution_count": null,
   "metadata": {},
   "outputs": [],
   "source": []
  },
  {
   "cell_type": "code",
   "execution_count": 4,
   "metadata": {},
   "outputs": [],
   "source": [
    "# 랜덤 넘버, 정규분포 의미"
   ]
  },
  {
   "cell_type": "code",
   "execution_count": 5,
   "metadata": {},
   "outputs": [
    {
     "data": {
      "text/plain": [
       "<matplotlib.collections.PathCollection at 0x9bc3898>"
      ]
     },
     "execution_count": 5,
     "metadata": {},
     "output_type": "execute_result"
    },
    {
     "data": {
      "image/png": "[encoded data removed]",
      "text/plain": [
       "<Figure size 432x288 with 1 Axes>"
      ]
     },
     "metadata": {
      "needs_background": "light"
     },
     "output_type": "display_data"
    }
   ],
   "source": [
    "y = np.random.rand(50)\n",
    "plt.scatter(range(50), y)"
   ]
  },
  {
   "cell_type": "code",
   "execution_count": 6,
   "metadata": {},
   "outputs": [],
   "source": [
    "N = 100_000\n",
    "x = np.random.rand(N)\n",
    "y = np.random.rand(N)"
   ]
  },
  {
   "cell_type": "code",
   "execution_count": 7,
   "metadata": {},
   "outputs": [
    {
     "data": {
      "text/plain": [
       "<matplotlib.collections.PathCollection at 0x9c2bdd8>"
      ]
     },
     "execution_count": 7,
     "metadata": {},
     "output_type": "execute_result"
    },
    {
     "data": {
      "image/png": "[encoded data removed]",
      "text/plain": [
       "<Figure size 432x288 with 1 Axes>"
      ]
     },
     "metadata": {
      "needs_background": "light"
     },
     "output_type": "display_data"
    }
   ],
   "source": [
    "plt.scatter(x, y)"
   ]
  },
  {
   "cell_type": "code",
   "execution_count": 8,
   "metadata": {
    "scrolled": false
   },
   "outputs": [
    {
     "data": {
      "text/plain": [
       "array([ True,  True,  True, ...,  True,  True,  True])"
      ]
     },
     "execution_count": 8,
     "metadata": {},
     "output_type": "execute_result"
    }
   ],
   "source": [
    "(x**2 + y**2) < 1"
   ]
  },
  {
   "cell_type": "code",
   "execution_count": 9,
   "metadata": {},
   "outputs": [
    {
     "data": {
      "text/plain": [
       "array([0.79407737, 0.17804748, 0.57913098, 0.59094183, 0.15321483])"
      ]
     },
     "execution_count": 9,
     "metadata": {},
     "output_type": "execute_result"
    }
   ],
   "source": [
    "z = np.random.rand(5) ;z"
   ]
  },
  {
   "cell_type": "code",
   "execution_count": 10,
   "metadata": {},
   "outputs": [
    {
     "data": {
      "text/plain": [
       "array([False,  True, False, False,  True])"
      ]
     },
     "execution_count": 10,
     "metadata": {},
     "output_type": "execute_result"
    }
   ],
   "source": [
    "z < 0.5"
   ]
  },
  {
   "cell_type": "code",
   "execution_count": 11,
   "metadata": {},
   "outputs": [
    {
     "data": {
      "text/plain": [
       "2"
      ]
     },
     "execution_count": 11,
     "metadata": {},
     "output_type": "execute_result"
    }
   ],
   "source": [
    "(z < 0.5).sum()"
   ]
  },
  {
   "cell_type": "code",
   "execution_count": 12,
   "metadata": {},
   "outputs": [
    {
     "data": {
      "text/plain": [
       "0.4"
      ]
     },
     "execution_count": 12,
     "metadata": {},
     "output_type": "execute_result"
    }
   ],
   "source": [
    "(z < 0.5).mean()"
   ]
  },
  {
   "cell_type": "code",
   "execution_count": 13,
   "metadata": {},
   "outputs": [
    {
     "data": {
      "text/plain": [
       "3.13396"
      ]
     },
     "execution_count": 13,
     "metadata": {},
     "output_type": "execute_result"
    }
   ],
   "source": [
    "((x**2 + y**2) < 1).mean()*4"
   ]
  },
  {
   "cell_type": "code",
   "execution_count": null,
   "metadata": {},
   "outputs": [],
   "source": []
  },
  {
   "cell_type": "code",
   "execution_count": 14,
   "metadata": {},
   "outputs": [],
   "source": [
    "x = np.random.randint(1, 7, 5)   # 1과 7사이 5개 뽑 (7 은 미포함)"
   ]
  },
  {
   "cell_type": "code",
   "execution_count": 15,
   "metadata": {},
   "outputs": [],
   "source": [
    "  # 주사위 던지기"
   ]
  },
  {
   "cell_type": "code",
   "execution_count": 16,
   "metadata": {},
   "outputs": [],
   "source": [
    "N = 10_000\n",
    "x = np.random.randint(1, 7, N)\n",
    "y = np.random.randint(1, 7, N)\n",
    "z = x + y"
   ]
  },
  {
   "cell_type": "code",
   "execution_count": 17,
   "metadata": {},
   "outputs": [
    {
     "data": {
      "image/png": "[encoded data removed]",
      "text/plain": [
       "<Figure size 432x288 with 1 Axes>"
      ]
     },
     "metadata": {
      "needs_background": "light"
     },
     "output_type": "display_data"
    }
   ],
   "source": [
    "plt.hist(x, bins=11, rwidth=0.6)\n",
    "plt.show()"
   ]
  },
  {
   "cell_type": "code",
   "execution_count": 18,
   "metadata": {},
   "outputs": [
    {
     "data": {
      "image/png": "[encoded data removed]",
      "text/plain": [
       "<Figure size 432x288 with 1 Axes>"
      ]
     },
     "metadata": {
      "needs_background": "light"
     },
     "output_type": "display_data"
    }
   ],
   "source": [
    "plt.hist(z, bins=11, rwidth=0.6)\n",
    "plt.show()"
   ]
  },
  {
   "cell_type": "code",
   "execution_count": null,
   "metadata": {},
   "outputs": [],
   "source": []
  },
  {
   "cell_type": "code",
   "execution_count": 19,
   "metadata": {},
   "outputs": [
    {
     "data": {
      "image/png": "[encoded data removed]",
      "text/plain": [
       "<Figure size 432x288 with 1 Axes>"
      ]
     },
     "metadata": {
      "needs_background": "light"
     },
     "output_type": "display_data"
    }
   ],
   "source": [
    "N = 10_000\n",
    "x = np.random.randint(1, 7, N)\n",
    "y = np.random.randint(1, 7, N)\n",
    "\n",
    "C = 30\n",
    "\n",
    "for i in range(1, C):\n",
    "    z = x + y\n",
    "\n",
    "plt.hist(z, bins=5*C +1, rwidth=0.5)\n",
    "plt.show()\n"
   ]
  },
  {
   "cell_type": "code",
   "execution_count": 20,
   "metadata": {},
   "outputs": [],
   "source": [
    "# ans"
   ]
  },
  {
   "cell_type": "code",
   "execution_count": 21,
   "metadata": {},
   "outputs": [
    {
     "ename": "SyntaxError",
     "evalue": "unexpected EOF while parsing (<ipython-input-21-dabbb45893f3>, line 5)",
     "output_type": "error",
     "traceback": [
      "\u001b[1;36m  File \u001b[1;32m\"<ipython-input-21-dabbb45893f3>\"\u001b[1;36m, line \u001b[1;32m5\u001b[0m\n\u001b[1;33m    \u001b[0m\n\u001b[1;37m    ^\u001b[0m\n\u001b[1;31mSyntaxError\u001b[0m\u001b[1;31m:\u001b[0m unexpected EOF while parsing\n"
     ]
    }
   ],
   "source": [
    "N = 100_000\n",
    "k = 32\n",
    "z = 0\n",
    "for i in rage(k):\n",
    "    "
   ]
  },
  {
   "cell_type": "code",
   "execution_count": null,
   "metadata": {},
   "outputs": [],
   "source": []
  },
  {
   "cell_type": "code",
   "execution_count": null,
   "metadata": {},
   "outputs": [],
   "source": [
    "# W b 찾기"
   ]
  },
  {
   "cell_type": "code",
   "execution_count": 22,
   "metadata": {},
   "outputs": [
    {
     "data": {
      "text/plain": [
       "(array([0.82184172, 0.0165169 , 0.69617596, 0.84205566, 0.52661705]),\n",
       " array([4.64368344, 3.03303379, 4.39235192, 4.68411132, 4.0532341 ]))"
      ]
     },
     "execution_count": 22,
     "metadata": {},
     "output_type": "execute_result"
    }
   ],
   "source": [
    "x = np.random.rand(5)\n",
    "y = 2*x + 3\n",
    "x, y"
   ]
  },
  {
   "cell_type": "code",
   "execution_count": 23,
   "metadata": {},
   "outputs": [],
   "source": [
    "# "
   ]
  },
  {
   "cell_type": "code",
   "execution_count": 24,
   "metadata": {},
   "outputs": [
    {
     "data": {
      "text/plain": [
       "(0.9592241589216667, 0.31168985802298044)"
      ]
     },
     "execution_count": 24,
     "metadata": {},
     "output_type": "execute_result"
    }
   ],
   "source": [
    "w = np.random.rand()\n",
    "b = np.random.rand()\n",
    "w,b"
   ]
  },
  {
   "cell_type": "code",
   "execution_count": 25,
   "metadata": {
    "scrolled": true
   },
   "outputs": [
    {
     "name": "stdout",
     "output_type": "stream",
     "text": [
      "error= -3.292627743654839, w= 1.1600041110885613, b= 0.6409526323884643\n",
      "error= -2.8467838051524432, w= 1.333045251040534, b= 0.9256310129037086\n",
      "error= -2.461630564864295, w= 1.4821272943451882, b= 1.171794069390138\n",
      "error= -2.1289042934114675, w= 1.6105152798194242, b= 1.3846844987312847\n",
      "error= -1.8414664770117877, w= 1.7210296497202304, b= 1.5688311464324636\n",
      "error= -1.5931506044560093, w= 1.8161067875870684, b= 1.7281462068780646\n",
      "error= -1.378629816069463, w= 1.8978513130531713, b= 1.866009188485011\n",
      "error= -1.1933025740231273, w= 1.9680812560237828, b= 1.9853394458873237\n",
      "error= -1.0331939001483517, w= 2.0283670797899864, b= 2.0886588359021587\n",
      "error= -0.8948700615331173, w= 2.080065390627141, b= 2.1781458420554705\n"
     ]
    }
   ],
   "source": [
    "n_epoch = 10\n",
    "lr= 0.1\n",
    "\n",
    "for epoch in range(n_epoch):\n",
    "    y_pred = w*x +b\n",
    "    e = (y_pred - y)\n",
    "    w = w - lr*(e*x).mean()\n",
    "    b = b - lr*e.mean()\n",
    "    print(f'error= {e.mean()}, w= {w}, b= {b}')\n",
    "    "
   ]
  },
  {
   "cell_type": "code",
   "execution_count": null,
   "metadata": {},
   "outputs": [],
   "source": []
  },
  {
   "cell_type": "code",
   "execution_count": 26,
   "metadata": {},
   "outputs": [
    {
     "data": {
      "text/plain": [
       "(array([0.11847117, 0.89928472, 0.86026894, 0.92025929, 0.44895087]),\n",
       " array([0.86636332, 0.78917405, 0.90014022, 0.64630012, 0.29394061]),\n",
       " array([6.83603229, 8.16609159, 8.42095853, 7.77941893, 5.77972356]))"
      ]
     },
     "execution_count": 26,
     "metadata": {},
     "output_type": "execute_result"
    }
   ],
   "source": [
    "x1 = np.random.rand(5)\n",
    "x2 = np.random.rand(5)\n",
    "y = 2*x1 + 3*x2 +4\n",
    "x1, x2, y"
   ]
  },
  {
   "cell_type": "code",
   "execution_count": 27,
   "metadata": {},
   "outputs": [
    {
     "data": {
      "text/plain": [
       "(0.5656669463109003, 0.6079073734128309, 0.20744360347209656)"
      ]
     },
     "execution_count": 27,
     "metadata": {},
     "output_type": "execute_result"
    }
   ],
   "source": [
    "w1 = np.random.rand()\n",
    "w2 = np.random.rand()\n",
    "b = np.random.rand()\n",
    "w1, w2, b"
   ]
  },
  {
   "cell_type": "code",
   "execution_count": 28,
   "metadata": {},
   "outputs": [
    {
     "name": "stdout",
     "output_type": "stream",
     "text": [
      "error= 6.396591772378446, w1= 4.020809007308909,w2= 4.288868157166324, b= 5.32\n",
      "error= 3.5382809208476864, w1= 2.011178336837554,w2= 2.245631687920852, b= 2.49\n",
      "error= 2.0260899763240943, w1= 3.0681414506922806,w2= 3.408226058834905, b= 4.11\n",
      "error= 1.094090514350137, w1= 2.411038334350355,w2= 2.7729983804339478, b= 3.24\n",
      "error= 0.6520763570346235, w1= 2.718354817684137,w2= 3.1437489100498803, b= 3.76\n",
      "error= 0.33999478556929735, w1= 2.489009315755282,w2= 2.9495205853011344, b= 3.50\n",
      "error= 0.21907037710967944, w1= 2.563872682582451,w2= 3.0706581219138864, b= 3.67\n",
      "error= 0.1896118865471239, w1= 2.4715636818863063,w2= 3.01396232744793, b= 3.60\n",
      "error= 0.12296581972819016, w1= 2.4760087341113204,w2= 3.0558664693303346, b= 3.67\n",
      "error= 0.14776422564242236, w1= 2.4291318194331466,w2= 3.0415504853042306, b= 3.65\n",
      "error= 0.12205900266751524, w1= 2.413726032151112,w2= 3.057833709796471, b= 3.68\n",
      "error= 0.12534341344713304, w1= 2.3832325974825204,w2= 3.056133158441511, b= 3.69\n",
      "error= 0.11303320209122614, w1= 2.363582831751657,w2= 3.0637316186738777, b= 3.71\n",
      "error= 0.1100710404566243, w1= 2.340099384161768,w2= 3.065398055667283, b= 3.72\n",
      "error= 0.10244397946479822, w1= 2.320868268847705,w2= 3.0697195073191295, b= 3.73\n",
      "error= 0.09796933316237837, w1= 2.3012290463379674,w2= 3.0719335644881935, b= 3.74\n",
      "error= 0.0922343815049004, w1= 2.283671512915799,w2= 3.0747546694503884, b= 3.75\n",
      "error= 0.08768124787542834, w1= 2.2666864910893376,w2= 3.07670472114426, b= 3.76\n",
      "error= 0.08291294593611642, w1= 2.251012601113067,w2= 3.0786519811101156, b= 3.77\n",
      "error= 0.07868540793881582, w1= 2.2361355703301795,w2= 3.0801473091609317, b= 3.78\n"
     ]
    }
   ],
   "source": [
    "n_epoch = 20  # 16, 32 많이 쓴다고는 하는데?\n",
    "lr= 0.8\n",
    "\n",
    "for epoch in range(n_epoch):\n",
    "    y_pred = w1*x1 + w2*x2 +b\n",
    "    e = (y_pred - y)\n",
    "    w1 = w1 - lr*(e*x1).mean()\n",
    "    w2 = w2 - lr*(e*x2).mean()\n",
    "    b = b - lr*e.mean()\n",
    "    \n",
    "    error = np.abs(e).mean()\n",
    "    print(f'error= {error}, w1= {w1},w2= {w2}, b= {b:.2f}')\n",
    "#     plt.hist(error)"
   ]
  },
  {
   "cell_type": "code",
   "execution_count": null,
   "metadata": {},
   "outputs": [],
   "source": []
  },
  {
   "cell_type": "code",
   "execution_count": 223,
   "metadata": {},
   "outputs": [],
   "source": [
    "from sklearn.linear_model import LinearRegression"
   ]
  },
  {
   "cell_type": "code",
   "execution_count": 234,
   "metadata": {},
   "outputs": [
    {
     "data": {
      "text/plain": [
       "array([[0.20518641, 0.07304512],\n",
       "       [0.81341498, 0.96075107],\n",
       "       [0.67137362, 0.21987308],\n",
       "       [0.34111271, 0.48820553],\n",
       "       [0.67201596, 0.44180388]])"
      ]
     },
     "execution_count": 234,
     "metadata": {},
     "output_type": "execute_result"
    }
   ],
   "source": [
    "x1, x2\n",
    "X = np.vstack((x1, x2)).T\n",
    "X"
   ]
  },
  {
   "cell_type": "code",
   "execution_count": 235,
   "metadata": {},
   "outputs": [
    {
     "data": {
      "text/plain": [
       "LinearRegression(copy_X=True, fit_intercept=True, n_jobs=None, normalize=False)"
      ]
     },
     "execution_count": 235,
     "metadata": {},
     "output_type": "execute_result"
    }
   ],
   "source": [
    "model = LinearRegression()\n",
    "model.fit(X, y)"
   ]
  },
  {
   "cell_type": "code",
   "execution_count": 236,
   "metadata": {},
   "outputs": [
    {
     "data": {
      "text/plain": [
       "(array([2., 3.]), 4.000000000000001)"
      ]
     },
     "execution_count": 236,
     "metadata": {},
     "output_type": "execute_result"
    }
   ],
   "source": [
    "model.coef_, model.intercept_"
   ]
  },
  {
   "cell_type": "code",
   "execution_count": 237,
   "metadata": {},
   "outputs": [
    {
     "data": {
      "text/plain": [
       "array([4.62950818, 8.50908316, 6.00236648, 6.14684202, 6.66944355])"
      ]
     },
     "execution_count": 237,
     "metadata": {},
     "output_type": "execute_result"
    }
   ],
   "source": [
    "model.predict(X)"
   ]
  },
  {
   "cell_type": "code",
   "execution_count": null,
   "metadata": {},
   "outputs": [],
   "source": []
  },
  {
   "cell_type": "code",
   "execution_count": 238,
   "metadata": {},
   "outputs": [
    {
     "data": {
      "text/plain": [
       "DecisionTreeRegressor(criterion='mse', max_depth=None, max_features=None,\n",
       "                      max_leaf_nodes=None, min_impurity_decrease=0.0,\n",
       "                      min_impurity_split=None, min_samples_leaf=1,\n",
       "                      min_samples_split=2, min_weight_fraction_leaf=0.0,\n",
       "                      presort=False, random_state=None, splitter='best')"
      ]
     },
     "execution_count": 238,
     "metadata": {},
     "output_type": "execute_result"
    }
   ],
   "source": [
    "from sklearn.tree import DecisionTreeRegressor\n",
    "model_dt = DecisionTreeRegressor()\n",
    "model_dt.fit(X, y)"
   ]
  },
  {
   "cell_type": "code",
   "execution_count": 239,
   "metadata": {},
   "outputs": [
    {
     "data": {
      "text/plain": [
       "array([4.62950818, 8.50908316, 6.00236648, 6.14684202, 6.66944355])"
      ]
     },
     "execution_count": 239,
     "metadata": {},
     "output_type": "execute_result"
    }
   ],
   "source": [
    "model_dt.predict(X)"
   ]
  },
  {
   "cell_type": "code",
   "execution_count": null,
   "metadata": {},
   "outputs": [],
   "source": []
  },
  {
   "cell_type": "code",
   "execution_count": 255,
   "metadata": {},
   "outputs": [
    {
     "data": {
      "text/plain": [
       "<matplotlib.collections.PathCollection at 0xf29c240>"
      ]
     },
     "execution_count": 255,
     "metadata": {},
     "output_type": "execute_result"
    },
    {
     "data": {
      "image/png": "[encoded data removed]",
      "text/plain": [
       "<Figure size 432x288 with 1 Axes>"
      ]
     },
     "metadata": {
      "needs_background": "light"
     },
     "output_type": "display_data"
    }
   ],
   "source": [
    "x = np.random.randn(500)*3 +170\n",
    "# plt.hist(x)\n",
    "y = x * 1.1 -120 + (np.random.randn(500) *2)\n",
    "plt.scatter(x, y)"
   ]
  },
  {
   "cell_type": "code",
   "execution_count": 256,
   "metadata": {},
   "outputs": [
    {
     "data": {
      "text/plain": [
       "LinearRegression(copy_X=True, fit_intercept=True, n_jobs=None, normalize=False)"
      ]
     },
     "execution_count": 256,
     "metadata": {},
     "output_type": "execute_result"
    }
   ],
   "source": [
    "model = LinearRegression()\n",
    "model.fit(x.reshape(-1,1), y)"
   ]
  },
  {
   "cell_type": "code",
   "execution_count": 258,
   "metadata": {},
   "outputs": [
    {
     "data": {
      "text/plain": [
       "(array([1.096]), -119.141)"
      ]
     },
     "execution_count": 258,
     "metadata": {},
     "output_type": "execute_result"
    }
   ],
   "source": [
    "model.coef_.round(3), model.intercept_.round(3)"
   ]
  },
  {
   "cell_type": "code",
   "execution_count": null,
   "metadata": {},
   "outputs": [],
   "source": []
  },
  {
   "cell_type": "code",
   "execution_count": 263,
   "metadata": {},
   "outputs": [
    {
     "data": {
      "text/plain": [
       "<matplotlib.collections.PathCollection at 0xf453c18>"
      ]
     },
     "execution_count": 263,
     "metadata": {},
     "output_type": "execute_result"
    },
    {
     "data": {
      "image/png": "[encoded data removed]",
      "text/plain": [
       "<Figure size 432x288 with 1 Axes>"
      ]
     },
     "metadata": {
      "needs_background": "light"
     },
     "output_type": "display_data"
    }
   ],
   "source": [
    "x1 = np.random.randn(500)*3 +170\n",
    "x2 = np.random.randn(500)*3 +160\n",
    "\n",
    "y1 = x1 * 1.1 -120 + (np.random.randn(500) *2)\n",
    "y2 = x2 * 1.1 -130 + (np.random.randn(500) *2)\n",
    "\n",
    "plt.scatter(x1, y1)\n",
    "plt.scatter(x2, y2)"
   ]
  },
  {
   "cell_type": "code",
   "execution_count": 264,
   "metadata": {},
   "outputs": [
    {
     "data": {
      "text/plain": [
       "<matplotlib.collections.PathCollection at 0xf52f780>"
      ]
     },
     "execution_count": 264,
     "metadata": {},
     "output_type": "execute_result"
    },
    {
     "data": {
      "image/png": "[encoded data removed]",
      "text/plain": [
       "<Figure size 432x288 with 1 Axes>"
      ]
     },
     "metadata": {
      "needs_background": "light"
     },
     "output_type": "display_data"
    }
   ],
   "source": [
    "X = np.hstack((x1, x2)).T\n",
    "Y = np.hstack((y1, y2)).T\n",
    "plt.scatter(X, Y)"
   ]
  },
  {
   "cell_type": "code",
   "execution_count": 266,
   "metadata": {},
   "outputs": [
    {
     "data": {
      "text/plain": [
       "LinearRegression(copy_X=True, fit_intercept=True, n_jobs=None, normalize=False)"
      ]
     },
     "execution_count": 266,
     "metadata": {},
     "output_type": "execute_result"
    }
   ],
   "source": [
    "model = LinearRegression()\n",
    "model.fit(X.reshape(-1,1), Y)"
   ]
  },
  {
   "cell_type": "code",
   "execution_count": 267,
   "metadata": {},
   "outputs": [
    {
     "data": {
      "text/plain": [
       "(array([1.841]), -247.303)"
      ]
     },
     "execution_count": 267,
     "metadata": {},
     "output_type": "execute_result"
    }
   ],
   "source": [
    "model.coef_.round(3), model.intercept_.round(3)"
   ]
  },
  {
   "cell_type": "code",
   "execution_count": 271,
   "metadata": {},
   "outputs": [
    {
     "data": {
      "text/plain": [
       "1000"
      ]
     },
     "execution_count": 271,
     "metadata": {},
     "output_type": "execute_result"
    }
   ],
   "source": [
    "s = 500*[1] + 500*[0]\n",
    "len(s)"
   ]
  },
  {
   "cell_type": "code",
   "execution_count": 273,
   "metadata": {
    "scrolled": true
   },
   "outputs": [
    {
     "data": {
      "text/html": [
       "<div>\n",
       "<style scoped>\n",
       "    .dataframe tbody tr th:only-of-type {\n",
       "        vertical-align: middle;\n",
       "    }\n",
       "\n",
       "    .dataframe tbody tr th {\n",
       "        vertical-align: top;\n",
       "    }\n",
       "\n",
       "    .dataframe thead th {\n",
       "        text-align: right;\n",
       "    }\n",
       "</style>\n",
       "<table border=\"1\" class=\"dataframe\">\n",
       "  <thead>\n",
       "    <tr style=\"text-align: right;\">\n",
       "      <th></th>\n",
       "      <th>height</th>\n",
       "      <th>sex</th>\n",
       "      <th>weight</th>\n",
       "    </tr>\n",
       "  </thead>\n",
       "  <tbody>\n",
       "    <tr>\n",
       "      <th>0</th>\n",
       "      <td>166.238267</td>\n",
       "      <td>1</td>\n",
       "      <td>63.930975</td>\n",
       "    </tr>\n",
       "    <tr>\n",
       "      <th>1</th>\n",
       "      <td>168.436429</td>\n",
       "      <td>1</td>\n",
       "      <td>64.443293</td>\n",
       "    </tr>\n",
       "    <tr>\n",
       "      <th>2</th>\n",
       "      <td>165.486031</td>\n",
       "      <td>1</td>\n",
       "      <td>64.644100</td>\n",
       "    </tr>\n",
       "    <tr>\n",
       "      <th>3</th>\n",
       "      <td>168.683580</td>\n",
       "      <td>1</td>\n",
       "      <td>64.685007</td>\n",
       "    </tr>\n",
       "    <tr>\n",
       "      <th>4</th>\n",
       "      <td>168.105726</td>\n",
       "      <td>1</td>\n",
       "      <td>69.369304</td>\n",
       "    </tr>\n",
       "    <tr>\n",
       "      <th>5</th>\n",
       "      <td>172.385508</td>\n",
       "      <td>1</td>\n",
       "      <td>71.246612</td>\n",
       "    </tr>\n",
       "    <tr>\n",
       "      <th>6</th>\n",
       "      <td>176.137644</td>\n",
       "      <td>1</td>\n",
       "      <td>71.708073</td>\n",
       "    </tr>\n",
       "    <tr>\n",
       "      <th>7</th>\n",
       "      <td>170.948645</td>\n",
       "      <td>1</td>\n",
       "      <td>67.748932</td>\n",
       "    </tr>\n",
       "    <tr>\n",
       "      <th>8</th>\n",
       "      <td>169.437440</td>\n",
       "      <td>1</td>\n",
       "      <td>68.606239</td>\n",
       "    </tr>\n",
       "    <tr>\n",
       "      <th>9</th>\n",
       "      <td>175.117525</td>\n",
       "      <td>1</td>\n",
       "      <td>75.270719</td>\n",
       "    </tr>\n",
       "    <tr>\n",
       "      <th>10</th>\n",
       "      <td>171.740448</td>\n",
       "      <td>1</td>\n",
       "      <td>66.540507</td>\n",
       "    </tr>\n",
       "    <tr>\n",
       "      <th>11</th>\n",
       "      <td>170.401209</td>\n",
       "      <td>1</td>\n",
       "      <td>62.264597</td>\n",
       "    </tr>\n",
       "    <tr>\n",
       "      <th>12</th>\n",
       "      <td>172.704778</td>\n",
       "      <td>1</td>\n",
       "      <td>70.626716</td>\n",
       "    </tr>\n",
       "    <tr>\n",
       "      <th>13</th>\n",
       "      <td>172.814647</td>\n",
       "      <td>1</td>\n",
       "      <td>72.778917</td>\n",
       "    </tr>\n",
       "    <tr>\n",
       "      <th>14</th>\n",
       "      <td>170.577245</td>\n",
       "      <td>1</td>\n",
       "      <td>67.995089</td>\n",
       "    </tr>\n",
       "    <tr>\n",
       "      <th>15</th>\n",
       "      <td>173.178550</td>\n",
       "      <td>1</td>\n",
       "      <td>68.463787</td>\n",
       "    </tr>\n",
       "    <tr>\n",
       "      <th>16</th>\n",
       "      <td>167.468884</td>\n",
       "      <td>1</td>\n",
       "      <td>63.414722</td>\n",
       "    </tr>\n",
       "    <tr>\n",
       "      <th>17</th>\n",
       "      <td>170.288038</td>\n",
       "      <td>1</td>\n",
       "      <td>68.384663</td>\n",
       "    </tr>\n",
       "    <tr>\n",
       "      <th>18</th>\n",
       "      <td>166.380858</td>\n",
       "      <td>1</td>\n",
       "      <td>60.279262</td>\n",
       "    </tr>\n",
       "    <tr>\n",
       "      <th>19</th>\n",
       "      <td>166.724716</td>\n",
       "      <td>1</td>\n",
       "      <td>65.133729</td>\n",
       "    </tr>\n",
       "    <tr>\n",
       "      <th>20</th>\n",
       "      <td>173.823099</td>\n",
       "      <td>1</td>\n",
       "      <td>74.569928</td>\n",
       "    </tr>\n",
       "    <tr>\n",
       "      <th>21</th>\n",
       "      <td>168.062660</td>\n",
       "      <td>1</td>\n",
       "      <td>62.473778</td>\n",
       "    </tr>\n",
       "    <tr>\n",
       "      <th>22</th>\n",
       "      <td>169.496512</td>\n",
       "      <td>1</td>\n",
       "      <td>65.859291</td>\n",
       "    </tr>\n",
       "    <tr>\n",
       "      <th>23</th>\n",
       "      <td>170.558641</td>\n",
       "      <td>1</td>\n",
       "      <td>66.004755</td>\n",
       "    </tr>\n",
       "    <tr>\n",
       "      <th>24</th>\n",
       "      <td>166.127920</td>\n",
       "      <td>1</td>\n",
       "      <td>63.716188</td>\n",
       "    </tr>\n",
       "    <tr>\n",
       "      <th>25</th>\n",
       "      <td>171.833544</td>\n",
       "      <td>1</td>\n",
       "      <td>68.938986</td>\n",
       "    </tr>\n",
       "    <tr>\n",
       "      <th>26</th>\n",
       "      <td>170.843537</td>\n",
       "      <td>1</td>\n",
       "      <td>65.496874</td>\n",
       "    </tr>\n",
       "    <tr>\n",
       "      <th>27</th>\n",
       "      <td>166.965195</td>\n",
       "      <td>1</td>\n",
       "      <td>63.623023</td>\n",
       "    </tr>\n",
       "    <tr>\n",
       "      <th>28</th>\n",
       "      <td>169.434900</td>\n",
       "      <td>1</td>\n",
       "      <td>67.857291</td>\n",
       "    </tr>\n",
       "    <tr>\n",
       "      <th>29</th>\n",
       "      <td>172.186526</td>\n",
       "      <td>1</td>\n",
       "      <td>68.269677</td>\n",
       "    </tr>\n",
       "    <tr>\n",
       "      <th>...</th>\n",
       "      <td>...</td>\n",
       "      <td>...</td>\n",
       "      <td>...</td>\n",
       "    </tr>\n",
       "    <tr>\n",
       "      <th>970</th>\n",
       "      <td>157.054802</td>\n",
       "      <td>0</td>\n",
       "      <td>43.730167</td>\n",
       "    </tr>\n",
       "    <tr>\n",
       "      <th>971</th>\n",
       "      <td>153.112886</td>\n",
       "      <td>0</td>\n",
       "      <td>36.350958</td>\n",
       "    </tr>\n",
       "    <tr>\n",
       "      <th>972</th>\n",
       "      <td>158.411227</td>\n",
       "      <td>0</td>\n",
       "      <td>43.697332</td>\n",
       "    </tr>\n",
       "    <tr>\n",
       "      <th>973</th>\n",
       "      <td>160.783559</td>\n",
       "      <td>0</td>\n",
       "      <td>46.698362</td>\n",
       "    </tr>\n",
       "    <tr>\n",
       "      <th>974</th>\n",
       "      <td>160.932556</td>\n",
       "      <td>0</td>\n",
       "      <td>49.559545</td>\n",
       "    </tr>\n",
       "    <tr>\n",
       "      <th>975</th>\n",
       "      <td>161.518952</td>\n",
       "      <td>0</td>\n",
       "      <td>46.744619</td>\n",
       "    </tr>\n",
       "    <tr>\n",
       "      <th>976</th>\n",
       "      <td>158.726179</td>\n",
       "      <td>0</td>\n",
       "      <td>43.143421</td>\n",
       "    </tr>\n",
       "    <tr>\n",
       "      <th>977</th>\n",
       "      <td>161.163615</td>\n",
       "      <td>0</td>\n",
       "      <td>47.093257</td>\n",
       "    </tr>\n",
       "    <tr>\n",
       "      <th>978</th>\n",
       "      <td>163.125907</td>\n",
       "      <td>0</td>\n",
       "      <td>50.838681</td>\n",
       "    </tr>\n",
       "    <tr>\n",
       "      <th>979</th>\n",
       "      <td>165.038246</td>\n",
       "      <td>0</td>\n",
       "      <td>56.402917</td>\n",
       "    </tr>\n",
       "    <tr>\n",
       "      <th>980</th>\n",
       "      <td>157.905383</td>\n",
       "      <td>0</td>\n",
       "      <td>41.656664</td>\n",
       "    </tr>\n",
       "    <tr>\n",
       "      <th>981</th>\n",
       "      <td>153.624711</td>\n",
       "      <td>0</td>\n",
       "      <td>43.111452</td>\n",
       "    </tr>\n",
       "    <tr>\n",
       "      <th>982</th>\n",
       "      <td>158.690900</td>\n",
       "      <td>0</td>\n",
       "      <td>46.496323</td>\n",
       "    </tr>\n",
       "    <tr>\n",
       "      <th>983</th>\n",
       "      <td>161.815015</td>\n",
       "      <td>0</td>\n",
       "      <td>48.363539</td>\n",
       "    </tr>\n",
       "    <tr>\n",
       "      <th>984</th>\n",
       "      <td>160.388686</td>\n",
       "      <td>0</td>\n",
       "      <td>45.396572</td>\n",
       "    </tr>\n",
       "    <tr>\n",
       "      <th>985</th>\n",
       "      <td>160.963829</td>\n",
       "      <td>0</td>\n",
       "      <td>44.918066</td>\n",
       "    </tr>\n",
       "    <tr>\n",
       "      <th>986</th>\n",
       "      <td>164.903025</td>\n",
       "      <td>0</td>\n",
       "      <td>52.406731</td>\n",
       "    </tr>\n",
       "    <tr>\n",
       "      <th>987</th>\n",
       "      <td>163.372089</td>\n",
       "      <td>0</td>\n",
       "      <td>49.992055</td>\n",
       "    </tr>\n",
       "    <tr>\n",
       "      <th>988</th>\n",
       "      <td>159.319146</td>\n",
       "      <td>0</td>\n",
       "      <td>41.584665</td>\n",
       "    </tr>\n",
       "    <tr>\n",
       "      <th>989</th>\n",
       "      <td>168.287750</td>\n",
       "      <td>0</td>\n",
       "      <td>56.587199</td>\n",
       "    </tr>\n",
       "    <tr>\n",
       "      <th>990</th>\n",
       "      <td>160.170900</td>\n",
       "      <td>0</td>\n",
       "      <td>47.870050</td>\n",
       "    </tr>\n",
       "    <tr>\n",
       "      <th>991</th>\n",
       "      <td>160.915560</td>\n",
       "      <td>0</td>\n",
       "      <td>45.939009</td>\n",
       "    </tr>\n",
       "    <tr>\n",
       "      <th>992</th>\n",
       "      <td>158.399493</td>\n",
       "      <td>0</td>\n",
       "      <td>47.739299</td>\n",
       "    </tr>\n",
       "    <tr>\n",
       "      <th>993</th>\n",
       "      <td>152.933106</td>\n",
       "      <td>0</td>\n",
       "      <td>38.621604</td>\n",
       "    </tr>\n",
       "    <tr>\n",
       "      <th>994</th>\n",
       "      <td>163.315925</td>\n",
       "      <td>0</td>\n",
       "      <td>48.632311</td>\n",
       "    </tr>\n",
       "    <tr>\n",
       "      <th>995</th>\n",
       "      <td>159.512686</td>\n",
       "      <td>0</td>\n",
       "      <td>46.654454</td>\n",
       "    </tr>\n",
       "    <tr>\n",
       "      <th>996</th>\n",
       "      <td>163.062693</td>\n",
       "      <td>0</td>\n",
       "      <td>46.185022</td>\n",
       "    </tr>\n",
       "    <tr>\n",
       "      <th>997</th>\n",
       "      <td>159.246542</td>\n",
       "      <td>0</td>\n",
       "      <td>47.406506</td>\n",
       "    </tr>\n",
       "    <tr>\n",
       "      <th>998</th>\n",
       "      <td>159.448008</td>\n",
       "      <td>0</td>\n",
       "      <td>47.285692</td>\n",
       "    </tr>\n",
       "    <tr>\n",
       "      <th>999</th>\n",
       "      <td>159.591349</td>\n",
       "      <td>0</td>\n",
       "      <td>46.391811</td>\n",
       "    </tr>\n",
       "  </tbody>\n",
       "</table>\n",
       "<p>1000 rows × 3 columns</p>\n",
       "</div>"
      ],
      "text/plain": [
       "         height  sex     weight\n",
       "0    166.238267    1  63.930975\n",
       "1    168.436429    1  64.443293\n",
       "2    165.486031    1  64.644100\n",
       "3    168.683580    1  64.685007\n",
       "4    168.105726    1  69.369304\n",
       "5    172.385508    1  71.246612\n",
       "6    176.137644    1  71.708073\n",
       "7    170.948645    1  67.748932\n",
       "8    169.437440    1  68.606239\n",
       "9    175.117525    1  75.270719\n",
       "10   171.740448    1  66.540507\n",
       "11   170.401209    1  62.264597\n",
       "12   172.704778    1  70.626716\n",
       "13   172.814647    1  72.778917\n",
       "14   170.577245    1  67.995089\n",
       "15   173.178550    1  68.463787\n",
       "16   167.468884    1  63.414722\n",
       "17   170.288038    1  68.384663\n",
       "18   166.380858    1  60.279262\n",
       "19   166.724716    1  65.133729\n",
       "20   173.823099    1  74.569928\n",
       "21   168.062660    1  62.473778\n",
       "22   169.496512    1  65.859291\n",
       "23   170.558641    1  66.004755\n",
       "24   166.127920    1  63.716188\n",
       "25   171.833544    1  68.938986\n",
       "26   170.843537    1  65.496874\n",
       "27   166.965195    1  63.623023\n",
       "28   169.434900    1  67.857291\n",
       "29   172.186526    1  68.269677\n",
       "..          ...  ...        ...\n",
       "970  157.054802    0  43.730167\n",
       "971  153.112886    0  36.350958\n",
       "972  158.411227    0  43.697332\n",
       "973  160.783559    0  46.698362\n",
       "974  160.932556    0  49.559545\n",
       "975  161.518952    0  46.744619\n",
       "976  158.726179    0  43.143421\n",
       "977  161.163615    0  47.093257\n",
       "978  163.125907    0  50.838681\n",
       "979  165.038246    0  56.402917\n",
       "980  157.905383    0  41.656664\n",
       "981  153.624711    0  43.111452\n",
       "982  158.690900    0  46.496323\n",
       "983  161.815015    0  48.363539\n",
       "984  160.388686    0  45.396572\n",
       "985  160.963829    0  44.918066\n",
       "986  164.903025    0  52.406731\n",
       "987  163.372089    0  49.992055\n",
       "988  159.319146    0  41.584665\n",
       "989  168.287750    0  56.587199\n",
       "990  160.170900    0  47.870050\n",
       "991  160.915560    0  45.939009\n",
       "992  158.399493    0  47.739299\n",
       "993  152.933106    0  38.621604\n",
       "994  163.315925    0  48.632311\n",
       "995  159.512686    0  46.654454\n",
       "996  163.062693    0  46.185022\n",
       "997  159.246542    0  47.406506\n",
       "998  159.448008    0  47.285692\n",
       "999  159.591349    0  46.391811\n",
       "\n",
       "[1000 rows x 3 columns]"
      ]
     },
     "execution_count": 273,
     "metadata": {},
     "output_type": "execute_result"
    }
   ],
   "source": [
    "X_all = pd.DataFrame({'height': X, 'sex': s, 'weight': Y})\n",
    "X_all"
   ]
  },
  {
   "cell_type": "code",
   "execution_count": 284,
   "metadata": {},
   "outputs": [
    {
     "data": {
      "text/plain": [
       "LinearRegression(copy_X=True, fit_intercept=True, n_jobs=None, normalize=False)"
      ]
     },
     "execution_count": 284,
     "metadata": {},
     "output_type": "execute_result"
    }
   ],
   "source": [
    "model = LinearRegression()\n",
    "model.fit(X.reshape(-1,1), Y, sample_weight= s)"
   ]
  },
  {
   "cell_type": "code",
   "execution_count": 285,
   "metadata": {},
   "outputs": [
    {
     "data": {
      "text/plain": [
       "(array([1.108]), -121.371)"
      ]
     },
     "execution_count": 285,
     "metadata": {},
     "output_type": "execute_result"
    }
   ],
   "source": [
    "model.coef_.round(3), model.intercept_.round(3)"
   ]
  },
  {
   "cell_type": "code",
   "execution_count": 296,
   "metadata": {},
   "outputs": [
    {
     "data": {
      "text/plain": [
       "array([44.85058757, 78.09486602])"
      ]
     },
     "execution_count": 296,
     "metadata": {},
     "output_type": "execute_result"
    }
   ],
   "source": [
    "model.predict([[150], [180]])"
   ]
  },
  {
   "cell_type": "code",
   "execution_count": null,
   "metadata": {},
   "outputs": [],
   "source": []
  },
  {
   "cell_type": "code",
   "execution_count": null,
   "metadata": {},
   "outputs": [],
   "source": []
  },
  {
   "cell_type": "code",
   "execution_count": null,
   "metadata": {},
   "outputs": [],
   "source": []
  },
  {
   "cell_type": "code",
   "execution_count": null,
   "metadata": {},
   "outputs": [],
   "source": []
  },
  {
   "cell_type": "code",
   "execution_count": null,
   "metadata": {},
   "outputs": [],
   "source": []
  },
  {
   "cell_type": "code",
   "execution_count": null,
   "metadata": {},
   "outputs": [],
   "source": []
  }
 ],
 "metadata": {
  "kernelspec": {
   "display_name": "Python 3",
   "language": "python",
   "name": "python3"
  },
  "language_info": {
   "codemirror_mode": {
    "name": "ipython",
    "version": 3
   },
   "file_extension": ".py",
   "mimetype": "text/x-python",
   "name": "python",
   "nbconvert_exporter": "python",
   "pygments_lexer": "ipython3",
   "version": "3.7.3"
  }
 },
 "nbformat": 4,
 "nbformat_minor": 2
}
