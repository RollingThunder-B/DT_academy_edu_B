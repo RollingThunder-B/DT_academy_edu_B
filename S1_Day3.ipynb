#%% [markdown]
# <a href="https://colab.research.google.com/github/RollingThunder-B/DT_academy_edu_B/blob/master/S1_Day3.ipynb" target="_parent"><img src="https://colab.research.google.com/assets/colab-badge.svg" alt="Open In Colab"/></a>

#%%
import pandas as pd
import numpy as np
import matplotlib.pyplot as plt


#%%
x = range(10)
print(x)


#%%
for i in x :
  print (i*i)


#%%
y = np.arange(12)
print(y)
type(y)
len(y)
y.shape


#%%

z = y.reshape(3,4)
z


#%%
z = y.reshape(-1,2)   # 앞에 -1 을 쓰면 뒤에꺼에 알아서 맞춰줌
z


#%%
z = y.reshape(3, 2, 2)
z


#%%
get_ipython().system('ls')


#%%
get_ipython().system('pwd')


#%%



#%%
# Local Data upload


#%%
from google.colab import files
files.upload()


#%%
get_ipython().system('ls')


#%%
df = pd.read_csv('train.csv')
df.head().T


#%%



#%%
# 인터넷에서 데이터 가져오기 curl , wget


#%%
get_ipython().system('wget https://web.stanford.edu/class/archive/cs/cs109/cs109.1166/stuff/titanic.csv')


#%%
get_ipython().system('ls')


#%%
get_ipython().system('curl https://web.stanford.edu/class/archive/cs/cs109/cs109.1166/stuff/titanic.csv')
  -O titanic_train.csv


#%%



#%%
# 구글드라이브 데이터 가져오기


#%%
# from google.colab import drive
# drive.mount('/content/gdrive')


#%%


#%% [markdown]
# % 는 명령 계속 유지 , ! 는 단발성 명령

#%%



#%%



#%%





#%%

## test 추가

